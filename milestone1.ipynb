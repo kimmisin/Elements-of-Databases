{
 "cells": [
  {
   "cell_type": "markdown",
   "id": "literary-millennium",
   "metadata": {},
   "source": [
    "### Uploading COVID data into Google Cloud Storage (GCS)"
   ]
  },
  {
   "cell_type": "code",
   "execution_count": 2,
   "id": "stuck-advantage",
   "metadata": {},
   "outputs": [
    {
     "name": "stdout",
     "output_type": "stream",
     "text": [
      "Cloning into 'COVID-19'...\n",
      "remote: Enumerating objects: 687, done.\u001b[K\n",
      "remote: Counting objects: 100% (687/687), done.\u001b[K\n",
      "remote: Compressing objects: 100% (495/495), done.\u001b[K\n",
      "remote: Total 120342 (delta 210), reused 659 (delta 191), pack-reused 119655\u001b[K\n",
      "Receiving objects: 100% (120342/120342), 1.05 GiB | 31.68 MiB/s, done.\n",
      "Resolving deltas: 100% (87284/87284), done.\n",
      "Checking out files: 100% (1042/1042), done.\n"
     ]
    }
   ],
   "source": [
    "!git clone https://github.com/CSSEGISandData/COVID-19.git"
   ]
  },
  {
   "cell_type": "markdown",
   "id": "monetary-bathroom",
   "metadata": {},
   "source": [
    "##### winter 2020 [do not rerun cells]"
   ]
  },
  {
   "cell_type": "markdown",
   "id": "overhead-israeli",
   "metadata": {},
   "source": [
    "###### Original data format errored out due to different numbers of columns, the data was reformatted as instructed by Zhaosong and reuploaded into GCS"
   ]
  },
  {
   "cell_type": "code",
   "execution_count": 3,
   "id": "desperate-trustee",
   "metadata": {},
   "outputs": [
    {
     "name": "stdout",
     "output_type": "stream",
     "text": [
      "Copying file://COVID-19/csse_covid_19_data/csse_covid_19_daily_reports/12-01-2020.csv [Content-Type=text/csv]...\n",
      "Copying file://COVID-19/csse_covid_19_data/csse_covid_19_daily_reports/12-02-2020.csv [Content-Type=text/csv]...\n",
      "Copying file://COVID-19/csse_covid_19_data/csse_covid_19_daily_reports/12-03-2020.csv [Content-Type=text/csv]...\n",
      "Copying file://COVID-19/csse_covid_19_data/csse_covid_19_daily_reports/12-04-2020.csv [Content-Type=text/csv]...\n",
      "/ [4 files][  2.2 MiB/  2.2 MiB]                                                \n",
      "==> NOTE: You are performing a sequence of gsutil operations that may\n",
      "run significantly faster if you instead use gsutil -m cp ... Please\n",
      "see the -m section under \"gsutil help options\" for further information\n",
      "about when gsutil -m can be advantageous.\n",
      "\n",
      "Copying file://COVID-19/csse_covid_19_data/csse_covid_19_daily_reports/12-05-2020.csv [Content-Type=text/csv]...\n",
      "Copying file://COVID-19/csse_covid_19_data/csse_covid_19_daily_reports/12-06-2020.csv [Content-Type=text/csv]...\n",
      "Copying file://COVID-19/csse_covid_19_data/csse_covid_19_daily_reports/12-07-2020.csv [Content-Type=text/csv]...\n",
      "Copying file://COVID-19/csse_covid_19_data/csse_covid_19_daily_reports/12-08-2020.csv [Content-Type=text/csv]...\n",
      "Copying file://COVID-19/csse_covid_19_data/csse_covid_19_daily_reports/12-09-2020.csv [Content-Type=text/csv]...\n",
      "Copying file://COVID-19/csse_covid_19_data/csse_covid_19_daily_reports/12-10-2020.csv [Content-Type=text/csv]...\n",
      "Copying file://COVID-19/csse_covid_19_data/csse_covid_19_daily_reports/12-11-2020.csv [Content-Type=text/csv]...\n",
      "Copying file://COVID-19/csse_covid_19_data/csse_covid_19_daily_reports/12-12-2020.csv [Content-Type=text/csv]...\n",
      "Copying file://COVID-19/csse_covid_19_data/csse_covid_19_daily_reports/12-13-2020.csv [Content-Type=text/csv]...\n",
      "Copying file://COVID-19/csse_covid_19_data/csse_covid_19_daily_reports/12-14-2020.csv [Content-Type=text/csv]...\n",
      "Copying file://COVID-19/csse_covid_19_data/csse_covid_19_daily_reports/12-15-2020.csv [Content-Type=text/csv]...\n",
      "Copying file://COVID-19/csse_covid_19_data/csse_covid_19_daily_reports/12-16-2020.csv [Content-Type=text/csv]...\n",
      "Copying file://COVID-19/csse_covid_19_data/csse_covid_19_daily_reports/12-17-2020.csv [Content-Type=text/csv]...\n",
      "Copying file://COVID-19/csse_covid_19_data/csse_covid_19_daily_reports/12-18-2020.csv [Content-Type=text/csv]...\n",
      "Copying file://COVID-19/csse_covid_19_data/csse_covid_19_daily_reports/12-19-2020.csv [Content-Type=text/csv]...\n",
      "Copying file://COVID-19/csse_covid_19_data/csse_covid_19_daily_reports/12-20-2020.csv [Content-Type=text/csv]...\n",
      "Copying file://COVID-19/csse_covid_19_data/csse_covid_19_daily_reports/12-21-2020.csv [Content-Type=text/csv]...\n",
      "Copying file://COVID-19/csse_covid_19_data/csse_covid_19_daily_reports/12-22-2020.csv [Content-Type=text/csv]...\n",
      "Copying file://COVID-19/csse_covid_19_data/csse_covid_19_daily_reports/12-23-2020.csv [Content-Type=text/csv]...\n",
      "Copying file://COVID-19/csse_covid_19_data/csse_covid_19_daily_reports/12-24-2020.csv [Content-Type=text/csv]...\n",
      "Copying file://COVID-19/csse_covid_19_data/csse_covid_19_daily_reports/12-25-2020.csv [Content-Type=text/csv]...\n",
      "Copying file://COVID-19/csse_covid_19_data/csse_covid_19_daily_reports/12-26-2020.csv [Content-Type=text/csv]...\n",
      "Copying file://COVID-19/csse_covid_19_data/csse_covid_19_daily_reports/12-27-2020.csv [Content-Type=text/csv]...\n",
      "Copying file://COVID-19/csse_covid_19_data/csse_covid_19_daily_reports/12-28-2020.csv [Content-Type=text/csv]...\n",
      "Copying file://COVID-19/csse_covid_19_data/csse_covid_19_daily_reports/12-29-2020.csv [Content-Type=text/csv]...\n",
      "Copying file://COVID-19/csse_covid_19_data/csse_covid_19_daily_reports/12-30-2020.csv [Content-Type=text/csv]...\n",
      "Copying file://COVID-19/csse_covid_19_data/csse_covid_19_daily_reports/12-31-2020.csv [Content-Type=text/csv]...\n",
      "- [31 files][ 16.7 MiB/ 16.7 MiB]                                               \n",
      "==> NOTE: You are performing a sequence of gsutil operations that may\n",
      "run significantly faster if you instead use gsutil -m cp ... Please\n",
      "see the -m section under \"gsutil help options\" for further information\n",
      "about when gsutil -m can be advantageous.\n",
      "\n",
      "\n",
      "Operation completed over 31 objects/16.7 MiB.                                    \n"
     ]
    }
   ],
   "source": [
    "!gsutil cp COVID-19/csse_covid_19_data/csse_covid_19_daily_reports/12-*2020.csv gs://covid_acs_bucket/covid/12-01-20-to-02-29-20"
   ]
  },
  {
   "cell_type": "code",
   "execution_count": 4,
   "id": "positive-debut",
   "metadata": {},
   "outputs": [
    {
     "name": "stdout",
     "output_type": "stream",
     "text": [
      "Copying file://COVID-19/csse_covid_19_data/csse_covid_19_daily_reports/01-22-2020.csv [Content-Type=text/csv]...\n",
      "Copying file://COVID-19/csse_covid_19_data/csse_covid_19_daily_reports/01-23-2020.csv [Content-Type=text/csv]...\n",
      "Copying file://COVID-19/csse_covid_19_data/csse_covid_19_daily_reports/01-24-2020.csv [Content-Type=text/csv]...\n",
      "Copying file://COVID-19/csse_covid_19_data/csse_covid_19_daily_reports/01-25-2020.csv [Content-Type=text/csv]...\n",
      "/ [4 files][  6.7 KiB/  6.7 KiB]                                                \n",
      "==> NOTE: You are performing a sequence of gsutil operations that may\n",
      "run significantly faster if you instead use gsutil -m cp ... Please\n",
      "see the -m section under \"gsutil help options\" for further information\n",
      "about when gsutil -m can be advantageous.\n",
      "\n",
      "Copying file://COVID-19/csse_covid_19_data/csse_covid_19_daily_reports/01-26-2020.csv [Content-Type=text/csv]...\n",
      "Copying file://COVID-19/csse_covid_19_data/csse_covid_19_daily_reports/01-27-2020.csv [Content-Type=text/csv]...\n",
      "Copying file://COVID-19/csse_covid_19_data/csse_covid_19_daily_reports/01-28-2020.csv [Content-Type=text/csv]...\n",
      "Copying file://COVID-19/csse_covid_19_data/csse_covid_19_daily_reports/01-29-2020.csv [Content-Type=text/csv]...\n",
      "Copying file://COVID-19/csse_covid_19_data/csse_covid_19_daily_reports/01-30-2020.csv [Content-Type=text/csv]...\n",
      "Copying file://COVID-19/csse_covid_19_data/csse_covid_19_daily_reports/01-31-2020.csv [Content-Type=text/csv]...\n",
      "- [10 files][ 19.2 KiB/ 19.2 KiB]                                               \n",
      "Operation completed over 10 objects/19.2 KiB.                                    \n"
     ]
    }
   ],
   "source": [
    "!gsutil cp COVID-19/csse_covid_19_data/csse_covid_19_daily_reports/01-*2020.csv gs://covid_acs_bucket/covid/12-01-20-to-02-29-20"
   ]
  },
  {
   "cell_type": "code",
   "execution_count": 5,
   "id": "driven-bones",
   "metadata": {},
   "outputs": [
    {
     "name": "stdout",
     "output_type": "stream",
     "text": [
      "Copying file://COVID-19/csse_covid_19_data/csse_covid_19_daily_reports/02-01-2020.csv [Content-Type=text/csv]...\n",
      "Copying file://COVID-19/csse_covid_19_data/csse_covid_19_daily_reports/02-02-2020.csv [Content-Type=text/csv]...\n",
      "Copying file://COVID-19/csse_covid_19_data/csse_covid_19_daily_reports/02-03-2020.csv [Content-Type=text/csv]...\n",
      "Copying file://COVID-19/csse_covid_19_data/csse_covid_19_daily_reports/02-04-2020.csv [Content-Type=text/csv]...\n",
      "/ [4 files][ 11.9 KiB/ 11.9 KiB]                                                \n",
      "==> NOTE: You are performing a sequence of gsutil operations that may\n",
      "run significantly faster if you instead use gsutil -m cp ... Please\n",
      "see the -m section under \"gsutil help options\" for further information\n",
      "about when gsutil -m can be advantageous.\n",
      "\n",
      "Copying file://COVID-19/csse_covid_19_data/csse_covid_19_daily_reports/02-05-2020.csv [Content-Type=text/csv]...\n",
      "Copying file://COVID-19/csse_covid_19_data/csse_covid_19_daily_reports/02-06-2020.csv [Content-Type=text/csv]...\n",
      "Copying file://COVID-19/csse_covid_19_data/csse_covid_19_daily_reports/02-07-2020.csv [Content-Type=text/csv]...\n",
      "Copying file://COVID-19/csse_covid_19_data/csse_covid_19_daily_reports/02-08-2020.csv [Content-Type=text/csv]...\n",
      "Copying file://COVID-19/csse_covid_19_data/csse_covid_19_daily_reports/02-09-2020.csv [Content-Type=text/csv]...\n",
      "Copying file://COVID-19/csse_covid_19_data/csse_covid_19_daily_reports/02-10-2020.csv [Content-Type=text/csv]...\n",
      "Copying file://COVID-19/csse_covid_19_data/csse_covid_19_daily_reports/02-11-2020.csv [Content-Type=text/csv]...\n",
      "Copying file://COVID-19/csse_covid_19_data/csse_covid_19_daily_reports/02-12-2020.csv [Content-Type=text/csv]...\n",
      "Copying file://COVID-19/csse_covid_19_data/csse_covid_19_daily_reports/02-13-2020.csv [Content-Type=text/csv]...\n",
      "Copying file://COVID-19/csse_covid_19_data/csse_covid_19_daily_reports/02-14-2020.csv [Content-Type=text/csv]...\n",
      "Copying file://COVID-19/csse_covid_19_data/csse_covid_19_daily_reports/02-15-2020.csv [Content-Type=text/csv]...\n",
      "Copying file://COVID-19/csse_covid_19_data/csse_covid_19_daily_reports/02-16-2020.csv [Content-Type=text/csv]...\n",
      "Copying file://COVID-19/csse_covid_19_data/csse_covid_19_daily_reports/02-17-2020.csv [Content-Type=text/csv]...\n",
      "Copying file://COVID-19/csse_covid_19_data/csse_covid_19_daily_reports/02-18-2020.csv [Content-Type=text/csv]...\n",
      "Copying file://COVID-19/csse_covid_19_data/csse_covid_19_daily_reports/02-19-2020.csv [Content-Type=text/csv]...\n",
      "Copying file://COVID-19/csse_covid_19_data/csse_covid_19_daily_reports/02-20-2020.csv [Content-Type=text/csv]...\n",
      "Copying file://COVID-19/csse_covid_19_data/csse_covid_19_daily_reports/02-21-2020.csv [Content-Type=text/csv]...\n",
      "Copying file://COVID-19/csse_covid_19_data/csse_covid_19_daily_reports/02-22-2020.csv [Content-Type=text/csv]...\n",
      "Copying file://COVID-19/csse_covid_19_data/csse_covid_19_daily_reports/02-23-2020.csv [Content-Type=text/csv]...\n",
      "Copying file://COVID-19/csse_covid_19_data/csse_covid_19_daily_reports/02-24-2020.csv [Content-Type=text/csv]...\n",
      "Copying file://COVID-19/csse_covid_19_data/csse_covid_19_daily_reports/02-25-2020.csv [Content-Type=text/csv]...\n",
      "Copying file://COVID-19/csse_covid_19_data/csse_covid_19_daily_reports/02-26-2020.csv [Content-Type=text/csv]...\n",
      "Copying file://COVID-19/csse_covid_19_data/csse_covid_19_daily_reports/02-27-2020.csv [Content-Type=text/csv]...\n",
      "Copying file://COVID-19/csse_covid_19_data/csse_covid_19_daily_reports/02-28-2020.csv [Content-Type=text/csv]...\n",
      "Copying file://COVID-19/csse_covid_19_data/csse_covid_19_daily_reports/02-29-2020.csv [Content-Type=text/csv]...\n",
      "| [29 files][105.1 KiB/105.1 KiB]                                               \n",
      "==> NOTE: You are performing a sequence of gsutil operations that may\n",
      "run significantly faster if you instead use gsutil -m cp ... Please\n",
      "see the -m section under \"gsutil help options\" for further information\n",
      "about when gsutil -m can be advantageous.\n",
      "\n",
      "\n",
      "Operation completed over 29 objects/105.1 KiB.                                   \n"
     ]
    }
   ],
   "source": [
    "!gsutil cp COVID-19/csse_covid_19_data/csse_covid_19_daily_reports/02-*2020.csv gs://covid_acs_bucket/covid/12-01-20-to-02-29-20"
   ]
  },
  {
   "cell_type": "markdown",
   "id": "refined-genius",
   "metadata": {},
   "source": [
    "##### spring 2020 [do not rerun cells]"
   ]
  },
  {
   "cell_type": "markdown",
   "id": "eight-teacher",
   "metadata": {},
   "source": [
    "###### Original data format errored out due to different numbers of columns, the data was reformatted as instructed by Zhaosong and reuploaded into GCS"
   ]
  },
  {
   "cell_type": "code",
   "execution_count": 6,
   "id": "fleet-uncertainty",
   "metadata": {},
   "outputs": [
    {
     "name": "stdout",
     "output_type": "stream",
     "text": [
      "Copying file://COVID-19/csse_covid_19_data/csse_covid_19_daily_reports/03-01-2020.csv [Content-Type=text/csv]...\n",
      "Copying file://COVID-19/csse_covid_19_data/csse_covid_19_daily_reports/03-02-2020.csv [Content-Type=text/csv]...\n",
      "Copying file://COVID-19/csse_covid_19_data/csse_covid_19_daily_reports/03-03-2020.csv [Content-Type=text/csv]...\n",
      "Copying file://COVID-19/csse_covid_19_data/csse_covid_19_daily_reports/03-04-2020.csv [Content-Type=text/csv]...\n",
      "/ [4 files][ 33.8 KiB/ 33.8 KiB]                                                \n",
      "==> NOTE: You are performing a sequence of gsutil operations that may\n",
      "run significantly faster if you instead use gsutil -m cp ... Please\n",
      "see the -m section under \"gsutil help options\" for further information\n",
      "about when gsutil -m can be advantageous.\n",
      "\n",
      "Copying file://COVID-19/csse_covid_19_data/csse_covid_19_daily_reports/03-05-2020.csv [Content-Type=text/csv]...\n",
      "Copying file://COVID-19/csse_covid_19_data/csse_covid_19_daily_reports/03-06-2020.csv [Content-Type=text/csv]...\n",
      "Copying file://COVID-19/csse_covid_19_data/csse_covid_19_daily_reports/03-07-2020.csv [Content-Type=text/csv]...\n",
      "Copying file://COVID-19/csse_covid_19_data/csse_covid_19_daily_reports/03-08-2020.csv [Content-Type=text/csv]...\n",
      "Copying file://COVID-19/csse_covid_19_data/csse_covid_19_daily_reports/03-09-2020.csv [Content-Type=text/csv]...\n",
      "Copying file://COVID-19/csse_covid_19_data/csse_covid_19_daily_reports/03-10-2020.csv [Content-Type=text/csv]...\n",
      "Copying file://COVID-19/csse_covid_19_data/csse_covid_19_daily_reports/03-11-2020.csv [Content-Type=text/csv]...\n",
      "Copying file://COVID-19/csse_covid_19_data/csse_covid_19_daily_reports/03-12-2020.csv [Content-Type=text/csv]...\n",
      "Copying file://COVID-19/csse_covid_19_data/csse_covid_19_daily_reports/03-13-2020.csv [Content-Type=text/csv]...\n",
      "Copying file://COVID-19/csse_covid_19_data/csse_covid_19_daily_reports/03-14-2020.csv [Content-Type=text/csv]...\n",
      "Copying file://COVID-19/csse_covid_19_data/csse_covid_19_daily_reports/03-15-2020.csv [Content-Type=text/csv]...\n",
      "Copying file://COVID-19/csse_covid_19_data/csse_covid_19_daily_reports/03-16-2020.csv [Content-Type=text/csv]...\n",
      "Copying file://COVID-19/csse_covid_19_data/csse_covid_19_daily_reports/03-17-2020.csv [Content-Type=text/csv]...\n",
      "Copying file://COVID-19/csse_covid_19_data/csse_covid_19_daily_reports/03-18-2020.csv [Content-Type=text/csv]...\n",
      "Copying file://COVID-19/csse_covid_19_data/csse_covid_19_daily_reports/03-19-2020.csv [Content-Type=text/csv]...\n",
      "Copying file://COVID-19/csse_covid_19_data/csse_covid_19_daily_reports/03-20-2020.csv [Content-Type=text/csv]...\n",
      "Copying file://COVID-19/csse_covid_19_data/csse_covid_19_daily_reports/03-21-2020.csv [Content-Type=text/csv]...\n",
      "Copying file://COVID-19/csse_covid_19_data/csse_covid_19_daily_reports/03-22-2020.csv [Content-Type=text/csv]...\n",
      "Copying file://COVID-19/csse_covid_19_data/csse_covid_19_daily_reports/03-23-2020.csv [Content-Type=text/csv]...\n",
      "Copying file://COVID-19/csse_covid_19_data/csse_covid_19_daily_reports/03-24-2020.csv [Content-Type=text/csv]...\n",
      "Copying file://COVID-19/csse_covid_19_data/csse_covid_19_daily_reports/03-25-2020.csv [Content-Type=text/csv]...\n",
      "Copying file://COVID-19/csse_covid_19_data/csse_covid_19_daily_reports/03-26-2020.csv [Content-Type=text/csv]...\n",
      "Copying file://COVID-19/csse_covid_19_data/csse_covid_19_daily_reports/03-27-2020.csv [Content-Type=text/csv]...\n",
      "Copying file://COVID-19/csse_covid_19_data/csse_covid_19_daily_reports/03-28-2020.csv [Content-Type=text/csv]...\n",
      "Copying file://COVID-19/csse_covid_19_data/csse_covid_19_daily_reports/03-29-2020.csv [Content-Type=text/csv]...\n",
      "Copying file://COVID-19/csse_covid_19_data/csse_covid_19_daily_reports/03-30-2020.csv [Content-Type=text/csv]...\n",
      "Copying file://COVID-19/csse_covid_19_data/csse_covid_19_daily_reports/03-31-2020.csv [Content-Type=text/csv]...\n",
      "/ [31 files][  3.4 MiB/  3.4 MiB]                                               \n",
      "==> NOTE: You are performing a sequence of gsutil operations that may\n",
      "run significantly faster if you instead use gsutil -m cp ... Please\n",
      "see the -m section under \"gsutil help options\" for further information\n",
      "about when gsutil -m can be advantageous.\n",
      "\n",
      "\n",
      "Operation completed over 31 objects/3.4 MiB.                                     \n"
     ]
    }
   ],
   "source": [
    "!gsutil cp COVID-19/csse_covid_19_data/csse_covid_19_daily_reports/03-*2020.csv gs://covid_acs_bucket/covid/03-01-20-to-05-31-20"
   ]
  },
  {
   "cell_type": "code",
   "execution_count": 7,
   "id": "serious-optimum",
   "metadata": {},
   "outputs": [
    {
     "name": "stdout",
     "output_type": "stream",
     "text": [
      "Copying file://COVID-19/csse_covid_19_data/csse_covid_19_daily_reports/04-01-2020.csv [Content-Type=text/csv]...\n",
      "Copying file://COVID-19/csse_covid_19_data/csse_covid_19_daily_reports/04-02-2020.csv [Content-Type=text/csv]...\n",
      "Copying file://COVID-19/csse_covid_19_data/csse_covid_19_daily_reports/04-03-2020.csv [Content-Type=text/csv]...\n",
      "Copying file://COVID-19/csse_covid_19_data/csse_covid_19_daily_reports/04-04-2020.csv [Content-Type=text/csv]...\n",
      "/ [4 files][991.8 KiB/991.8 KiB]                                                \n",
      "==> NOTE: You are performing a sequence of gsutil operations that may\n",
      "run significantly faster if you instead use gsutil -m cp ... Please\n",
      "see the -m section under \"gsutil help options\" for further information\n",
      "about when gsutil -m can be advantageous.\n",
      "\n",
      "Copying file://COVID-19/csse_covid_19_data/csse_covid_19_daily_reports/04-05-2020.csv [Content-Type=text/csv]...\n",
      "Copying file://COVID-19/csse_covid_19_data/csse_covid_19_daily_reports/04-06-2020.csv [Content-Type=text/csv]...\n",
      "Copying file://COVID-19/csse_covid_19_data/csse_covid_19_daily_reports/04-07-2020.csv [Content-Type=text/csv]...\n",
      "Copying file://COVID-19/csse_covid_19_data/csse_covid_19_daily_reports/04-08-2020.csv [Content-Type=text/csv]...\n",
      "Copying file://COVID-19/csse_covid_19_data/csse_covid_19_daily_reports/04-09-2020.csv [Content-Type=text/csv]...\n",
      "Copying file://COVID-19/csse_covid_19_data/csse_covid_19_daily_reports/04-10-2020.csv [Content-Type=text/csv]...\n",
      "Copying file://COVID-19/csse_covid_19_data/csse_covid_19_daily_reports/04-11-2020.csv [Content-Type=text/csv]...\n",
      "Copying file://COVID-19/csse_covid_19_data/csse_covid_19_daily_reports/04-12-2020.csv [Content-Type=text/csv]...\n",
      "Copying file://COVID-19/csse_covid_19_data/csse_covid_19_daily_reports/04-13-2020.csv [Content-Type=text/csv]...\n",
      "Copying file://COVID-19/csse_covid_19_data/csse_covid_19_daily_reports/04-14-2020.csv [Content-Type=text/csv]...\n",
      "Copying file://COVID-19/csse_covid_19_data/csse_covid_19_daily_reports/04-15-2020.csv [Content-Type=text/csv]...\n",
      "Copying file://COVID-19/csse_covid_19_data/csse_covid_19_daily_reports/04-16-2020.csv [Content-Type=text/csv]...\n",
      "Copying file://COVID-19/csse_covid_19_data/csse_covid_19_daily_reports/04-17-2020.csv [Content-Type=text/csv]...\n",
      "Copying file://COVID-19/csse_covid_19_data/csse_covid_19_daily_reports/04-18-2020.csv [Content-Type=text/csv]...\n",
      "Copying file://COVID-19/csse_covid_19_data/csse_covid_19_daily_reports/04-19-2020.csv [Content-Type=text/csv]...\n",
      "Copying file://COVID-19/csse_covid_19_data/csse_covid_19_daily_reports/04-20-2020.csv [Content-Type=text/csv]...\n",
      "Copying file://COVID-19/csse_covid_19_data/csse_covid_19_daily_reports/04-21-2020.csv [Content-Type=text/csv]...\n",
      "Copying file://COVID-19/csse_covid_19_data/csse_covid_19_daily_reports/04-22-2020.csv [Content-Type=text/csv]...\n",
      "Copying file://COVID-19/csse_covid_19_data/csse_covid_19_daily_reports/04-23-2020.csv [Content-Type=text/csv]...\n",
      "Copying file://COVID-19/csse_covid_19_data/csse_covid_19_daily_reports/04-24-2020.csv [Content-Type=text/csv]...\n",
      "Copying file://COVID-19/csse_covid_19_data/csse_covid_19_daily_reports/04-25-2020.csv [Content-Type=text/csv]...\n",
      "Copying file://COVID-19/csse_covid_19_data/csse_covid_19_daily_reports/04-26-2020.csv [Content-Type=text/csv]...\n",
      "Copying file://COVID-19/csse_covid_19_data/csse_covid_19_daily_reports/04-27-2020.csv [Content-Type=text/csv]...\n",
      "Copying file://COVID-19/csse_covid_19_data/csse_covid_19_daily_reports/04-28-2020.csv [Content-Type=text/csv]...\n",
      "Copying file://COVID-19/csse_covid_19_data/csse_covid_19_daily_reports/04-29-2020.csv [Content-Type=text/csv]...\n",
      "Copying file://COVID-19/csse_covid_19_data/csse_covid_19_daily_reports/04-30-2020.csv [Content-Type=text/csv]...\n",
      "/ [30 files][  8.7 MiB/  8.7 MiB]                                               \n",
      "==> NOTE: You are performing a sequence of gsutil operations that may\n",
      "run significantly faster if you instead use gsutil -m cp ... Please\n",
      "see the -m section under \"gsutil help options\" for further information\n",
      "about when gsutil -m can be advantageous.\n",
      "\n",
      "\n",
      "Operation completed over 30 objects/8.7 MiB.                                     \n"
     ]
    }
   ],
   "source": [
    "!gsutil cp COVID-19/csse_covid_19_data/csse_covid_19_daily_reports/04-*2020.csv gs://covid_acs_bucket/covid/03-01-20-to-05-31-20"
   ]
  },
  {
   "cell_type": "code",
   "execution_count": 8,
   "id": "bored-hungarian",
   "metadata": {},
   "outputs": [
    {
     "name": "stdout",
     "output_type": "stream",
     "text": [
      "Copying file://COVID-19/csse_covid_19_data/csse_covid_19_daily_reports/05-01-2020.csv [Content-Type=text/csv]...\n",
      "Copying file://COVID-19/csse_covid_19_data/csse_covid_19_daily_reports/05-02-2020.csv [Content-Type=text/csv]...\n",
      "Copying file://COVID-19/csse_covid_19_data/csse_covid_19_daily_reports/05-03-2020.csv [Content-Type=text/csv]...\n",
      "Copying file://COVID-19/csse_covid_19_data/csse_covid_19_daily_reports/05-04-2020.csv [Content-Type=text/csv]...\n",
      "/ [4 files][  1.3 MiB/  1.3 MiB]                                                \n",
      "==> NOTE: You are performing a sequence of gsutil operations that may\n",
      "run significantly faster if you instead use gsutil -m cp ... Please\n",
      "see the -m section under \"gsutil help options\" for further information\n",
      "about when gsutil -m can be advantageous.\n",
      "\n",
      "Copying file://COVID-19/csse_covid_19_data/csse_covid_19_daily_reports/05-05-2020.csv [Content-Type=text/csv]...\n",
      "Copying file://COVID-19/csse_covid_19_data/csse_covid_19_daily_reports/05-06-2020.csv [Content-Type=text/csv]...\n",
      "Copying file://COVID-19/csse_covid_19_data/csse_covid_19_daily_reports/05-07-2020.csv [Content-Type=text/csv]...\n",
      "Copying file://COVID-19/csse_covid_19_data/csse_covid_19_daily_reports/05-08-2020.csv [Content-Type=text/csv]...\n",
      "Copying file://COVID-19/csse_covid_19_data/csse_covid_19_daily_reports/05-09-2020.csv [Content-Type=text/csv]...\n",
      "Copying file://COVID-19/csse_covid_19_data/csse_covid_19_daily_reports/05-10-2020.csv [Content-Type=text/csv]...\n",
      "Copying file://COVID-19/csse_covid_19_data/csse_covid_19_daily_reports/05-11-2020.csv [Content-Type=text/csv]...\n",
      "Copying file://COVID-19/csse_covid_19_data/csse_covid_19_daily_reports/05-12-2020.csv [Content-Type=text/csv]...\n",
      "Copying file://COVID-19/csse_covid_19_data/csse_covid_19_daily_reports/05-13-2020.csv [Content-Type=text/csv]...\n",
      "Copying file://COVID-19/csse_covid_19_data/csse_covid_19_daily_reports/05-14-2020.csv [Content-Type=text/csv]...\n",
      "Copying file://COVID-19/csse_covid_19_data/csse_covid_19_daily_reports/05-15-2020.csv [Content-Type=text/csv]...\n",
      "Copying file://COVID-19/csse_covid_19_data/csse_covid_19_daily_reports/05-16-2020.csv [Content-Type=text/csv]...\n",
      "Copying file://COVID-19/csse_covid_19_data/csse_covid_19_daily_reports/05-17-2020.csv [Content-Type=text/csv]...\n",
      "Copying file://COVID-19/csse_covid_19_data/csse_covid_19_daily_reports/05-18-2020.csv [Content-Type=text/csv]...\n",
      "Copying file://COVID-19/csse_covid_19_data/csse_covid_19_daily_reports/05-19-2020.csv [Content-Type=text/csv]...\n",
      "Copying file://COVID-19/csse_covid_19_data/csse_covid_19_daily_reports/05-20-2020.csv [Content-Type=text/csv]...\n",
      "Copying file://COVID-19/csse_covid_19_data/csse_covid_19_daily_reports/05-21-2020.csv [Content-Type=text/csv]...\n",
      "Copying file://COVID-19/csse_covid_19_data/csse_covid_19_daily_reports/05-22-2020.csv [Content-Type=text/csv]...\n",
      "Copying file://COVID-19/csse_covid_19_data/csse_covid_19_daily_reports/05-23-2020.csv [Content-Type=text/csv]...\n",
      "Copying file://COVID-19/csse_covid_19_data/csse_covid_19_daily_reports/05-24-2020.csv [Content-Type=text/csv]...\n",
      "Copying file://COVID-19/csse_covid_19_data/csse_covid_19_daily_reports/05-25-2020.csv [Content-Type=text/csv]...\n",
      "Copying file://COVID-19/csse_covid_19_data/csse_covid_19_daily_reports/05-26-2020.csv [Content-Type=text/csv]...\n",
      "Copying file://COVID-19/csse_covid_19_data/csse_covid_19_daily_reports/05-27-2020.csv [Content-Type=text/csv]...\n",
      "Copying file://COVID-19/csse_covid_19_data/csse_covid_19_daily_reports/05-28-2020.csv [Content-Type=text/csv]...\n",
      "Copying file://COVID-19/csse_covid_19_data/csse_covid_19_daily_reports/05-29-2020.csv [Content-Type=text/csv]...\n",
      "Copying file://COVID-19/csse_covid_19_data/csse_covid_19_daily_reports/05-30-2020.csv [Content-Type=text/csv]...\n",
      "Copying file://COVID-19/csse_covid_19_data/csse_covid_19_daily_reports/05-31-2020.csv [Content-Type=text/csv]...\n",
      "- [31 files][ 10.5 MiB/ 10.5 MiB]                                               \n",
      "==> NOTE: You are performing a sequence of gsutil operations that may\n",
      "run significantly faster if you instead use gsutil -m cp ... Please\n",
      "see the -m section under \"gsutil help options\" for further information\n",
      "about when gsutil -m can be advantageous.\n",
      "\n",
      "\n",
      "Operation completed over 31 objects/10.5 MiB.                                    \n"
     ]
    }
   ],
   "source": [
    "!gsutil cp COVID-19/csse_covid_19_data/csse_covid_19_daily_reports/05-*2020.csv gs://covid_acs_bucket/covid/03-01-20-to-05-31-20"
   ]
  },
  {
   "cell_type": "markdown",
   "id": "endangered-width",
   "metadata": {},
   "source": [
    "##### summer 2020 [do not rerun cells]"
   ]
  },
  {
   "cell_type": "code",
   "execution_count": 9,
   "id": "ethical-violation",
   "metadata": {},
   "outputs": [
    {
     "name": "stdout",
     "output_type": "stream",
     "text": [
      "Copying file://COVID-19/csse_covid_19_data/csse_covid_19_daily_reports/06-01-2020.csv [Content-Type=text/csv]...\n",
      "Copying file://COVID-19/csse_covid_19_data/csse_covid_19_daily_reports/06-02-2020.csv [Content-Type=text/csv]...\n",
      "Copying file://COVID-19/csse_covid_19_data/csse_covid_19_daily_reports/06-03-2020.csv [Content-Type=text/csv]...\n",
      "Copying file://COVID-19/csse_covid_19_data/csse_covid_19_daily_reports/06-04-2020.csv [Content-Type=text/csv]...\n",
      "/ [4 files][  1.9 MiB/  1.9 MiB]                                                \n",
      "==> NOTE: You are performing a sequence of gsutil operations that may\n",
      "run significantly faster if you instead use gsutil -m cp ... Please\n",
      "see the -m section under \"gsutil help options\" for further information\n",
      "about when gsutil -m can be advantageous.\n",
      "\n",
      "Copying file://COVID-19/csse_covid_19_data/csse_covid_19_daily_reports/06-05-2020.csv [Content-Type=text/csv]...\n",
      "Copying file://COVID-19/csse_covid_19_data/csse_covid_19_daily_reports/06-06-2020.csv [Content-Type=text/csv]...\n",
      "Copying file://COVID-19/csse_covid_19_data/csse_covid_19_daily_reports/06-07-2020.csv [Content-Type=text/csv]...\n",
      "Copying file://COVID-19/csse_covid_19_data/csse_covid_19_daily_reports/06-08-2020.csv [Content-Type=text/csv]...\n",
      "Copying file://COVID-19/csse_covid_19_data/csse_covid_19_daily_reports/06-09-2020.csv [Content-Type=text/csv]...\n",
      "Copying file://COVID-19/csse_covid_19_data/csse_covid_19_daily_reports/06-10-2020.csv [Content-Type=text/csv]...\n",
      "Copying file://COVID-19/csse_covid_19_data/csse_covid_19_daily_reports/06-11-2020.csv [Content-Type=text/csv]...\n",
      "Copying file://COVID-19/csse_covid_19_data/csse_covid_19_daily_reports/06-12-2020.csv [Content-Type=text/csv]...\n",
      "Copying file://COVID-19/csse_covid_19_data/csse_covid_19_daily_reports/06-13-2020.csv [Content-Type=text/csv]...\n",
      "Copying file://COVID-19/csse_covid_19_data/csse_covid_19_daily_reports/06-14-2020.csv [Content-Type=text/csv]...\n",
      "Copying file://COVID-19/csse_covid_19_data/csse_covid_19_daily_reports/06-15-2020.csv [Content-Type=text/csv]...\n",
      "Copying file://COVID-19/csse_covid_19_data/csse_covid_19_daily_reports/06-16-2020.csv [Content-Type=text/csv]...\n",
      "Copying file://COVID-19/csse_covid_19_data/csse_covid_19_daily_reports/06-17-2020.csv [Content-Type=text/csv]...\n",
      "Copying file://COVID-19/csse_covid_19_data/csse_covid_19_daily_reports/06-18-2020.csv [Content-Type=text/csv]...\n",
      "Copying file://COVID-19/csse_covid_19_data/csse_covid_19_daily_reports/06-19-2020.csv [Content-Type=text/csv]...\n",
      "Copying file://COVID-19/csse_covid_19_data/csse_covid_19_daily_reports/06-20-2020.csv [Content-Type=text/csv]...\n",
      "Copying file://COVID-19/csse_covid_19_data/csse_covid_19_daily_reports/06-21-2020.csv [Content-Type=text/csv]...\n",
      "Copying file://COVID-19/csse_covid_19_data/csse_covid_19_daily_reports/06-22-2020.csv [Content-Type=text/csv]...\n",
      "Copying file://COVID-19/csse_covid_19_data/csse_covid_19_daily_reports/06-23-2020.csv [Content-Type=text/csv]...\n",
      "Copying file://COVID-19/csse_covid_19_data/csse_covid_19_daily_reports/06-24-2020.csv [Content-Type=text/csv]...\n",
      "Copying file://COVID-19/csse_covid_19_data/csse_covid_19_daily_reports/06-25-2020.csv [Content-Type=text/csv]...\n",
      "Copying file://COVID-19/csse_covid_19_data/csse_covid_19_daily_reports/06-26-2020.csv [Content-Type=text/csv]...\n",
      "Copying file://COVID-19/csse_covid_19_data/csse_covid_19_daily_reports/06-27-2020.csv [Content-Type=text/csv]...\n",
      "Copying file://COVID-19/csse_covid_19_data/csse_covid_19_daily_reports/06-28-2020.csv [Content-Type=text/csv]...\n",
      "Copying file://COVID-19/csse_covid_19_data/csse_covid_19_daily_reports/06-29-2020.csv [Content-Type=text/csv]...\n",
      "Copying file://COVID-19/csse_covid_19_data/csse_covid_19_daily_reports/06-30-2020.csv [Content-Type=text/csv]...\n",
      "- [30 files][ 14.4 MiB/ 14.4 MiB]                                               \n",
      "==> NOTE: You are performing a sequence of gsutil operations that may\n",
      "run significantly faster if you instead use gsutil -m cp ... Please\n",
      "see the -m section under \"gsutil help options\" for further information\n",
      "about when gsutil -m can be advantageous.\n",
      "\n",
      "\n",
      "Operation completed over 30 objects/14.4 MiB.                                    \n"
     ]
    }
   ],
   "source": [
    "!gsutil cp COVID-19/csse_covid_19_data/csse_covid_19_daily_reports/06-*2020.csv gs://covid_acs_bucket/covid/06-01-20-to-08-31-20"
   ]
  },
  {
   "cell_type": "code",
   "execution_count": 10,
   "id": "powered-science",
   "metadata": {},
   "outputs": [
    {
     "name": "stdout",
     "output_type": "stream",
     "text": [
      "Copying file://COVID-19/csse_covid_19_data/csse_covid_19_daily_reports/07-01-2020.csv [Content-Type=text/csv]...\n",
      "Copying file://COVID-19/csse_covid_19_data/csse_covid_19_daily_reports/07-02-2020.csv [Content-Type=text/csv]...\n",
      "Copying file://COVID-19/csse_covid_19_data/csse_covid_19_daily_reports/07-03-2020.csv [Content-Type=text/csv]...\n",
      "Copying file://COVID-19/csse_covid_19_data/csse_covid_19_daily_reports/07-04-2020.csv [Content-Type=text/csv]...\n",
      "/ [4 files][  2.0 MiB/  2.0 MiB]                                                \n",
      "==> NOTE: You are performing a sequence of gsutil operations that may\n",
      "run significantly faster if you instead use gsutil -m cp ... Please\n",
      "see the -m section under \"gsutil help options\" for further information\n",
      "about when gsutil -m can be advantageous.\n",
      "\n",
      "Copying file://COVID-19/csse_covid_19_data/csse_covid_19_daily_reports/07-05-2020.csv [Content-Type=text/csv]...\n",
      "Copying file://COVID-19/csse_covid_19_data/csse_covid_19_daily_reports/07-06-2020.csv [Content-Type=text/csv]...\n",
      "Copying file://COVID-19/csse_covid_19_data/csse_covid_19_daily_reports/07-07-2020.csv [Content-Type=text/csv]...\n",
      "Copying file://COVID-19/csse_covid_19_data/csse_covid_19_daily_reports/07-08-2020.csv [Content-Type=text/csv]...\n",
      "Copying file://COVID-19/csse_covid_19_data/csse_covid_19_daily_reports/07-09-2020.csv [Content-Type=text/csv]...\n",
      "Copying file://COVID-19/csse_covid_19_data/csse_covid_19_daily_reports/07-10-2020.csv [Content-Type=text/csv]...\n",
      "Copying file://COVID-19/csse_covid_19_data/csse_covid_19_daily_reports/07-11-2020.csv [Content-Type=text/csv]...\n",
      "Copying file://COVID-19/csse_covid_19_data/csse_covid_19_daily_reports/07-12-2020.csv [Content-Type=text/csv]...\n",
      "Copying file://COVID-19/csse_covid_19_data/csse_covid_19_daily_reports/07-13-2020.csv [Content-Type=text/csv]...\n",
      "Copying file://COVID-19/csse_covid_19_data/csse_covid_19_daily_reports/07-14-2020.csv [Content-Type=text/csv]...\n",
      "Copying file://COVID-19/csse_covid_19_data/csse_covid_19_daily_reports/07-15-2020.csv [Content-Type=text/csv]...\n",
      "Copying file://COVID-19/csse_covid_19_data/csse_covid_19_daily_reports/07-16-2020.csv [Content-Type=text/csv]...\n",
      "Copying file://COVID-19/csse_covid_19_data/csse_covid_19_daily_reports/07-17-2020.csv [Content-Type=text/csv]...\n",
      "Copying file://COVID-19/csse_covid_19_data/csse_covid_19_daily_reports/07-18-2020.csv [Content-Type=text/csv]...\n",
      "Copying file://COVID-19/csse_covid_19_data/csse_covid_19_daily_reports/07-19-2020.csv [Content-Type=text/csv]...\n",
      "Copying file://COVID-19/csse_covid_19_data/csse_covid_19_daily_reports/07-20-2020.csv [Content-Type=text/csv]...\n",
      "Copying file://COVID-19/csse_covid_19_data/csse_covid_19_daily_reports/07-21-2020.csv [Content-Type=text/csv]...\n",
      "Copying file://COVID-19/csse_covid_19_data/csse_covid_19_daily_reports/07-22-2020.csv [Content-Type=text/csv]...\n",
      "Copying file://COVID-19/csse_covid_19_data/csse_covid_19_daily_reports/07-23-2020.csv [Content-Type=text/csv]...\n",
      "Copying file://COVID-19/csse_covid_19_data/csse_covid_19_daily_reports/07-24-2020.csv [Content-Type=text/csv]...\n",
      "Copying file://COVID-19/csse_covid_19_data/csse_covid_19_daily_reports/07-25-2020.csv [Content-Type=text/csv]...\n",
      "Copying file://COVID-19/csse_covid_19_data/csse_covid_19_daily_reports/07-26-2020.csv [Content-Type=text/csv]...\n",
      "Copying file://COVID-19/csse_covid_19_data/csse_covid_19_daily_reports/07-27-2020.csv [Content-Type=text/csv]...\n",
      "Copying file://COVID-19/csse_covid_19_data/csse_covid_19_daily_reports/07-28-2020.csv [Content-Type=text/csv]...\n",
      "Copying file://COVID-19/csse_covid_19_data/csse_covid_19_daily_reports/07-29-2020.csv [Content-Type=text/csv]...\n",
      "Copying file://COVID-19/csse_covid_19_data/csse_covid_19_daily_reports/07-30-2020.csv [Content-Type=text/csv]...\n",
      "Copying file://COVID-19/csse_covid_19_data/csse_covid_19_daily_reports/07-31-2020.csv [Content-Type=text/csv]...\n",
      "\\ [31 files][ 15.6 MiB/ 15.6 MiB]                                               \n",
      "==> NOTE: You are performing a sequence of gsutil operations that may\n",
      "run significantly faster if you instead use gsutil -m cp ... Please\n",
      "see the -m section under \"gsutil help options\" for further information\n",
      "about when gsutil -m can be advantageous.\n",
      "\n",
      "\n",
      "Operation completed over 31 objects/15.6 MiB.                                    \n"
     ]
    }
   ],
   "source": [
    "!gsutil cp COVID-19/csse_covid_19_data/csse_covid_19_daily_reports/07-*2020.csv gs://covid_acs_bucket/covid/06-01-20-to-08-31-20"
   ]
  },
  {
   "cell_type": "code",
   "execution_count": 11,
   "id": "bibliographic-lobby",
   "metadata": {},
   "outputs": [
    {
     "name": "stdout",
     "output_type": "stream",
     "text": [
      "Copying file://COVID-19/csse_covid_19_data/csse_covid_19_daily_reports/08-01-2020.csv [Content-Type=text/csv]...\n",
      "Copying file://COVID-19/csse_covid_19_data/csse_covid_19_daily_reports/08-02-2020.csv [Content-Type=text/csv]...\n",
      "Copying file://COVID-19/csse_covid_19_data/csse_covid_19_daily_reports/08-03-2020.csv [Content-Type=text/csv]...\n",
      "Copying file://COVID-19/csse_covid_19_data/csse_covid_19_daily_reports/08-04-2020.csv [Content-Type=text/csv]...\n",
      "/ [4 files][  2.1 MiB/  2.1 MiB]                                                \n",
      "==> NOTE: You are performing a sequence of gsutil operations that may\n",
      "run significantly faster if you instead use gsutil -m cp ... Please\n",
      "see the -m section under \"gsutil help options\" for further information\n",
      "about when gsutil -m can be advantageous.\n",
      "\n",
      "Copying file://COVID-19/csse_covid_19_data/csse_covid_19_daily_reports/08-05-2020.csv [Content-Type=text/csv]...\n",
      "Copying file://COVID-19/csse_covid_19_data/csse_covid_19_daily_reports/08-06-2020.csv [Content-Type=text/csv]...\n",
      "Copying file://COVID-19/csse_covid_19_data/csse_covid_19_daily_reports/08-07-2020.csv [Content-Type=text/csv]...\n",
      "Copying file://COVID-19/csse_covid_19_data/csse_covid_19_daily_reports/08-08-2020.csv [Content-Type=text/csv]...\n",
      "Copying file://COVID-19/csse_covid_19_data/csse_covid_19_daily_reports/08-09-2020.csv [Content-Type=text/csv]...\n",
      "Copying file://COVID-19/csse_covid_19_data/csse_covid_19_daily_reports/08-10-2020.csv [Content-Type=text/csv]...\n",
      "Copying file://COVID-19/csse_covid_19_data/csse_covid_19_daily_reports/08-11-2020.csv [Content-Type=text/csv]...\n",
      "Copying file://COVID-19/csse_covid_19_data/csse_covid_19_daily_reports/08-12-2020.csv [Content-Type=text/csv]...\n",
      "Copying file://COVID-19/csse_covid_19_data/csse_covid_19_daily_reports/08-13-2020.csv [Content-Type=text/csv]...\n",
      "Copying file://COVID-19/csse_covid_19_data/csse_covid_19_daily_reports/08-14-2020.csv [Content-Type=text/csv]...\n",
      "Copying file://COVID-19/csse_covid_19_data/csse_covid_19_daily_reports/08-15-2020.csv [Content-Type=text/csv]...\n",
      "Copying file://COVID-19/csse_covid_19_data/csse_covid_19_daily_reports/08-16-2020.csv [Content-Type=text/csv]...\n",
      "Copying file://COVID-19/csse_covid_19_data/csse_covid_19_daily_reports/08-17-2020.csv [Content-Type=text/csv]...\n",
      "Copying file://COVID-19/csse_covid_19_data/csse_covid_19_daily_reports/08-18-2020.csv [Content-Type=text/csv]...\n",
      "Copying file://COVID-19/csse_covid_19_data/csse_covid_19_daily_reports/08-19-2020.csv [Content-Type=text/csv]...\n",
      "Copying file://COVID-19/csse_covid_19_data/csse_covid_19_daily_reports/08-20-2020.csv [Content-Type=text/csv]...\n",
      "Copying file://COVID-19/csse_covid_19_data/csse_covid_19_daily_reports/08-21-2020.csv [Content-Type=text/csv]...\n",
      "Copying file://COVID-19/csse_covid_19_data/csse_covid_19_daily_reports/08-22-2020.csv [Content-Type=text/csv]...\n",
      "Copying file://COVID-19/csse_covid_19_data/csse_covid_19_daily_reports/08-23-2020.csv [Content-Type=text/csv]...\n",
      "Copying file://COVID-19/csse_covid_19_data/csse_covid_19_daily_reports/08-24-2020.csv [Content-Type=text/csv]...\n",
      "Copying file://COVID-19/csse_covid_19_data/csse_covid_19_daily_reports/08-25-2020.csv [Content-Type=text/csv]...\n",
      "Copying file://COVID-19/csse_covid_19_data/csse_covid_19_daily_reports/08-26-2020.csv [Content-Type=text/csv]...\n",
      "Copying file://COVID-19/csse_covid_19_data/csse_covid_19_daily_reports/08-27-2020.csv [Content-Type=text/csv]...\n",
      "Copying file://COVID-19/csse_covid_19_data/csse_covid_19_daily_reports/08-28-2020.csv [Content-Type=text/csv]...\n",
      "Copying file://COVID-19/csse_covid_19_data/csse_covid_19_daily_reports/08-29-2020.csv [Content-Type=text/csv]...\n",
      "Copying file://COVID-19/csse_covid_19_data/csse_covid_19_daily_reports/08-30-2020.csv [Content-Type=text/csv]...\n",
      "Copying file://COVID-19/csse_covid_19_data/csse_covid_19_daily_reports/08-31-2020.csv [Content-Type=text/csv]...\n",
      "- [31 files][ 16.0 MiB/ 16.0 MiB]                                               \n",
      "==> NOTE: You are performing a sequence of gsutil operations that may\n",
      "run significantly faster if you instead use gsutil -m cp ... Please\n",
      "see the -m section under \"gsutil help options\" for further information\n",
      "about when gsutil -m can be advantageous.\n",
      "\n",
      "\n",
      "Operation completed over 31 objects/16.0 MiB.                                    \n"
     ]
    }
   ],
   "source": [
    "!gsutil cp COVID-19/csse_covid_19_data/csse_covid_19_daily_reports/08-*2020.csv gs://covid_acs_bucket/covid/06-01-20-to-08-31-20"
   ]
  },
  {
   "cell_type": "markdown",
   "id": "associate-gates",
   "metadata": {},
   "source": [
    "##### fall 2020 [do not rerun cells]"
   ]
  },
  {
   "cell_type": "code",
   "execution_count": 12,
   "id": "infrared-plaza",
   "metadata": {},
   "outputs": [
    {
     "name": "stdout",
     "output_type": "stream",
     "text": [
      "Copying file://COVID-19/csse_covid_19_data/csse_covid_19_daily_reports/09-01-2020.csv [Content-Type=text/csv]...\n",
      "Copying file://COVID-19/csse_covid_19_data/csse_covid_19_daily_reports/09-02-2020.csv [Content-Type=text/csv]...\n",
      "Copying file://COVID-19/csse_covid_19_data/csse_covid_19_daily_reports/09-03-2020.csv [Content-Type=text/csv]...\n",
      "Copying file://COVID-19/csse_covid_19_data/csse_covid_19_daily_reports/09-04-2020.csv [Content-Type=text/csv]...\n",
      "/ [4 files][  2.1 MiB/  2.1 MiB]                                                \n",
      "==> NOTE: You are performing a sequence of gsutil operations that may\n",
      "run significantly faster if you instead use gsutil -m cp ... Please\n",
      "see the -m section under \"gsutil help options\" for further information\n",
      "about when gsutil -m can be advantageous.\n",
      "\n",
      "Copying file://COVID-19/csse_covid_19_data/csse_covid_19_daily_reports/09-05-2020.csv [Content-Type=text/csv]...\n",
      "Copying file://COVID-19/csse_covid_19_data/csse_covid_19_daily_reports/09-06-2020.csv [Content-Type=text/csv]...\n",
      "Copying file://COVID-19/csse_covid_19_data/csse_covid_19_daily_reports/09-07-2020.csv [Content-Type=text/csv]...\n",
      "Copying file://COVID-19/csse_covid_19_data/csse_covid_19_daily_reports/09-08-2020.csv [Content-Type=text/csv]...\n",
      "Copying file://COVID-19/csse_covid_19_data/csse_covid_19_daily_reports/09-09-2020.csv [Content-Type=text/csv]...\n",
      "Copying file://COVID-19/csse_covid_19_data/csse_covid_19_daily_reports/09-10-2020.csv [Content-Type=text/csv]...\n",
      "Copying file://COVID-19/csse_covid_19_data/csse_covid_19_daily_reports/09-11-2020.csv [Content-Type=text/csv]...\n",
      "Copying file://COVID-19/csse_covid_19_data/csse_covid_19_daily_reports/09-12-2020.csv [Content-Type=text/csv]...\n",
      "Copying file://COVID-19/csse_covid_19_data/csse_covid_19_daily_reports/09-13-2020.csv [Content-Type=text/csv]...\n",
      "Copying file://COVID-19/csse_covid_19_data/csse_covid_19_daily_reports/09-14-2020.csv [Content-Type=text/csv]...\n",
      "Copying file://COVID-19/csse_covid_19_data/csse_covid_19_daily_reports/09-15-2020.csv [Content-Type=text/csv]...\n",
      "Copying file://COVID-19/csse_covid_19_data/csse_covid_19_daily_reports/09-16-2020.csv [Content-Type=text/csv]...\n",
      "Copying file://COVID-19/csse_covid_19_data/csse_covid_19_daily_reports/09-17-2020.csv [Content-Type=text/csv]...\n",
      "Copying file://COVID-19/csse_covid_19_data/csse_covid_19_daily_reports/09-18-2020.csv [Content-Type=text/csv]...\n",
      "Copying file://COVID-19/csse_covid_19_data/csse_covid_19_daily_reports/09-19-2020.csv [Content-Type=text/csv]...\n",
      "Copying file://COVID-19/csse_covid_19_data/csse_covid_19_daily_reports/09-20-2020.csv [Content-Type=text/csv]...\n",
      "Copying file://COVID-19/csse_covid_19_data/csse_covid_19_daily_reports/09-21-2020.csv [Content-Type=text/csv]...\n",
      "Copying file://COVID-19/csse_covid_19_data/csse_covid_19_daily_reports/09-22-2020.csv [Content-Type=text/csv]...\n",
      "Copying file://COVID-19/csse_covid_19_data/csse_covid_19_daily_reports/09-23-2020.csv [Content-Type=text/csv]...\n",
      "Copying file://COVID-19/csse_covid_19_data/csse_covid_19_daily_reports/09-24-2020.csv [Content-Type=text/csv]...\n",
      "Copying file://COVID-19/csse_covid_19_data/csse_covid_19_daily_reports/09-25-2020.csv [Content-Type=text/csv]...\n",
      "Copying file://COVID-19/csse_covid_19_data/csse_covid_19_daily_reports/09-26-2020.csv [Content-Type=text/csv]...\n",
      "Copying file://COVID-19/csse_covid_19_data/csse_covid_19_daily_reports/09-27-2020.csv [Content-Type=text/csv]...\n",
      "Copying file://COVID-19/csse_covid_19_data/csse_covid_19_daily_reports/09-28-2020.csv [Content-Type=text/csv]...\n",
      "Copying file://COVID-19/csse_covid_19_data/csse_covid_19_daily_reports/09-29-2020.csv [Content-Type=text/csv]...\n",
      "Copying file://COVID-19/csse_covid_19_data/csse_covid_19_daily_reports/09-30-2020.csv [Content-Type=text/csv]...\n",
      "- [30 files][ 15.1 MiB/ 15.1 MiB]                                               \n",
      "==> NOTE: You are performing a sequence of gsutil operations that may\n",
      "run significantly faster if you instead use gsutil -m cp ... Please\n",
      "see the -m section under \"gsutil help options\" for further information\n",
      "about when gsutil -m can be advantageous.\n",
      "\n",
      "\n",
      "Operation completed over 30 objects/15.1 MiB.                                    \n"
     ]
    }
   ],
   "source": [
    "!gsutil cp COVID-19/csse_covid_19_data/csse_covid_19_daily_reports/09-*2020.csv gs://covid_acs_bucket/covid/09-01-20-to-11-30-20"
   ]
  },
  {
   "cell_type": "code",
   "execution_count": 13,
   "id": "subject-kentucky",
   "metadata": {},
   "outputs": [
    {
     "name": "stdout",
     "output_type": "stream",
     "text": [
      "Copying file://COVID-19/csse_covid_19_data/csse_covid_19_daily_reports/10-01-2020.csv [Content-Type=text/csv]...\n",
      "Copying file://COVID-19/csse_covid_19_data/csse_covid_19_daily_reports/10-02-2020.csv [Content-Type=text/csv]...\n",
      "Copying file://COVID-19/csse_covid_19_data/csse_covid_19_daily_reports/10-03-2020.csv [Content-Type=text/csv]...\n",
      "Copying file://COVID-19/csse_covid_19_data/csse_covid_19_daily_reports/10-04-2020.csv [Content-Type=text/csv]...\n",
      "- [4 files][  2.1 MiB/  2.1 MiB]                                                \n",
      "==> NOTE: You are performing a sequence of gsutil operations that may\n",
      "run significantly faster if you instead use gsutil -m cp ... Please\n",
      "see the -m section under \"gsutil help options\" for further information\n",
      "about when gsutil -m can be advantageous.\n",
      "\n",
      "Copying file://COVID-19/csse_covid_19_data/csse_covid_19_daily_reports/10-05-2020.csv [Content-Type=text/csv]...\n",
      "Copying file://COVID-19/csse_covid_19_data/csse_covid_19_daily_reports/10-06-2020.csv [Content-Type=text/csv]...\n",
      "Copying file://COVID-19/csse_covid_19_data/csse_covid_19_daily_reports/10-07-2020.csv [Content-Type=text/csv]...\n",
      "Copying file://COVID-19/csse_covid_19_data/csse_covid_19_daily_reports/10-08-2020.csv [Content-Type=text/csv]...\n",
      "Copying file://COVID-19/csse_covid_19_data/csse_covid_19_daily_reports/10-09-2020.csv [Content-Type=text/csv]...\n",
      "Copying file://COVID-19/csse_covid_19_data/csse_covid_19_daily_reports/10-10-2020.csv [Content-Type=text/csv]...\n",
      "Copying file://COVID-19/csse_covid_19_data/csse_covid_19_daily_reports/10-11-2020.csv [Content-Type=text/csv]...\n",
      "Copying file://COVID-19/csse_covid_19_data/csse_covid_19_daily_reports/10-12-2020.csv [Content-Type=text/csv]...\n",
      "Copying file://COVID-19/csse_covid_19_data/csse_covid_19_daily_reports/10-13-2020.csv [Content-Type=text/csv]...\n",
      "Copying file://COVID-19/csse_covid_19_data/csse_covid_19_daily_reports/10-14-2020.csv [Content-Type=text/csv]...\n",
      "Copying file://COVID-19/csse_covid_19_data/csse_covid_19_daily_reports/10-15-2020.csv [Content-Type=text/csv]...\n",
      "Copying file://COVID-19/csse_covid_19_data/csse_covid_19_daily_reports/10-16-2020.csv [Content-Type=text/csv]...\n",
      "Copying file://COVID-19/csse_covid_19_data/csse_covid_19_daily_reports/10-17-2020.csv [Content-Type=text/csv]...\n",
      "Copying file://COVID-19/csse_covid_19_data/csse_covid_19_daily_reports/10-18-2020.csv [Content-Type=text/csv]...\n",
      "Copying file://COVID-19/csse_covid_19_data/csse_covid_19_daily_reports/10-19-2020.csv [Content-Type=text/csv]...\n",
      "Copying file://COVID-19/csse_covid_19_data/csse_covid_19_daily_reports/10-20-2020.csv [Content-Type=text/csv]...\n",
      "Copying file://COVID-19/csse_covid_19_data/csse_covid_19_daily_reports/10-21-2020.csv [Content-Type=text/csv]...\n",
      "Copying file://COVID-19/csse_covid_19_data/csse_covid_19_daily_reports/10-22-2020.csv [Content-Type=text/csv]...\n",
      "Copying file://COVID-19/csse_covid_19_data/csse_covid_19_daily_reports/10-23-2020.csv [Content-Type=text/csv]...\n",
      "Copying file://COVID-19/csse_covid_19_data/csse_covid_19_daily_reports/10-24-2020.csv [Content-Type=text/csv]...\n",
      "Copying file://COVID-19/csse_covid_19_data/csse_covid_19_daily_reports/10-25-2020.csv [Content-Type=text/csv]...\n",
      "Copying file://COVID-19/csse_covid_19_data/csse_covid_19_daily_reports/10-26-2020.csv [Content-Type=text/csv]...\n",
      "Copying file://COVID-19/csse_covid_19_data/csse_covid_19_daily_reports/10-27-2020.csv [Content-Type=text/csv]...\n",
      "Copying file://COVID-19/csse_covid_19_data/csse_covid_19_daily_reports/10-28-2020.csv [Content-Type=text/csv]...\n",
      "Copying file://COVID-19/csse_covid_19_data/csse_covid_19_daily_reports/10-29-2020.csv [Content-Type=text/csv]...\n",
      "Copying file://COVID-19/csse_covid_19_data/csse_covid_19_daily_reports/10-30-2020.csv [Content-Type=text/csv]...\n",
      "Copying file://COVID-19/csse_covid_19_data/csse_covid_19_daily_reports/10-31-2020.csv [Content-Type=text/csv]...\n",
      "\\ [31 files][ 16.4 MiB/ 16.4 MiB]                                               \n",
      "==> NOTE: You are performing a sequence of gsutil operations that may\n",
      "run significantly faster if you instead use gsutil -m cp ... Please\n",
      "see the -m section under \"gsutil help options\" for further information\n",
      "about when gsutil -m can be advantageous.\n",
      "\n",
      "\n",
      "Operation completed over 31 objects/16.4 MiB.                                    \n"
     ]
    }
   ],
   "source": [
    "!gsutil cp COVID-19/csse_covid_19_data/csse_covid_19_daily_reports/10-*2020.csv gs://covid_acs_bucket/covid/09-01-20-to-11-30-20"
   ]
  },
  {
   "cell_type": "code",
   "execution_count": 14,
   "id": "located-weapon",
   "metadata": {},
   "outputs": [
    {
     "name": "stdout",
     "output_type": "stream",
     "text": [
      "Copying file://COVID-19/csse_covid_19_data/csse_covid_19_daily_reports/11-01-2020.csv [Content-Type=text/csv]...\n",
      "Copying file://COVID-19/csse_covid_19_data/csse_covid_19_daily_reports/11-02-2020.csv [Content-Type=text/csv]...\n",
      "Copying file://COVID-19/csse_covid_19_data/csse_covid_19_daily_reports/11-03-2020.csv [Content-Type=text/csv]...\n",
      "Copying file://COVID-19/csse_covid_19_data/csse_covid_19_daily_reports/11-04-2020.csv [Content-Type=text/csv]...\n",
      "/ [4 files][  2.1 MiB/  2.1 MiB]                                                \n",
      "==> NOTE: You are performing a sequence of gsutil operations that may\n",
      "run significantly faster if you instead use gsutil -m cp ... Please\n",
      "see the -m section under \"gsutil help options\" for further information\n",
      "about when gsutil -m can be advantageous.\n",
      "\n",
      "Copying file://COVID-19/csse_covid_19_data/csse_covid_19_daily_reports/11-05-2020.csv [Content-Type=text/csv]...\n",
      "Copying file://COVID-19/csse_covid_19_data/csse_covid_19_daily_reports/11-06-2020.csv [Content-Type=text/csv]...\n",
      "Copying file://COVID-19/csse_covid_19_data/csse_covid_19_daily_reports/11-07-2020.csv [Content-Type=text/csv]...\n",
      "Copying file://COVID-19/csse_covid_19_data/csse_covid_19_daily_reports/11-08-2020.csv [Content-Type=text/csv]...\n",
      "Copying file://COVID-19/csse_covid_19_data/csse_covid_19_daily_reports/11-09-2020.csv [Content-Type=text/csv]...\n",
      "Copying file://COVID-19/csse_covid_19_data/csse_covid_19_daily_reports/11-10-2020.csv [Content-Type=text/csv]...\n",
      "Copying file://COVID-19/csse_covid_19_data/csse_covid_19_daily_reports/11-11-2020.csv [Content-Type=text/csv]...\n",
      "Copying file://COVID-19/csse_covid_19_data/csse_covid_19_daily_reports/11-12-2020.csv [Content-Type=text/csv]...\n",
      "Copying file://COVID-19/csse_covid_19_data/csse_covid_19_daily_reports/11-13-2020.csv [Content-Type=text/csv]...\n",
      "Copying file://COVID-19/csse_covid_19_data/csse_covid_19_daily_reports/11-14-2020.csv [Content-Type=text/csv]...\n",
      "Copying file://COVID-19/csse_covid_19_data/csse_covid_19_daily_reports/11-15-2020.csv [Content-Type=text/csv]...\n",
      "Copying file://COVID-19/csse_covid_19_data/csse_covid_19_daily_reports/11-16-2020.csv [Content-Type=text/csv]...\n",
      "Copying file://COVID-19/csse_covid_19_data/csse_covid_19_daily_reports/11-17-2020.csv [Content-Type=text/csv]...\n",
      "Copying file://COVID-19/csse_covid_19_data/csse_covid_19_daily_reports/11-18-2020.csv [Content-Type=text/csv]...\n",
      "Copying file://COVID-19/csse_covid_19_data/csse_covid_19_daily_reports/11-19-2020.csv [Content-Type=text/csv]...\n",
      "Copying file://COVID-19/csse_covid_19_data/csse_covid_19_daily_reports/11-20-2020.csv [Content-Type=text/csv]...\n",
      "Copying file://COVID-19/csse_covid_19_data/csse_covid_19_daily_reports/11-21-2020.csv [Content-Type=text/csv]...\n",
      "Copying file://COVID-19/csse_covid_19_data/csse_covid_19_daily_reports/11-22-2020.csv [Content-Type=text/csv]...\n",
      "Copying file://COVID-19/csse_covid_19_data/csse_covid_19_daily_reports/11-23-2020.csv [Content-Type=text/csv]...\n",
      "Copying file://COVID-19/csse_covid_19_data/csse_covid_19_daily_reports/11-24-2020.csv [Content-Type=text/csv]...\n",
      "Copying file://COVID-19/csse_covid_19_data/csse_covid_19_daily_reports/11-25-2020.csv [Content-Type=text/csv]...\n",
      "Copying file://COVID-19/csse_covid_19_data/csse_covid_19_daily_reports/11-26-2020.csv [Content-Type=text/csv]...\n",
      "Copying file://COVID-19/csse_covid_19_data/csse_covid_19_daily_reports/11-27-2020.csv [Content-Type=text/csv]...\n",
      "Copying file://COVID-19/csse_covid_19_data/csse_covid_19_daily_reports/11-28-2020.csv [Content-Type=text/csv]...\n",
      "Copying file://COVID-19/csse_covid_19_data/csse_covid_19_daily_reports/11-29-2020.csv [Content-Type=text/csv]...\n",
      "Copying file://COVID-19/csse_covid_19_data/csse_covid_19_daily_reports/11-30-2020.csv [Content-Type=text/csv]...\n",
      "- [30 files][ 16.0 MiB/ 16.0 MiB]                                               \n",
      "==> NOTE: You are performing a sequence of gsutil operations that may\n",
      "run significantly faster if you instead use gsutil -m cp ... Please\n",
      "see the -m section under \"gsutil help options\" for further information\n",
      "about when gsutil -m can be advantageous.\n",
      "\n",
      "\n",
      "Operation completed over 30 objects/16.0 MiB.                                    \n"
     ]
    }
   ],
   "source": [
    "!gsutil cp COVID-19/csse_covid_19_data/csse_covid_19_daily_reports/11-*2020.csv gs://covid_acs_bucket/covid/09-01-20-to-11-30-20"
   ]
  },
  {
   "cell_type": "markdown",
   "id": "gothic-poverty",
   "metadata": {},
   "source": [
    "##### winter 2021 [do not rerun cells]"
   ]
  },
  {
   "cell_type": "code",
   "execution_count": null,
   "id": "dependent-oxygen",
   "metadata": {},
   "outputs": [],
   "source": []
  },
  {
   "cell_type": "code",
   "execution_count": null,
   "id": "hidden-focus",
   "metadata": {},
   "outputs": [],
   "source": []
  },
  {
   "cell_type": "code",
   "execution_count": null,
   "id": "spread-heading",
   "metadata": {},
   "outputs": [],
   "source": []
  },
  {
   "cell_type": "markdown",
   "id": "flush-mentor",
   "metadata": {},
   "source": [
    "##### spring 2021 [do not rerun cells]"
   ]
  },
  {
   "cell_type": "code",
   "execution_count": null,
   "id": "honest-sierra",
   "metadata": {},
   "outputs": [],
   "source": []
  },
  {
   "cell_type": "code",
   "execution_count": null,
   "id": "noble-nickname",
   "metadata": {},
   "outputs": [],
   "source": []
  },
  {
   "cell_type": "markdown",
   "id": "super-feelings",
   "metadata": {},
   "source": [
    "### Load COVID data into BigQuery"
   ]
  },
  {
   "cell_type": "code",
   "execution_count": 15,
   "id": "infrared-remark",
   "metadata": {},
   "outputs": [],
   "source": [
    "covid_dataset_id = \"jhu_daily_reports_staging\""
   ]
  },
  {
   "cell_type": "markdown",
   "id": "molecular-immune",
   "metadata": {},
   "source": [
    "##### Do not rereun this cell"
   ]
  },
  {
   "cell_type": "code",
   "execution_count": 16,
   "id": "neural-wilderness",
   "metadata": {},
   "outputs": [
    {
     "name": "stdout",
     "output_type": "stream",
     "text": [
      "Dataset 'lunar-analyzer-302702:jhu_daily_reports_staging' successfully created.\n"
     ]
    }
   ],
   "source": [
    "!bq --location=US mk --dataset {covid_dataset_id}"
   ]
  },
  {
   "cell_type": "markdown",
   "id": "devoted-scheme",
   "metadata": {},
   "source": [
    "##### Make Table covid_winter2020 [do not rerun]"
   ]
  },
  {
   "cell_type": "code",
   "execution_count": 22,
   "id": "cross-luxembourg",
   "metadata": {},
   "outputs": [
    {
     "name": "stdout",
     "output_type": "stream",
     "text": [
      "Waiting on bqjob_r32980e4330978f5e_00000178ce483bb1_1 ... (0s) Current status: DONE   \n",
      "BigQuery error in load operation: Error processing job 'lunar-\n",
      "analyzer-302702:bqjob_r32980e4330978f5e_00000178ce483bb1_1': Error while reading\n",
      "data, error message: Could not parse '1/23/20 17:00' as TIMESTAMP for field\n",
      "Last_Update (position 4) starting at location 159  with message 'Day 1-23-20\n",
      "does not exist for timestamp: 1/23/20 17:00'\n",
      "Failure details:\n",
      "- Error while reading data, error message: CSV processing encountered\n",
      "too many errors, giving up. Rows: 925; errors: 1; max bad: 0; error\n",
      "percent: 0\n",
      "- query: Could not parse '1/23/20 17:00' as TIMESTAMP for field\n",
      "Last_Update (position 4) starting at location 159  with message\n",
      "'Day 1-23-20 does not exist for timestamp: 1/23/20 17:00'\n"
     ]
    }
   ],
   "source": [
    "!bq --location=US load --autodetect --skip_leading_rows=1 \\\n",
    "--source_format=CSV {covid_dataset_id}.covid_winter2020 \\\n",
    "gs://covid_acs_bucket/covid/12-01-20-to-02-29-20/*csv"
   ]
  },
  {
   "cell_type": "markdown",
   "id": "enhanced-mattress",
   "metadata": {},
   "source": [
    "##### Make Table covid_spring2020 [do not rerun]"
   ]
  },
  {
   "cell_type": "code",
   "execution_count": 23,
   "id": "anonymous-playing",
   "metadata": {},
   "outputs": [
    {
     "name": "stdout",
     "output_type": "stream",
     "text": [
      "Waiting on bqjob_r75fcf413bdf05a9a_00000178ce485218_1 ... (0s) Current status: DONE   \n",
      "BigQuery error in load operation: Error processing job 'lunar-\n",
      "analyzer-302702:bqjob_r75fcf413bdf05a9a_00000178ce485218_1': Error while reading\n",
      "data, error message: Could not parse '4/14/20 23:33' as TIMESTAMP for field\n",
      "Last_Update (position 4) starting at location 156  with message 'Failed to parse\n",
      "input string \"4/14/20 23:33\"'\n",
      "Failure details:\n",
      "- Error while reading data, error message: CSV processing encountered\n",
      "too many errors, giving up. Rows: 1; errors: 1; max bad: 0; error\n",
      "percent: 0\n",
      "- gs://covid_acs_bucket/covid/03-01-20-to-05-31-20/03-03-2020.csv:\n",
      "Error while reading data, error message: Could not parse\n",
      "'2020-03-03 11:43:02' as TIMESTAMP for field Last_Update (position\n",
      "4) starting at location 156  with message 'Mismatch between format\n",
      "character '/' and string character '-''\n",
      "- Error while reading data, error message: CSV processing encountered\n",
      "too many errors, giving up. Rows: 2; errors: 2; max bad: 0; error\n",
      "percent: 0\n",
      "- query: Could not parse '4/14/20 23:33' as TIMESTAMP for field\n",
      "Last_Update (position 4) starting at location 156  with message\n",
      "'Failed to parse input string \"4/14/20 23:33\"'\n",
      "- query: Could not parse '2020-03-03 11:43:02' as TIMESTAMP for field\n",
      "Last_Update (position 4) starting at location 156  with message\n",
      "'Mismatch between format character '/' and string character '-''\n"
     ]
    }
   ],
   "source": [
    "!bq --location=US load --autodetect --skip_leading_rows=1 \\\n",
    "--source_format=CSV {covid_dataset_id}.covid_spring2020 \\\n",
    "gs://covid_acs_bucket/covid/03-01-20-to-05-31-20/*csv"
   ]
  },
  {
   "cell_type": "markdown",
   "id": "bearing-score",
   "metadata": {},
   "source": [
    "##### Make Table covid_summer2020 [do not rerun]"
   ]
  },
  {
   "cell_type": "code",
   "execution_count": 25,
   "id": "consistent-schedule",
   "metadata": {},
   "outputs": [
    {
     "name": "stdout",
     "output_type": "stream",
     "text": [
      "Waiting on bqjob_r72f943ece3b3a8b8_00000178ce4a7081_1 ... (6s) Current status: DONE   \n"
     ]
    }
   ],
   "source": [
    "!bq --location=US load --autodetect --skip_leading_rows=1 \\\n",
    "--source_format=CSV {covid_dataset_id}.covid_summer2020 \\\n",
    "gs://covid_acs_bucket/covid/06-01-20-to-08-31-20/*csv"
   ]
  },
  {
   "cell_type": "markdown",
   "id": "raising-directory",
   "metadata": {},
   "source": [
    "##### Make Table covid_fall2020 [do not rerun]"
   ]
  },
  {
   "cell_type": "code",
   "execution_count": 26,
   "id": "tired-diploma",
   "metadata": {},
   "outputs": [
    {
     "name": "stdout",
     "output_type": "stream",
     "text": [
      "Waiting on bqjob_r37c99d0ac6c037d9_00000178ce4abd2c_1 ... (6s) Current status: DONE   \n"
     ]
    }
   ],
   "source": [
    "!bq --location=US load --autodetect --skip_leading_rows=1 \\\n",
    "--source_format=CSV {covid_dataset_id}.covid_fall2020 \\\n",
    "gs://covid_acs_bucket/covid/09-01-20-to-11-30-20/*csv"
   ]
  },
  {
   "cell_type": "markdown",
   "id": "french-atlantic",
   "metadata": {},
   "source": [
    "##### Make Table covid_winter2021 [do not rerun]"
   ]
  },
  {
   "cell_type": "code",
   "execution_count": null,
   "id": "acceptable-absence",
   "metadata": {},
   "outputs": [],
   "source": []
  },
  {
   "cell_type": "markdown",
   "id": "thousand-breath",
   "metadata": {},
   "source": [
    "##### Make Table covid_spring2021 [do not rerun]"
   ]
  },
  {
   "cell_type": "code",
   "execution_count": null,
   "id": "macro-soundtrack",
   "metadata": {},
   "outputs": [],
   "source": []
  },
  {
   "cell_type": "markdown",
   "id": "structured-guest",
   "metadata": {},
   "source": [
    "### Sample each COVID table to check table schema"
   ]
  },
  {
   "cell_type": "code",
   "execution_count": 21,
   "id": "timely-mother",
   "metadata": {},
   "outputs": [
    {
     "name": "stdout",
     "output_type": "stream",
     "text": [
      "Executing query with job ID: 55c67b91-7015-43d5-b770-bdb4a3b4bb1e\n",
      "Query executing: 0.36s"
     ]
    },
    {
     "name": "stderr",
     "output_type": "stream",
     "text": [
      "\n",
      "ERROR:\n",
      " 404 Not found: Table lunar-analyzer-302702:jhu_daily_reports_staging.covid_winter2020 was not found in location US\n",
      "\n",
      "(job ID: 55c67b91-7015-43d5-b770-bdb4a3b4bb1e)\n",
      "\n",
      "                   -----Query Job SQL Follows-----                   \n",
      "\n",
      "    |    .    |    .    |    .    |    .    |    .    |    .    |\n",
      "   1:SELECT * FROM jhu_daily_reports_staging.covid_winter2020 LIMIT 5\n",
      "    |    .    |    .    |    .    |    .    |    .    |    .    |\n"
     ]
    }
   ],
   "source": [
    "%%bigquery\n",
    "SELECT * FROM jhu_daily_reports_staging.covid_winter2020 LIMIT 5"
   ]
  },
  {
   "cell_type": "code",
   "execution_count": 27,
   "id": "round-illinois",
   "metadata": {},
   "outputs": [
    {
     "name": "stdout",
     "output_type": "stream",
     "text": [
      "Executing query with job ID: 5de408db-9667-469a-8054-e0da1e8b67f8\n",
      "Query executing: 0.20s"
     ]
    },
    {
     "name": "stderr",
     "output_type": "stream",
     "text": [
      "\n",
      "ERROR:\n",
      " 404 Not found: Table lunar-analyzer-302702:jhu_daily_reports_staging.covid_spring2020 was not found in location US\n",
      "\n",
      "(job ID: 5de408db-9667-469a-8054-e0da1e8b67f8)\n",
      "\n",
      "                   -----Query Job SQL Follows-----                   \n",
      "\n",
      "    |    .    |    .    |    .    |    .    |    .    |    .    |\n",
      "   1:SELECT * FROM jhu_daily_reports_staging.covid_spring2020 LIMIT 5\n",
      "    |    .    |    .    |    .    |    .    |    .    |    .    |\n"
     ]
    }
   ],
   "source": [
    "%%bigquery\n",
    "SELECT * FROM jhu_daily_reports_staging.covid_spring2020 LIMIT 5"
   ]
  },
  {
   "cell_type": "code",
   "execution_count": 28,
   "id": "assisted-clerk",
   "metadata": {},
   "outputs": [
    {
     "data": {
      "text/html": [
       "<div>\n",
       "<style scoped>\n",
       "    .dataframe tbody tr th:only-of-type {\n",
       "        vertical-align: middle;\n",
       "    }\n",
       "\n",
       "    .dataframe tbody tr th {\n",
       "        vertical-align: top;\n",
       "    }\n",
       "\n",
       "    .dataframe thead th {\n",
       "        text-align: right;\n",
       "    }\n",
       "</style>\n",
       "<table border=\"1\" class=\"dataframe\">\n",
       "  <thead>\n",
       "    <tr style=\"text-align: right;\">\n",
       "      <th></th>\n",
       "      <th>FIPS</th>\n",
       "      <th>Admin2</th>\n",
       "      <th>Province_State</th>\n",
       "      <th>Country_Region</th>\n",
       "      <th>Last_Update</th>\n",
       "      <th>Lat</th>\n",
       "      <th>Long_</th>\n",
       "      <th>Confirmed</th>\n",
       "      <th>Deaths</th>\n",
       "      <th>Recovered</th>\n",
       "      <th>Active</th>\n",
       "      <th>Combined_Key</th>\n",
       "      <th>Incidence_Rate</th>\n",
       "      <th>Case_Fatality_Ratio</th>\n",
       "    </tr>\n",
       "  </thead>\n",
       "  <tbody>\n",
       "    <tr>\n",
       "      <th>0</th>\n",
       "      <td>NaN</td>\n",
       "      <td>None</td>\n",
       "      <td>None</td>\n",
       "      <td>Chad</td>\n",
       "      <td>2020-06-27 04:33:35+00:00</td>\n",
       "      <td>15.4542</td>\n",
       "      <td>18.7322</td>\n",
       "      <td>865</td>\n",
       "      <td>74</td>\n",
       "      <td>778</td>\n",
       "      <td>13</td>\n",
       "      <td>Chad</td>\n",
       "      <td>5.266087</td>\n",
       "      <td>8.554913</td>\n",
       "    </tr>\n",
       "    <tr>\n",
       "      <th>1</th>\n",
       "      <td>NaN</td>\n",
       "      <td>None</td>\n",
       "      <td>None</td>\n",
       "      <td>Chad</td>\n",
       "      <td>2020-08-12 04:27:29+00:00</td>\n",
       "      <td>15.4542</td>\n",
       "      <td>18.7322</td>\n",
       "      <td>946</td>\n",
       "      <td>76</td>\n",
       "      <td>859</td>\n",
       "      <td>11</td>\n",
       "      <td>Chad</td>\n",
       "      <td>5.759212</td>\n",
       "      <td>8.033827</td>\n",
       "    </tr>\n",
       "    <tr>\n",
       "      <th>2</th>\n",
       "      <td>NaN</td>\n",
       "      <td>None</td>\n",
       "      <td>None</td>\n",
       "      <td>Chad</td>\n",
       "      <td>2020-08-05 04:34:43+00:00</td>\n",
       "      <td>15.4542</td>\n",
       "      <td>18.7322</td>\n",
       "      <td>938</td>\n",
       "      <td>75</td>\n",
       "      <td>814</td>\n",
       "      <td>49</td>\n",
       "      <td>Chad</td>\n",
       "      <td>5.710508</td>\n",
       "      <td>7.995736</td>\n",
       "    </tr>\n",
       "    <tr>\n",
       "      <th>3</th>\n",
       "      <td>NaN</td>\n",
       "      <td>None</td>\n",
       "      <td>None</td>\n",
       "      <td>Chad</td>\n",
       "      <td>2020-07-08 05:33:48+00:00</td>\n",
       "      <td>15.4542</td>\n",
       "      <td>18.7322</td>\n",
       "      <td>873</td>\n",
       "      <td>74</td>\n",
       "      <td>788</td>\n",
       "      <td>11</td>\n",
       "      <td>Chad</td>\n",
       "      <td>5.314791</td>\n",
       "      <td>8.476518</td>\n",
       "    </tr>\n",
       "    <tr>\n",
       "      <th>4</th>\n",
       "      <td>NaN</td>\n",
       "      <td>None</td>\n",
       "      <td>None</td>\n",
       "      <td>Chad</td>\n",
       "      <td>2020-08-31 04:28:27+00:00</td>\n",
       "      <td>15.4542</td>\n",
       "      <td>18.7322</td>\n",
       "      <td>1012</td>\n",
       "      <td>77</td>\n",
       "      <td>878</td>\n",
       "      <td>57</td>\n",
       "      <td>Chad</td>\n",
       "      <td>6.161017</td>\n",
       "      <td>7.608696</td>\n",
       "    </tr>\n",
       "  </tbody>\n",
       "</table>\n",
       "</div>"
      ],
      "text/plain": [
       "   FIPS Admin2 Province_State Country_Region               Last_Update  \\\n",
       "0   NaN   None           None           Chad 2020-06-27 04:33:35+00:00   \n",
       "1   NaN   None           None           Chad 2020-08-12 04:27:29+00:00   \n",
       "2   NaN   None           None           Chad 2020-08-05 04:34:43+00:00   \n",
       "3   NaN   None           None           Chad 2020-07-08 05:33:48+00:00   \n",
       "4   NaN   None           None           Chad 2020-08-31 04:28:27+00:00   \n",
       "\n",
       "       Lat    Long_  Confirmed  Deaths  Recovered  Active Combined_Key  \\\n",
       "0  15.4542  18.7322        865      74        778      13         Chad   \n",
       "1  15.4542  18.7322        946      76        859      11         Chad   \n",
       "2  15.4542  18.7322        938      75        814      49         Chad   \n",
       "3  15.4542  18.7322        873      74        788      11         Chad   \n",
       "4  15.4542  18.7322       1012      77        878      57         Chad   \n",
       "\n",
       "   Incidence_Rate  Case_Fatality_Ratio  \n",
       "0        5.266087             8.554913  \n",
       "1        5.759212             8.033827  \n",
       "2        5.710508             7.995736  \n",
       "3        5.314791             8.476518  \n",
       "4        6.161017             7.608696  "
      ]
     },
     "execution_count": 28,
     "metadata": {},
     "output_type": "execute_result"
    }
   ],
   "source": [
    "%%bigquery\n",
    "SELECT * FROM jhu_daily_reports_staging.covid_summer2020 LIMIT 5"
   ]
  },
  {
   "cell_type": "code",
   "execution_count": 29,
   "id": "operating-villa",
   "metadata": {},
   "outputs": [
    {
     "data": {
      "text/html": [
       "<div>\n",
       "<style scoped>\n",
       "    .dataframe tbody tr th:only-of-type {\n",
       "        vertical-align: middle;\n",
       "    }\n",
       "\n",
       "    .dataframe tbody tr th {\n",
       "        vertical-align: top;\n",
       "    }\n",
       "\n",
       "    .dataframe thead th {\n",
       "        text-align: right;\n",
       "    }\n",
       "</style>\n",
       "<table border=\"1\" class=\"dataframe\">\n",
       "  <thead>\n",
       "    <tr style=\"text-align: right;\">\n",
       "      <th></th>\n",
       "      <th>FIPS</th>\n",
       "      <th>Admin2</th>\n",
       "      <th>Province_State</th>\n",
       "      <th>Country_Region</th>\n",
       "      <th>Last_Update</th>\n",
       "      <th>Lat</th>\n",
       "      <th>Long_</th>\n",
       "      <th>Confirmed</th>\n",
       "      <th>Deaths</th>\n",
       "      <th>Recovered</th>\n",
       "      <th>Active</th>\n",
       "      <th>Combined_Key</th>\n",
       "      <th>Incident_Rate</th>\n",
       "      <th>Case_Fatality_Ratio</th>\n",
       "    </tr>\n",
       "  </thead>\n",
       "  <tbody>\n",
       "    <tr>\n",
       "      <th>0</th>\n",
       "      <td>NaN</td>\n",
       "      <td>None</td>\n",
       "      <td>None</td>\n",
       "      <td>Chad</td>\n",
       "      <td>2020-11-10 05:40:07+00:00</td>\n",
       "      <td>15.4542</td>\n",
       "      <td>18.7322</td>\n",
       "      <td>1551</td>\n",
       "      <td>99</td>\n",
       "      <td>1394</td>\n",
       "      <td>58</td>\n",
       "      <td>Chad</td>\n",
       "      <td>9.442429</td>\n",
       "      <td>6.382979</td>\n",
       "    </tr>\n",
       "    <tr>\n",
       "      <th>1</th>\n",
       "      <td>NaN</td>\n",
       "      <td>None</td>\n",
       "      <td>None</td>\n",
       "      <td>Chad</td>\n",
       "      <td>2020-11-13 05:25:30+00:00</td>\n",
       "      <td>15.4542</td>\n",
       "      <td>18.7322</td>\n",
       "      <td>1578</td>\n",
       "      <td>100</td>\n",
       "      <td>1428</td>\n",
       "      <td>50</td>\n",
       "      <td>Chad</td>\n",
       "      <td>9.606804</td>\n",
       "      <td>6.337136</td>\n",
       "    </tr>\n",
       "    <tr>\n",
       "      <th>2</th>\n",
       "      <td>NaN</td>\n",
       "      <td>None</td>\n",
       "      <td>None</td>\n",
       "      <td>Chad</td>\n",
       "      <td>2020-10-18 04:24:25+00:00</td>\n",
       "      <td>15.4542</td>\n",
       "      <td>18.7322</td>\n",
       "      <td>1365</td>\n",
       "      <td>93</td>\n",
       "      <td>1179</td>\n",
       "      <td>93</td>\n",
       "      <td>Chad</td>\n",
       "      <td>8.310068</td>\n",
       "      <td>6.813187</td>\n",
       "    </tr>\n",
       "    <tr>\n",
       "      <th>3</th>\n",
       "      <td>NaN</td>\n",
       "      <td>None</td>\n",
       "      <td>None</td>\n",
       "      <td>Chad</td>\n",
       "      <td>2020-10-11 04:23:46+00:00</td>\n",
       "      <td>15.4542</td>\n",
       "      <td>18.7322</td>\n",
       "      <td>1291</td>\n",
       "      <td>92</td>\n",
       "      <td>1103</td>\n",
       "      <td>96</td>\n",
       "      <td>Chad</td>\n",
       "      <td>7.859559</td>\n",
       "      <td>7.126259</td>\n",
       "    </tr>\n",
       "    <tr>\n",
       "      <th>4</th>\n",
       "      <td>NaN</td>\n",
       "      <td>None</td>\n",
       "      <td>None</td>\n",
       "      <td>Chad</td>\n",
       "      <td>2020-11-06 05:24:55+00:00</td>\n",
       "      <td>15.4542</td>\n",
       "      <td>18.7322</td>\n",
       "      <td>1529</td>\n",
       "      <td>99</td>\n",
       "      <td>1354</td>\n",
       "      <td>76</td>\n",
       "      <td>Chad</td>\n",
       "      <td>9.308493</td>\n",
       "      <td>6.474820</td>\n",
       "    </tr>\n",
       "  </tbody>\n",
       "</table>\n",
       "</div>"
      ],
      "text/plain": [
       "   FIPS Admin2 Province_State Country_Region               Last_Update  \\\n",
       "0   NaN   None           None           Chad 2020-11-10 05:40:07+00:00   \n",
       "1   NaN   None           None           Chad 2020-11-13 05:25:30+00:00   \n",
       "2   NaN   None           None           Chad 2020-10-18 04:24:25+00:00   \n",
       "3   NaN   None           None           Chad 2020-10-11 04:23:46+00:00   \n",
       "4   NaN   None           None           Chad 2020-11-06 05:24:55+00:00   \n",
       "\n",
       "       Lat    Long_  Confirmed  Deaths  Recovered  Active Combined_Key  \\\n",
       "0  15.4542  18.7322       1551      99       1394      58         Chad   \n",
       "1  15.4542  18.7322       1578     100       1428      50         Chad   \n",
       "2  15.4542  18.7322       1365      93       1179      93         Chad   \n",
       "3  15.4542  18.7322       1291      92       1103      96         Chad   \n",
       "4  15.4542  18.7322       1529      99       1354      76         Chad   \n",
       "\n",
       "   Incident_Rate  Case_Fatality_Ratio  \n",
       "0       9.442429             6.382979  \n",
       "1       9.606804             6.337136  \n",
       "2       8.310068             6.813187  \n",
       "3       7.859559             7.126259  \n",
       "4       9.308493             6.474820  "
      ]
     },
     "execution_count": 29,
     "metadata": {},
     "output_type": "execute_result"
    }
   ],
   "source": [
    "%%bigquery\n",
    "SELECT * FROM jhu_daily_reports_staging.covid_fall2020 LIMIT 5"
   ]
  },
  {
   "cell_type": "code",
   "execution_count": null,
   "id": "accomplished-majority",
   "metadata": {},
   "outputs": [],
   "source": []
  },
  {
   "cell_type": "code",
   "execution_count": null,
   "id": "fiscal-peeing",
   "metadata": {},
   "outputs": [],
   "source": []
  },
  {
   "cell_type": "markdown",
   "id": "spread-judgment",
   "metadata": {},
   "source": [
    "### Load ACS data into BigQuery"
   ]
  },
  {
   "cell_type": "code",
   "execution_count": 30,
   "id": "veterinary-history",
   "metadata": {},
   "outputs": [],
   "source": [
    "acs_dataset_id = \"us_census_bureau_staging\""
   ]
  },
  {
   "cell_type": "markdown",
   "id": "failing-finish",
   "metadata": {},
   "source": [
    "##### Do not rerun this cell"
   ]
  },
  {
   "cell_type": "code",
   "execution_count": 31,
   "id": "painted-oriental",
   "metadata": {},
   "outputs": [
    {
     "name": "stdout",
     "output_type": "stream",
     "text": [
      "Dataset 'lunar-analyzer-302702:us_census_bureau_staging' successfully created.\n"
     ]
    }
   ],
   "source": [
    "!bq --location=US mk --dataset {acs_dataset_id}"
   ]
  },
  {
   "cell_type": "markdown",
   "id": "neither-australia",
   "metadata": {},
   "source": [
    "##### Make Table housing [do not rerun]"
   ]
  },
  {
   "cell_type": "code",
   "execution_count": 32,
   "id": "baking-bridge",
   "metadata": {},
   "outputs": [
    {
     "name": "stdout",
     "output_type": "stream",
     "text": [
      "Waiting on bqjob_r162679e6a48b8c2e_00000178ce56ae6a_1 ... (1s) Current status: DONE   \n"
     ]
    }
   ],
   "source": [
    "!bq --location=US load --autodetect --skip_leading_rows=1 \\\n",
    "--source_format=CSV {acs_dataset_id}.housing \\\n",
    "gs://covid_acs_bucket/acs/housing.csv"
   ]
  },
  {
   "cell_type": "markdown",
   "id": "alpha-spice",
   "metadata": {},
   "source": [
    "##### Make Table demographics [do not rerun]"
   ]
  },
  {
   "cell_type": "code",
   "execution_count": 33,
   "id": "mexican-constitutional",
   "metadata": {},
   "outputs": [
    {
     "name": "stdout",
     "output_type": "stream",
     "text": [
      "Waiting on bqjob_r45a4cc0e35d91d1e_00000178ce56c1e7_1 ... (1s) Current status: DONE   \n"
     ]
    }
   ],
   "source": [
    "!bq --location=US load --autodetect --skip_leading_rows=1 \\\n",
    "--source_format=CSV {acs_dataset_id}.demographics \\\n",
    "gs://covid_acs_bucket/acs/demographics.csv"
   ]
  },
  {
   "cell_type": "markdown",
   "id": "innovative-wellington",
   "metadata": {},
   "source": [
    "##### Make Table social [do not rerun]"
   ]
  },
  {
   "cell_type": "code",
   "execution_count": null,
   "id": "handmade-strap",
   "metadata": {},
   "outputs": [],
   "source": []
  },
  {
   "cell_type": "markdown",
   "id": "hidden-reggae",
   "metadata": {},
   "source": [
    "##### Make Table economics [do not rerun]"
   ]
  },
  {
   "cell_type": "code",
   "execution_count": null,
   "id": "endless-italy",
   "metadata": {},
   "outputs": [],
   "source": []
  },
  {
   "cell_type": "markdown",
   "id": "honey-thickness",
   "metadata": {},
   "source": [
    "### Sample each ACS table to check table schema"
   ]
  },
  {
   "cell_type": "code",
   "execution_count": 36,
   "id": "hairy-russian",
   "metadata": {},
   "outputs": [
    {
     "data": {
      "text/html": [
       "<div>\n",
       "<style scoped>\n",
       "    .dataframe tbody tr th:only-of-type {\n",
       "        vertical-align: middle;\n",
       "    }\n",
       "\n",
       "    .dataframe tbody tr th {\n",
       "        vertical-align: top;\n",
       "    }\n",
       "\n",
       "    .dataframe thead th {\n",
       "        text-align: right;\n",
       "    }\n",
       "</style>\n",
       "<table border=\"1\" class=\"dataframe\">\n",
       "  <thead>\n",
       "    <tr style=\"text-align: right;\">\n",
       "      <th></th>\n",
       "      <th>_Label_</th>\n",
       "      <th>United_States__Estimate</th>\n",
       "      <th>United_States__Margin_of_Error</th>\n",
       "      <th>United_States__Percent</th>\n",
       "      <th>United_States__Percent_Margin_of_Error</th>\n",
       "    </tr>\n",
       "  </thead>\n",
       "  <tbody>\n",
       "    <tr>\n",
       "      <th>0</th>\n",
       "      <td>HOUSING OCCUPANCY</td>\n",
       "      <td>NaN</td>\n",
       "      <td></td>\n",
       "      <td></td>\n",
       "      <td></td>\n",
       "    </tr>\n",
       "    <tr>\n",
       "      <th>1</th>\n",
       "      <td>UNITS IN STRUCTURE</td>\n",
       "      <td>NaN</td>\n",
       "      <td></td>\n",
       "      <td></td>\n",
       "      <td></td>\n",
       "    </tr>\n",
       "    <tr>\n",
       "      <th>2</th>\n",
       "      <td>YEAR STRUCTURE BUILT</td>\n",
       "      <td>NaN</td>\n",
       "      <td></td>\n",
       "      <td></td>\n",
       "      <td></td>\n",
       "    </tr>\n",
       "    <tr>\n",
       "      <th>3</th>\n",
       "      <td>ROOMS</td>\n",
       "      <td>NaN</td>\n",
       "      <td></td>\n",
       "      <td></td>\n",
       "      <td></td>\n",
       "    </tr>\n",
       "    <tr>\n",
       "      <th>4</th>\n",
       "      <td>BEDROOMS</td>\n",
       "      <td>NaN</td>\n",
       "      <td></td>\n",
       "      <td></td>\n",
       "      <td></td>\n",
       "    </tr>\n",
       "  </tbody>\n",
       "</table>\n",
       "</div>"
      ],
      "text/plain": [
       "                _Label_  United_States__Estimate  \\\n",
       "0     HOUSING OCCUPANCY                      NaN   \n",
       "1    UNITS IN STRUCTURE                      NaN   \n",
       "2  YEAR STRUCTURE BUILT                      NaN   \n",
       "3                 ROOMS                      NaN   \n",
       "4              BEDROOMS                      NaN   \n",
       "\n",
       "  United_States__Margin_of_Error United_States__Percent  \\\n",
       "0                                                         \n",
       "1                                                         \n",
       "2                                                         \n",
       "3                                                         \n",
       "4                                                         \n",
       "\n",
       "  United_States__Percent_Margin_of_Error  \n",
       "0                                         \n",
       "1                                         \n",
       "2                                         \n",
       "3                                         \n",
       "4                                         "
      ]
     },
     "execution_count": 36,
     "metadata": {},
     "output_type": "execute_result"
    }
   ],
   "source": [
    "%%bigquery\n",
    "SELECT * FROM us_census_bureau_staging.housing LIMIT 5"
   ]
  },
  {
   "cell_type": "code",
   "execution_count": 35,
   "id": "norman-alfred",
   "metadata": {},
   "outputs": [
    {
     "data": {
      "text/html": [
       "<div>\n",
       "<style scoped>\n",
       "    .dataframe tbody tr th:only-of-type {\n",
       "        vertical-align: middle;\n",
       "    }\n",
       "\n",
       "    .dataframe tbody tr th {\n",
       "        vertical-align: top;\n",
       "    }\n",
       "\n",
       "    .dataframe thead th {\n",
       "        text-align: right;\n",
       "    }\n",
       "</style>\n",
       "<table border=\"1\" class=\"dataframe\">\n",
       "  <thead>\n",
       "    <tr style=\"text-align: right;\">\n",
       "      <th></th>\n",
       "      <th>_Label_</th>\n",
       "      <th>United_States__Estimate</th>\n",
       "      <th>United_States__Margin_of_Error</th>\n",
       "      <th>United_States__Percent</th>\n",
       "      <th>United_States__Percent_Margin_of_Error</th>\n",
       "    </tr>\n",
       "  </thead>\n",
       "  <tbody>\n",
       "    <tr>\n",
       "      <th>0</th>\n",
       "      <td>SEX AND AGE</td>\n",
       "      <td>NaN</td>\n",
       "      <td></td>\n",
       "      <td></td>\n",
       "      <td></td>\n",
       "    </tr>\n",
       "    <tr>\n",
       "      <th>1</th>\n",
       "      <td>RACE</td>\n",
       "      <td>NaN</td>\n",
       "      <td></td>\n",
       "      <td></td>\n",
       "      <td></td>\n",
       "    </tr>\n",
       "    <tr>\n",
       "      <th>2</th>\n",
       "      <td>Race alone or in combination with one or more ...</td>\n",
       "      <td>NaN</td>\n",
       "      <td></td>\n",
       "      <td></td>\n",
       "      <td></td>\n",
       "    </tr>\n",
       "    <tr>\n",
       "      <th>3</th>\n",
       "      <td>HISPANIC OR LATINO AND RACE</td>\n",
       "      <td>NaN</td>\n",
       "      <td></td>\n",
       "      <td></td>\n",
       "      <td></td>\n",
       "    </tr>\n",
       "    <tr>\n",
       "      <th>4</th>\n",
       "      <td>CITIZEN, VOTING AGE POPULATION</td>\n",
       "      <td>NaN</td>\n",
       "      <td></td>\n",
       "      <td></td>\n",
       "      <td></td>\n",
       "    </tr>\n",
       "  </tbody>\n",
       "</table>\n",
       "</div>"
      ],
      "text/plain": [
       "                                             _Label_  United_States__Estimate  \\\n",
       "0                                        SEX AND AGE                      NaN   \n",
       "1                                               RACE                      NaN   \n",
       "2  Race alone or in combination with one or more ...                      NaN   \n",
       "3                        HISPANIC OR LATINO AND RACE                      NaN   \n",
       "4                     CITIZEN, VOTING AGE POPULATION                      NaN   \n",
       "\n",
       "  United_States__Margin_of_Error United_States__Percent  \\\n",
       "0                                                         \n",
       "1                                                         \n",
       "2                                                         \n",
       "3                                                         \n",
       "4                                                         \n",
       "\n",
       "  United_States__Percent_Margin_of_Error  \n",
       "0                                         \n",
       "1                                         \n",
       "2                                         \n",
       "3                                         \n",
       "4                                         "
      ]
     },
     "execution_count": 35,
     "metadata": {},
     "output_type": "execute_result"
    }
   ],
   "source": [
    "%%bigquery\n",
    "SELECT * FROM us_census_bureau_staging.demographics LIMIT 5"
   ]
  },
  {
   "cell_type": "code",
   "execution_count": null,
   "id": "typical-chest",
   "metadata": {},
   "outputs": [],
   "source": []
  },
  {
   "cell_type": "code",
   "execution_count": null,
   "id": "immediate-storage",
   "metadata": {},
   "outputs": [],
   "source": []
  }
 ],
 "metadata": {
  "environment": {
   "name": "common-cpu.mnightly-2021-01-20-debian-10-test",
   "type": "gcloud",
   "uri": "gcr.io/deeplearning-platform-release/base-cpu:mnightly-2021-01-20-debian-10-test"
  },
  "kernelspec": {
   "display_name": "Python 3",
   "language": "python",
   "name": "python3"
  },
  "language_info": {
   "codemirror_mode": {
    "name": "ipython",
    "version": 3
   },
   "file_extension": ".py",
   "mimetype": "text/x-python",
   "name": "python",
   "nbconvert_exporter": "python",
   "pygments_lexer": "ipython3",
   "version": "3.7.9"
  }
 },
 "nbformat": 4,
 "nbformat_minor": 5
}
