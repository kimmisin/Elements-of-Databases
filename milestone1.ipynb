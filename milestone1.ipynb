{
 "cells": [
  {
   "cell_type": "markdown",
   "id": "colored-flour",
   "metadata": {},
   "source": [
    "### Uploading COVID data into Google Cloud Storage (GCS)"
   ]
  },
  {
   "cell_type": "code",
   "execution_count": 2,
   "id": "legitimate-machine",
   "metadata": {},
   "outputs": [
    {
     "name": "stdout",
     "output_type": "stream",
     "text": [
      "Cloning into 'COVID-19'...\n",
      "remote: Enumerating objects: 639, done.\u001b[K\n",
      "remote: Counting objects: 100% (639/639), done.\u001b[K\n",
      "remote: Compressing objects: 100% (506/506), done.\u001b[K\n",
      "remote: Total 120294 (delta 148), reused 525 (delta 132), pack-reused 119655\u001b[K\n",
      "Receiving objects: 100% (120294/120294), 1.06 GiB | 34.89 MiB/s, done.\n",
      "Resolving deltas: 100% (87219/87219), done.\n",
      "Checking out files: 100% (1042/1042), done.\n"
     ]
    }
   ],
   "source": [
    "!git clone https://github.com/CSSEGISandData/COVID-19.git"
   ]
  },
  {
   "cell_type": "markdown",
   "id": "fluid-armor",
   "metadata": {},
   "source": [
    "##### winter 2020"
   ]
  },
  {
   "cell_type": "code",
   "execution_count": 4,
   "id": "stable-punch",
   "metadata": {},
   "outputs": [
    {
     "name": "stdout",
     "output_type": "stream",
     "text": [
      "Copying file://COVID-19/csse_covid_19_data/csse_covid_19_daily_reports/12-01-2020.csv [Content-Type=text/csv]...\n",
      "Copying file://COVID-19/csse_covid_19_data/csse_covid_19_daily_reports/12-02-2020.csv [Content-Type=text/csv]...\n",
      "Copying file://COVID-19/csse_covid_19_data/csse_covid_19_daily_reports/12-03-2020.csv [Content-Type=text/csv]...\n",
      "Copying file://COVID-19/csse_covid_19_data/csse_covid_19_daily_reports/12-04-2020.csv [Content-Type=text/csv]...\n",
      "/ [4 files][  2.2 MiB/  2.2 MiB]                                                \n",
      "==> NOTE: You are performing a sequence of gsutil operations that may\n",
      "run significantly faster if you instead use gsutil -m cp ... Please\n",
      "see the -m section under \"gsutil help options\" for further information\n",
      "about when gsutil -m can be advantageous.\n",
      "\n",
      "Copying file://COVID-19/csse_covid_19_data/csse_covid_19_daily_reports/12-05-2020.csv [Content-Type=text/csv]...\n",
      "Copying file://COVID-19/csse_covid_19_data/csse_covid_19_daily_reports/12-06-2020.csv [Content-Type=text/csv]...\n",
      "Copying file://COVID-19/csse_covid_19_data/csse_covid_19_daily_reports/12-07-2020.csv [Content-Type=text/csv]...\n",
      "Copying file://COVID-19/csse_covid_19_data/csse_covid_19_daily_reports/12-08-2020.csv [Content-Type=text/csv]...\n",
      "Copying file://COVID-19/csse_covid_19_data/csse_covid_19_daily_reports/12-09-2020.csv [Content-Type=text/csv]...\n",
      "Copying file://COVID-19/csse_covid_19_data/csse_covid_19_daily_reports/12-10-2020.csv [Content-Type=text/csv]...\n",
      "Copying file://COVID-19/csse_covid_19_data/csse_covid_19_daily_reports/12-11-2020.csv [Content-Type=text/csv]...\n",
      "Copying file://COVID-19/csse_covid_19_data/csse_covid_19_daily_reports/12-12-2020.csv [Content-Type=text/csv]...\n",
      "Copying file://COVID-19/csse_covid_19_data/csse_covid_19_daily_reports/12-13-2020.csv [Content-Type=text/csv]...\n",
      "Copying file://COVID-19/csse_covid_19_data/csse_covid_19_daily_reports/12-14-2020.csv [Content-Type=text/csv]...\n",
      "Copying file://COVID-19/csse_covid_19_data/csse_covid_19_daily_reports/12-15-2020.csv [Content-Type=text/csv]...\n",
      "Copying file://COVID-19/csse_covid_19_data/csse_covid_19_daily_reports/12-16-2020.csv [Content-Type=text/csv]...\n",
      "Copying file://COVID-19/csse_covid_19_data/csse_covid_19_daily_reports/12-17-2020.csv [Content-Type=text/csv]...\n",
      "Copying file://COVID-19/csse_covid_19_data/csse_covid_19_daily_reports/12-18-2020.csv [Content-Type=text/csv]...\n",
      "Copying file://COVID-19/csse_covid_19_data/csse_covid_19_daily_reports/12-19-2020.csv [Content-Type=text/csv]...\n",
      "Copying file://COVID-19/csse_covid_19_data/csse_covid_19_daily_reports/12-20-2020.csv [Content-Type=text/csv]...\n",
      "Copying file://COVID-19/csse_covid_19_data/csse_covid_19_daily_reports/12-21-2020.csv [Content-Type=text/csv]...\n",
      "Copying file://COVID-19/csse_covid_19_data/csse_covid_19_daily_reports/12-22-2020.csv [Content-Type=text/csv]...\n",
      "Copying file://COVID-19/csse_covid_19_data/csse_covid_19_daily_reports/12-23-2020.csv [Content-Type=text/csv]...\n",
      "Copying file://COVID-19/csse_covid_19_data/csse_covid_19_daily_reports/12-24-2020.csv [Content-Type=text/csv]...\n",
      "Copying file://COVID-19/csse_covid_19_data/csse_covid_19_daily_reports/12-25-2020.csv [Content-Type=text/csv]...\n",
      "Copying file://COVID-19/csse_covid_19_data/csse_covid_19_daily_reports/12-26-2020.csv [Content-Type=text/csv]...\n",
      "Copying file://COVID-19/csse_covid_19_data/csse_covid_19_daily_reports/12-27-2020.csv [Content-Type=text/csv]...\n",
      "Copying file://COVID-19/csse_covid_19_data/csse_covid_19_daily_reports/12-28-2020.csv [Content-Type=text/csv]...\n",
      "Copying file://COVID-19/csse_covid_19_data/csse_covid_19_daily_reports/12-29-2020.csv [Content-Type=text/csv]...\n",
      "Copying file://COVID-19/csse_covid_19_data/csse_covid_19_daily_reports/12-30-2020.csv [Content-Type=text/csv]...\n",
      "Copying file://COVID-19/csse_covid_19_data/csse_covid_19_daily_reports/12-31-2020.csv [Content-Type=text/csv]...\n",
      "\\ [31 files][ 16.7 MiB/ 16.7 MiB]                                               \n",
      "==> NOTE: You are performing a sequence of gsutil operations that may\n",
      "run significantly faster if you instead use gsutil -m cp ... Please\n",
      "see the -m section under \"gsutil help options\" for further information\n",
      "about when gsutil -m can be advantageous.\n",
      "\n",
      "\n",
      "Operation completed over 31 objects/16.7 MiB.                                    \n"
     ]
    }
   ],
   "source": [
    "!gsutil cp COVID-19/csse_covid_19_data/csse_covid_19_daily_reports/12-*2020.csv gs://covid_acs_bucket/covid/12-01-20-to-02-29-20"
   ]
  },
  {
   "cell_type": "code",
   "execution_count": 5,
   "id": "encouraging-republican",
   "metadata": {},
   "outputs": [
    {
     "name": "stdout",
     "output_type": "stream",
     "text": [
      "Copying file://COVID-19/csse_covid_19_data/csse_covid_19_daily_reports/01-22-2020.csv [Content-Type=text/csv]...\n",
      "Copying file://COVID-19/csse_covid_19_data/csse_covid_19_daily_reports/01-23-2020.csv [Content-Type=text/csv]...\n",
      "Copying file://COVID-19/csse_covid_19_data/csse_covid_19_daily_reports/01-24-2020.csv [Content-Type=text/csv]...\n",
      "Copying file://COVID-19/csse_covid_19_data/csse_covid_19_daily_reports/01-25-2020.csv [Content-Type=text/csv]...\n",
      "/ [4 files][  6.7 KiB/  6.7 KiB]                                                \n",
      "==> NOTE: You are performing a sequence of gsutil operations that may\n",
      "run significantly faster if you instead use gsutil -m cp ... Please\n",
      "see the -m section under \"gsutil help options\" for further information\n",
      "about when gsutil -m can be advantageous.\n",
      "\n",
      "Copying file://COVID-19/csse_covid_19_data/csse_covid_19_daily_reports/01-26-2020.csv [Content-Type=text/csv]...\n",
      "Copying file://COVID-19/csse_covid_19_data/csse_covid_19_daily_reports/01-27-2020.csv [Content-Type=text/csv]...\n",
      "Copying file://COVID-19/csse_covid_19_data/csse_covid_19_daily_reports/01-28-2020.csv [Content-Type=text/csv]...\n",
      "Copying file://COVID-19/csse_covid_19_data/csse_covid_19_daily_reports/01-29-2020.csv [Content-Type=text/csv]...\n",
      "Copying file://COVID-19/csse_covid_19_data/csse_covid_19_daily_reports/01-30-2020.csv [Content-Type=text/csv]...\n",
      "Copying file://COVID-19/csse_covid_19_data/csse_covid_19_daily_reports/01-31-2020.csv [Content-Type=text/csv]...\n",
      "- [10 files][ 19.2 KiB/ 19.2 KiB]                                               \n",
      "Operation completed over 10 objects/19.2 KiB.                                    \n"
     ]
    }
   ],
   "source": [
    "!gsutil cp COVID-19/csse_covid_19_data/csse_covid_19_daily_reports/01-*2020.csv gs://covid_acs_bucket/covid/12-01-20-to-02-29-20"
   ]
  },
  {
   "cell_type": "code",
   "execution_count": 6,
   "id": "innovative-wireless",
   "metadata": {},
   "outputs": [
    {
     "name": "stdout",
     "output_type": "stream",
     "text": [
      "Copying file://COVID-19/csse_covid_19_data/csse_covid_19_daily_reports/02-01-2020.csv [Content-Type=text/csv]...\n",
      "Copying file://COVID-19/csse_covid_19_data/csse_covid_19_daily_reports/02-02-2020.csv [Content-Type=text/csv]...\n",
      "Copying file://COVID-19/csse_covid_19_data/csse_covid_19_daily_reports/02-03-2020.csv [Content-Type=text/csv]...\n",
      "Copying file://COVID-19/csse_covid_19_data/csse_covid_19_daily_reports/02-04-2020.csv [Content-Type=text/csv]...\n",
      "/ [4 files][ 11.9 KiB/ 11.9 KiB]                                                \n",
      "==> NOTE: You are performing a sequence of gsutil operations that may\n",
      "run significantly faster if you instead use gsutil -m cp ... Please\n",
      "see the -m section under \"gsutil help options\" for further information\n",
      "about when gsutil -m can be advantageous.\n",
      "\n",
      "Copying file://COVID-19/csse_covid_19_data/csse_covid_19_daily_reports/02-05-2020.csv [Content-Type=text/csv]...\n",
      "Copying file://COVID-19/csse_covid_19_data/csse_covid_19_daily_reports/02-06-2020.csv [Content-Type=text/csv]...\n",
      "Copying file://COVID-19/csse_covid_19_data/csse_covid_19_daily_reports/02-07-2020.csv [Content-Type=text/csv]...\n",
      "Copying file://COVID-19/csse_covid_19_data/csse_covid_19_daily_reports/02-08-2020.csv [Content-Type=text/csv]...\n",
      "Copying file://COVID-19/csse_covid_19_data/csse_covid_19_daily_reports/02-09-2020.csv [Content-Type=text/csv]...\n",
      "Copying file://COVID-19/csse_covid_19_data/csse_covid_19_daily_reports/02-10-2020.csv [Content-Type=text/csv]...\n",
      "Copying file://COVID-19/csse_covid_19_data/csse_covid_19_daily_reports/02-11-2020.csv [Content-Type=text/csv]...\n",
      "Copying file://COVID-19/csse_covid_19_data/csse_covid_19_daily_reports/02-12-2020.csv [Content-Type=text/csv]...\n",
      "Copying file://COVID-19/csse_covid_19_data/csse_covid_19_daily_reports/02-13-2020.csv [Content-Type=text/csv]...\n",
      "Copying file://COVID-19/csse_covid_19_data/csse_covid_19_daily_reports/02-14-2020.csv [Content-Type=text/csv]...\n",
      "Copying file://COVID-19/csse_covid_19_data/csse_covid_19_daily_reports/02-15-2020.csv [Content-Type=text/csv]...\n",
      "Copying file://COVID-19/csse_covid_19_data/csse_covid_19_daily_reports/02-16-2020.csv [Content-Type=text/csv]...\n",
      "Copying file://COVID-19/csse_covid_19_data/csse_covid_19_daily_reports/02-17-2020.csv [Content-Type=text/csv]...\n",
      "Copying file://COVID-19/csse_covid_19_data/csse_covid_19_daily_reports/02-18-2020.csv [Content-Type=text/csv]...\n",
      "Copying file://COVID-19/csse_covid_19_data/csse_covid_19_daily_reports/02-19-2020.csv [Content-Type=text/csv]...\n",
      "Copying file://COVID-19/csse_covid_19_data/csse_covid_19_daily_reports/02-20-2020.csv [Content-Type=text/csv]...\n",
      "Copying file://COVID-19/csse_covid_19_data/csse_covid_19_daily_reports/02-21-2020.csv [Content-Type=text/csv]...\n",
      "Copying file://COVID-19/csse_covid_19_data/csse_covid_19_daily_reports/02-22-2020.csv [Content-Type=text/csv]...\n",
      "Copying file://COVID-19/csse_covid_19_data/csse_covid_19_daily_reports/02-23-2020.csv [Content-Type=text/csv]...\n",
      "Copying file://COVID-19/csse_covid_19_data/csse_covid_19_daily_reports/02-24-2020.csv [Content-Type=text/csv]...\n",
      "Copying file://COVID-19/csse_covid_19_data/csse_covid_19_daily_reports/02-25-2020.csv [Content-Type=text/csv]...\n",
      "Copying file://COVID-19/csse_covid_19_data/csse_covid_19_daily_reports/02-26-2020.csv [Content-Type=text/csv]...\n",
      "Copying file://COVID-19/csse_covid_19_data/csse_covid_19_daily_reports/02-27-2020.csv [Content-Type=text/csv]...\n",
      "Copying file://COVID-19/csse_covid_19_data/csse_covid_19_daily_reports/02-28-2020.csv [Content-Type=text/csv]...\n",
      "Copying file://COVID-19/csse_covid_19_data/csse_covid_19_daily_reports/02-29-2020.csv [Content-Type=text/csv]...\n",
      "| [29 files][105.1 KiB/105.1 KiB]                                               \n",
      "==> NOTE: You are performing a sequence of gsutil operations that may\n",
      "run significantly faster if you instead use gsutil -m cp ... Please\n",
      "see the -m section under \"gsutil help options\" for further information\n",
      "about when gsutil -m can be advantageous.\n",
      "\n",
      "\n",
      "Operation completed over 29 objects/105.1 KiB.                                   \n"
     ]
    }
   ],
   "source": [
    "!gsutil cp COVID-19/csse_covid_19_data/csse_covid_19_daily_reports/02-*2020.csv gs://covid_acs_bucket/covid/12-01-20-to-02-29-20"
   ]
  },
  {
   "cell_type": "markdown",
   "id": "available-landing",
   "metadata": {},
   "source": [
    "##### spring 2020"
   ]
  },
  {
   "cell_type": "code",
   "execution_count": 7,
   "id": "educated-powell",
   "metadata": {},
   "outputs": [
    {
     "name": "stdout",
     "output_type": "stream",
     "text": [
      "Copying file://COVID-19/csse_covid_19_data/csse_covid_19_daily_reports/03-01-2020.csv [Content-Type=text/csv]...\n",
      "Copying file://COVID-19/csse_covid_19_data/csse_covid_19_daily_reports/03-02-2020.csv [Content-Type=text/csv]...\n",
      "Copying file://COVID-19/csse_covid_19_data/csse_covid_19_daily_reports/03-03-2020.csv [Content-Type=text/csv]...\n",
      "Copying file://COVID-19/csse_covid_19_data/csse_covid_19_daily_reports/03-04-2020.csv [Content-Type=text/csv]...\n",
      "/ [4 files][ 33.8 KiB/ 33.8 KiB]                                                \n",
      "==> NOTE: You are performing a sequence of gsutil operations that may\n",
      "run significantly faster if you instead use gsutil -m cp ... Please\n",
      "see the -m section under \"gsutil help options\" for further information\n",
      "about when gsutil -m can be advantageous.\n",
      "\n",
      "Copying file://COVID-19/csse_covid_19_data/csse_covid_19_daily_reports/03-05-2020.csv [Content-Type=text/csv]...\n",
      "Copying file://COVID-19/csse_covid_19_data/csse_covid_19_daily_reports/03-06-2020.csv [Content-Type=text/csv]...\n",
      "Copying file://COVID-19/csse_covid_19_data/csse_covid_19_daily_reports/03-07-2020.csv [Content-Type=text/csv]...\n",
      "Copying file://COVID-19/csse_covid_19_data/csse_covid_19_daily_reports/03-08-2020.csv [Content-Type=text/csv]...\n",
      "Copying file://COVID-19/csse_covid_19_data/csse_covid_19_daily_reports/03-09-2020.csv [Content-Type=text/csv]...\n",
      "Copying file://COVID-19/csse_covid_19_data/csse_covid_19_daily_reports/03-10-2020.csv [Content-Type=text/csv]...\n",
      "Copying file://COVID-19/csse_covid_19_data/csse_covid_19_daily_reports/03-11-2020.csv [Content-Type=text/csv]...\n",
      "Copying file://COVID-19/csse_covid_19_data/csse_covid_19_daily_reports/03-12-2020.csv [Content-Type=text/csv]...\n",
      "Copying file://COVID-19/csse_covid_19_data/csse_covid_19_daily_reports/03-13-2020.csv [Content-Type=text/csv]...\n",
      "Copying file://COVID-19/csse_covid_19_data/csse_covid_19_daily_reports/03-14-2020.csv [Content-Type=text/csv]...\n",
      "Copying file://COVID-19/csse_covid_19_data/csse_covid_19_daily_reports/03-15-2020.csv [Content-Type=text/csv]...\n",
      "Copying file://COVID-19/csse_covid_19_data/csse_covid_19_daily_reports/03-16-2020.csv [Content-Type=text/csv]...\n",
      "Copying file://COVID-19/csse_covid_19_data/csse_covid_19_daily_reports/03-17-2020.csv [Content-Type=text/csv]...\n",
      "Copying file://COVID-19/csse_covid_19_data/csse_covid_19_daily_reports/03-18-2020.csv [Content-Type=text/csv]...\n",
      "Copying file://COVID-19/csse_covid_19_data/csse_covid_19_daily_reports/03-19-2020.csv [Content-Type=text/csv]...\n",
      "Copying file://COVID-19/csse_covid_19_data/csse_covid_19_daily_reports/03-20-2020.csv [Content-Type=text/csv]...\n",
      "Copying file://COVID-19/csse_covid_19_data/csse_covid_19_daily_reports/03-21-2020.csv [Content-Type=text/csv]...\n",
      "Copying file://COVID-19/csse_covid_19_data/csse_covid_19_daily_reports/03-22-2020.csv [Content-Type=text/csv]...\n",
      "Copying file://COVID-19/csse_covid_19_data/csse_covid_19_daily_reports/03-23-2020.csv [Content-Type=text/csv]...\n",
      "Copying file://COVID-19/csse_covid_19_data/csse_covid_19_daily_reports/03-24-2020.csv [Content-Type=text/csv]...\n",
      "Copying file://COVID-19/csse_covid_19_data/csse_covid_19_daily_reports/03-25-2020.csv [Content-Type=text/csv]...\n",
      "Copying file://COVID-19/csse_covid_19_data/csse_covid_19_daily_reports/03-26-2020.csv [Content-Type=text/csv]...\n",
      "Copying file://COVID-19/csse_covid_19_data/csse_covid_19_daily_reports/03-27-2020.csv [Content-Type=text/csv]...\n",
      "Copying file://COVID-19/csse_covid_19_data/csse_covid_19_daily_reports/03-28-2020.csv [Content-Type=text/csv]...\n",
      "Copying file://COVID-19/csse_covid_19_data/csse_covid_19_daily_reports/03-29-2020.csv [Content-Type=text/csv]...\n",
      "Copying file://COVID-19/csse_covid_19_data/csse_covid_19_daily_reports/03-30-2020.csv [Content-Type=text/csv]...\n",
      "Copying file://COVID-19/csse_covid_19_data/csse_covid_19_daily_reports/03-31-2020.csv [Content-Type=text/csv]...\n",
      "| [31 files][  3.4 MiB/  3.4 MiB]                                               \n",
      "==> NOTE: You are performing a sequence of gsutil operations that may\n",
      "run significantly faster if you instead use gsutil -m cp ... Please\n",
      "see the -m section under \"gsutil help options\" for further information\n",
      "about when gsutil -m can be advantageous.\n",
      "\n",
      "\n",
      "Operation completed over 31 objects/3.4 MiB.                                     \n"
     ]
    }
   ],
   "source": [
    "!gsutil cp COVID-19/csse_covid_19_data/csse_covid_19_daily_reports/03-*2020.csv gs://covid_acs_bucket/covid/03-01-20-to-05-31-20"
   ]
  },
  {
   "cell_type": "code",
   "execution_count": 8,
   "id": "manual-gender",
   "metadata": {},
   "outputs": [
    {
     "name": "stdout",
     "output_type": "stream",
     "text": [
      "Copying file://COVID-19/csse_covid_19_data/csse_covid_19_daily_reports/04-01-2020.csv [Content-Type=text/csv]...\n",
      "Copying file://COVID-19/csse_covid_19_data/csse_covid_19_daily_reports/04-02-2020.csv [Content-Type=text/csv]...\n",
      "Copying file://COVID-19/csse_covid_19_data/csse_covid_19_daily_reports/04-03-2020.csv [Content-Type=text/csv]...\n",
      "Copying file://COVID-19/csse_covid_19_data/csse_covid_19_daily_reports/04-04-2020.csv [Content-Type=text/csv]...\n",
      "/ [4 files][991.8 KiB/991.8 KiB]                                                \n",
      "==> NOTE: You are performing a sequence of gsutil operations that may\n",
      "run significantly faster if you instead use gsutil -m cp ... Please\n",
      "see the -m section under \"gsutil help options\" for further information\n",
      "about when gsutil -m can be advantageous.\n",
      "\n",
      "Copying file://COVID-19/csse_covid_19_data/csse_covid_19_daily_reports/04-05-2020.csv [Content-Type=text/csv]...\n",
      "Copying file://COVID-19/csse_covid_19_data/csse_covid_19_daily_reports/04-06-2020.csv [Content-Type=text/csv]...\n",
      "Copying file://COVID-19/csse_covid_19_data/csse_covid_19_daily_reports/04-07-2020.csv [Content-Type=text/csv]...\n",
      "Copying file://COVID-19/csse_covid_19_data/csse_covid_19_daily_reports/04-08-2020.csv [Content-Type=text/csv]...\n",
      "Copying file://COVID-19/csse_covid_19_data/csse_covid_19_daily_reports/04-09-2020.csv [Content-Type=text/csv]...\n",
      "Copying file://COVID-19/csse_covid_19_data/csse_covid_19_daily_reports/04-10-2020.csv [Content-Type=text/csv]...\n",
      "Copying file://COVID-19/csse_covid_19_data/csse_covid_19_daily_reports/04-11-2020.csv [Content-Type=text/csv]...\n",
      "Copying file://COVID-19/csse_covid_19_data/csse_covid_19_daily_reports/04-12-2020.csv [Content-Type=text/csv]...\n",
      "Copying file://COVID-19/csse_covid_19_data/csse_covid_19_daily_reports/04-13-2020.csv [Content-Type=text/csv]...\n",
      "Copying file://COVID-19/csse_covid_19_data/csse_covid_19_daily_reports/04-14-2020.csv [Content-Type=text/csv]...\n",
      "Copying file://COVID-19/csse_covid_19_data/csse_covid_19_daily_reports/04-15-2020.csv [Content-Type=text/csv]...\n",
      "Copying file://COVID-19/csse_covid_19_data/csse_covid_19_daily_reports/04-16-2020.csv [Content-Type=text/csv]...\n",
      "Copying file://COVID-19/csse_covid_19_data/csse_covid_19_daily_reports/04-17-2020.csv [Content-Type=text/csv]...\n",
      "Copying file://COVID-19/csse_covid_19_data/csse_covid_19_daily_reports/04-18-2020.csv [Content-Type=text/csv]...\n",
      "Copying file://COVID-19/csse_covid_19_data/csse_covid_19_daily_reports/04-19-2020.csv [Content-Type=text/csv]...\n",
      "Copying file://COVID-19/csse_covid_19_data/csse_covid_19_daily_reports/04-20-2020.csv [Content-Type=text/csv]...\n",
      "Copying file://COVID-19/csse_covid_19_data/csse_covid_19_daily_reports/04-21-2020.csv [Content-Type=text/csv]...\n",
      "Copying file://COVID-19/csse_covid_19_data/csse_covid_19_daily_reports/04-22-2020.csv [Content-Type=text/csv]...\n",
      "Copying file://COVID-19/csse_covid_19_data/csse_covid_19_daily_reports/04-23-2020.csv [Content-Type=text/csv]...\n",
      "Copying file://COVID-19/csse_covid_19_data/csse_covid_19_daily_reports/04-24-2020.csv [Content-Type=text/csv]...\n",
      "Copying file://COVID-19/csse_covid_19_data/csse_covid_19_daily_reports/04-25-2020.csv [Content-Type=text/csv]...\n",
      "Copying file://COVID-19/csse_covid_19_data/csse_covid_19_daily_reports/04-26-2020.csv [Content-Type=text/csv]...\n",
      "Copying file://COVID-19/csse_covid_19_data/csse_covid_19_daily_reports/04-27-2020.csv [Content-Type=text/csv]...\n",
      "Copying file://COVID-19/csse_covid_19_data/csse_covid_19_daily_reports/04-28-2020.csv [Content-Type=text/csv]...\n",
      "Copying file://COVID-19/csse_covid_19_data/csse_covid_19_daily_reports/04-29-2020.csv [Content-Type=text/csv]...\n",
      "Copying file://COVID-19/csse_covid_19_data/csse_covid_19_daily_reports/04-30-2020.csv [Content-Type=text/csv]...\n",
      "- [30 files][  8.7 MiB/  8.7 MiB]                                               \n",
      "==> NOTE: You are performing a sequence of gsutil operations that may\n",
      "run significantly faster if you instead use gsutil -m cp ... Please\n",
      "see the -m section under \"gsutil help options\" for further information\n",
      "about when gsutil -m can be advantageous.\n",
      "\n",
      "\n",
      "Operation completed over 30 objects/8.7 MiB.                                     \n"
     ]
    }
   ],
   "source": [
    "!gsutil cp COVID-19/csse_covid_19_data/csse_covid_19_daily_reports/04-*2020.csv gs://covid_acs_bucket/covid/03-01-20-to-05-31-20"
   ]
  },
  {
   "cell_type": "code",
   "execution_count": 9,
   "id": "nutritional-jimmy",
   "metadata": {},
   "outputs": [
    {
     "name": "stdout",
     "output_type": "stream",
     "text": [
      "Copying file://COVID-19/csse_covid_19_data/csse_covid_19_daily_reports/05-01-2020.csv [Content-Type=text/csv]...\n",
      "Copying file://COVID-19/csse_covid_19_data/csse_covid_19_daily_reports/05-02-2020.csv [Content-Type=text/csv]...\n",
      "Copying file://COVID-19/csse_covid_19_data/csse_covid_19_daily_reports/05-03-2020.csv [Content-Type=text/csv]...\n",
      "Copying file://COVID-19/csse_covid_19_data/csse_covid_19_daily_reports/05-04-2020.csv [Content-Type=text/csv]...\n",
      "/ [4 files][  1.3 MiB/  1.3 MiB]                                                \n",
      "==> NOTE: You are performing a sequence of gsutil operations that may\n",
      "run significantly faster if you instead use gsutil -m cp ... Please\n",
      "see the -m section under \"gsutil help options\" for further information\n",
      "about when gsutil -m can be advantageous.\n",
      "\n",
      "Copying file://COVID-19/csse_covid_19_data/csse_covid_19_daily_reports/05-05-2020.csv [Content-Type=text/csv]...\n",
      "Copying file://COVID-19/csse_covid_19_data/csse_covid_19_daily_reports/05-06-2020.csv [Content-Type=text/csv]...\n",
      "Copying file://COVID-19/csse_covid_19_data/csse_covid_19_daily_reports/05-07-2020.csv [Content-Type=text/csv]...\n",
      "Copying file://COVID-19/csse_covid_19_data/csse_covid_19_daily_reports/05-08-2020.csv [Content-Type=text/csv]...\n",
      "Copying file://COVID-19/csse_covid_19_data/csse_covid_19_daily_reports/05-09-2020.csv [Content-Type=text/csv]...\n",
      "Copying file://COVID-19/csse_covid_19_data/csse_covid_19_daily_reports/05-10-2020.csv [Content-Type=text/csv]...\n",
      "Copying file://COVID-19/csse_covid_19_data/csse_covid_19_daily_reports/05-11-2020.csv [Content-Type=text/csv]...\n",
      "Copying file://COVID-19/csse_covid_19_data/csse_covid_19_daily_reports/05-12-2020.csv [Content-Type=text/csv]...\n",
      "Copying file://COVID-19/csse_covid_19_data/csse_covid_19_daily_reports/05-13-2020.csv [Content-Type=text/csv]...\n",
      "Copying file://COVID-19/csse_covid_19_data/csse_covid_19_daily_reports/05-14-2020.csv [Content-Type=text/csv]...\n",
      "Copying file://COVID-19/csse_covid_19_data/csse_covid_19_daily_reports/05-15-2020.csv [Content-Type=text/csv]...\n",
      "Copying file://COVID-19/csse_covid_19_data/csse_covid_19_daily_reports/05-16-2020.csv [Content-Type=text/csv]...\n",
      "Copying file://COVID-19/csse_covid_19_data/csse_covid_19_daily_reports/05-17-2020.csv [Content-Type=text/csv]...\n",
      "Copying file://COVID-19/csse_covid_19_data/csse_covid_19_daily_reports/05-18-2020.csv [Content-Type=text/csv]...\n",
      "Copying file://COVID-19/csse_covid_19_data/csse_covid_19_daily_reports/05-19-2020.csv [Content-Type=text/csv]...\n",
      "Copying file://COVID-19/csse_covid_19_data/csse_covid_19_daily_reports/05-20-2020.csv [Content-Type=text/csv]...\n",
      "Copying file://COVID-19/csse_covid_19_data/csse_covid_19_daily_reports/05-21-2020.csv [Content-Type=text/csv]...\n",
      "Copying file://COVID-19/csse_covid_19_data/csse_covid_19_daily_reports/05-22-2020.csv [Content-Type=text/csv]...\n",
      "Copying file://COVID-19/csse_covid_19_data/csse_covid_19_daily_reports/05-23-2020.csv [Content-Type=text/csv]...\n",
      "Copying file://COVID-19/csse_covid_19_data/csse_covid_19_daily_reports/05-24-2020.csv [Content-Type=text/csv]...\n",
      "Copying file://COVID-19/csse_covid_19_data/csse_covid_19_daily_reports/05-25-2020.csv [Content-Type=text/csv]...\n",
      "Copying file://COVID-19/csse_covid_19_data/csse_covid_19_daily_reports/05-26-2020.csv [Content-Type=text/csv]...\n",
      "Copying file://COVID-19/csse_covid_19_data/csse_covid_19_daily_reports/05-27-2020.csv [Content-Type=text/csv]...\n",
      "Copying file://COVID-19/csse_covid_19_data/csse_covid_19_daily_reports/05-28-2020.csv [Content-Type=text/csv]...\n",
      "Copying file://COVID-19/csse_covid_19_data/csse_covid_19_daily_reports/05-29-2020.csv [Content-Type=text/csv]...\n",
      "Copying file://COVID-19/csse_covid_19_data/csse_covid_19_daily_reports/05-30-2020.csv [Content-Type=text/csv]...\n",
      "Copying file://COVID-19/csse_covid_19_data/csse_covid_19_daily_reports/05-31-2020.csv [Content-Type=text/csv]...\n",
      "- [31 files][ 10.5 MiB/ 10.5 MiB]                                               \n",
      "==> NOTE: You are performing a sequence of gsutil operations that may\n",
      "run significantly faster if you instead use gsutil -m cp ... Please\n",
      "see the -m section under \"gsutil help options\" for further information\n",
      "about when gsutil -m can be advantageous.\n",
      "\n",
      "\n",
      "Operation completed over 31 objects/10.5 MiB.                                    \n"
     ]
    }
   ],
   "source": [
    "!gsutil cp COVID-19/csse_covid_19_data/csse_covid_19_daily_reports/05-*2020.csv gs://covid_acs_bucket/covid/03-01-20-to-05-31-20"
   ]
  },
  {
   "cell_type": "markdown",
   "id": "hindu-conducting",
   "metadata": {},
   "source": [
    "##### summer 2020"
   ]
  },
  {
   "cell_type": "code",
   "execution_count": 10,
   "id": "contrary-routine",
   "metadata": {},
   "outputs": [
    {
     "name": "stdout",
     "output_type": "stream",
     "text": [
      "Copying file://COVID-19/csse_covid_19_data/csse_covid_19_daily_reports/06-01-2020.csv [Content-Type=text/csv]...\n",
      "Copying file://COVID-19/csse_covid_19_data/csse_covid_19_daily_reports/06-02-2020.csv [Content-Type=text/csv]...\n",
      "Copying file://COVID-19/csse_covid_19_data/csse_covid_19_daily_reports/06-03-2020.csv [Content-Type=text/csv]...\n",
      "Copying file://COVID-19/csse_covid_19_data/csse_covid_19_daily_reports/06-04-2020.csv [Content-Type=text/csv]...\n",
      "/ [4 files][  1.9 MiB/  1.9 MiB]                                                \n",
      "==> NOTE: You are performing a sequence of gsutil operations that may\n",
      "run significantly faster if you instead use gsutil -m cp ... Please\n",
      "see the -m section under \"gsutil help options\" for further information\n",
      "about when gsutil -m can be advantageous.\n",
      "\n",
      "Copying file://COVID-19/csse_covid_19_data/csse_covid_19_daily_reports/06-05-2020.csv [Content-Type=text/csv]...\n",
      "Copying file://COVID-19/csse_covid_19_data/csse_covid_19_daily_reports/06-06-2020.csv [Content-Type=text/csv]...\n",
      "Copying file://COVID-19/csse_covid_19_data/csse_covid_19_daily_reports/06-07-2020.csv [Content-Type=text/csv]...\n",
      "Copying file://COVID-19/csse_covid_19_data/csse_covid_19_daily_reports/06-08-2020.csv [Content-Type=text/csv]...\n",
      "Copying file://COVID-19/csse_covid_19_data/csse_covid_19_daily_reports/06-09-2020.csv [Content-Type=text/csv]...\n",
      "Copying file://COVID-19/csse_covid_19_data/csse_covid_19_daily_reports/06-10-2020.csv [Content-Type=text/csv]...\n",
      "Copying file://COVID-19/csse_covid_19_data/csse_covid_19_daily_reports/06-11-2020.csv [Content-Type=text/csv]...\n",
      "Copying file://COVID-19/csse_covid_19_data/csse_covid_19_daily_reports/06-12-2020.csv [Content-Type=text/csv]...\n",
      "Copying file://COVID-19/csse_covid_19_data/csse_covid_19_daily_reports/06-13-2020.csv [Content-Type=text/csv]...\n",
      "Copying file://COVID-19/csse_covid_19_data/csse_covid_19_daily_reports/06-14-2020.csv [Content-Type=text/csv]...\n",
      "Copying file://COVID-19/csse_covid_19_data/csse_covid_19_daily_reports/06-15-2020.csv [Content-Type=text/csv]...\n",
      "Copying file://COVID-19/csse_covid_19_data/csse_covid_19_daily_reports/06-16-2020.csv [Content-Type=text/csv]...\n",
      "Copying file://COVID-19/csse_covid_19_data/csse_covid_19_daily_reports/06-17-2020.csv [Content-Type=text/csv]...\n",
      "Copying file://COVID-19/csse_covid_19_data/csse_covid_19_daily_reports/06-18-2020.csv [Content-Type=text/csv]...\n",
      "Copying file://COVID-19/csse_covid_19_data/csse_covid_19_daily_reports/06-19-2020.csv [Content-Type=text/csv]...\n",
      "Copying file://COVID-19/csse_covid_19_data/csse_covid_19_daily_reports/06-20-2020.csv [Content-Type=text/csv]...\n",
      "Copying file://COVID-19/csse_covid_19_data/csse_covid_19_daily_reports/06-21-2020.csv [Content-Type=text/csv]...\n",
      "Copying file://COVID-19/csse_covid_19_data/csse_covid_19_daily_reports/06-22-2020.csv [Content-Type=text/csv]...\n",
      "Copying file://COVID-19/csse_covid_19_data/csse_covid_19_daily_reports/06-23-2020.csv [Content-Type=text/csv]...\n",
      "Copying file://COVID-19/csse_covid_19_data/csse_covid_19_daily_reports/06-24-2020.csv [Content-Type=text/csv]...\n",
      "Copying file://COVID-19/csse_covid_19_data/csse_covid_19_daily_reports/06-25-2020.csv [Content-Type=text/csv]...\n",
      "Copying file://COVID-19/csse_covid_19_data/csse_covid_19_daily_reports/06-26-2020.csv [Content-Type=text/csv]...\n",
      "Copying file://COVID-19/csse_covid_19_data/csse_covid_19_daily_reports/06-27-2020.csv [Content-Type=text/csv]...\n",
      "Copying file://COVID-19/csse_covid_19_data/csse_covid_19_daily_reports/06-28-2020.csv [Content-Type=text/csv]...\n",
      "Copying file://COVID-19/csse_covid_19_data/csse_covid_19_daily_reports/06-29-2020.csv [Content-Type=text/csv]...\n",
      "Copying file://COVID-19/csse_covid_19_data/csse_covid_19_daily_reports/06-30-2020.csv [Content-Type=text/csv]...\n",
      "- [30 files][ 14.4 MiB/ 14.4 MiB]                                               \n",
      "==> NOTE: You are performing a sequence of gsutil operations that may\n",
      "run significantly faster if you instead use gsutil -m cp ... Please\n",
      "see the -m section under \"gsutil help options\" for further information\n",
      "about when gsutil -m can be advantageous.\n",
      "\n",
      "\n",
      "Operation completed over 30 objects/14.4 MiB.                                    \n"
     ]
    }
   ],
   "source": [
    "!gsutil cp COVID-19/csse_covid_19_data/csse_covid_19_daily_reports/06-*2020.csv gs://covid_acs_bucket/covid/06-01-20-to-08-31-20"
   ]
  },
  {
   "cell_type": "code",
   "execution_count": 11,
   "id": "conventional-collar",
   "metadata": {},
   "outputs": [
    {
     "name": "stdout",
     "output_type": "stream",
     "text": [
      "Copying file://COVID-19/csse_covid_19_data/csse_covid_19_daily_reports/07-01-2020.csv [Content-Type=text/csv]...\n",
      "Copying file://COVID-19/csse_covid_19_data/csse_covid_19_daily_reports/07-02-2020.csv [Content-Type=text/csv]...\n",
      "Copying file://COVID-19/csse_covid_19_data/csse_covid_19_daily_reports/07-03-2020.csv [Content-Type=text/csv]...\n",
      "Copying file://COVID-19/csse_covid_19_data/csse_covid_19_daily_reports/07-04-2020.csv [Content-Type=text/csv]...\n",
      "/ [4 files][  2.0 MiB/  2.0 MiB]                                                \n",
      "==> NOTE: You are performing a sequence of gsutil operations that may\n",
      "run significantly faster if you instead use gsutil -m cp ... Please\n",
      "see the -m section under \"gsutil help options\" for further information\n",
      "about when gsutil -m can be advantageous.\n",
      "\n",
      "Copying file://COVID-19/csse_covid_19_data/csse_covid_19_daily_reports/07-05-2020.csv [Content-Type=text/csv]...\n",
      "Copying file://COVID-19/csse_covid_19_data/csse_covid_19_daily_reports/07-06-2020.csv [Content-Type=text/csv]...\n",
      "Copying file://COVID-19/csse_covid_19_data/csse_covid_19_daily_reports/07-07-2020.csv [Content-Type=text/csv]...\n",
      "Copying file://COVID-19/csse_covid_19_data/csse_covid_19_daily_reports/07-08-2020.csv [Content-Type=text/csv]...\n",
      "Copying file://COVID-19/csse_covid_19_data/csse_covid_19_daily_reports/07-09-2020.csv [Content-Type=text/csv]...\n",
      "Copying file://COVID-19/csse_covid_19_data/csse_covid_19_daily_reports/07-10-2020.csv [Content-Type=text/csv]...\n",
      "Copying file://COVID-19/csse_covid_19_data/csse_covid_19_daily_reports/07-11-2020.csv [Content-Type=text/csv]...\n",
      "Copying file://COVID-19/csse_covid_19_data/csse_covid_19_daily_reports/07-12-2020.csv [Content-Type=text/csv]...\n",
      "Copying file://COVID-19/csse_covid_19_data/csse_covid_19_daily_reports/07-13-2020.csv [Content-Type=text/csv]...\n",
      "Copying file://COVID-19/csse_covid_19_data/csse_covid_19_daily_reports/07-14-2020.csv [Content-Type=text/csv]...\n",
      "Copying file://COVID-19/csse_covid_19_data/csse_covid_19_daily_reports/07-15-2020.csv [Content-Type=text/csv]...\n",
      "Copying file://COVID-19/csse_covid_19_data/csse_covid_19_daily_reports/07-16-2020.csv [Content-Type=text/csv]...\n",
      "Copying file://COVID-19/csse_covid_19_data/csse_covid_19_daily_reports/07-17-2020.csv [Content-Type=text/csv]...\n",
      "Copying file://COVID-19/csse_covid_19_data/csse_covid_19_daily_reports/07-18-2020.csv [Content-Type=text/csv]...\n",
      "Copying file://COVID-19/csse_covid_19_data/csse_covid_19_daily_reports/07-19-2020.csv [Content-Type=text/csv]...\n",
      "Copying file://COVID-19/csse_covid_19_data/csse_covid_19_daily_reports/07-20-2020.csv [Content-Type=text/csv]...\n",
      "Copying file://COVID-19/csse_covid_19_data/csse_covid_19_daily_reports/07-21-2020.csv [Content-Type=text/csv]...\n",
      "Copying file://COVID-19/csse_covid_19_data/csse_covid_19_daily_reports/07-22-2020.csv [Content-Type=text/csv]...\n",
      "Copying file://COVID-19/csse_covid_19_data/csse_covid_19_daily_reports/07-23-2020.csv [Content-Type=text/csv]...\n",
      "Copying file://COVID-19/csse_covid_19_data/csse_covid_19_daily_reports/07-24-2020.csv [Content-Type=text/csv]...\n",
      "Copying file://COVID-19/csse_covid_19_data/csse_covid_19_daily_reports/07-25-2020.csv [Content-Type=text/csv]...\n",
      "Copying file://COVID-19/csse_covid_19_data/csse_covid_19_daily_reports/07-26-2020.csv [Content-Type=text/csv]...\n",
      "Copying file://COVID-19/csse_covid_19_data/csse_covid_19_daily_reports/07-27-2020.csv [Content-Type=text/csv]...\n",
      "Copying file://COVID-19/csse_covid_19_data/csse_covid_19_daily_reports/07-28-2020.csv [Content-Type=text/csv]...\n",
      "Copying file://COVID-19/csse_covid_19_data/csse_covid_19_daily_reports/07-29-2020.csv [Content-Type=text/csv]...\n",
      "Copying file://COVID-19/csse_covid_19_data/csse_covid_19_daily_reports/07-30-2020.csv [Content-Type=text/csv]...\n",
      "Copying file://COVID-19/csse_covid_19_data/csse_covid_19_daily_reports/07-31-2020.csv [Content-Type=text/csv]...\n",
      "\\ [31 files][ 15.6 MiB/ 15.6 MiB]                                               \n",
      "==> NOTE: You are performing a sequence of gsutil operations that may\n",
      "run significantly faster if you instead use gsutil -m cp ... Please\n",
      "see the -m section under \"gsutil help options\" for further information\n",
      "about when gsutil -m can be advantageous.\n",
      "\n",
      "\n",
      "Operation completed over 31 objects/15.6 MiB.                                    \n"
     ]
    }
   ],
   "source": [
    "!gsutil cp COVID-19/csse_covid_19_data/csse_covid_19_daily_reports/07-*2020.csv gs://covid_acs_bucket/covid/06-01-20-to-08-31-20"
   ]
  },
  {
   "cell_type": "code",
   "execution_count": 12,
   "id": "amazing-power",
   "metadata": {},
   "outputs": [
    {
     "name": "stdout",
     "output_type": "stream",
     "text": [
      "Copying file://COVID-19/csse_covid_19_data/csse_covid_19_daily_reports/08-01-2020.csv [Content-Type=text/csv]...\n",
      "Copying file://COVID-19/csse_covid_19_data/csse_covid_19_daily_reports/08-02-2020.csv [Content-Type=text/csv]...\n",
      "Copying file://COVID-19/csse_covid_19_data/csse_covid_19_daily_reports/08-03-2020.csv [Content-Type=text/csv]...\n",
      "Copying file://COVID-19/csse_covid_19_data/csse_covid_19_daily_reports/08-04-2020.csv [Content-Type=text/csv]...\n",
      "/ [4 files][  2.1 MiB/  2.1 MiB]                                                \n",
      "==> NOTE: You are performing a sequence of gsutil operations that may\n",
      "run significantly faster if you instead use gsutil -m cp ... Please\n",
      "see the -m section under \"gsutil help options\" for further information\n",
      "about when gsutil -m can be advantageous.\n",
      "\n",
      "Copying file://COVID-19/csse_covid_19_data/csse_covid_19_daily_reports/08-05-2020.csv [Content-Type=text/csv]...\n",
      "Copying file://COVID-19/csse_covid_19_data/csse_covid_19_daily_reports/08-06-2020.csv [Content-Type=text/csv]...\n",
      "Copying file://COVID-19/csse_covid_19_data/csse_covid_19_daily_reports/08-07-2020.csv [Content-Type=text/csv]...\n",
      "Copying file://COVID-19/csse_covid_19_data/csse_covid_19_daily_reports/08-08-2020.csv [Content-Type=text/csv]...\n",
      "Copying file://COVID-19/csse_covid_19_data/csse_covid_19_daily_reports/08-09-2020.csv [Content-Type=text/csv]...\n",
      "Copying file://COVID-19/csse_covid_19_data/csse_covid_19_daily_reports/08-10-2020.csv [Content-Type=text/csv]...\n",
      "Copying file://COVID-19/csse_covid_19_data/csse_covid_19_daily_reports/08-11-2020.csv [Content-Type=text/csv]...\n",
      "Copying file://COVID-19/csse_covid_19_data/csse_covid_19_daily_reports/08-12-2020.csv [Content-Type=text/csv]...\n",
      "Copying file://COVID-19/csse_covid_19_data/csse_covid_19_daily_reports/08-13-2020.csv [Content-Type=text/csv]...\n",
      "Copying file://COVID-19/csse_covid_19_data/csse_covid_19_daily_reports/08-14-2020.csv [Content-Type=text/csv]...\n",
      "Copying file://COVID-19/csse_covid_19_data/csse_covid_19_daily_reports/08-15-2020.csv [Content-Type=text/csv]...\n",
      "Copying file://COVID-19/csse_covid_19_data/csse_covid_19_daily_reports/08-16-2020.csv [Content-Type=text/csv]...\n",
      "Copying file://COVID-19/csse_covid_19_data/csse_covid_19_daily_reports/08-17-2020.csv [Content-Type=text/csv]...\n",
      "Copying file://COVID-19/csse_covid_19_data/csse_covid_19_daily_reports/08-18-2020.csv [Content-Type=text/csv]...\n",
      "Copying file://COVID-19/csse_covid_19_data/csse_covid_19_daily_reports/08-19-2020.csv [Content-Type=text/csv]...\n",
      "Copying file://COVID-19/csse_covid_19_data/csse_covid_19_daily_reports/08-20-2020.csv [Content-Type=text/csv]...\n",
      "Copying file://COVID-19/csse_covid_19_data/csse_covid_19_daily_reports/08-21-2020.csv [Content-Type=text/csv]...\n",
      "Copying file://COVID-19/csse_covid_19_data/csse_covid_19_daily_reports/08-22-2020.csv [Content-Type=text/csv]...\n",
      "Copying file://COVID-19/csse_covid_19_data/csse_covid_19_daily_reports/08-23-2020.csv [Content-Type=text/csv]...\n",
      "Copying file://COVID-19/csse_covid_19_data/csse_covid_19_daily_reports/08-24-2020.csv [Content-Type=text/csv]...\n",
      "Copying file://COVID-19/csse_covid_19_data/csse_covid_19_daily_reports/08-25-2020.csv [Content-Type=text/csv]...\n",
      "Copying file://COVID-19/csse_covid_19_data/csse_covid_19_daily_reports/08-26-2020.csv [Content-Type=text/csv]...\n",
      "Copying file://COVID-19/csse_covid_19_data/csse_covid_19_daily_reports/08-27-2020.csv [Content-Type=text/csv]...\n",
      "Copying file://COVID-19/csse_covid_19_data/csse_covid_19_daily_reports/08-28-2020.csv [Content-Type=text/csv]...\n",
      "Copying file://COVID-19/csse_covid_19_data/csse_covid_19_daily_reports/08-29-2020.csv [Content-Type=text/csv]...\n",
      "Copying file://COVID-19/csse_covid_19_data/csse_covid_19_daily_reports/08-30-2020.csv [Content-Type=text/csv]...\n",
      "Copying file://COVID-19/csse_covid_19_data/csse_covid_19_daily_reports/08-31-2020.csv [Content-Type=text/csv]...\n",
      "\\ [31 files][ 16.0 MiB/ 16.0 MiB]                                               \n",
      "==> NOTE: You are performing a sequence of gsutil operations that may\n",
      "run significantly faster if you instead use gsutil -m cp ... Please\n",
      "see the -m section under \"gsutil help options\" for further information\n",
      "about when gsutil -m can be advantageous.\n",
      "\n",
      "\n",
      "Operation completed over 31 objects/16.0 MiB.                                    \n"
     ]
    }
   ],
   "source": [
    "!gsutil cp COVID-19/csse_covid_19_data/csse_covid_19_daily_reports/08-*2020.csv gs://covid_acs_bucket/covid/06-01-20-to-08-31-20"
   ]
  },
  {
   "cell_type": "markdown",
   "id": "intensive-shannon",
   "metadata": {},
   "source": [
    "##### fall 2020"
   ]
  },
  {
   "cell_type": "code",
   "execution_count": 13,
   "id": "centered-release",
   "metadata": {},
   "outputs": [
    {
     "name": "stdout",
     "output_type": "stream",
     "text": [
      "Copying file://COVID-19/csse_covid_19_data/csse_covid_19_daily_reports/09-01-2020.csv [Content-Type=text/csv]...\n",
      "Copying file://COVID-19/csse_covid_19_data/csse_covid_19_daily_reports/09-02-2020.csv [Content-Type=text/csv]...\n",
      "Copying file://COVID-19/csse_covid_19_data/csse_covid_19_daily_reports/09-03-2020.csv [Content-Type=text/csv]...\n",
      "Copying file://COVID-19/csse_covid_19_data/csse_covid_19_daily_reports/09-04-2020.csv [Content-Type=text/csv]...\n",
      "/ [4 files][  2.1 MiB/  2.1 MiB]                                                \n",
      "==> NOTE: You are performing a sequence of gsutil operations that may\n",
      "run significantly faster if you instead use gsutil -m cp ... Please\n",
      "see the -m section under \"gsutil help options\" for further information\n",
      "about when gsutil -m can be advantageous.\n",
      "\n",
      "Copying file://COVID-19/csse_covid_19_data/csse_covid_19_daily_reports/09-05-2020.csv [Content-Type=text/csv]...\n",
      "Copying file://COVID-19/csse_covid_19_data/csse_covid_19_daily_reports/09-06-2020.csv [Content-Type=text/csv]...\n",
      "Copying file://COVID-19/csse_covid_19_data/csse_covid_19_daily_reports/09-07-2020.csv [Content-Type=text/csv]...\n",
      "Copying file://COVID-19/csse_covid_19_data/csse_covid_19_daily_reports/09-08-2020.csv [Content-Type=text/csv]...\n",
      "Copying file://COVID-19/csse_covid_19_data/csse_covid_19_daily_reports/09-09-2020.csv [Content-Type=text/csv]...\n",
      "Copying file://COVID-19/csse_covid_19_data/csse_covid_19_daily_reports/09-10-2020.csv [Content-Type=text/csv]...\n",
      "Copying file://COVID-19/csse_covid_19_data/csse_covid_19_daily_reports/09-11-2020.csv [Content-Type=text/csv]...\n",
      "Copying file://COVID-19/csse_covid_19_data/csse_covid_19_daily_reports/09-12-2020.csv [Content-Type=text/csv]...\n",
      "Copying file://COVID-19/csse_covid_19_data/csse_covid_19_daily_reports/09-13-2020.csv [Content-Type=text/csv]...\n",
      "Copying file://COVID-19/csse_covid_19_data/csse_covid_19_daily_reports/09-14-2020.csv [Content-Type=text/csv]...\n",
      "Copying file://COVID-19/csse_covid_19_data/csse_covid_19_daily_reports/09-15-2020.csv [Content-Type=text/csv]...\n",
      "Copying file://COVID-19/csse_covid_19_data/csse_covid_19_daily_reports/09-16-2020.csv [Content-Type=text/csv]...\n",
      "Copying file://COVID-19/csse_covid_19_data/csse_covid_19_daily_reports/09-17-2020.csv [Content-Type=text/csv]...\n",
      "Copying file://COVID-19/csse_covid_19_data/csse_covid_19_daily_reports/09-18-2020.csv [Content-Type=text/csv]...\n",
      "Copying file://COVID-19/csse_covid_19_data/csse_covid_19_daily_reports/09-19-2020.csv [Content-Type=text/csv]...\n",
      "Copying file://COVID-19/csse_covid_19_data/csse_covid_19_daily_reports/09-20-2020.csv [Content-Type=text/csv]...\n",
      "Copying file://COVID-19/csse_covid_19_data/csse_covid_19_daily_reports/09-21-2020.csv [Content-Type=text/csv]...\n",
      "Copying file://COVID-19/csse_covid_19_data/csse_covid_19_daily_reports/09-22-2020.csv [Content-Type=text/csv]...\n",
      "Copying file://COVID-19/csse_covid_19_data/csse_covid_19_daily_reports/09-23-2020.csv [Content-Type=text/csv]...\n",
      "Copying file://COVID-19/csse_covid_19_data/csse_covid_19_daily_reports/09-24-2020.csv [Content-Type=text/csv]...\n",
      "Copying file://COVID-19/csse_covid_19_data/csse_covid_19_daily_reports/09-25-2020.csv [Content-Type=text/csv]...\n",
      "Copying file://COVID-19/csse_covid_19_data/csse_covid_19_daily_reports/09-26-2020.csv [Content-Type=text/csv]...\n",
      "Copying file://COVID-19/csse_covid_19_data/csse_covid_19_daily_reports/09-27-2020.csv [Content-Type=text/csv]...\n",
      "Copying file://COVID-19/csse_covid_19_data/csse_covid_19_daily_reports/09-28-2020.csv [Content-Type=text/csv]...\n",
      "Copying file://COVID-19/csse_covid_19_data/csse_covid_19_daily_reports/09-29-2020.csv [Content-Type=text/csv]...\n",
      "Copying file://COVID-19/csse_covid_19_data/csse_covid_19_daily_reports/09-30-2020.csv [Content-Type=text/csv]...\n",
      "- [30 files][ 15.1 MiB/ 15.1 MiB]                                               \n",
      "==> NOTE: You are performing a sequence of gsutil operations that may\n",
      "run significantly faster if you instead use gsutil -m cp ... Please\n",
      "see the -m section under \"gsutil help options\" for further information\n",
      "about when gsutil -m can be advantageous.\n",
      "\n",
      "\n",
      "Operation completed over 30 objects/15.1 MiB.                                    \n"
     ]
    }
   ],
   "source": [
    "!gsutil cp COVID-19/csse_covid_19_data/csse_covid_19_daily_reports/09-*2020.csv gs://covid_acs_bucket/covid/09-01-20-to-11-30-20"
   ]
  },
  {
   "cell_type": "code",
   "execution_count": 14,
   "id": "occupied-teach",
   "metadata": {},
   "outputs": [
    {
     "name": "stdout",
     "output_type": "stream",
     "text": [
      "Copying file://COVID-19/csse_covid_19_data/csse_covid_19_daily_reports/10-01-2020.csv [Content-Type=text/csv]...\n",
      "Copying file://COVID-19/csse_covid_19_data/csse_covid_19_daily_reports/10-02-2020.csv [Content-Type=text/csv]...\n",
      "Copying file://COVID-19/csse_covid_19_data/csse_covid_19_daily_reports/10-03-2020.csv [Content-Type=text/csv]...\n",
      "Copying file://COVID-19/csse_covid_19_data/csse_covid_19_daily_reports/10-04-2020.csv [Content-Type=text/csv]...\n",
      "/ [4 files][  2.1 MiB/  2.1 MiB]                                                \n",
      "==> NOTE: You are performing a sequence of gsutil operations that may\n",
      "run significantly faster if you instead use gsutil -m cp ... Please\n",
      "see the -m section under \"gsutil help options\" for further information\n",
      "about when gsutil -m can be advantageous.\n",
      "\n",
      "Copying file://COVID-19/csse_covid_19_data/csse_covid_19_daily_reports/10-05-2020.csv [Content-Type=text/csv]...\n",
      "Copying file://COVID-19/csse_covid_19_data/csse_covid_19_daily_reports/10-06-2020.csv [Content-Type=text/csv]...\n",
      "Copying file://COVID-19/csse_covid_19_data/csse_covid_19_daily_reports/10-07-2020.csv [Content-Type=text/csv]...\n",
      "Copying file://COVID-19/csse_covid_19_data/csse_covid_19_daily_reports/10-08-2020.csv [Content-Type=text/csv]...\n",
      "Copying file://COVID-19/csse_covid_19_data/csse_covid_19_daily_reports/10-09-2020.csv [Content-Type=text/csv]...\n",
      "Copying file://COVID-19/csse_covid_19_data/csse_covid_19_daily_reports/10-10-2020.csv [Content-Type=text/csv]...\n",
      "Copying file://COVID-19/csse_covid_19_data/csse_covid_19_daily_reports/10-11-2020.csv [Content-Type=text/csv]...\n",
      "Copying file://COVID-19/csse_covid_19_data/csse_covid_19_daily_reports/10-12-2020.csv [Content-Type=text/csv]...\n",
      "Copying file://COVID-19/csse_covid_19_data/csse_covid_19_daily_reports/10-13-2020.csv [Content-Type=text/csv]...\n",
      "Copying file://COVID-19/csse_covid_19_data/csse_covid_19_daily_reports/10-14-2020.csv [Content-Type=text/csv]...\n",
      "Copying file://COVID-19/csse_covid_19_data/csse_covid_19_daily_reports/10-15-2020.csv [Content-Type=text/csv]...\n",
      "Copying file://COVID-19/csse_covid_19_data/csse_covid_19_daily_reports/10-16-2020.csv [Content-Type=text/csv]...\n",
      "Copying file://COVID-19/csse_covid_19_data/csse_covid_19_daily_reports/10-17-2020.csv [Content-Type=text/csv]...\n",
      "Copying file://COVID-19/csse_covid_19_data/csse_covid_19_daily_reports/10-18-2020.csv [Content-Type=text/csv]...\n",
      "Copying file://COVID-19/csse_covid_19_data/csse_covid_19_daily_reports/10-19-2020.csv [Content-Type=text/csv]...\n",
      "Copying file://COVID-19/csse_covid_19_data/csse_covid_19_daily_reports/10-20-2020.csv [Content-Type=text/csv]...\n",
      "Copying file://COVID-19/csse_covid_19_data/csse_covid_19_daily_reports/10-21-2020.csv [Content-Type=text/csv]...\n",
      "Copying file://COVID-19/csse_covid_19_data/csse_covid_19_daily_reports/10-22-2020.csv [Content-Type=text/csv]...\n",
      "Copying file://COVID-19/csse_covid_19_data/csse_covid_19_daily_reports/10-23-2020.csv [Content-Type=text/csv]...\n",
      "Copying file://COVID-19/csse_covid_19_data/csse_covid_19_daily_reports/10-24-2020.csv [Content-Type=text/csv]...\n",
      "Copying file://COVID-19/csse_covid_19_data/csse_covid_19_daily_reports/10-25-2020.csv [Content-Type=text/csv]...\n",
      "Copying file://COVID-19/csse_covid_19_data/csse_covid_19_daily_reports/10-26-2020.csv [Content-Type=text/csv]...\n",
      "Copying file://COVID-19/csse_covid_19_data/csse_covid_19_daily_reports/10-27-2020.csv [Content-Type=text/csv]...\n",
      "Copying file://COVID-19/csse_covid_19_data/csse_covid_19_daily_reports/10-28-2020.csv [Content-Type=text/csv]...\n",
      "Copying file://COVID-19/csse_covid_19_data/csse_covid_19_daily_reports/10-29-2020.csv [Content-Type=text/csv]...\n",
      "Copying file://COVID-19/csse_covid_19_data/csse_covid_19_daily_reports/10-30-2020.csv [Content-Type=text/csv]...\n",
      "Copying file://COVID-19/csse_covid_19_data/csse_covid_19_daily_reports/10-31-2020.csv [Content-Type=text/csv]...\n",
      "- [31 files][ 16.4 MiB/ 16.4 MiB]                                               \n",
      "==> NOTE: You are performing a sequence of gsutil operations that may\n",
      "run significantly faster if you instead use gsutil -m cp ... Please\n",
      "see the -m section under \"gsutil help options\" for further information\n",
      "about when gsutil -m can be advantageous.\n",
      "\n",
      "\n",
      "Operation completed over 31 objects/16.4 MiB.                                    \n"
     ]
    }
   ],
   "source": [
    "!gsutil cp COVID-19/csse_covid_19_data/csse_covid_19_daily_reports/10-*2020.csv gs://covid_acs_bucket/covid/09-01-20-to-11-30-20"
   ]
  },
  {
   "cell_type": "code",
   "execution_count": 15,
   "id": "pending-manor",
   "metadata": {},
   "outputs": [
    {
     "name": "stdout",
     "output_type": "stream",
     "text": [
      "Copying file://COVID-19/csse_covid_19_data/csse_covid_19_daily_reports/11-01-2020.csv [Content-Type=text/csv]...\n",
      "Copying file://COVID-19/csse_covid_19_data/csse_covid_19_daily_reports/11-02-2020.csv [Content-Type=text/csv]...\n",
      "Copying file://COVID-19/csse_covid_19_data/csse_covid_19_daily_reports/11-03-2020.csv [Content-Type=text/csv]...\n",
      "Copying file://COVID-19/csse_covid_19_data/csse_covid_19_daily_reports/11-04-2020.csv [Content-Type=text/csv]...\n",
      "/ [4 files][  2.1 MiB/  2.1 MiB]                                                \n",
      "==> NOTE: You are performing a sequence of gsutil operations that may\n",
      "run significantly faster if you instead use gsutil -m cp ... Please\n",
      "see the -m section under \"gsutil help options\" for further information\n",
      "about when gsutil -m can be advantageous.\n",
      "\n",
      "Copying file://COVID-19/csse_covid_19_data/csse_covid_19_daily_reports/11-05-2020.csv [Content-Type=text/csv]...\n",
      "Copying file://COVID-19/csse_covid_19_data/csse_covid_19_daily_reports/11-06-2020.csv [Content-Type=text/csv]...\n",
      "Copying file://COVID-19/csse_covid_19_data/csse_covid_19_daily_reports/11-07-2020.csv [Content-Type=text/csv]...\n",
      "Copying file://COVID-19/csse_covid_19_data/csse_covid_19_daily_reports/11-08-2020.csv [Content-Type=text/csv]...\n",
      "Copying file://COVID-19/csse_covid_19_data/csse_covid_19_daily_reports/11-09-2020.csv [Content-Type=text/csv]...\n",
      "Copying file://COVID-19/csse_covid_19_data/csse_covid_19_daily_reports/11-10-2020.csv [Content-Type=text/csv]...\n",
      "Copying file://COVID-19/csse_covid_19_data/csse_covid_19_daily_reports/11-11-2020.csv [Content-Type=text/csv]...\n",
      "Copying file://COVID-19/csse_covid_19_data/csse_covid_19_daily_reports/11-12-2020.csv [Content-Type=text/csv]...\n",
      "Copying file://COVID-19/csse_covid_19_data/csse_covid_19_daily_reports/11-13-2020.csv [Content-Type=text/csv]...\n",
      "Copying file://COVID-19/csse_covid_19_data/csse_covid_19_daily_reports/11-14-2020.csv [Content-Type=text/csv]...\n",
      "Copying file://COVID-19/csse_covid_19_data/csse_covid_19_daily_reports/11-15-2020.csv [Content-Type=text/csv]...\n",
      "Copying file://COVID-19/csse_covid_19_data/csse_covid_19_daily_reports/11-16-2020.csv [Content-Type=text/csv]...\n",
      "Copying file://COVID-19/csse_covid_19_data/csse_covid_19_daily_reports/11-17-2020.csv [Content-Type=text/csv]...\n",
      "Copying file://COVID-19/csse_covid_19_data/csse_covid_19_daily_reports/11-18-2020.csv [Content-Type=text/csv]...\n",
      "Copying file://COVID-19/csse_covid_19_data/csse_covid_19_daily_reports/11-19-2020.csv [Content-Type=text/csv]...\n",
      "Copying file://COVID-19/csse_covid_19_data/csse_covid_19_daily_reports/11-20-2020.csv [Content-Type=text/csv]...\n",
      "Copying file://COVID-19/csse_covid_19_data/csse_covid_19_daily_reports/11-21-2020.csv [Content-Type=text/csv]...\n",
      "Copying file://COVID-19/csse_covid_19_data/csse_covid_19_daily_reports/11-22-2020.csv [Content-Type=text/csv]...\n",
      "Copying file://COVID-19/csse_covid_19_data/csse_covid_19_daily_reports/11-23-2020.csv [Content-Type=text/csv]...\n",
      "Copying file://COVID-19/csse_covid_19_data/csse_covid_19_daily_reports/11-24-2020.csv [Content-Type=text/csv]...\n",
      "Copying file://COVID-19/csse_covid_19_data/csse_covid_19_daily_reports/11-25-2020.csv [Content-Type=text/csv]...\n",
      "Copying file://COVID-19/csse_covid_19_data/csse_covid_19_daily_reports/11-26-2020.csv [Content-Type=text/csv]...\n",
      "Copying file://COVID-19/csse_covid_19_data/csse_covid_19_daily_reports/11-27-2020.csv [Content-Type=text/csv]...\n",
      "Copying file://COVID-19/csse_covid_19_data/csse_covid_19_daily_reports/11-28-2020.csv [Content-Type=text/csv]...\n",
      "Copying file://COVID-19/csse_covid_19_data/csse_covid_19_daily_reports/11-29-2020.csv [Content-Type=text/csv]...\n",
      "Copying file://COVID-19/csse_covid_19_data/csse_covid_19_daily_reports/11-30-2020.csv [Content-Type=text/csv]...\n",
      "- [30 files][ 16.0 MiB/ 16.0 MiB]                                               \n",
      "==> NOTE: You are performing a sequence of gsutil operations that may\n",
      "run significantly faster if you instead use gsutil -m cp ... Please\n",
      "see the -m section under \"gsutil help options\" for further information\n",
      "about when gsutil -m can be advantageous.\n",
      "\n",
      "\n",
      "Operation completed over 30 objects/16.0 MiB.                                    \n"
     ]
    }
   ],
   "source": [
    "!gsutil cp COVID-19/csse_covid_19_data/csse_covid_19_daily_reports/11-*2020.csv gs://covid_acs_bucket/covid/09-01-20-to-11-30-20"
   ]
  },
  {
   "cell_type": "markdown",
   "id": "fancy-istanbul",
   "metadata": {},
   "source": [
    "##### winter 2021"
   ]
  },
  {
   "cell_type": "code",
   "execution_count": null,
   "id": "modified-salad",
   "metadata": {},
   "outputs": [],
   "source": []
  },
  {
   "cell_type": "code",
   "execution_count": null,
   "id": "obvious-uzbekistan",
   "metadata": {},
   "outputs": [],
   "source": []
  },
  {
   "cell_type": "code",
   "execution_count": null,
   "id": "anticipated-roads",
   "metadata": {},
   "outputs": [],
   "source": []
  },
  {
   "cell_type": "markdown",
   "id": "caring-belarus",
   "metadata": {},
   "source": [
    "##### spring 2021"
   ]
  },
  {
   "cell_type": "code",
   "execution_count": null,
   "id": "satellite-sessions",
   "metadata": {},
   "outputs": [],
   "source": []
  },
  {
   "cell_type": "code",
   "execution_count": null,
   "id": "frozen-supplier",
   "metadata": {},
   "outputs": [],
   "source": []
  },
  {
   "cell_type": "markdown",
   "id": "understanding-acrylic",
   "metadata": {},
   "source": [
    "### Load COVID data into BigQuery"
   ]
  },
  {
   "cell_type": "code",
   "execution_count": 16,
   "id": "massive-victorian",
   "metadata": {},
   "outputs": [],
   "source": [
    "covid_dataset_id = \"jhu_daily_reports_staging\""
   ]
  },
  {
   "cell_type": "code",
   "execution_count": 17,
   "id": "immediate-healing",
   "metadata": {},
   "outputs": [
    {
     "name": "stdout",
     "output_type": "stream",
     "text": [
      "Dataset 'lunar-analyzer-302702:jhu_daily_reports_staging' successfully created.\n"
     ]
    }
   ],
   "source": [
    "!bq --location=US mk --dataset {covid_dataset_id}"
   ]
  },
  {
   "cell_type": "markdown",
   "id": "reverse-democracy",
   "metadata": {},
   "source": [
    "##### Make Table covid_winter2020"
   ]
  },
  {
   "cell_type": "code",
   "execution_count": 18,
   "id": "convenient-profession",
   "metadata": {},
   "outputs": [
    {
     "name": "stdout",
     "output_type": "stream",
     "text": [
      "Waiting on bqjob_r6c59cda6f49eba42_00000178ccc61563_1 ... (0s) Current status: DONE   \n",
      "BigQuery error in load operation: Error processing job 'lunar-\n",
      "analyzer-302702:bqjob_r6c59cda6f49eba42_00000178ccc61563_1': Error while reading\n",
      "data, error message: CSV table references column position 13, but line starting\n",
      "at position:69 contains only 6 columns.\n",
      "Failure details:\n",
      "- Error while reading data, error message: CSV processing encountered\n",
      "too many errors, giving up. Rows: 0; errors: 1; max bad: 0; error\n",
      "percent: 0\n",
      "- gs://covid_acs_bucket/covid/12-01-20-to-02-29-20/01-23-2020.csv:\n",
      "Error while reading data, error message: CSV table references\n",
      "column position 13, but line starting at position:72 contains only\n",
      "6 columns.\n"
     ]
    }
   ],
   "source": [
    "!bq --location=US load --autodetect --skip_leading_rows=1 \\\n",
    "--source_format=CSV {covid_dataset_id}.covid_winter2020 \\\n",
    "gs://covid_acs_bucket/covid/12-01-20-to-02-29-20/*csv"
   ]
  },
  {
   "cell_type": "markdown",
   "id": "absolute-nudist",
   "metadata": {},
   "source": [
    "##### Make Table covid_spring2020"
   ]
  },
  {
   "cell_type": "code",
   "execution_count": 19,
   "id": "designed-welding",
   "metadata": {},
   "outputs": [
    {
     "name": "stdout",
     "output_type": "stream",
     "text": [
      "Waiting on bqjob_r399407cc8db0a132_00000178ccc78797_1 ... (0s) Current status: DONE   \n",
      "BigQuery error in load operation: Error processing job 'lunar-\n",
      "analyzer-302702:bqjob_r399407cc8db0a132_00000178ccc78797_1': Error while reading\n",
      "data, error message: CSV table references column position 13, but line starting\n",
      "at position:88 contains only 8 columns.\n",
      "Failure details:\n",
      "- Error while reading data, error message: CSV processing encountered\n",
      "too many errors, giving up. Rows: 0; errors: 1; max bad: 0; error\n",
      "percent: 0\n"
     ]
    }
   ],
   "source": [
    "!bq --location=US load --autodetect --skip_leading_rows=1 \\\n",
    "--source_format=CSV {covid_dataset_id}.covid_spring2020 \\\n",
    "gs://covid_acs_bucket/covid/03-01-20-to-05-31-20/*csv"
   ]
  },
  {
   "cell_type": "markdown",
   "id": "changed-aviation",
   "metadata": {},
   "source": [
    "##### Make Table covid_summer2020"
   ]
  },
  {
   "cell_type": "code",
   "execution_count": 20,
   "id": "soviet-gallery",
   "metadata": {},
   "outputs": [
    {
     "name": "stdout",
     "output_type": "stream",
     "text": [
      "Waiting on bqjob_r3a667c22803c0a_00000178ccc79d90_1 ... (4s) Current status: DONE   \n"
     ]
    }
   ],
   "source": [
    "!bq --location=US load --autodetect --skip_leading_rows=1 \\\n",
    "--source_format=CSV {covid_dataset_id}.covid_summer2020 \\\n",
    "gs://covid_acs_bucket/covid/06-01-20-to-08-31-20/*csv"
   ]
  },
  {
   "cell_type": "markdown",
   "id": "chubby-charleston",
   "metadata": {},
   "source": [
    "##### Make Table covid_fall2020"
   ]
  },
  {
   "cell_type": "code",
   "execution_count": 21,
   "id": "respective-crisis",
   "metadata": {},
   "outputs": [
    {
     "name": "stdout",
     "output_type": "stream",
     "text": [
      "Waiting on bqjob_r5ac98789670ac22_00000178ccc8b70a_1 ... (6s) Current status: DONE   \n"
     ]
    }
   ],
   "source": [
    "!bq --location=US load --autodetect --skip_leading_rows=1 \\\n",
    "--source_format=CSV {covid_dataset_id}.covid_fall2020 \\\n",
    "gs://covid_acs_bucket/covid/09-01-20-to-11-30-20/*csv"
   ]
  },
  {
   "cell_type": "markdown",
   "id": "indian-opening",
   "metadata": {},
   "source": [
    "##### Make Table covid_winter2021"
   ]
  },
  {
   "cell_type": "code",
   "execution_count": null,
   "id": "orange-minnesota",
   "metadata": {},
   "outputs": [],
   "source": []
  },
  {
   "cell_type": "markdown",
   "id": "separated-cinema",
   "metadata": {},
   "source": [
    "##### Make Table covid_spring2021"
   ]
  },
  {
   "cell_type": "code",
   "execution_count": null,
   "id": "ignored-willow",
   "metadata": {},
   "outputs": [],
   "source": []
  },
  {
   "cell_type": "markdown",
   "id": "completed-relationship",
   "metadata": {},
   "source": [
    "### Sample each COVID table to check table schema"
   ]
  },
  {
   "cell_type": "code",
   "execution_count": null,
   "id": "annoying-runner",
   "metadata": {},
   "outputs": [],
   "source": [
    "%% bigquery\n",
    "SELECT * FROM jhu_daily_reports_staging.covid_winter2020 LIMIT 5"
   ]
  },
  {
   "cell_type": "code",
   "execution_count": null,
   "id": "bright-profit",
   "metadata": {},
   "outputs": [],
   "source": [
    "%% bigquery\n",
    "SELECT * FROM jhu_daily_reports_staging.covid_spring2020 LIMIT 5"
   ]
  },
  {
   "cell_type": "code",
   "execution_count": 22,
   "id": "structural-cisco",
   "metadata": {},
   "outputs": [
    {
     "name": "stderr",
     "output_type": "stream",
     "text": [
      "UsageError: Cell magic `%%` not found.\n"
     ]
    }
   ],
   "source": [
    "%% bigquery\n",
    "SELECT * FROM jhu_daily_reports_staging.covid_summer2020 LIMIT 5"
   ]
  },
  {
   "cell_type": "code",
   "execution_count": null,
   "id": "stylish-philip",
   "metadata": {},
   "outputs": [],
   "source": [
    "%% bigquery\n",
    "SELECT * FROM jhu_daily_reports_staging.covid_fall2020 LIMIT 5"
   ]
  },
  {
   "cell_type": "code",
   "execution_count": null,
   "id": "breeding-pittsburgh",
   "metadata": {},
   "outputs": [],
   "source": []
  },
  {
   "cell_type": "code",
   "execution_count": null,
   "id": "living-president",
   "metadata": {},
   "outputs": [],
   "source": []
  },
  {
   "cell_type": "markdown",
   "id": "correct-albuquerque",
   "metadata": {},
   "source": [
    "### Load ACS data into BigQuery"
   ]
  },
  {
   "cell_type": "code",
   "execution_count": null,
   "id": "silver-forge",
   "metadata": {},
   "outputs": [],
   "source": [
    "acs_dataset_id = \"us_census_bureau_staging\""
   ]
  },
  {
   "cell_type": "code",
   "execution_count": null,
   "id": "boxed-settlement",
   "metadata": {},
   "outputs": [],
   "source": [
    "!bq --location=US mk --dataset {acs_dataset_id}"
   ]
  },
  {
   "cell_type": "markdown",
   "id": "incomplete-welcome",
   "metadata": {},
   "source": [
    "##### Make Table housing"
   ]
  },
  {
   "cell_type": "code",
   "execution_count": null,
   "id": "identical-capitol",
   "metadata": {},
   "outputs": [],
   "source": [
    "!bq --location=US load --autodetect --skip_leading_rows=1 \\\n",
    "--source_format=CSV {acs_dataset_id}.housing \\\n",
    "gs://covid_acs_bucket/acs/housing.csv"
   ]
  },
  {
   "cell_type": "markdown",
   "id": "attractive-cookie",
   "metadata": {},
   "source": [
    "##### Make Table demographics"
   ]
  },
  {
   "cell_type": "code",
   "execution_count": null,
   "id": "secure-fever",
   "metadata": {},
   "outputs": [],
   "source": [
    "!bq --location=US load --autodetect --skip_leading_rows=1 \\\n",
    "--source_format=CSV {acs_dataset_id}.demographics \\\n",
    "gs://covid_acs_bucket/acs/demographics.csv"
   ]
  },
  {
   "cell_type": "markdown",
   "id": "effective-prague",
   "metadata": {},
   "source": [
    "##### Make Table social"
   ]
  },
  {
   "cell_type": "code",
   "execution_count": null,
   "id": "standing-mills",
   "metadata": {},
   "outputs": [],
   "source": []
  },
  {
   "cell_type": "markdown",
   "id": "fiscal-canada",
   "metadata": {},
   "source": [
    "##### Make Table economics"
   ]
  },
  {
   "cell_type": "code",
   "execution_count": null,
   "id": "helpful-techno",
   "metadata": {},
   "outputs": [],
   "source": []
  },
  {
   "cell_type": "markdown",
   "id": "romantic-bullet",
   "metadata": {},
   "source": [
    "### Sample each ACS table to check table schema"
   ]
  },
  {
   "cell_type": "code",
   "execution_count": null,
   "id": "ongoing-fever",
   "metadata": {},
   "outputs": [],
   "source": [
    "%% bigquery\n",
    "SELECT * FROM us_census_bureau_staging.housing LIMIT 5"
   ]
  },
  {
   "cell_type": "code",
   "execution_count": null,
   "id": "economic-index",
   "metadata": {},
   "outputs": [],
   "source": [
    "%% bigquery\n",
    "SELECT * FROM us_census_bureau_staging.demographics LIMIT 5"
   ]
  }
 ],
 "metadata": {
  "environment": {
   "name": "common-cpu.mnightly-2021-01-20-debian-10-test",
   "type": "gcloud",
   "uri": "gcr.io/deeplearning-platform-release/base-cpu:mnightly-2021-01-20-debian-10-test"
  },
  "kernelspec": {
   "display_name": "Python 3",
   "language": "python",
   "name": "python3"
  },
  "language_info": {
   "codemirror_mode": {
    "name": "ipython",
    "version": 3
   },
   "file_extension": ".py",
   "mimetype": "text/x-python",
   "name": "python",
   "nbconvert_exporter": "python",
   "pygments_lexer": "ipython3",
   "version": "3.7.9"
  }
 },
 "nbformat": 4,
 "nbformat_minor": 5
}
