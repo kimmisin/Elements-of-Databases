{
 "cells": [
  {
   "cell_type": "markdown",
   "id": "indirect-martial",
   "metadata": {},
   "source": [
    "### Download and Extract the Pagila Dataset"
   ]
  },
  {
   "cell_type": "code",
   "execution_count": 1,
   "id": "elder-demographic",
   "metadata": {},
   "outputs": [
    {
     "name": "stdout",
     "output_type": "stream",
     "text": [
      "Copying gs://cs327e-open-access/pagila.zip...\n",
      "/ [1 files][672.6 KiB/672.6 KiB]                                                \n",
      "Operation completed over 1 objects/672.6 KiB.                                    \n"
     ]
    }
   ],
   "source": [
    "!gsutil cp gs://cs327e-open-access/pagila.zip ."
   ]
  },
  {
   "cell_type": "code",
   "execution_count": 2,
   "id": "prime-geometry",
   "metadata": {},
   "outputs": [
    {
     "name": "stdout",
     "output_type": "stream",
     "text": [
      "Archive:  pagila.zip\n",
      "   creating: pagila/\n",
      "  inflating: __MACOSX/._pagila       \n",
      "  inflating: pagila/.DS_Store        \n",
      "  inflating: __MACOSX/pagila/._.DS_Store  \n",
      "  inflating: pagila/pagila-insert-data.sql  \n",
      "  inflating: __MACOSX/pagila/._pagila-insert-data.sql  \n",
      "  inflating: pagila/pagila-schema.sql  \n",
      "  inflating: __MACOSX/pagila/._pagila-schema.sql  \n"
     ]
    }
   ],
   "source": [
    "!unzip pagila.zip"
   ]
  },
  {
   "cell_type": "markdown",
   "id": "specific-balance",
   "metadata": {},
   "source": [
    "### Create the Pagila Schema and Objects then Populate the Tables"
   ]
  },
  {
   "cell_type": "code",
   "execution_count": null,
   "id": "worthy-destiny",
   "metadata": {},
   "outputs": [],
   "source": [
    "!psql -c \"\\i /home/jupyter/Amaryllis/pagila/pagila-schema.sql\""
   ]
  },
  {
   "cell_type": "code",
   "execution_count": null,
   "id": "quality-falls",
   "metadata": {},
   "outputs": [],
   "source": [
    "!psql -c \"\\i /home/jupyter/Amaryllis/pagila/pagila-insert-data.sql\""
   ]
  },
  {
   "cell_type": "markdown",
   "id": "turkish-success",
   "metadata": {},
   "source": [
    "### Describe each Table"
   ]
  },
  {
   "cell_type": "code",
   "execution_count": 8,
   "id": "outside-throw",
   "metadata": {},
   "outputs": [
    {
     "name": "stdout",
     "output_type": "stream",
     "text": [
      "                                              Table \"pagila.actor\"\n",
      "   Column    |           Type           | Collation | Nullable |                    Default                     \n",
      "-------------+--------------------------+-----------+----------+------------------------------------------------\n",
      " actor_id    | integer                  |           | not null | nextval('pagila.actor_actor_id_seq'::regclass)\n",
      " first_name  | text                     |           | not null | \n",
      " last_name   | text                     |           | not null | \n",
      " last_update | timestamp with time zone |           | not null | now()\n",
      "Indexes:\n",
      "    \"actor_pkey\" PRIMARY KEY, btree (actor_id)\n",
      "    \"idx_actor_last_name\" btree (last_name)\n",
      "Referenced by:\n",
      "    TABLE \"pagila.film_actor\" CONSTRAINT \"film_actor_actor_id_fkey\" FOREIGN KEY (actor_id) REFERENCES pagila.actor(actor_id) ON UPDATE CASCADE ON DELETE RESTRICT\n",
      "Triggers:\n",
      "    last_updated BEFORE UPDATE ON pagila.actor FOR EACH ROW EXECUTE PROCEDURE pagila.last_updated()\n",
      "\n"
     ]
    }
   ],
   "source": [
    "!psql -c \"\\d pagila.actor\""
   ]
  },
  {
   "cell_type": "code",
   "execution_count": 9,
   "id": "sorted-shower",
   "metadata": {},
   "outputs": [
    {
     "name": "stdout",
     "output_type": "stream",
     "text": [
      "                                               Table \"pagila.address\"\n",
      "   Column    |           Type           | Collation | Nullable |                      Default                       \n",
      "-------------+--------------------------+-----------+----------+----------------------------------------------------\n",
      " address_id  | integer                  |           | not null | nextval('pagila.address_address_id_seq'::regclass)\n",
      " address     | text                     |           | not null | \n",
      " address2    | text                     |           |          | \n",
      " district    | text                     |           | not null | \n",
      " city_id     | smallint                 |           | not null | \n",
      " postal_code | text                     |           |          | \n",
      " phone       | text                     |           | not null | \n",
      " last_update | timestamp with time zone |           | not null | now()\n",
      "Indexes:\n",
      "    \"address_pkey\" PRIMARY KEY, btree (address_id)\n",
      "    \"idx_fk_city_id\" btree (city_id)\n",
      "Foreign-key constraints:\n",
      "    \"address_city_id_fkey\" FOREIGN KEY (city_id) REFERENCES pagila.city(city_id) ON UPDATE CASCADE ON DELETE RESTRICT\n",
      "Referenced by:\n",
      "    TABLE \"pagila.customer\" CONSTRAINT \"customer_address_id_fkey\" FOREIGN KEY (address_id) REFERENCES pagila.address(address_id) ON UPDATE CASCADE ON DELETE RESTRICT\n",
      "    TABLE \"pagila.staff\" CONSTRAINT \"staff_address_id_fkey\" FOREIGN KEY (address_id) REFERENCES pagila.address(address_id) ON UPDATE CASCADE ON DELETE RESTRICT\n",
      "    TABLE \"pagila.store\" CONSTRAINT \"store_address_id_fkey\" FOREIGN KEY (address_id) REFERENCES pagila.address(address_id) ON UPDATE CASCADE ON DELETE RESTRICT\n",
      "Triggers:\n",
      "    last_updated BEFORE UPDATE ON pagila.address FOR EACH ROW EXECUTE PROCEDURE pagila.last_updated()\n",
      "\n"
     ]
    }
   ],
   "source": [
    "!psql -c \"\\d pagila.address\""
   ]
  },
  {
   "cell_type": "code",
   "execution_count": 10,
   "id": "about-vietnamese",
   "metadata": {},
   "outputs": [
    {
     "name": "stdout",
     "output_type": "stream",
     "text": [
      "                                               Table \"pagila.category\"\n",
      "   Column    |           Type           | Collation | Nullable |                       Default                        \n",
      "-------------+--------------------------+-----------+----------+------------------------------------------------------\n",
      " category_id | integer                  |           | not null | nextval('pagila.category_category_id_seq'::regclass)\n",
      " name        | text                     |           | not null | \n",
      " last_update | timestamp with time zone |           | not null | now()\n",
      "Indexes:\n",
      "    \"category_pkey\" PRIMARY KEY, btree (category_id)\n",
      "Referenced by:\n",
      "    TABLE \"pagila.film_category\" CONSTRAINT \"film_category_category_id_fkey\" FOREIGN KEY (category_id) REFERENCES pagila.category(category_id) ON UPDATE CASCADE ON DELETE RESTRICT\n",
      "Triggers:\n",
      "    last_updated BEFORE UPDATE ON pagila.category FOR EACH ROW EXECUTE PROCEDURE pagila.last_updated()\n",
      "\n"
     ]
    }
   ],
   "source": [
    "!psql -c \"\\d pagila.category\""
   ]
  },
  {
   "cell_type": "code",
   "execution_count": 11,
   "id": "proprietary-haven",
   "metadata": {},
   "outputs": [
    {
     "name": "stdout",
     "output_type": "stream",
     "text": [
      "                                             Table \"pagila.city\"\n",
      "   Column    |           Type           | Collation | Nullable |                   Default                    \n",
      "-------------+--------------------------+-----------+----------+----------------------------------------------\n",
      " city_id     | integer                  |           | not null | nextval('pagila.city_city_id_seq'::regclass)\n",
      " city        | text                     |           | not null | \n",
      " country_id  | smallint                 |           | not null | \n",
      " last_update | timestamp with time zone |           | not null | now()\n",
      "Indexes:\n",
      "    \"city_pkey\" PRIMARY KEY, btree (city_id)\n",
      "    \"idx_fk_country_id\" btree (country_id)\n",
      "Foreign-key constraints:\n",
      "    \"city_country_id_fkey\" FOREIGN KEY (country_id) REFERENCES pagila.country(country_id) ON UPDATE CASCADE ON DELETE RESTRICT\n",
      "Referenced by:\n",
      "    TABLE \"pagila.address\" CONSTRAINT \"address_city_id_fkey\" FOREIGN KEY (city_id) REFERENCES pagila.city(city_id) ON UPDATE CASCADE ON DELETE RESTRICT\n",
      "Triggers:\n",
      "    last_updated BEFORE UPDATE ON pagila.city FOR EACH ROW EXECUTE PROCEDURE pagila.last_updated()\n",
      "\n"
     ]
    }
   ],
   "source": [
    "!psql -c \"\\d pagila.city\""
   ]
  },
  {
   "cell_type": "code",
   "execution_count": 12,
   "id": "reflected-prize",
   "metadata": {},
   "outputs": [
    {
     "name": "stdout",
     "output_type": "stream",
     "text": [
      "                                               Table \"pagila.country\"\n",
      "   Column    |           Type           | Collation | Nullable |                      Default                       \n",
      "-------------+--------------------------+-----------+----------+----------------------------------------------------\n",
      " country_id  | integer                  |           | not null | nextval('pagila.country_country_id_seq'::regclass)\n",
      " country     | text                     |           | not null | \n",
      " last_update | timestamp with time zone |           | not null | now()\n",
      "Indexes:\n",
      "    \"country_pkey\" PRIMARY KEY, btree (country_id)\n",
      "Referenced by:\n",
      "    TABLE \"pagila.city\" CONSTRAINT \"city_country_id_fkey\" FOREIGN KEY (country_id) REFERENCES pagila.country(country_id) ON UPDATE CASCADE ON DELETE RESTRICT\n",
      "Triggers:\n",
      "    last_updated BEFORE UPDATE ON pagila.country FOR EACH ROW EXECUTE PROCEDURE pagila.last_updated()\n",
      "\n"
     ]
    }
   ],
   "source": [
    "!psql -c \"\\d pagila.country\""
   ]
  },
  {
   "cell_type": "code",
   "execution_count": 13,
   "id": "critical-river",
   "metadata": {},
   "outputs": [
    {
     "name": "stdout",
     "output_type": "stream",
     "text": [
      "                                                Table \"pagila.customer\"\n",
      "   Column    |           Type           | Collation | Nullable |                        Default                        \n",
      "-------------+--------------------------+-----------+----------+-------------------------------------------------------\n",
      " customer_id | integer                  |           | not null | nextval('pagila.customer_customer_id_seq1'::regclass)\n",
      " store_id    | smallint                 |           | not null | \n",
      " first_name  | text                     |           | not null | \n",
      " last_name   | text                     |           | not null | \n",
      " email       | text                     |           |          | \n",
      " address_id  | smallint                 |           | not null | \n",
      " activebool  | boolean                  |           | not null | true\n",
      " create_date | date                     |           | not null | ('now'::text)::date\n",
      " last_update | timestamp with time zone |           |          | now()\n",
      " active      | integer                  |           |          | \n",
      "Indexes:\n",
      "    \"customer_pkey\" PRIMARY KEY, btree (customer_id)\n",
      "    \"idx_fk_address_id\" btree (address_id)\n",
      "    \"idx_fk_store_id\" btree (store_id)\n",
      "    \"idx_last_name\" btree (last_name)\n",
      "Foreign-key constraints:\n",
      "    \"customer_address_id_fkey\" FOREIGN KEY (address_id) REFERENCES pagila.address(address_id) ON UPDATE CASCADE ON DELETE RESTRICT\n",
      "    \"customer_store_id_fkey\" FOREIGN KEY (store_id) REFERENCES pagila.store(store_id) ON UPDATE CASCADE ON DELETE RESTRICT\n",
      "Referenced by:\n",
      "    TABLE \"pagila.rental\" CONSTRAINT \"rental_customer_id_fkey\" FOREIGN KEY (customer_id) REFERENCES pagila.customer(customer_id) ON UPDATE CASCADE ON DELETE RESTRICT\n",
      "Triggers:\n",
      "    last_updated BEFORE UPDATE ON pagila.customer FOR EACH ROW EXECUTE PROCEDURE pagila.last_updated()\n",
      "\n"
     ]
    }
   ],
   "source": [
    "!psql -c \"\\d pagila.customer\""
   ]
  },
  {
   "cell_type": "code",
   "execution_count": 14,
   "id": "synthetic-amber",
   "metadata": {},
   "outputs": [
    {
     "name": "stdout",
     "output_type": "stream",
     "text": [
      "                                                  Table \"pagila.film\"\n",
      "        Column        |           Type           | Collation | Nullable |                   Default                    \n",
      "----------------------+--------------------------+-----------+----------+----------------------------------------------\n",
      " film_id              | integer                  |           | not null | nextval('pagila.film_film_id_seq'::regclass)\n",
      " title                | text                     |           | not null | \n",
      " description          | text                     |           |          | \n",
      " release_year         | pagila.year              |           |          | \n",
      " language_id          | smallint                 |           | not null | \n",
      " original_language_id | smallint                 |           |          | \n",
      " rental_duration      | smallint                 |           | not null | 3\n",
      " rental_rate          | numeric(4,2)             |           | not null | 4.99\n",
      " length               | smallint                 |           |          | \n",
      " replacement_cost     | numeric(5,2)             |           | not null | 19.99\n",
      " rating               | pagila.mpaa_rating       |           |          | 'G'::pagila.mpaa_rating\n",
      " last_update          | timestamp with time zone |           | not null | now()\n",
      " special_features     | text[]                   |           |          | \n",
      " fulltext             | tsvector                 |           | not null | \n",
      "Indexes:\n",
      "    \"film_pkey\" PRIMARY KEY, btree (film_id)\n",
      "    \"film_fulltext_idx\" gist (fulltext)\n",
      "    \"idx_fk_language_id\" btree (language_id)\n",
      "    \"idx_fk_original_language_id\" btree (original_language_id)\n",
      "    \"idx_title\" btree (title)\n",
      "Foreign-key constraints:\n",
      "    \"film_language_id_fkey\" FOREIGN KEY (language_id) REFERENCES pagila.language(language_id) ON UPDATE CASCADE ON DELETE RESTRICT\n",
      "    \"film_original_language_id_fkey\" FOREIGN KEY (original_language_id) REFERENCES pagila.language(language_id) ON UPDATE CASCADE ON DELETE RESTRICT\n",
      "Referenced by:\n",
      "    TABLE \"pagila.film_actor\" CONSTRAINT \"film_actor_film_id_fkey\" FOREIGN KEY (film_id) REFERENCES pagila.film(film_id) ON UPDATE CASCADE ON DELETE RESTRICT\n",
      "    TABLE \"pagila.film_category\" CONSTRAINT \"film_category_film_id_fkey\" FOREIGN KEY (film_id) REFERENCES pagila.film(film_id) ON UPDATE CASCADE ON DELETE RESTRICT\n",
      "    TABLE \"pagila.inventory\" CONSTRAINT \"inventory_film_id_fkey\" FOREIGN KEY (film_id) REFERENCES pagila.film(film_id) ON UPDATE CASCADE ON DELETE RESTRICT\n",
      "Triggers:\n",
      "    film_fulltext_trigger BEFORE INSERT OR UPDATE ON pagila.film FOR EACH ROW EXECUTE PROCEDURE tsvector_update_trigger('fulltext', 'pg_catalog.english', 'title', 'description')\n",
      "    last_updated BEFORE UPDATE ON pagila.film FOR EACH ROW EXECUTE PROCEDURE pagila.last_updated()\n",
      "\n"
     ]
    }
   ],
   "source": [
    "!psql -c \"\\d pagila.film\""
   ]
  },
  {
   "cell_type": "code",
   "execution_count": 15,
   "id": "temporal-grounds",
   "metadata": {},
   "outputs": [
    {
     "name": "stdout",
     "output_type": "stream",
     "text": [
      "                        Table \"pagila.film_actor\"\n",
      "   Column    |           Type           | Collation | Nullable | Default \n",
      "-------------+--------------------------+-----------+----------+---------\n",
      " actor_id    | smallint                 |           | not null | \n",
      " film_id     | smallint                 |           | not null | \n",
      " last_update | timestamp with time zone |           | not null | now()\n",
      "Indexes:\n",
      "    \"film_actor_pkey\" PRIMARY KEY, btree (actor_id, film_id)\n",
      "    \"idx_fk_film_id\" btree (film_id)\n",
      "Foreign-key constraints:\n",
      "    \"film_actor_actor_id_fkey\" FOREIGN KEY (actor_id) REFERENCES pagila.actor(actor_id) ON UPDATE CASCADE ON DELETE RESTRICT\n",
      "    \"film_actor_film_id_fkey\" FOREIGN KEY (film_id) REFERENCES pagila.film(film_id) ON UPDATE CASCADE ON DELETE RESTRICT\n",
      "Triggers:\n",
      "    last_updated BEFORE UPDATE ON pagila.film_actor FOR EACH ROW EXECUTE PROCEDURE pagila.last_updated()\n",
      "\n"
     ]
    }
   ],
   "source": [
    "!psql -c \"\\d pagila.film_actor\""
   ]
  },
  {
   "cell_type": "code",
   "execution_count": 16,
   "id": "stretch-newport",
   "metadata": {},
   "outputs": [
    {
     "name": "stdout",
     "output_type": "stream",
     "text": [
      "                      Table \"pagila.film_category\"\n",
      "   Column    |           Type           | Collation | Nullable | Default \n",
      "-------------+--------------------------+-----------+----------+---------\n",
      " film_id     | smallint                 |           | not null | \n",
      " category_id | smallint                 |           | not null | \n",
      " last_update | timestamp with time zone |           | not null | now()\n",
      "Indexes:\n",
      "    \"film_category_pkey\" PRIMARY KEY, btree (film_id, category_id)\n",
      "Foreign-key constraints:\n",
      "    \"film_category_category_id_fkey\" FOREIGN KEY (category_id) REFERENCES pagila.category(category_id) ON UPDATE CASCADE ON DELETE RESTRICT\n",
      "    \"film_category_film_id_fkey\" FOREIGN KEY (film_id) REFERENCES pagila.film(film_id) ON UPDATE CASCADE ON DELETE RESTRICT\n",
      "Triggers:\n",
      "    last_updated BEFORE UPDATE ON pagila.film_category FOR EACH ROW EXECUTE PROCEDURE pagila.last_updated()\n",
      "\n"
     ]
    }
   ],
   "source": [
    "!psql -c \"\\d pagila.film_category\""
   ]
  },
  {
   "cell_type": "code",
   "execution_count": 17,
   "id": "judicial-delight",
   "metadata": {},
   "outputs": [
    {
     "name": "stdout",
     "output_type": "stream",
     "text": [
      "                                                Table \"pagila.inventory\"\n",
      "    Column    |           Type           | Collation | Nullable |                        Default                         \n",
      "--------------+--------------------------+-----------+----------+--------------------------------------------------------\n",
      " inventory_id | integer                  |           | not null | nextval('pagila.inventory_inventory_id_seq'::regclass)\n",
      " film_id      | smallint                 |           | not null | \n",
      " store_id     | smallint                 |           | not null | \n",
      " last_update  | timestamp with time zone |           | not null | now()\n",
      "Indexes:\n",
      "    \"inventory_pkey\" PRIMARY KEY, btree (inventory_id)\n",
      "    \"idx_store_id_film_id\" btree (store_id, film_id)\n",
      "Foreign-key constraints:\n",
      "    \"inventory_film_id_fkey\" FOREIGN KEY (film_id) REFERENCES pagila.film(film_id) ON UPDATE CASCADE ON DELETE RESTRICT\n",
      "    \"inventory_store_id_fkey\" FOREIGN KEY (store_id) REFERENCES pagila.store(store_id) ON UPDATE CASCADE ON DELETE RESTRICT\n",
      "Referenced by:\n",
      "    TABLE \"pagila.rental\" CONSTRAINT \"rental_inventory_id_fkey\" FOREIGN KEY (inventory_id) REFERENCES pagila.inventory(inventory_id) ON UPDATE CASCADE ON DELETE RESTRICT\n",
      "Triggers:\n",
      "    last_updated BEFORE UPDATE ON pagila.inventory FOR EACH ROW EXECUTE PROCEDURE pagila.last_updated()\n",
      "\n"
     ]
    }
   ],
   "source": [
    "!psql -c \"\\d pagila.inventory\""
   ]
  },
  {
   "cell_type": "code",
   "execution_count": 18,
   "id": "juvenile-thumb",
   "metadata": {},
   "outputs": [
    {
     "name": "stdout",
     "output_type": "stream",
     "text": [
      "                                               Table \"pagila.language\"\n",
      "   Column    |           Type           | Collation | Nullable |                       Default                        \n",
      "-------------+--------------------------+-----------+----------+------------------------------------------------------\n",
      " language_id | integer                  |           | not null | nextval('pagila.language_language_id_seq'::regclass)\n",
      " name        | character(20)            |           | not null | \n",
      " last_update | timestamp with time zone |           | not null | now()\n",
      "Indexes:\n",
      "    \"language_pkey\" PRIMARY KEY, btree (language_id)\n",
      "Referenced by:\n",
      "    TABLE \"pagila.film\" CONSTRAINT \"film_language_id_fkey\" FOREIGN KEY (language_id) REFERENCES pagila.language(language_id) ON UPDATE CASCADE ON DELETE RESTRICT\n",
      "    TABLE \"pagila.film\" CONSTRAINT \"film_original_language_id_fkey\" FOREIGN KEY (original_language_id) REFERENCES pagila.language(language_id) ON UPDATE CASCADE ON DELETE RESTRICT\n",
      "Triggers:\n",
      "    last_updated BEFORE UPDATE ON pagila.language FOR EACH ROW EXECUTE PROCEDURE pagila.last_updated()\n",
      "\n"
     ]
    }
   ],
   "source": [
    "!psql -c \"\\d pagila.language\""
   ]
  },
  {
   "cell_type": "code",
   "execution_count": 19,
   "id": "hired-reform",
   "metadata": {},
   "outputs": [
    {
     "name": "stdout",
     "output_type": "stream",
     "text": [
      "                                               Table \"pagila.payment\"\n",
      "    Column    |           Type           | Collation | Nullable |                      Default                       \n",
      "--------------+--------------------------+-----------+----------+----------------------------------------------------\n",
      " payment_id   | integer                  |           | not null | nextval('pagila.payment_payment_id_seq'::regclass)\n",
      " customer_id  | smallint                 |           | not null | \n",
      " staff_id     | smallint                 |           | not null | \n",
      " rental_id    | integer                  |           | not null | \n",
      " amount       | numeric(5,2)             |           | not null | \n",
      " payment_date | timestamp with time zone |           | not null | \n",
      "Indexes:\n",
      "    \"idx_fk_customer_id\" btree (customer_id)\n",
      "    \"idx_fk_staff_id\" btree (staff_id)\n",
      "\n"
     ]
    }
   ],
   "source": [
    "!psql -c \"\\d pagila.payment\""
   ]
  },
  {
   "cell_type": "code",
   "execution_count": 20,
   "id": "suffering-tragedy",
   "metadata": {},
   "outputs": [
    {
     "name": "stdout",
     "output_type": "stream",
     "text": [
      "                                               Table \"pagila.rental\"\n",
      "    Column    |           Type           | Collation | Nullable |                     Default                      \n",
      "--------------+--------------------------+-----------+----------+--------------------------------------------------\n",
      " rental_id    | integer                  |           | not null | nextval('pagila.rental_rental_id_seq'::regclass)\n",
      " rental_date  | timestamp with time zone |           | not null | \n",
      " inventory_id | integer                  |           | not null | \n",
      " customer_id  | smallint                 |           | not null | \n",
      " return_date  | timestamp with time zone |           |          | \n",
      " staff_id     | smallint                 |           | not null | \n",
      " last_update  | timestamp with time zone |           | not null | now()\n",
      "Indexes:\n",
      "    \"rental_pkey\" PRIMARY KEY, btree (rental_id)\n",
      "    \"idx_unq_rental_rental_date_inventory_id_customer_id\" UNIQUE, btree (rental_date, inventory_id, customer_id)\n",
      "    \"idx_fk_inventory_id\" btree (inventory_id)\n",
      "Foreign-key constraints:\n",
      "    \"rental_customer_id_fkey\" FOREIGN KEY (customer_id) REFERENCES pagila.customer(customer_id) ON UPDATE CASCADE ON DELETE RESTRICT\n",
      "    \"rental_inventory_id_fkey\" FOREIGN KEY (inventory_id) REFERENCES pagila.inventory(inventory_id) ON UPDATE CASCADE ON DELETE RESTRICT\n",
      "    \"rental_staff_id_fkey\" FOREIGN KEY (staff_id) REFERENCES pagila.staff(staff_id) ON UPDATE CASCADE ON DELETE RESTRICT\n",
      "Triggers:\n",
      "    last_updated BEFORE UPDATE ON pagila.rental FOR EACH ROW EXECUTE PROCEDURE pagila.last_updated()\n",
      "\n"
     ]
    }
   ],
   "source": [
    "!psql -c \"\\d pagila.rental\""
   ]
  },
  {
   "cell_type": "code",
   "execution_count": 21,
   "id": "minus-audience",
   "metadata": {},
   "outputs": [
    {
     "name": "stdout",
     "output_type": "stream",
     "text": [
      "                                              Table \"pagila.staff\"\n",
      "   Column    |           Type           | Collation | Nullable |                    Default                     \n",
      "-------------+--------------------------+-----------+----------+------------------------------------------------\n",
      " staff_id    | integer                  |           | not null | nextval('pagila.staff_staff_id_seq'::regclass)\n",
      " first_name  | text                     |           | not null | \n",
      " last_name   | text                     |           | not null | \n",
      " address_id  | smallint                 |           | not null | \n",
      " email       | text                     |           |          | \n",
      " store_id    | smallint                 |           | not null | \n",
      " active      | boolean                  |           | not null | true\n",
      " username    | text                     |           | not null | \n",
      " password    | text                     |           |          | \n",
      " last_update | timestamp with time zone |           | not null | now()\n",
      " picture     | bytea                    |           |          | \n",
      "Indexes:\n",
      "    \"staff_pkey\" PRIMARY KEY, btree (staff_id)\n",
      "Foreign-key constraints:\n",
      "    \"staff_address_id_fkey\" FOREIGN KEY (address_id) REFERENCES pagila.address(address_id) ON UPDATE CASCADE ON DELETE RESTRICT\n",
      "    \"staff_store_id_fkey\" FOREIGN KEY (store_id) REFERENCES pagila.store(store_id)\n",
      "Referenced by:\n",
      "    TABLE \"pagila.rental\" CONSTRAINT \"rental_staff_id_fkey\" FOREIGN KEY (staff_id) REFERENCES pagila.staff(staff_id) ON UPDATE CASCADE ON DELETE RESTRICT\n",
      "Triggers:\n",
      "    last_updated BEFORE UPDATE ON pagila.staff FOR EACH ROW EXECUTE PROCEDURE pagila.last_updated()\n",
      "\n"
     ]
    }
   ],
   "source": [
    "!psql -c \"\\d pagila.staff\""
   ]
  },
  {
   "cell_type": "code",
   "execution_count": 22,
   "id": "solid-wallace",
   "metadata": {},
   "outputs": [
    {
     "name": "stdout",
     "output_type": "stream",
     "text": [
      "                                                Table \"pagila.store\"\n",
      "      Column      |           Type           | Collation | Nullable |                    Default                     \n",
      "------------------+--------------------------+-----------+----------+------------------------------------------------\n",
      " store_id         | integer                  |           | not null | nextval('pagila.store_store_id_seq'::regclass)\n",
      " manager_staff_id | smallint                 |           | not null | \n",
      " address_id       | smallint                 |           | not null | \n",
      " last_update      | timestamp with time zone |           | not null | now()\n",
      "Indexes:\n",
      "    \"store_pkey\" PRIMARY KEY, btree (store_id)\n",
      "    \"idx_unq_manager_staff_id\" UNIQUE, btree (manager_staff_id)\n",
      "Foreign-key constraints:\n",
      "    \"store_address_id_fkey\" FOREIGN KEY (address_id) REFERENCES pagila.address(address_id) ON UPDATE CASCADE ON DELETE RESTRICT\n",
      "Referenced by:\n",
      "    TABLE \"pagila.customer\" CONSTRAINT \"customer_store_id_fkey\" FOREIGN KEY (store_id) REFERENCES pagila.store(store_id) ON UPDATE CASCADE ON DELETE RESTRICT\n",
      "    TABLE \"pagila.inventory\" CONSTRAINT \"inventory_store_id_fkey\" FOREIGN KEY (store_id) REFERENCES pagila.store(store_id) ON UPDATE CASCADE ON DELETE RESTRICT\n",
      "    TABLE \"pagila.staff\" CONSTRAINT \"staff_store_id_fkey\" FOREIGN KEY (store_id) REFERENCES pagila.store(store_id)\n",
      "Triggers:\n",
      "    last_updated BEFORE UPDATE ON pagila.store FOR EACH ROW EXECUTE PROCEDURE pagila.last_updated()\n",
      "\n"
     ]
    }
   ],
   "source": [
    "!psql -c \"\\d pagila.store\""
   ]
  },
  {
   "cell_type": "markdown",
   "id": "fitting-premiere",
   "metadata": {},
   "source": [
    "### 3 INNER JOIN Queries Between Two or More Tables with WHERE and ORDER BY"
   ]
  },
  {
   "cell_type": "code",
   "execution_count": null,
   "id": "average-washington",
   "metadata": {},
   "outputs": [],
   "source": [
    "# LIMIT clause if output > 10 rows\n",
    "# include MARKDOWN comment above each SQL statement"
   ]
  },
  {
   "cell_type": "code",
   "execution_count": null,
   "id": "intensive-depth",
   "metadata": {},
   "outputs": [],
   "source": []
  },
  {
   "cell_type": "markdown",
   "id": "short-prague",
   "metadata": {},
   "source": [
    "### 3 OUTER JOIN Queries Between Two or More Tables with WHERE and ORDER BY"
   ]
  },
  {
   "cell_type": "code",
   "execution_count": null,
   "id": "becoming-catch",
   "metadata": {},
   "outputs": [],
   "source": [
    "# LIMIT clause if output > 10 rows\n",
    "# include MARKDOWN comment above each SQL statement"
   ]
  },
  {
   "cell_type": "markdown",
   "id": "running-threshold",
   "metadata": {},
   "source": [
    "### Left Outer Join"
   ]
  },
  {
   "cell_type": "code",
   "execution_count": null,
   "id": "healthy-matter",
   "metadata": {},
   "outputs": [],
   "source": []
  },
  {
   "cell_type": "markdown",
   "id": "wooden-suite",
   "metadata": {},
   "source": [
    "### Right Outer Join"
   ]
  },
  {
   "cell_type": "code",
   "execution_count": null,
   "id": "narrative-intelligence",
   "metadata": {},
   "outputs": [],
   "source": []
  },
  {
   "cell_type": "markdown",
   "id": "mechanical-belief",
   "metadata": {},
   "source": [
    "### Full Outer Join"
   ]
  },
  {
   "cell_type": "code",
   "execution_count": null,
   "id": "dress-jaguar",
   "metadata": {},
   "outputs": [],
   "source": []
  },
  {
   "cell_type": "markdown",
   "id": "molecular-differential",
   "metadata": {},
   "source": [
    "### 1 SELF JOIN Query"
   ]
  },
  {
   "cell_type": "code",
   "execution_count": null,
   "id": "solved-maple",
   "metadata": {},
   "outputs": [],
   "source": [
    "# LIMIT clause if output > 10 rows\n",
    "# include MARKDOWN comment above each SQL statement"
   ]
  },
  {
   "cell_type": "code",
   "execution_count": null,
   "id": "accomplished-rally",
   "metadata": {},
   "outputs": [],
   "source": []
  },
  {
   "cell_type": "markdown",
   "id": "healthy-teach",
   "metadata": {},
   "source": [
    "### Sampling Each Table for ERD"
   ]
  },
  {
   "cell_type": "code",
   "execution_count": 2,
   "id": "lasting-melissa",
   "metadata": {},
   "outputs": [
    {
     "name": "stdout",
     "output_type": "stream",
     "text": [
      " actor_id | first_name |  last_name   |      last_update       \n",
      "----------+------------+--------------+------------------------\n",
      "        1 | PENELOPE   | GUINESS      | 2017-02-15 09:34:33+00\n",
      "        2 | NICK       | WAHLBERG     | 2017-02-15 09:34:33+00\n",
      "        3 | ED         | CHASE        | 2017-02-15 09:34:33+00\n",
      "        4 | JENNIFER   | DAVIS        | 2017-02-15 09:34:33+00\n",
      "        5 | JOHNNY     | LOLLOBRIGIDA | 2017-02-15 09:34:33+00\n",
      "        6 | BETTE      | NICHOLSON    | 2017-02-15 09:34:33+00\n",
      "        7 | GRACE      | MOSTEL       | 2017-02-15 09:34:33+00\n",
      "        8 | MATTHEW    | JOHANSSON    | 2017-02-15 09:34:33+00\n",
      "        9 | JOE        | SWANK        | 2017-02-15 09:34:33+00\n",
      "       10 | CHRISTIAN  | GABLE        | 2017-02-15 09:34:33+00\n",
      "       11 | ZERO       | CAGE         | 2017-02-15 09:34:33+00\n",
      "       12 | KARL       | BERRY        | 2017-02-15 09:34:33+00\n",
      "       13 | UMA        | WOOD         | 2017-02-15 09:34:33+00\n",
      "       14 | VIVIEN     | BERGEN       | 2017-02-15 09:34:33+00\n",
      "       15 | CUBA       | OLIVIER      | 2017-02-15 09:34:33+00\n",
      "       16 | FRED       | COSTNER      | 2017-02-15 09:34:33+00\n",
      "       17 | HELEN      | VOIGHT       | 2017-02-15 09:34:33+00\n",
      "       18 | DAN        | TORN         | 2017-02-15 09:34:33+00\n",
      "       19 | BOB        | FAWCETT      | 2017-02-15 09:34:33+00\n",
      "       20 | LUCILLE    | TRACY        | 2017-02-15 09:34:33+00\n",
      "       21 | KIRSTEN    | PALTROW      | 2017-02-15 09:34:33+00\n",
      "       22 | ELVIS      | MARX         | 2017-02-15 09:34:33+00\n",
      "       23 | SANDRA     | KILMER       | 2017-02-15 09:34:33+00\n",
      "       24 | CAMERON    | STREEP       | 2017-02-15 09:34:33+00\n",
      "       25 | KEVIN      | BLOOM        | 2017-02-15 09:34:33+00\n",
      "       26 | RIP        | CRAWFORD     | 2017-02-15 09:34:33+00\n",
      "       27 | JULIA      | MCQUEEN      | 2017-02-15 09:34:33+00\n",
      "       28 | WOODY      | HOFFMAN      | 2017-02-15 09:34:33+00\n",
      "       29 | ALEC       | WAYNE        | 2017-02-15 09:34:33+00\n",
      "       30 | SANDRA     | PECK         | 2017-02-15 09:34:33+00\n",
      "(30 rows)\n",
      "\n"
     ]
    }
   ],
   "source": [
    "!psql -c \"select * from pagila.actor limit 30\""
   ]
  },
  {
   "cell_type": "code",
   "execution_count": 3,
   "id": "sorted-disposition",
   "metadata": {},
   "outputs": [
    {
     "name": "stdout",
     "output_type": "stream",
     "text": [
      " address_id |                address                | address2 |       district       | city_id | postal_code |    phone     |      last_update       \n",
      "------------+---------------------------------------+----------+----------------------+---------+-------------+--------------+------------------------\n",
      "          1 | 47 MySakila Drive                     |          | Alberta              |     300 |             |              | 2017-02-15 09:45:30+00\n",
      "          2 | 28 MySQL Boulevard                    |          | QLD                  |     576 |             |              | 2017-02-15 09:45:30+00\n",
      "          3 | 23 Workhaven Lane                     |          | Alberta              |     300 |             | 14033335568  | 2017-02-15 09:45:30+00\n",
      "          4 | 1411 Lillydale Drive                  |          | QLD                  |     576 |             | 6172235589   | 2017-02-15 09:45:30+00\n",
      "          5 | 1913 Hanoi Way                        |          | Nagasaki             |     463 | 35200       | 28303384290  | 2017-02-15 09:45:30+00\n",
      "          6 | 1121 Loja Avenue                      |          | California           |     449 | 17886       | 838635286649 | 2017-02-15 09:45:30+00\n",
      "          7 | 692 Joliet Street                     |          | Attika               |      38 | 83579       | 448477190408 | 2017-02-15 09:45:30+00\n",
      "          8 | 1566 Inegl Manor                      |          | Mandalay             |     349 | 53561       | 705814003527 | 2017-02-15 09:45:30+00\n",
      "          9 | 53 Idfu Parkway                       |          | Nantou               |     361 | 42399       | 10655648674  | 2017-02-15 09:45:30+00\n",
      "         10 | 1795 Santiago de Compostela Way       |          | Texas                |     295 | 18743       | 860452626434 | 2017-02-15 09:45:30+00\n",
      "         11 | 900 Santiago de Compostela Parkway    |          | Central Serbia       |     280 | 93896       | 716571220373 | 2017-02-15 09:45:30+00\n",
      "         12 | 478 Joliet Way                        |          | Hamilton             |     200 | 77948       | 657282285970 | 2017-02-15 09:45:30+00\n",
      "         13 | 613 Korolev Drive                     |          | Masqat               |     329 | 45844       | 380657522649 | 2017-02-15 09:45:30+00\n",
      "         14 | 1531 Sal Drive                        |          | Esfahan              |     162 | 53628       | 648856936185 | 2017-02-15 09:45:30+00\n",
      "         15 | 1542 Tarlac Parkway                   |          | Kanagawa             |     440 | 1027        | 635297277345 | 2017-02-15 09:45:30+00\n",
      "         16 | 808 Bhopal Manor                      |          | Haryana              |     582 | 10672       | 465887807014 | 2017-02-15 09:45:30+00\n",
      "         17 | 270 Amroha Parkway                    |          | Osmaniye             |     384 | 29610       | 695479687538 | 2017-02-15 09:45:30+00\n",
      "         18 | 770 Bydgoszcz Avenue                  |          | California           |     120 | 16266       | 517338314235 | 2017-02-15 09:45:30+00\n",
      "         19 | 419 Iligan Lane                       |          | Madhya Pradesh       |      76 | 72878       | 990911107354 | 2017-02-15 09:45:30+00\n",
      "         20 | 360 Toulouse Parkway                  |          | England              |     495 | 54308       | 949312333307 | 2017-02-15 09:45:30+00\n",
      "         21 | 270 Toulon Boulevard                  |          | Kalmykia             |     156 | 81766       | 407752414682 | 2017-02-15 09:45:30+00\n",
      "         22 | 320 Brest Avenue                      |          | Kaduna               |     252 | 43331       | 747791594069 | 2017-02-15 09:45:30+00\n",
      "         23 | 1417 Lancaster Avenue                 |          | Northern Cape        |     267 | 72192       | 272572357893 | 2017-02-15 09:45:30+00\n",
      "         24 | 1688 Okara Way                        |          | Nothwest Border Prov |     327 | 21954       | 144453869132 | 2017-02-15 09:45:30+00\n",
      "         25 | 262 A Corua (La Corua) Parkway        |          | Dhaka                |     525 | 34418       | 892775750063 | 2017-02-15 09:45:30+00\n",
      "         26 | 28 Charlotte Amalie Street            |          | Rabat-Sal-Zammour-Z  |     443 | 37551       | 161968374323 | 2017-02-15 09:45:30+00\n",
      "         27 | 1780 Hino Boulevard                   |          | Liepaja              |     303 | 7716        | 902731229323 | 2017-02-15 09:45:30+00\n",
      "         28 | 96 Tafuna Way                         |          | Crdoba               |     128 | 99865       | 934730187245 | 2017-02-15 09:45:30+00\n",
      "         29 | 934 San Felipe de Puerto Plata Street |          | Sind                 |     472 | 99780       | 196495945706 | 2017-02-15 09:45:30+00\n",
      "         30 | 18 Duisburg Boulevard                 |          |                      |     121 | 58327       | 998009777982 | 2017-02-15 09:45:30+00\n",
      "(30 rows)\n",
      "\n"
     ]
    }
   ],
   "source": [
    "!psql -c \"select * from pagila.address limit 30\""
   ]
  },
  {
   "cell_type": "code",
   "execution_count": 4,
   "id": "healthy-hungarian",
   "metadata": {},
   "outputs": [
    {
     "name": "stdout",
     "output_type": "stream",
     "text": [
      " category_id |    name     |      last_update       \n",
      "-------------+-------------+------------------------\n",
      "           1 | Action      | 2017-02-15 09:46:27+00\n",
      "           2 | Animation   | 2017-02-15 09:46:27+00\n",
      "           3 | Children    | 2017-02-15 09:46:27+00\n",
      "           4 | Classics    | 2017-02-15 09:46:27+00\n",
      "           5 | Comedy      | 2017-02-15 09:46:27+00\n",
      "           6 | Documentary | 2017-02-15 09:46:27+00\n",
      "           7 | Drama       | 2017-02-15 09:46:27+00\n",
      "           8 | Family      | 2017-02-15 09:46:27+00\n",
      "           9 | Foreign     | 2017-02-15 09:46:27+00\n",
      "          10 | Games       | 2017-02-15 09:46:27+00\n",
      "          11 | Horror      | 2017-02-15 09:46:27+00\n",
      "          12 | Music       | 2017-02-15 09:46:27+00\n",
      "          13 | New         | 2017-02-15 09:46:27+00\n",
      "          14 | Sci-Fi      | 2017-02-15 09:46:27+00\n",
      "          15 | Sports      | 2017-02-15 09:46:27+00\n",
      "          16 | Travel      | 2017-02-15 09:46:27+00\n",
      "(16 rows)\n",
      "\n"
     ]
    }
   ],
   "source": [
    "!psql -c \"select * from pagila.category limit 30\""
   ]
  },
  {
   "cell_type": "code",
   "execution_count": 5,
   "id": "buried-tradition",
   "metadata": {},
   "outputs": [
    {
     "name": "stdout",
     "output_type": "stream",
     "text": [
      " city_id |         city          | country_id |      last_update       \n",
      "---------+-----------------------+------------+------------------------\n",
      "       1 | A Corua (La Corua)    |         87 | 2017-02-15 09:45:25+00\n",
      "       2 | Abha                  |         82 | 2017-02-15 09:45:25+00\n",
      "       3 | Abu Dhabi             |        101 | 2017-02-15 09:45:25+00\n",
      "       4 | Acua                  |         60 | 2017-02-15 09:45:25+00\n",
      "       5 | Adana                 |         97 | 2017-02-15 09:45:25+00\n",
      "       6 | Addis Abeba           |         31 | 2017-02-15 09:45:25+00\n",
      "       7 | Aden                  |        107 | 2017-02-15 09:45:25+00\n",
      "       8 | Adoni                 |         44 | 2017-02-15 09:45:25+00\n",
      "       9 | Ahmadnagar            |         44 | 2017-02-15 09:45:25+00\n",
      "      10 | Akishima              |         50 | 2017-02-15 09:45:25+00\n",
      "      11 | Akron                 |        103 | 2017-02-15 09:45:25+00\n",
      "      12 | al-Ayn                |        101 | 2017-02-15 09:45:25+00\n",
      "      13 | al-Hawiya             |         82 | 2017-02-15 09:45:25+00\n",
      "      14 | al-Manama             |         11 | 2017-02-15 09:45:25+00\n",
      "      15 | al-Qadarif            |         89 | 2017-02-15 09:45:25+00\n",
      "      16 | al-Qatif              |         82 | 2017-02-15 09:45:25+00\n",
      "      17 | Alessandria           |         49 | 2017-02-15 09:45:25+00\n",
      "      18 | Allappuzha (Alleppey) |         44 | 2017-02-15 09:45:25+00\n",
      "      19 | Allende               |         60 | 2017-02-15 09:45:25+00\n",
      "      20 | Almirante Brown       |          6 | 2017-02-15 09:45:25+00\n",
      "      21 | Alvorada              |         15 | 2017-02-15 09:45:25+00\n",
      "      22 | Ambattur              |         44 | 2017-02-15 09:45:25+00\n",
      "      23 | Amersfoort            |         67 | 2017-02-15 09:45:25+00\n",
      "      24 | Amroha                |         44 | 2017-02-15 09:45:25+00\n",
      "      25 | Angra dos Reis        |         15 | 2017-02-15 09:45:25+00\n",
      "      26 | Anpolis               |         15 | 2017-02-15 09:45:25+00\n",
      "      27 | Antofagasta           |         22 | 2017-02-15 09:45:25+00\n",
      "      28 | Aparecida de Goinia   |         15 | 2017-02-15 09:45:25+00\n",
      "      29 | Apeldoorn             |         67 | 2017-02-15 09:45:25+00\n",
      "      30 | Araatuba              |         15 | 2017-02-15 09:45:25+00\n",
      "(30 rows)\n",
      "\n"
     ]
    }
   ],
   "source": [
    "!psql -c \"select * from pagila.city limit 30\""
   ]
  },
  {
   "cell_type": "code",
   "execution_count": 6,
   "id": "automated-clarity",
   "metadata": {},
   "outputs": [
    {
     "name": "stdout",
     "output_type": "stream",
     "text": [
      " country_id |                country                |      last_update       \n",
      "------------+---------------------------------------+------------------------\n",
      "          1 | Afghanistan                           | 2017-02-15 09:44:00+00\n",
      "          2 | Algeria                               | 2017-02-15 09:44:00+00\n",
      "          3 | American Samoa                        | 2017-02-15 09:44:00+00\n",
      "          4 | Angola                                | 2017-02-15 09:44:00+00\n",
      "          5 | Anguilla                              | 2017-02-15 09:44:00+00\n",
      "          6 | Argentina                             | 2017-02-15 09:44:00+00\n",
      "          7 | Armenia                               | 2017-02-15 09:44:00+00\n",
      "          8 | Australia                             | 2017-02-15 09:44:00+00\n",
      "          9 | Austria                               | 2017-02-15 09:44:00+00\n",
      "         10 | Azerbaijan                            | 2017-02-15 09:44:00+00\n",
      "         11 | Bahrain                               | 2017-02-15 09:44:00+00\n",
      "         12 | Bangladesh                            | 2017-02-15 09:44:00+00\n",
      "         13 | Belarus                               | 2017-02-15 09:44:00+00\n",
      "         14 | Bolivia                               | 2017-02-15 09:44:00+00\n",
      "         15 | Brazil                                | 2017-02-15 09:44:00+00\n",
      "         16 | Brunei                                | 2017-02-15 09:44:00+00\n",
      "         17 | Bulgaria                              | 2017-02-15 09:44:00+00\n",
      "         18 | Cambodia                              | 2017-02-15 09:44:00+00\n",
      "         19 | Cameroon                              | 2017-02-15 09:44:00+00\n",
      "         20 | Canada                                | 2017-02-15 09:44:00+00\n",
      "         21 | Chad                                  | 2017-02-15 09:44:00+00\n",
      "         22 | Chile                                 | 2017-02-15 09:44:00+00\n",
      "         23 | China                                 | 2017-02-15 09:44:00+00\n",
      "         24 | Colombia                              | 2017-02-15 09:44:00+00\n",
      "         25 | Congo, The Democratic Republic of the | 2017-02-15 09:44:00+00\n",
      "         26 | Czech Republic                        | 2017-02-15 09:44:00+00\n",
      "         27 | Dominican Republic                    | 2017-02-15 09:44:00+00\n",
      "         28 | Ecuador                               | 2017-02-15 09:44:00+00\n",
      "         29 | Egypt                                 | 2017-02-15 09:44:00+00\n",
      "         30 | Estonia                               | 2017-02-15 09:44:00+00\n",
      "(30 rows)\n",
      "\n"
     ]
    }
   ],
   "source": [
    "!psql -c \"select * from pagila.country limit 30\""
   ]
  },
  {
   "cell_type": "code",
   "execution_count": 7,
   "id": "acknowledged-shoulder",
   "metadata": {},
   "outputs": [
    {
     "name": "stdout",
     "output_type": "stream",
     "text": [
      " customer_id | store_id | first_name | last_name |                email                | address_id | activebool | create_date |      last_update       | active \n",
      "-------------+----------+------------+-----------+-------------------------------------+------------+------------+-------------+------------------------+--------\n",
      "           1 |        1 | MARY       | SMITH     | MARY.SMITH@sakilacustomer.org       |          5 | t          | 2017-02-14  | 2017-02-15 09:57:20+00 |      1\n",
      "           2 |        1 | PATRICIA   | JOHNSON   | PATRICIA.JOHNSON@sakilacustomer.org |          6 | t          | 2017-02-14  | 2017-02-15 09:57:20+00 |      1\n",
      "           3 |        1 | LINDA      | WILLIAMS  | LINDA.WILLIAMS@sakilacustomer.org   |          7 | t          | 2017-02-14  | 2017-02-15 09:57:20+00 |      1\n",
      "           4 |        2 | BARBARA    | JONES     | BARBARA.JONES@sakilacustomer.org    |          8 | t          | 2017-02-14  | 2017-02-15 09:57:20+00 |      1\n",
      "           5 |        1 | ELIZABETH  | BROWN     | ELIZABETH.BROWN@sakilacustomer.org  |          9 | t          | 2017-02-14  | 2017-02-15 09:57:20+00 |      1\n",
      "           6 |        2 | JENNIFER   | DAVIS     | JENNIFER.DAVIS@sakilacustomer.org   |         10 | t          | 2017-02-14  | 2017-02-15 09:57:20+00 |      1\n",
      "           7 |        1 | MARIA      | MILLER    | MARIA.MILLER@sakilacustomer.org     |         11 | t          | 2017-02-14  | 2017-02-15 09:57:20+00 |      1\n",
      "           8 |        2 | SUSAN      | WILSON    | SUSAN.WILSON@sakilacustomer.org     |         12 | t          | 2017-02-14  | 2017-02-15 09:57:20+00 |      1\n",
      "           9 |        2 | MARGARET   | MOORE     | MARGARET.MOORE@sakilacustomer.org   |         13 | t          | 2017-02-14  | 2017-02-15 09:57:20+00 |      1\n",
      "          10 |        1 | DOROTHY    | TAYLOR    | DOROTHY.TAYLOR@sakilacustomer.org   |         14 | t          | 2017-02-14  | 2017-02-15 09:57:20+00 |      1\n",
      "          11 |        2 | LISA       | ANDERSON  | LISA.ANDERSON@sakilacustomer.org    |         15 | t          | 2017-02-14  | 2017-02-15 09:57:20+00 |      1\n",
      "          12 |        1 | NANCY      | THOMAS    | NANCY.THOMAS@sakilacustomer.org     |         16 | t          | 2017-02-14  | 2017-02-15 09:57:20+00 |      1\n",
      "          13 |        2 | KAREN      | JACKSON   | KAREN.JACKSON@sakilacustomer.org    |         17 | t          | 2017-02-14  | 2017-02-15 09:57:20+00 |      1\n",
      "          14 |        2 | BETTY      | WHITE     | BETTY.WHITE@sakilacustomer.org      |         18 | t          | 2017-02-14  | 2017-02-15 09:57:20+00 |      1\n",
      "          15 |        1 | HELEN      | HARRIS    | HELEN.HARRIS@sakilacustomer.org     |         19 | t          | 2017-02-14  | 2017-02-15 09:57:20+00 |      1\n",
      "          16 |        2 | SANDRA     | MARTIN    | SANDRA.MARTIN@sakilacustomer.org    |         20 | t          | 2017-02-14  | 2017-02-15 09:57:20+00 |      0\n",
      "          17 |        1 | DONNA      | THOMPSON  | DONNA.THOMPSON@sakilacustomer.org   |         21 | t          | 2017-02-14  | 2017-02-15 09:57:20+00 |      1\n",
      "          18 |        2 | CAROL      | GARCIA    | CAROL.GARCIA@sakilacustomer.org     |         22 | t          | 2017-02-14  | 2017-02-15 09:57:20+00 |      1\n",
      "          19 |        1 | RUTH       | MARTINEZ  | RUTH.MARTINEZ@sakilacustomer.org    |         23 | t          | 2017-02-14  | 2017-02-15 09:57:20+00 |      1\n",
      "          20 |        2 | SHARON     | ROBINSON  | SHARON.ROBINSON@sakilacustomer.org  |         24 | t          | 2017-02-14  | 2017-02-15 09:57:20+00 |      1\n",
      "          21 |        1 | MICHELLE   | CLARK     | MICHELLE.CLARK@sakilacustomer.org   |         25 | t          | 2017-02-14  | 2017-02-15 09:57:20+00 |      1\n",
      "          22 |        1 | LAURA      | RODRIGUEZ | LAURA.RODRIGUEZ@sakilacustomer.org  |         26 | t          | 2017-02-14  | 2017-02-15 09:57:20+00 |      1\n",
      "          23 |        2 | SARAH      | LEWIS     | SARAH.LEWIS@sakilacustomer.org      |         27 | t          | 2017-02-14  | 2017-02-15 09:57:20+00 |      1\n",
      "          24 |        2 | KIMBERLY   | LEE       | KIMBERLY.LEE@sakilacustomer.org     |         28 | t          | 2017-02-14  | 2017-02-15 09:57:20+00 |      1\n",
      "          25 |        1 | DEBORAH    | WALKER    | DEBORAH.WALKER@sakilacustomer.org   |         29 | t          | 2017-02-14  | 2017-02-15 09:57:20+00 |      1\n",
      "          26 |        2 | JESSICA    | HALL      | JESSICA.HALL@sakilacustomer.org     |         30 | t          | 2017-02-14  | 2017-02-15 09:57:20+00 |      1\n",
      "          27 |        2 | SHIRLEY    | ALLEN     | SHIRLEY.ALLEN@sakilacustomer.org    |         31 | t          | 2017-02-14  | 2017-02-15 09:57:20+00 |      1\n",
      "          28 |        1 | CYNTHIA    | YOUNG     | CYNTHIA.YOUNG@sakilacustomer.org    |         32 | t          | 2017-02-14  | 2017-02-15 09:57:20+00 |      1\n",
      "          29 |        2 | ANGELA     | HERNANDEZ | ANGELA.HERNANDEZ@sakilacustomer.org |         33 | t          | 2017-02-14  | 2017-02-15 09:57:20+00 |      1\n",
      "          30 |        1 | MELISSA    | KING      | MELISSA.KING@sakilacustomer.org     |         34 | t          | 2017-02-14  | 2017-02-15 09:57:20+00 |      1\n",
      "(30 rows)\n",
      "\n"
     ]
    }
   ],
   "source": [
    "!psql -c \"select * from pagila.customer limit 30\""
   ]
  },
  {
   "cell_type": "code",
   "execution_count": 8,
   "id": "every-resolution",
   "metadata": {},
   "outputs": [
    {
     "name": "stdout",
     "output_type": "stream",
     "text": [
      " film_id |        title         |                                                        description                                                         | release_year | language_id | original_language_id | rental_duration | rental_rate | length | replacement_cost | rating |          last_update          |                  special_features                   |                                                                                    fulltext                                                                                    \n",
      "---------+----------------------+----------------------------------------------------------------------------------------------------------------------------+--------------+-------------+----------------------+-----------------+-------------+--------+------------------+--------+-------------------------------+-----------------------------------------------------+--------------------------------------------------------------------------------------------------------------------------------------------------------------------------------\n",
      "       1 | ACADEMY DINOSAUR     | A Epic Drama of a Feminist And a Mad Scientist who must Battle a Teacher in The Canadian Rockies                           |         2006 |           1 |                      |               6 |        0.99 |     86 |            20.99 | PG     | 2017-09-10 17:46:03.905795+00 | {\"Deleted Scenes\",\"Behind the Scenes\"}              | 'academi':1 'battl':15 'canadian':20 'dinosaur':2 'drama':5 'epic':4 'feminist':8 'mad':11 'must':14 'rocki':21 'scientist':12 'teacher':17\n",
      "       2 | ACE GOLDFINGER       | A Astounding Epistle of a Database Administrator And a Explorer who must Find a Car in Ancient China                       |         2006 |           1 |                      |               3 |        4.99 |     48 |            12.99 | G      | 2017-09-10 17:46:03.905795+00 | {Trailers,\"Deleted Scenes\"}                         | 'ace':1 'administr':9 'ancient':19 'astound':4 'car':17 'china':20 'databas':8 'epistl':5 'explor':12 'find':15 'goldfing':2 'must':14\n",
      "       3 | ADAPTATION HOLES     | A Astounding Reflection of a Lumberjack And a Car who must Sink a Lumberjack in A Baloon Factory                           |         2006 |           1 |                      |               7 |        2.99 |     50 |            18.99 | NC-17  | 2017-09-10 17:46:03.905795+00 | {Trailers,\"Deleted Scenes\"}                         | 'adapt':1 'astound':4 'baloon':19 'car':11 'factori':20 'hole':2 'lumberjack':8,16 'must':13 'reflect':5 'sink':14\n",
      "       4 | AFFAIR PREJUDICE     | A Fanciful Documentary of a Frisbee And a Lumberjack who must Chase a Monkey in A Shark Tank                               |         2006 |           1 |                      |               5 |        2.99 |    117 |            26.99 | G      | 2017-09-10 17:46:03.905795+00 | {Commentaries,\"Behind the Scenes\"}                  | 'affair':1 'chase':14 'documentari':5 'fanci':4 'frisbe':8 'lumberjack':11 'monkey':16 'must':13 'prejudic':2 'shark':19 'tank':20\n",
      "       5 | AFRICAN EGG          | A Fast-Paced Documentary of a Pastry Chef And a Dentist who must Pursue a Forensic Psychologist in The Gulf of Mexico      |         2006 |           1 |                      |               6 |        2.99 |    130 |            22.99 | G      | 2017-09-10 17:46:03.905795+00 | {\"Deleted Scenes\"}                                  | 'african':1 'chef':11 'dentist':14 'documentari':7 'egg':2 'fast':5 'fast-pac':4 'forens':19 'gulf':23 'mexico':25 'must':16 'pace':6 'pastri':10 'psychologist':20 'pursu':17\n",
      "       6 | AGENT TRUMAN         | A Intrepid Panorama of a Robot And a Boy who must Escape a Sumo Wrestler in Ancient China                                  |         2006 |           1 |                      |               3 |        2.99 |    169 |            17.99 | PG     | 2017-09-10 17:46:03.905795+00 | {\"Deleted Scenes\"}                                  | 'agent':1 'ancient':19 'boy':11 'china':20 'escap':14 'intrepid':4 'must':13 'panorama':5 'robot':8 'sumo':16 'truman':2 'wrestler':17\n",
      "       7 | AIRPLANE SIERRA      | A Touching Saga of a Hunter And a Butler who must Discover a Butler in A Jet Boat                                          |         2006 |           1 |                      |               6 |        4.99 |     62 |            28.99 | PG-13  | 2017-09-10 17:46:03.905795+00 | {Trailers,\"Deleted Scenes\"}                         | 'airplan':1 'boat':20 'butler':11,16 'discov':14 'hunter':8 'jet':19 'must':13 'saga':5 'sierra':2 'touch':4\n",
      "       8 | AIRPORT POLLOCK      | A Epic Tale of a Moose And a Girl who must Confront a Monkey in Ancient India                                              |         2006 |           1 |                      |               6 |        4.99 |     54 |            15.99 | R      | 2017-09-10 17:46:03.905795+00 | {Trailers}                                          | 'airport':1 'ancient':18 'confront':14 'epic':4 'girl':11 'india':19 'monkey':16 'moos':8 'must':13 'pollock':2 'tale':5\n",
      "       9 | ALABAMA DEVIL        | A Thoughtful Panorama of a Database Administrator And a Mad Scientist who must Outgun a Mad Scientist in A Jet Boat        |         2006 |           1 |                      |               3 |        2.99 |    114 |            21.99 | PG-13  | 2017-09-10 17:46:03.905795+00 | {Trailers,\"Deleted Scenes\"}                         | 'administr':9 'alabama':1 'boat':23 'databas':8 'devil':2 'jet':22 'mad':12,18 'must':15 'outgun':16 'panorama':5 'scientist':13,19 'thought':4\n",
      "      10 | ALADDIN CALENDAR     | A Action-Packed Tale of a Man And a Lumberjack who must Reach a Feminist in Ancient China                                  |         2006 |           1 |                      |               6 |        4.99 |     63 |            24.99 | NC-17  | 2017-09-10 17:46:03.905795+00 | {Trailers,\"Deleted Scenes\"}                         | 'action':5 'action-pack':4 'aladdin':1 'ancient':20 'calendar':2 'china':21 'feminist':18 'lumberjack':13 'man':10 'must':15 'pack':6 'reach':16 'tale':7\n",
      "      11 | ALAMO VIDEOTAPE      | A Boring Epistle of a Butler And a Cat who must Fight a Pastry Chef in A MySQL Convention                                  |         2006 |           1 |                      |               6 |        0.99 |    126 |            16.99 | G      | 2017-09-10 17:46:03.905795+00 | {Commentaries,\"Behind the Scenes\"}                  | 'alamo':1 'bore':4 'butler':8 'cat':11 'chef':17 'convent':21 'epistl':5 'fight':14 'must':13 'mysql':20 'pastri':16 'videotap':2\n",
      "      12 | ALASKA PHANTOM       | A Fanciful Saga of a Hunter And a Pastry Chef who must Vanquish a Boy in Australia                                         |         2006 |           1 |                      |               6 |        0.99 |    136 |            22.99 | PG     | 2017-09-10 17:46:03.905795+00 | {Commentaries,\"Deleted Scenes\"}                     | 'alaska':1 'australia':19 'boy':17 'chef':12 'fanci':4 'hunter':8 'must':14 'pastri':11 'phantom':2 'saga':5 'vanquish':15\n",
      "     213 | DATE SPEED           | A Touching Saga of a Composer And a Moose who must Discover a Dentist in A MySQL Convention                                |         2006 |           1 |                      |               4 |        0.99 |    104 |            19.99 | R      | 2017-09-10 17:46:03.905795+00 | {Commentaries}                                      | 'compos':8 'convent':20 'date':1 'dentist':16 'discov':14 'moos':11 'must':13 'mysql':19 'saga':5 'speed':2 'touch':4\n",
      "      13 | ALI FOREVER          | A Action-Packed Drama of a Dentist And a Crocodile who must Battle a Feminist in The Canadian Rockies                      |         2006 |           1 |                      |               4 |        4.99 |    150 |            21.99 | PG     | 2017-09-10 17:46:03.905795+00 | {\"Deleted Scenes\",\"Behind the Scenes\"}              | 'action':5 'action-pack':4 'ali':1 'battl':16 'canadian':21 'crocodil':13 'dentist':10 'drama':7 'feminist':18 'forev':2 'must':15 'pack':6 'rocki':22\n",
      "      14 | ALICE FANTASIA       | A Emotional Drama of a A Shark And a Database Administrator who must Vanquish a Pioneer in Soviet Georgia                  |         2006 |           1 |                      |               6 |        0.99 |     94 |            23.99 | NC-17  | 2017-09-10 17:46:03.905795+00 | {Trailers,\"Deleted Scenes\",\"Behind the Scenes\"}     | 'administr':13 'alic':1 'databas':12 'drama':5 'emot':4 'fantasia':2 'georgia':21 'must':15 'pioneer':18 'shark':9 'soviet':20 'vanquish':16\n",
      "      15 | ALIEN CENTER         | A Brilliant Drama of a Cat And a Mad Scientist who must Battle a Feminist in A MySQL Convention                            |         2006 |           1 |                      |               5 |        2.99 |     46 |            10.99 | NC-17  | 2017-09-10 17:46:03.905795+00 | {Trailers,Commentaries,\"Behind the Scenes\"}         | 'alien':1 'battl':15 'brilliant':4 'cat':8 'center':2 'convent':21 'drama':5 'feminist':17 'mad':11 'must':14 'mysql':20 'scientist':12\n",
      "      16 | ALLEY EVOLUTION      | A Fast-Paced Drama of a Robot And a Composer who must Battle a Astronaut in New Orleans                                    |         2006 |           1 |                      |               6 |        2.99 |    180 |            23.99 | NC-17  | 2017-09-10 17:46:03.905795+00 | {Trailers,Commentaries}                             | 'alley':1 'astronaut':18 'battl':16 'compos':13 'drama':7 'evolut':2 'fast':5 'fast-pac':4 'must':15 'new':20 'orlean':21 'pace':6 'robot':10\n",
      "      17 | ALONE TRIP           | A Fast-Paced Character Study of a Composer And a Dog who must Outgun a Boat in An Abandoned Fun House                      |         2006 |           1 |                      |               3 |        0.99 |     82 |            14.99 | R      | 2017-09-10 17:46:03.905795+00 | {Trailers,\"Behind the Scenes\"}                      | 'abandon':22 'alon':1 'boat':19 'charact':7 'compos':11 'dog':14 'fast':5 'fast-pac':4 'fun':23 'hous':24 'must':16 'outgun':17 'pace':6 'studi':8 'trip':2\n",
      "      18 | ALTER VICTORY        | A Thoughtful Drama of a Composer And a Feminist who must Meet a Secret Agent in The Canadian Rockies                       |         2006 |           1 |                      |               6 |        0.99 |     57 |            27.99 | PG-13  | 2017-09-10 17:46:03.905795+00 | {Trailers,\"Behind the Scenes\"}                      | 'agent':17 'alter':1 'canadian':20 'compos':8 'drama':5 'feminist':11 'meet':14 'must':13 'rocki':21 'secret':16 'thought':4 'victori':2\n",
      "      19 | AMADEUS HOLY         | A Emotional Display of a Pioneer And a Technical Writer who must Battle a Man in A Baloon                                  |         2006 |           1 |                      |               6 |        0.99 |    113 |            20.99 | PG     | 2017-09-10 17:46:03.905795+00 | {Commentaries,\"Deleted Scenes\",\"Behind the Scenes\"} | 'amadeus':1 'baloon':20 'battl':15 'display':5 'emot':4 'holi':2 'man':17 'must':14 'pioneer':8 'technic':11 'writer':12\n",
      "      20 | AMELIE HELLFIGHTERS  | A Boring Drama of a Woman And a Squirrel who must Conquer a Student in A Baloon                                            |         2006 |           1 |                      |               4 |        4.99 |     79 |            23.99 | R      | 2017-09-10 17:46:03.905795+00 | {Commentaries,\"Deleted Scenes\",\"Behind the Scenes\"} | 'ameli':1 'baloon':19 'bore':4 'conquer':14 'drama':5 'hellfight':2 'must':13 'squirrel':11 'student':16 'woman':8\n",
      "      21 | AMERICAN CIRCUS      | A Insightful Drama of a Girl And a Astronaut who must Face a Database Administrator in A Shark Tank                        |         2006 |           1 |                      |               3 |        4.99 |    129 |            17.99 | R      | 2017-09-10 17:46:03.905795+00 | {Commentaries,\"Behind the Scenes\"}                  | 'administr':17 'american':1 'astronaut':11 'circus':2 'databas':16 'drama':5 'face':14 'girl':8 'insight':4 'must':13 'shark':20 'tank':21\n",
      "      22 | AMISTAD MIDSUMMER    | A Emotional Character Study of a Dentist And a Crocodile who must Meet a Sumo Wrestler in California                       |         2006 |           1 |                      |               6 |        2.99 |     85 |            10.99 | G      | 2017-09-10 17:46:03.905795+00 | {Commentaries,\"Behind the Scenes\"}                  | 'amistad':1 'california':20 'charact':5 'crocodil':12 'dentist':9 'emot':4 'meet':15 'midsumm':2 'must':14 'studi':6 'sumo':17 'wrestler':18\n",
      "      23 | ANACONDA CONFESSIONS | A Lacklusture Display of a Dentist And a Dentist who must Fight a Girl in Australia                                        |         2006 |           1 |                      |               3 |        0.99 |     92 |             9.99 | R      | 2017-09-10 17:46:03.905795+00 | {Trailers,\"Deleted Scenes\"}                         | 'anaconda':1 'australia':18 'confess':2 'dentist':8,11 'display':5 'fight':14 'girl':16 'lacklustur':4 'must':13\n",
      "      24 | ANALYZE HOOSIERS     | A Thoughtful Display of a Explorer And a Pastry Chef who must Overcome a Feminist in The Sahara Desert                     |         2006 |           1 |                      |               6 |        2.99 |    181 |            19.99 | R      | 2017-09-10 17:46:03.905795+00 | {Trailers,\"Behind the Scenes\"}                      | 'analyz':1 'chef':12 'desert':21 'display':5 'explor':8 'feminist':17 'hoosier':2 'must':14 'overcom':15 'pastri':11 'sahara':20 'thought':4\n",
      "      25 | ANGELS LIFE          | A Thoughtful Display of a Woman And a Astronaut who must Battle a Robot in Berlin                                          |         2006 |           1 |                      |               3 |        2.99 |     74 |            15.99 | G      | 2017-09-10 17:46:03.905795+00 | {Trailers}                                          | 'angel':1 'astronaut':11 'battl':14 'berlin':18 'display':5 'life':2 'must':13 'robot':16 'thought':4 'woman':8\n",
      "      26 | ANNIE IDENTITY       | A Amazing Panorama of a Pastry Chef And a Boat who must Escape a Woman in An Abandoned Amusement Park                      |         2006 |           1 |                      |               3 |        0.99 |     86 |            15.99 | G      | 2017-09-10 17:46:03.905795+00 | {Commentaries,\"Deleted Scenes\"}                     | 'abandon':20 'amaz':4 'amus':21 'anni':1 'boat':12 'chef':9 'escap':15 'ident':2 'must':14 'panorama':5 'park':22 'pastri':8 'woman':17\n",
      "      27 | ANONYMOUS HUMAN      | A Amazing Reflection of a Database Administrator And a Astronaut who must Outrace a Database Administrator in A Shark Tank |         2006 |           1 |                      |               7 |        0.99 |    179 |            12.99 | NC-17  | 2017-09-10 17:46:03.905795+00 | {\"Deleted Scenes\",\"Behind the Scenes\"}              | 'administr':9,18 'amaz':4 'anonym':1 'astronaut':12 'databas':8,17 'human':2 'must':14 'outrac':15 'reflect':5 'shark':21 'tank':22\n",
      "      28 | ANTHEM LUKE          | A Touching Panorama of a Waitress And a Woman who must Outrace a Dog in An Abandoned Amusement Park                        |         2006 |           1 |                      |               5 |        4.99 |     91 |            16.99 | PG-13  | 2017-09-10 17:46:03.905795+00 | {\"Deleted Scenes\",\"Behind the Scenes\"}              | 'abandon':19 'amus':20 'anthem':1 'dog':16 'luke':2 'must':13 'outrac':14 'panorama':5 'park':21 'touch':4 'waitress':8 'woman':11\n",
      "      29 | ANTITRUST TOMATOES   | A Fateful Yarn of a Womanizer And a Feminist who must Succumb a Database Administrator in Ancient India                    |         2006 |           1 |                      |               5 |        2.99 |    168 |            11.99 | NC-17  | 2017-09-10 17:46:03.905795+00 | {Trailers,Commentaries,\"Deleted Scenes\"}            | 'administr':17 'ancient':19 'antitrust':1 'databas':16 'fate':4 'feminist':11 'india':20 'must':13 'succumb':14 'tomato':2 'woman':8 'yarn':5\n",
      "(30 rows)\n",
      "\n"
     ]
    }
   ],
   "source": [
    "!psql -c \"select * from pagila.film limit 30\""
   ]
  },
  {
   "cell_type": "code",
   "execution_count": 9,
   "id": "radio-sector",
   "metadata": {},
   "outputs": [
    {
     "name": "stdout",
     "output_type": "stream",
     "text": [
      " actor_id | film_id |      last_update       \n",
      "----------+---------+------------------------\n",
      "        1 |       1 | 2017-02-15 10:05:03+00\n",
      "        1 |      23 | 2017-02-15 10:05:03+00\n",
      "        1 |      25 | 2017-02-15 10:05:03+00\n",
      "        1 |     106 | 2017-02-15 10:05:03+00\n",
      "        1 |     140 | 2017-02-15 10:05:03+00\n",
      "        1 |     166 | 2017-02-15 10:05:03+00\n",
      "        1 |     277 | 2017-02-15 10:05:03+00\n",
      "        1 |     361 | 2017-02-15 10:05:03+00\n",
      "        1 |     438 | 2017-02-15 10:05:03+00\n",
      "        1 |     499 | 2017-02-15 10:05:03+00\n",
      "        1 |     506 | 2017-02-15 10:05:03+00\n",
      "        1 |     509 | 2017-02-15 10:05:03+00\n",
      "        1 |     605 | 2017-02-15 10:05:03+00\n",
      "        1 |     635 | 2017-02-15 10:05:03+00\n",
      "        1 |     749 | 2017-02-15 10:05:03+00\n",
      "        1 |     832 | 2017-02-15 10:05:03+00\n",
      "        1 |     939 | 2017-02-15 10:05:03+00\n",
      "        1 |     970 | 2017-02-15 10:05:03+00\n",
      "        1 |     980 | 2017-02-15 10:05:03+00\n",
      "        2 |       3 | 2017-02-15 10:05:03+00\n",
      "        2 |      31 | 2017-02-15 10:05:03+00\n",
      "        2 |      47 | 2017-02-15 10:05:03+00\n",
      "        2 |     105 | 2017-02-15 10:05:03+00\n",
      "        2 |     132 | 2017-02-15 10:05:03+00\n",
      "        2 |     145 | 2017-02-15 10:05:03+00\n",
      "        2 |     226 | 2017-02-15 10:05:03+00\n",
      "        2 |     249 | 2017-02-15 10:05:03+00\n",
      "        2 |     314 | 2017-02-15 10:05:03+00\n",
      "        2 |     321 | 2017-02-15 10:05:03+00\n",
      "        2 |     357 | 2017-02-15 10:05:03+00\n",
      "(30 rows)\n",
      "\n"
     ]
    }
   ],
   "source": [
    "!psql -c \"select * from pagila.film_actor limit 30\""
   ]
  },
  {
   "cell_type": "code",
   "execution_count": 10,
   "id": "extreme-wildlife",
   "metadata": {},
   "outputs": [
    {
     "name": "stdout",
     "output_type": "stream",
     "text": [
      " film_id | category_id |      last_update       \n",
      "---------+-------------+------------------------\n",
      "       1 |           6 | 2017-02-15 10:07:09+00\n",
      "       2 |          11 | 2017-02-15 10:07:09+00\n",
      "       3 |           6 | 2017-02-15 10:07:09+00\n",
      "       4 |          11 | 2017-02-15 10:07:09+00\n",
      "       5 |           8 | 2017-02-15 10:07:09+00\n",
      "       6 |           9 | 2017-02-15 10:07:09+00\n",
      "       7 |           5 | 2017-02-15 10:07:09+00\n",
      "       8 |          11 | 2017-02-15 10:07:09+00\n",
      "       9 |          11 | 2017-02-15 10:07:09+00\n",
      "      10 |          15 | 2017-02-15 10:07:09+00\n",
      "      11 |           9 | 2017-02-15 10:07:09+00\n",
      "      12 |          12 | 2017-02-15 10:07:09+00\n",
      "      13 |          11 | 2017-02-15 10:07:09+00\n",
      "      14 |           4 | 2017-02-15 10:07:09+00\n",
      "      15 |           9 | 2017-02-15 10:07:09+00\n",
      "      16 |           9 | 2017-02-15 10:07:09+00\n",
      "      17 |          12 | 2017-02-15 10:07:09+00\n",
      "      18 |           2 | 2017-02-15 10:07:09+00\n",
      "      19 |           1 | 2017-02-15 10:07:09+00\n",
      "      20 |          12 | 2017-02-15 10:07:09+00\n",
      "      21 |           1 | 2017-02-15 10:07:09+00\n",
      "      22 |          13 | 2017-02-15 10:07:09+00\n",
      "      23 |           2 | 2017-02-15 10:07:09+00\n",
      "      24 |          11 | 2017-02-15 10:07:09+00\n",
      "      25 |          13 | 2017-02-15 10:07:09+00\n",
      "      26 |          14 | 2017-02-15 10:07:09+00\n",
      "      27 |          15 | 2017-02-15 10:07:09+00\n",
      "      28 |           5 | 2017-02-15 10:07:09+00\n",
      "      29 |           1 | 2017-02-15 10:07:09+00\n",
      "      30 |          11 | 2017-02-15 10:07:09+00\n",
      "(30 rows)\n",
      "\n"
     ]
    }
   ],
   "source": [
    "!psql -c \"select * from pagila.film_category limit 30\""
   ]
  },
  {
   "cell_type": "code",
   "execution_count": 11,
   "id": "quarterly-service",
   "metadata": {},
   "outputs": [
    {
     "name": "stdout",
     "output_type": "stream",
     "text": [
      " inventory_id | film_id | store_id |      last_update       \n",
      "--------------+---------+----------+------------------------\n",
      "            1 |       1 |        1 | 2017-02-15 10:09:17+00\n",
      "            2 |       1 |        1 | 2017-02-15 10:09:17+00\n",
      "            3 |       1 |        1 | 2017-02-15 10:09:17+00\n",
      "            4 |       1 |        1 | 2017-02-15 10:09:17+00\n",
      "            5 |       1 |        2 | 2017-02-15 10:09:17+00\n",
      "            6 |       1 |        2 | 2017-02-15 10:09:17+00\n",
      "            7 |       1 |        2 | 2017-02-15 10:09:17+00\n",
      "            8 |       1 |        2 | 2017-02-15 10:09:17+00\n",
      "            9 |       2 |        2 | 2017-02-15 10:09:17+00\n",
      "           10 |       2 |        2 | 2017-02-15 10:09:17+00\n",
      "           11 |       2 |        2 | 2017-02-15 10:09:17+00\n",
      "           12 |       3 |        2 | 2017-02-15 10:09:17+00\n",
      "           13 |       3 |        2 | 2017-02-15 10:09:17+00\n",
      "           14 |       3 |        2 | 2017-02-15 10:09:17+00\n",
      "           15 |       3 |        2 | 2017-02-15 10:09:17+00\n",
      "           16 |       4 |        1 | 2017-02-15 10:09:17+00\n",
      "           17 |       4 |        1 | 2017-02-15 10:09:17+00\n",
      "           18 |       4 |        1 | 2017-02-15 10:09:17+00\n",
      "           19 |       4 |        1 | 2017-02-15 10:09:17+00\n",
      "           20 |       4 |        2 | 2017-02-15 10:09:17+00\n",
      "           21 |       4 |        2 | 2017-02-15 10:09:17+00\n",
      "           22 |       4 |        2 | 2017-02-15 10:09:17+00\n",
      "           23 |       5 |        2 | 2017-02-15 10:09:17+00\n",
      "           24 |       5 |        2 | 2017-02-15 10:09:17+00\n",
      "           25 |       5 |        2 | 2017-02-15 10:09:17+00\n",
      "           26 |       6 |        1 | 2017-02-15 10:09:17+00\n",
      "           27 |       6 |        1 | 2017-02-15 10:09:17+00\n",
      "           28 |       6 |        1 | 2017-02-15 10:09:17+00\n",
      "           29 |       6 |        2 | 2017-02-15 10:09:17+00\n",
      "           30 |       6 |        2 | 2017-02-15 10:09:17+00\n",
      "(30 rows)\n",
      "\n"
     ]
    }
   ],
   "source": [
    "!psql -c \"select * from pagila.inventory limit 30\""
   ]
  },
  {
   "cell_type": "code",
   "execution_count": 13,
   "id": "gothic-satin",
   "metadata": {},
   "outputs": [
    {
     "name": "stdout",
     "output_type": "stream",
     "text": [
      " language_id |         name         |      last_update       \n",
      "-------------+----------------------+------------------------\n",
      "           1 | English              | 2017-02-15 10:02:19+00\n",
      "           2 | Italian              | 2017-02-15 10:02:19+00\n",
      "           3 | Japanese             | 2017-02-15 10:02:19+00\n",
      "           4 | Mandarin             | 2017-02-15 10:02:19+00\n",
      "           5 | French               | 2017-02-15 10:02:19+00\n",
      "           6 | German               | 2017-02-15 10:02:19+00\n",
      "(6 rows)\n",
      "\n"
     ]
    }
   ],
   "source": [
    "!psql -c \"select * from pagila.language limit 30\""
   ]
  },
  {
   "cell_type": "code",
   "execution_count": 14,
   "id": "subject-express",
   "metadata": {},
   "outputs": [
    {
     "name": "stdout",
     "output_type": "stream",
     "text": [
      " payment_id | customer_id | staff_id | rental_id | amount |         payment_date          \n",
      "------------+-------------+----------+-----------+--------+-------------------------------\n",
      "      16050 |         269 |        2 |         7 |   1.99 | 2017-01-24 21:40:19.996577+00\n",
      "      16051 |         269 |        1 |        98 |   0.99 | 2017-01-25 15:16:50.996577+00\n",
      "      16052 |         269 |        2 |       678 |   6.99 | 2017-01-28 21:44:14.996577+00\n",
      "      16053 |         269 |        2 |       703 |   0.99 | 2017-01-29 00:58:02.996577+00\n",
      "      16054 |         269 |        1 |       750 |   4.99 | 2017-01-29 08:10:06.996577+00\n",
      "      16055 |         269 |        2 |      1099 |   2.99 | 2017-01-31 12:23:14.996577+00\n",
      "      16056 |         270 |        1 |       193 |   1.99 | 2017-01-26 05:10:14.996577+00\n",
      "      16057 |         270 |        1 |      1040 |   4.99 | 2017-01-31 04:03:42.996577+00\n",
      "      16058 |         271 |        1 |      1096 |   8.99 | 2017-01-31 11:59:15.996577+00\n",
      "      16059 |         272 |        1 |        33 |   0.99 | 2017-01-25 02:47:17.996577+00\n",
      "      16060 |         272 |        1 |       405 |   6.99 | 2017-01-27 12:01:05.996577+00\n",
      "      16061 |         272 |        1 |      1041 |   6.99 | 2017-01-31 04:14:49.996577+00\n",
      "      16062 |         272 |        1 |      1072 |   0.99 | 2017-01-31 08:21:16.996577+00\n",
      "      16063 |         273 |        2 |       122 |   3.99 | 2017-01-25 18:14:47.996577+00\n",
      "      16064 |         273 |        2 |       980 |   0.99 | 2017-01-30 20:13:45.996577+00\n",
      "      16065 |         274 |        1 |       147 |   2.99 | 2017-01-25 22:46:16.996577+00\n",
      "      16066 |         274 |        1 |       208 |   4.99 | 2017-01-26 06:38:48.996577+00\n",
      "      16067 |         274 |        2 |       301 |   2.99 | 2017-01-26 19:34:40.996577+00\n",
      "      16068 |         274 |        1 |       394 |   5.99 | 2017-01-27 09:54:37.996577+00\n",
      "      16069 |         274 |        2 |       474 |   2.99 | 2017-01-27 20:40:22.996577+00\n",
      "      16070 |         274 |        1 |       892 |   4.99 | 2017-01-30 06:31:22.996577+00\n",
      "      16071 |         275 |        2 |       336 |   2.99 | 2017-01-27 01:43:49.996577+00\n",
      "      16072 |         276 |        1 |       736 |   3.99 | 2017-01-29 06:38:33.996577+00\n",
      "      16073 |         276 |        1 |       860 |  10.99 | 2017-01-30 01:13:42.996577+00\n",
      "      16074 |         277 |        2 |       308 |   6.99 | 2017-01-26 20:30:05.996577+00\n",
      "      16075 |         278 |        1 |      1092 |   4.99 | 2017-01-31 10:44:23.996577+00\n",
      "      16076 |         279 |        1 |       979 |   2.99 | 2017-01-30 20:05:37.996577+00\n",
      "      16077 |         279 |        2 |      1019 |   0.99 | 2017-01-31 01:33:33.996577+00\n",
      "      16078 |         280 |        1 |      1014 |   4.99 | 2017-01-31 01:07:42.996577+00\n",
      "      16079 |         281 |        2 |       650 |   2.99 | 2017-01-28 18:14:06.996577+00\n",
      "(30 rows)\n",
      "\n"
     ]
    }
   ],
   "source": [
    "!psql -c \"select * from pagila.payment limit 30\""
   ]
  },
  {
   "cell_type": "code",
   "execution_count": 15,
   "id": "willing-broad",
   "metadata": {},
   "outputs": [
    {
     "name": "stdout",
     "output_type": "stream",
     "text": [
      " rental_id |      rental_date       | inventory_id | customer_id |      return_date       | staff_id |      last_update       \n",
      "-----------+------------------------+--------------+-------------+------------------------+----------+------------------------\n",
      "         2 | 2005-05-24 22:54:33+00 |         1525 |         459 | 2005-05-28 19:40:33+00 |        1 | 2017-02-16 02:30:53+00\n",
      "         3 | 2005-05-24 23:03:39+00 |         1711 |         408 | 2005-06-01 22:12:39+00 |        1 | 2017-02-16 02:30:53+00\n",
      "         4 | 2005-05-24 23:04:41+00 |         2452 |         333 | 2005-06-03 01:43:41+00 |        2 | 2017-02-16 02:30:53+00\n",
      "         5 | 2005-05-24 23:05:21+00 |         2079 |         222 | 2005-06-02 04:33:21+00 |        1 | 2017-02-16 02:30:53+00\n",
      "         6 | 2005-05-24 23:08:07+00 |         2792 |         549 | 2005-05-27 01:32:07+00 |        1 | 2017-02-16 02:30:53+00\n",
      "         7 | 2005-05-24 23:11:53+00 |         3995 |         269 | 2005-05-29 20:34:53+00 |        2 | 2017-02-16 02:30:53+00\n",
      "         8 | 2005-05-24 23:31:46+00 |         2346 |         239 | 2005-05-27 23:33:46+00 |        2 | 2017-02-16 02:30:53+00\n",
      "         9 | 2005-05-25 00:00:40+00 |         2580 |         126 | 2005-05-28 00:22:40+00 |        1 | 2017-02-16 02:30:53+00\n",
      "        10 | 2005-05-25 00:02:21+00 |         1824 |         399 | 2005-05-31 22:44:21+00 |        2 | 2017-02-16 02:30:53+00\n",
      "        11 | 2005-05-25 00:09:02+00 |         4443 |         142 | 2005-06-02 20:56:02+00 |        2 | 2017-02-16 02:30:53+00\n",
      "        12 | 2005-05-25 00:19:27+00 |         1584 |         261 | 2005-05-30 05:44:27+00 |        2 | 2017-02-16 02:30:53+00\n",
      "        13 | 2005-05-25 00:22:55+00 |         2294 |         334 | 2005-05-30 04:28:55+00 |        1 | 2017-02-16 02:30:53+00\n",
      "        14 | 2005-05-25 00:31:15+00 |         2701 |         446 | 2005-05-26 02:56:15+00 |        1 | 2017-02-16 02:30:53+00\n",
      "        15 | 2005-05-25 00:39:22+00 |         3049 |         319 | 2005-06-03 03:30:22+00 |        1 | 2017-02-16 02:30:53+00\n",
      "        16 | 2005-05-25 00:43:11+00 |          389 |         316 | 2005-05-26 04:42:11+00 |        2 | 2017-02-16 02:30:53+00\n",
      "        17 | 2005-05-25 01:06:36+00 |          830 |         575 | 2005-05-27 00:43:36+00 |        1 | 2017-02-16 02:30:53+00\n",
      "        18 | 2005-05-25 01:10:47+00 |         3376 |          19 | 2005-05-31 06:35:47+00 |        2 | 2017-02-16 02:30:53+00\n",
      "        19 | 2005-05-25 01:17:24+00 |         1941 |         456 | 2005-05-31 06:00:24+00 |        1 | 2017-02-16 02:30:53+00\n",
      "        20 | 2005-05-25 01:48:41+00 |         3517 |         185 | 2005-05-27 02:20:41+00 |        2 | 2017-02-16 02:30:53+00\n",
      "        21 | 2005-05-25 01:59:46+00 |          146 |         388 | 2005-05-26 01:01:46+00 |        2 | 2017-02-16 02:30:53+00\n",
      "        22 | 2005-05-25 02:19:23+00 |          727 |         509 | 2005-05-26 04:52:23+00 |        2 | 2017-02-16 02:30:53+00\n",
      "        23 | 2005-05-25 02:40:21+00 |         4441 |         438 | 2005-05-29 06:34:21+00 |        1 | 2017-02-16 02:30:53+00\n",
      "        24 | 2005-05-25 02:53:02+00 |         3273 |         350 | 2005-05-27 01:15:02+00 |        1 | 2017-02-16 02:30:53+00\n",
      "        25 | 2005-05-25 03:21:20+00 |         3961 |          37 | 2005-05-27 21:25:20+00 |        2 | 2017-02-16 02:30:53+00\n",
      "        26 | 2005-05-25 03:36:50+00 |         4371 |         371 | 2005-05-31 00:34:50+00 |        1 | 2017-02-16 02:30:53+00\n",
      "        27 | 2005-05-25 03:41:50+00 |         1225 |         301 | 2005-05-30 01:13:50+00 |        2 | 2017-02-16 02:30:53+00\n",
      "        28 | 2005-05-25 03:42:37+00 |         4068 |         232 | 2005-05-26 09:26:37+00 |        2 | 2017-02-16 02:30:53+00\n",
      "        29 | 2005-05-25 03:47:12+00 |          611 |          44 | 2005-05-30 00:31:12+00 |        2 | 2017-02-16 02:30:53+00\n",
      "        30 | 2005-05-25 04:01:32+00 |         3744 |         430 | 2005-05-30 03:12:32+00 |        1 | 2017-02-16 02:30:53+00\n",
      "        31 | 2005-05-25 04:05:17+00 |         4482 |         369 | 2005-05-30 07:15:17+00 |        1 | 2017-02-16 02:30:53+00\n",
      "(30 rows)\n",
      "\n"
     ]
    }
   ],
   "source": [
    "!psql -c \"select * from pagila.rental limit 30\""
   ]
  },
  {
   "cell_type": "code",
   "execution_count": 16,
   "id": "accepted-second",
   "metadata": {},
   "outputs": [
    {
     "name": "stdout",
     "output_type": "stream",
     "text": [
      " staff_id | first_name | last_name | address_id |            email             | store_id | active | username |                 password                 |         last_update          \n",
      "----------+------------+-----------+------------+------------------------------+----------+--------+----------+------------------------------------------+------------------------------\n",
      "        1 | Mike       | Hillyer   |          3 | Mike.Hillyer@sakilastaff.com |        1 | t      | Mike     | 8cb2237d0679ca88db6464eac60da96345513964 | 2017-05-16 16:13:11.79328+00\n",
      "        2 | Jon        | Stephens  |          4 | Jon.Stephens@sakilastaff.com |        2 | t      | Jon      | 8cb2237d0679ca88db6464eac60da96345513964 | 2017-05-16 16:13:11.79328+00\n",
      "(2 rows)\n",
      "\n"
     ]
    }
   ],
   "source": [
    "!psql -c \"select staff_id, first_name, last_name, address_id, email, store_id, active, username, password, last_update from pagila.staff limit 30\""
   ]
  },
  {
   "cell_type": "code",
   "execution_count": 17,
   "id": "about-trinidad",
   "metadata": {},
   "outputs": [
    {
     "name": "stdout",
     "output_type": "stream",
     "text": [
      " store_id | manager_staff_id | address_id |      last_update       \n",
      "----------+------------------+------------+------------------------\n",
      "        1 |                1 |          1 | 2017-02-15 09:57:12+00\n",
      "        2 |                2 |          2 | 2017-02-15 09:57:12+00\n",
      "(2 rows)\n",
      "\n"
     ]
    }
   ],
   "source": [
    "!psql -c \"select * from pagila.store limit 30\""
   ]
  },
  {
   "cell_type": "code",
   "execution_count": null,
   "id": "awful-hunger",
   "metadata": {},
   "outputs": [],
   "source": []
  }
 ],
 "metadata": {
  "environment": {
   "name": "common-cpu.mnightly-2021-01-20-debian-10-test",
   "type": "gcloud",
   "uri": "gcr.io/deeplearning-platform-release/base-cpu:mnightly-2021-01-20-debian-10-test"
  },
  "kernelspec": {
   "display_name": "Python 3",
   "language": "python",
   "name": "python3"
  },
  "language_info": {
   "codemirror_mode": {
    "name": "ipython",
    "version": 3
   },
   "file_extension": ".py",
   "mimetype": "text/x-python",
   "name": "python",
   "nbconvert_exporter": "python",
   "pygments_lexer": "ipython3",
   "version": "3.7.9"
  }
 },
 "nbformat": 4,
 "nbformat_minor": 5
}
