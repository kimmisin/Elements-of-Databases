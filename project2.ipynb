{
 "cells": [
  {
   "cell_type": "markdown",
   "id": "successful-audio",
   "metadata": {},
   "source": [
    "### Download and Extract the Pagila Dataset"
   ]
  },
  {
   "cell_type": "code",
   "execution_count": 9,
   "id": "suburban-relation",
   "metadata": {},
   "outputs": [
    {
     "name": "stdout",
     "output_type": "stream",
     "text": [
      "Copying gs://cs327e-open-access/pagila.zip...\n",
      "/ [1 files][672.6 KiB/672.6 KiB]                                                \n",
      "Operation completed over 1 objects/672.6 KiB.                                    \n"
     ]
    }
   ],
   "source": [
    "!gsutil cp gs://cs327e-open-access/pagila.zip ."
   ]
  },
  {
   "cell_type": "code",
   "execution_count": 10,
   "id": "economic-jonathan",
   "metadata": {},
   "outputs": [
    {
     "name": "stdout",
     "output_type": "stream",
     "text": [
      "Archive:  pagila.zip\n",
      "   creating: pagila/\n",
      "  inflating: __MACOSX/._pagila       \n",
      "  inflating: pagila/.DS_Store        \n",
      "  inflating: __MACOSX/pagila/._.DS_Store  \n",
      "  inflating: pagila/pagila-insert-data.sql  \n",
      "  inflating: __MACOSX/pagila/._pagila-insert-data.sql  \n",
      "  inflating: pagila/pagila-schema.sql  \n",
      "  inflating: __MACOSX/pagila/._pagila-schema.sql  \n"
     ]
    }
   ],
   "source": [
    "!unzip pagila.zip"
   ]
  },
  {
   "cell_type": "markdown",
   "id": "incredible-oxide",
   "metadata": {},
   "source": [
    "### Create the Pagila Schema and Objects then Populate the Tables"
   ]
  },
  {
   "cell_type": "markdown",
   "id": "theoretical-microwave",
   "metadata": {},
   "source": [
    "##### Removed output to decrease scrolling"
   ]
  },
  {
   "cell_type": "code",
   "execution_count": null,
   "id": "auburn-volunteer",
   "metadata": {},
   "outputs": [],
   "source": [
    "!psql -c \"\\i /home/jupyter/Amaryllis/pagila/pagila-schema.sql\""
   ]
  },
  {
   "cell_type": "code",
   "execution_count": null,
   "id": "cutting-representative",
   "metadata": {},
   "outputs": [],
   "source": [
    "!psql -c \"\\i /home/jupyter/Amaryllis/pagila/pagila-insert-data.sql\""
   ]
  },
  {
   "cell_type": "markdown",
   "id": "specific-audio",
   "metadata": {},
   "source": [
    "### Describe each Table"
   ]
  },
  {
   "cell_type": "code",
   "execution_count": 13,
   "id": "electronic-paris",
   "metadata": {},
   "outputs": [
    {
     "name": "stdout",
     "output_type": "stream",
     "text": [
      "                                              Table \"pagila.actor\"\n",
      "   Column    |           Type           | Collation | Nullable |                    Default                     \n",
      "-------------+--------------------------+-----------+----------+------------------------------------------------\n",
      " actor_id    | integer                  |           | not null | nextval('pagila.actor_actor_id_seq'::regclass)\n",
      " first_name  | text                     |           | not null | \n",
      " last_name   | text                     |           | not null | \n",
      " last_update | timestamp with time zone |           | not null | now()\n",
      "Indexes:\n",
      "    \"actor_pkey\" PRIMARY KEY, btree (actor_id)\n",
      "    \"idx_actor_last_name\" btree (last_name)\n",
      "Referenced by:\n",
      "    TABLE \"pagila.film_actor\" CONSTRAINT \"film_actor_actor_id_fkey\" FOREIGN KEY (actor_id) REFERENCES pagila.actor(actor_id) ON UPDATE CASCADE ON DELETE RESTRICT\n",
      "Triggers:\n",
      "    last_updated BEFORE UPDATE ON pagila.actor FOR EACH ROW EXECUTE PROCEDURE pagila.last_updated()\n",
      "\n"
     ]
    }
   ],
   "source": [
    "!psql -c \"\\d pagila.actor\""
   ]
  },
  {
   "cell_type": "code",
   "execution_count": 14,
   "id": "dominican-bread",
   "metadata": {},
   "outputs": [
    {
     "name": "stdout",
     "output_type": "stream",
     "text": [
      "                                               Table \"pagila.address\"\n",
      "   Column    |           Type           | Collation | Nullable |                      Default                       \n",
      "-------------+--------------------------+-----------+----------+----------------------------------------------------\n",
      " address_id  | integer                  |           | not null | nextval('pagila.address_address_id_seq'::regclass)\n",
      " address     | text                     |           | not null | \n",
      " address2    | text                     |           |          | \n",
      " district    | text                     |           | not null | \n",
      " city_id     | smallint                 |           | not null | \n",
      " postal_code | text                     |           |          | \n",
      " phone       | text                     |           | not null | \n",
      " last_update | timestamp with time zone |           | not null | now()\n",
      "Indexes:\n",
      "    \"address_pkey\" PRIMARY KEY, btree (address_id)\n",
      "    \"idx_fk_city_id\" btree (city_id)\n",
      "Foreign-key constraints:\n",
      "    \"address_city_id_fkey\" FOREIGN KEY (city_id) REFERENCES pagila.city(city_id) ON UPDATE CASCADE ON DELETE RESTRICT\n",
      "Referenced by:\n",
      "    TABLE \"pagila.customer\" CONSTRAINT \"customer_address_id_fkey\" FOREIGN KEY (address_id) REFERENCES pagila.address(address_id) ON UPDATE CASCADE ON DELETE RESTRICT\n",
      "    TABLE \"pagila.staff\" CONSTRAINT \"staff_address_id_fkey\" FOREIGN KEY (address_id) REFERENCES pagila.address(address_id) ON UPDATE CASCADE ON DELETE RESTRICT\n",
      "    TABLE \"pagila.store\" CONSTRAINT \"store_address_id_fkey\" FOREIGN KEY (address_id) REFERENCES pagila.address(address_id) ON UPDATE CASCADE ON DELETE RESTRICT\n",
      "Triggers:\n",
      "    last_updated BEFORE UPDATE ON pagila.address FOR EACH ROW EXECUTE PROCEDURE pagila.last_updated()\n",
      "\n"
     ]
    }
   ],
   "source": [
    "!psql -c \"\\d pagila.address\""
   ]
  },
  {
   "cell_type": "code",
   "execution_count": 15,
   "id": "adjustable-cross",
   "metadata": {},
   "outputs": [
    {
     "name": "stdout",
     "output_type": "stream",
     "text": [
      "                                               Table \"pagila.category\"\n",
      "   Column    |           Type           | Collation | Nullable |                       Default                        \n",
      "-------------+--------------------------+-----------+----------+------------------------------------------------------\n",
      " category_id | integer                  |           | not null | nextval('pagila.category_category_id_seq'::regclass)\n",
      " name        | text                     |           | not null | \n",
      " last_update | timestamp with time zone |           | not null | now()\n",
      "Indexes:\n",
      "    \"category_pkey\" PRIMARY KEY, btree (category_id)\n",
      "Referenced by:\n",
      "    TABLE \"pagila.film_category\" CONSTRAINT \"film_category_category_id_fkey\" FOREIGN KEY (category_id) REFERENCES pagila.category(category_id) ON UPDATE CASCADE ON DELETE RESTRICT\n",
      "Triggers:\n",
      "    last_updated BEFORE UPDATE ON pagila.category FOR EACH ROW EXECUTE PROCEDURE pagila.last_updated()\n",
      "\n"
     ]
    }
   ],
   "source": [
    "!psql -c \"\\d pagila.category\""
   ]
  },
  {
   "cell_type": "code",
   "execution_count": 16,
   "id": "transparent-general",
   "metadata": {},
   "outputs": [
    {
     "name": "stdout",
     "output_type": "stream",
     "text": [
      "                                             Table \"pagila.city\"\n",
      "   Column    |           Type           | Collation | Nullable |                   Default                    \n",
      "-------------+--------------------------+-----------+----------+----------------------------------------------\n",
      " city_id     | integer                  |           | not null | nextval('pagila.city_city_id_seq'::regclass)\n",
      " city        | text                     |           | not null | \n",
      " country_id  | smallint                 |           | not null | \n",
      " last_update | timestamp with time zone |           | not null | now()\n",
      "Indexes:\n",
      "    \"city_pkey\" PRIMARY KEY, btree (city_id)\n",
      "    \"idx_fk_country_id\" btree (country_id)\n",
      "Foreign-key constraints:\n",
      "    \"city_country_id_fkey\" FOREIGN KEY (country_id) REFERENCES pagila.country(country_id) ON UPDATE CASCADE ON DELETE RESTRICT\n",
      "Referenced by:\n",
      "    TABLE \"pagila.address\" CONSTRAINT \"address_city_id_fkey\" FOREIGN KEY (city_id) REFERENCES pagila.city(city_id) ON UPDATE CASCADE ON DELETE RESTRICT\n",
      "Triggers:\n",
      "    last_updated BEFORE UPDATE ON pagila.city FOR EACH ROW EXECUTE PROCEDURE pagila.last_updated()\n",
      "\n"
     ]
    }
   ],
   "source": [
    "!psql -c \"\\d pagila.city\""
   ]
  },
  {
   "cell_type": "code",
   "execution_count": 17,
   "id": "small-geometry",
   "metadata": {},
   "outputs": [
    {
     "name": "stdout",
     "output_type": "stream",
     "text": [
      "                                               Table \"pagila.country\"\n",
      "   Column    |           Type           | Collation | Nullable |                      Default                       \n",
      "-------------+--------------------------+-----------+----------+----------------------------------------------------\n",
      " country_id  | integer                  |           | not null | nextval('pagila.country_country_id_seq'::regclass)\n",
      " country     | text                     |           | not null | \n",
      " last_update | timestamp with time zone |           | not null | now()\n",
      "Indexes:\n",
      "    \"country_pkey\" PRIMARY KEY, btree (country_id)\n",
      "Referenced by:\n",
      "    TABLE \"pagila.city\" CONSTRAINT \"city_country_id_fkey\" FOREIGN KEY (country_id) REFERENCES pagila.country(country_id) ON UPDATE CASCADE ON DELETE RESTRICT\n",
      "Triggers:\n",
      "    last_updated BEFORE UPDATE ON pagila.country FOR EACH ROW EXECUTE PROCEDURE pagila.last_updated()\n",
      "\n"
     ]
    }
   ],
   "source": [
    "!psql -c \"\\d pagila.country\""
   ]
  },
  {
   "cell_type": "code",
   "execution_count": 18,
   "id": "underlying-coupon",
   "metadata": {},
   "outputs": [
    {
     "name": "stdout",
     "output_type": "stream",
     "text": [
      "                                                Table \"pagila.customer\"\n",
      "   Column    |           Type           | Collation | Nullable |                        Default                        \n",
      "-------------+--------------------------+-----------+----------+-------------------------------------------------------\n",
      " customer_id | integer                  |           | not null | nextval('pagila.customer_customer_id_seq1'::regclass)\n",
      " store_id    | smallint                 |           | not null | \n",
      " first_name  | text                     |           | not null | \n",
      " last_name   | text                     |           | not null | \n",
      " email       | text                     |           |          | \n",
      " address_id  | smallint                 |           | not null | \n",
      " activebool  | boolean                  |           | not null | true\n",
      " create_date | date                     |           | not null | ('now'::text)::date\n",
      " last_update | timestamp with time zone |           |          | now()\n",
      " active      | integer                  |           |          | \n",
      "Indexes:\n",
      "    \"customer_pkey\" PRIMARY KEY, btree (customer_id)\n",
      "    \"idx_fk_address_id\" btree (address_id)\n",
      "    \"idx_fk_store_id\" btree (store_id)\n",
      "    \"idx_last_name\" btree (last_name)\n",
      "Foreign-key constraints:\n",
      "    \"customer_address_id_fkey\" FOREIGN KEY (address_id) REFERENCES pagila.address(address_id) ON UPDATE CASCADE ON DELETE RESTRICT\n",
      "    \"customer_store_id_fkey\" FOREIGN KEY (store_id) REFERENCES pagila.store(store_id) ON UPDATE CASCADE ON DELETE RESTRICT\n",
      "Referenced by:\n",
      "    TABLE \"pagila.rental\" CONSTRAINT \"rental_customer_id_fkey\" FOREIGN KEY (customer_id) REFERENCES pagila.customer(customer_id) ON UPDATE CASCADE ON DELETE RESTRICT\n",
      "Triggers:\n",
      "    last_updated BEFORE UPDATE ON pagila.customer FOR EACH ROW EXECUTE PROCEDURE pagila.last_updated()\n",
      "\n"
     ]
    }
   ],
   "source": [
    "!psql -c \"\\d pagila.customer\""
   ]
  },
  {
   "cell_type": "code",
   "execution_count": 19,
   "id": "protected-sleeve",
   "metadata": {},
   "outputs": [
    {
     "name": "stdout",
     "output_type": "stream",
     "text": [
      "                                                  Table \"pagila.film\"\n",
      "        Column        |           Type           | Collation | Nullable |                   Default                    \n",
      "----------------------+--------------------------+-----------+----------+----------------------------------------------\n",
      " film_id              | integer                  |           | not null | nextval('pagila.film_film_id_seq'::regclass)\n",
      " title                | text                     |           | not null | \n",
      " description          | text                     |           |          | \n",
      " release_year         | pagila.year              |           |          | \n",
      " language_id          | smallint                 |           | not null | \n",
      " original_language_id | smallint                 |           |          | \n",
      " rental_duration      | smallint                 |           | not null | 3\n",
      " rental_rate          | numeric(4,2)             |           | not null | 4.99\n",
      " length               | smallint                 |           |          | \n",
      " replacement_cost     | numeric(5,2)             |           | not null | 19.99\n",
      " rating               | pagila.mpaa_rating       |           |          | 'G'::pagila.mpaa_rating\n",
      " last_update          | timestamp with time zone |           | not null | now()\n",
      " special_features     | text[]                   |           |          | \n",
      " fulltext             | tsvector                 |           | not null | \n",
      "Indexes:\n",
      "    \"film_pkey\" PRIMARY KEY, btree (film_id)\n",
      "    \"film_fulltext_idx\" gist (fulltext)\n",
      "    \"idx_fk_language_id\" btree (language_id)\n",
      "    \"idx_fk_original_language_id\" btree (original_language_id)\n",
      "    \"idx_title\" btree (title)\n",
      "Foreign-key constraints:\n",
      "    \"film_language_id_fkey\" FOREIGN KEY (language_id) REFERENCES pagila.language(language_id) ON UPDATE CASCADE ON DELETE RESTRICT\n",
      "    \"film_original_language_id_fkey\" FOREIGN KEY (original_language_id) REFERENCES pagila.language(language_id) ON UPDATE CASCADE ON DELETE RESTRICT\n",
      "Referenced by:\n",
      "    TABLE \"pagila.film_actor\" CONSTRAINT \"film_actor_film_id_fkey\" FOREIGN KEY (film_id) REFERENCES pagila.film(film_id) ON UPDATE CASCADE ON DELETE RESTRICT\n",
      "    TABLE \"pagila.film_category\" CONSTRAINT \"film_category_film_id_fkey\" FOREIGN KEY (film_id) REFERENCES pagila.film(film_id) ON UPDATE CASCADE ON DELETE RESTRICT\n",
      "    TABLE \"pagila.inventory\" CONSTRAINT \"inventory_film_id_fkey\" FOREIGN KEY (film_id) REFERENCES pagila.film(film_id) ON UPDATE CASCADE ON DELETE RESTRICT\n",
      "Triggers:\n",
      "    film_fulltext_trigger BEFORE INSERT OR UPDATE ON pagila.film FOR EACH ROW EXECUTE PROCEDURE tsvector_update_trigger('fulltext', 'pg_catalog.english', 'title', 'description')\n",
      "    last_updated BEFORE UPDATE ON pagila.film FOR EACH ROW EXECUTE PROCEDURE pagila.last_updated()\n",
      "\n"
     ]
    }
   ],
   "source": [
    "!psql -c \"\\d pagila.film\""
   ]
  },
  {
   "cell_type": "code",
   "execution_count": 20,
   "id": "czech-headset",
   "metadata": {},
   "outputs": [
    {
     "name": "stdout",
     "output_type": "stream",
     "text": [
      "                        Table \"pagila.film_actor\"\n",
      "   Column    |           Type           | Collation | Nullable | Default \n",
      "-------------+--------------------------+-----------+----------+---------\n",
      " actor_id    | smallint                 |           | not null | \n",
      " film_id     | smallint                 |           | not null | \n",
      " last_update | timestamp with time zone |           | not null | now()\n",
      "Indexes:\n",
      "    \"film_actor_pkey\" PRIMARY KEY, btree (actor_id, film_id)\n",
      "    \"idx_fk_film_id\" btree (film_id)\n",
      "Foreign-key constraints:\n",
      "    \"film_actor_actor_id_fkey\" FOREIGN KEY (actor_id) REFERENCES pagila.actor(actor_id) ON UPDATE CASCADE ON DELETE RESTRICT\n",
      "    \"film_actor_film_id_fkey\" FOREIGN KEY (film_id) REFERENCES pagila.film(film_id) ON UPDATE CASCADE ON DELETE RESTRICT\n",
      "Triggers:\n",
      "    last_updated BEFORE UPDATE ON pagila.film_actor FOR EACH ROW EXECUTE PROCEDURE pagila.last_updated()\n",
      "\n"
     ]
    }
   ],
   "source": [
    "!psql -c \"\\d pagila.film_actor\""
   ]
  },
  {
   "cell_type": "code",
   "execution_count": 21,
   "id": "headed-yeast",
   "metadata": {},
   "outputs": [
    {
     "name": "stdout",
     "output_type": "stream",
     "text": [
      "                      Table \"pagila.film_category\"\n",
      "   Column    |           Type           | Collation | Nullable | Default \n",
      "-------------+--------------------------+-----------+----------+---------\n",
      " film_id     | smallint                 |           | not null | \n",
      " category_id | smallint                 |           | not null | \n",
      " last_update | timestamp with time zone |           | not null | now()\n",
      "Indexes:\n",
      "    \"film_category_pkey\" PRIMARY KEY, btree (film_id, category_id)\n",
      "Foreign-key constraints:\n",
      "    \"film_category_category_id_fkey\" FOREIGN KEY (category_id) REFERENCES pagila.category(category_id) ON UPDATE CASCADE ON DELETE RESTRICT\n",
      "    \"film_category_film_id_fkey\" FOREIGN KEY (film_id) REFERENCES pagila.film(film_id) ON UPDATE CASCADE ON DELETE RESTRICT\n",
      "Triggers:\n",
      "    last_updated BEFORE UPDATE ON pagila.film_category FOR EACH ROW EXECUTE PROCEDURE pagila.last_updated()\n",
      "\n"
     ]
    }
   ],
   "source": [
    "!psql -c \"\\d pagila.film_category\""
   ]
  },
  {
   "cell_type": "code",
   "execution_count": 22,
   "id": "electronic-demonstration",
   "metadata": {},
   "outputs": [
    {
     "name": "stdout",
     "output_type": "stream",
     "text": [
      "                                                Table \"pagila.inventory\"\n",
      "    Column    |           Type           | Collation | Nullable |                        Default                         \n",
      "--------------+--------------------------+-----------+----------+--------------------------------------------------------\n",
      " inventory_id | integer                  |           | not null | nextval('pagila.inventory_inventory_id_seq'::regclass)\n",
      " film_id      | smallint                 |           | not null | \n",
      " store_id     | smallint                 |           | not null | \n",
      " last_update  | timestamp with time zone |           | not null | now()\n",
      "Indexes:\n",
      "    \"inventory_pkey\" PRIMARY KEY, btree (inventory_id)\n",
      "    \"idx_store_id_film_id\" btree (store_id, film_id)\n",
      "Foreign-key constraints:\n",
      "    \"inventory_film_id_fkey\" FOREIGN KEY (film_id) REFERENCES pagila.film(film_id) ON UPDATE CASCADE ON DELETE RESTRICT\n",
      "    \"inventory_store_id_fkey\" FOREIGN KEY (store_id) REFERENCES pagila.store(store_id) ON UPDATE CASCADE ON DELETE RESTRICT\n",
      "Referenced by:\n",
      "    TABLE \"pagila.rental\" CONSTRAINT \"rental_inventory_id_fkey\" FOREIGN KEY (inventory_id) REFERENCES pagila.inventory(inventory_id) ON UPDATE CASCADE ON DELETE RESTRICT\n",
      "Triggers:\n",
      "    last_updated BEFORE UPDATE ON pagila.inventory FOR EACH ROW EXECUTE PROCEDURE pagila.last_updated()\n",
      "\n"
     ]
    }
   ],
   "source": [
    "!psql -c \"\\d pagila.inventory\""
   ]
  },
  {
   "cell_type": "code",
   "execution_count": 23,
   "id": "advisory-queensland",
   "metadata": {},
   "outputs": [
    {
     "name": "stdout",
     "output_type": "stream",
     "text": [
      "                                               Table \"pagila.language\"\n",
      "   Column    |           Type           | Collation | Nullable |                       Default                        \n",
      "-------------+--------------------------+-----------+----------+------------------------------------------------------\n",
      " language_id | integer                  |           | not null | nextval('pagila.language_language_id_seq'::regclass)\n",
      " name        | character(20)            |           | not null | \n",
      " last_update | timestamp with time zone |           | not null | now()\n",
      "Indexes:\n",
      "    \"language_pkey\" PRIMARY KEY, btree (language_id)\n",
      "Referenced by:\n",
      "    TABLE \"pagila.film\" CONSTRAINT \"film_language_id_fkey\" FOREIGN KEY (language_id) REFERENCES pagila.language(language_id) ON UPDATE CASCADE ON DELETE RESTRICT\n",
      "    TABLE \"pagila.film\" CONSTRAINT \"film_original_language_id_fkey\" FOREIGN KEY (original_language_id) REFERENCES pagila.language(language_id) ON UPDATE CASCADE ON DELETE RESTRICT\n",
      "Triggers:\n",
      "    last_updated BEFORE UPDATE ON pagila.language FOR EACH ROW EXECUTE PROCEDURE pagila.last_updated()\n",
      "\n"
     ]
    }
   ],
   "source": [
    "!psql -c \"\\d pagila.language\""
   ]
  },
  {
   "cell_type": "code",
   "execution_count": 24,
   "id": "tamil-royalty",
   "metadata": {},
   "outputs": [
    {
     "name": "stdout",
     "output_type": "stream",
     "text": [
      "                                               Table \"pagila.payment\"\n",
      "    Column    |           Type           | Collation | Nullable |                      Default                       \n",
      "--------------+--------------------------+-----------+----------+----------------------------------------------------\n",
      " payment_id   | integer                  |           | not null | nextval('pagila.payment_payment_id_seq'::regclass)\n",
      " customer_id  | smallint                 |           | not null | \n",
      " staff_id     | smallint                 |           | not null | \n",
      " rental_id    | integer                  |           | not null | \n",
      " amount       | numeric(5,2)             |           | not null | \n",
      " payment_date | timestamp with time zone |           | not null | \n",
      "Indexes:\n",
      "    \"idx_fk_customer_id\" btree (customer_id)\n",
      "    \"idx_fk_staff_id\" btree (staff_id)\n",
      "\n"
     ]
    }
   ],
   "source": [
    "!psql -c \"\\d pagila.payment\""
   ]
  },
  {
   "cell_type": "code",
   "execution_count": 25,
   "id": "induced-married",
   "metadata": {},
   "outputs": [
    {
     "name": "stdout",
     "output_type": "stream",
     "text": [
      "                                               Table \"pagila.rental\"\n",
      "    Column    |           Type           | Collation | Nullable |                     Default                      \n",
      "--------------+--------------------------+-----------+----------+--------------------------------------------------\n",
      " rental_id    | integer                  |           | not null | nextval('pagila.rental_rental_id_seq'::regclass)\n",
      " rental_date  | timestamp with time zone |           | not null | \n",
      " inventory_id | integer                  |           | not null | \n",
      " customer_id  | smallint                 |           | not null | \n",
      " return_date  | timestamp with time zone |           |          | \n",
      " staff_id     | smallint                 |           | not null | \n",
      " last_update  | timestamp with time zone |           | not null | now()\n",
      "Indexes:\n",
      "    \"rental_pkey\" PRIMARY KEY, btree (rental_id)\n",
      "    \"idx_unq_rental_rental_date_inventory_id_customer_id\" UNIQUE, btree (rental_date, inventory_id, customer_id)\n",
      "    \"idx_fk_inventory_id\" btree (inventory_id)\n",
      "Foreign-key constraints:\n",
      "    \"rental_customer_id_fkey\" FOREIGN KEY (customer_id) REFERENCES pagila.customer(customer_id) ON UPDATE CASCADE ON DELETE RESTRICT\n",
      "    \"rental_inventory_id_fkey\" FOREIGN KEY (inventory_id) REFERENCES pagila.inventory(inventory_id) ON UPDATE CASCADE ON DELETE RESTRICT\n",
      "    \"rental_staff_id_fkey\" FOREIGN KEY (staff_id) REFERENCES pagila.staff(staff_id) ON UPDATE CASCADE ON DELETE RESTRICT\n",
      "Triggers:\n",
      "    last_updated BEFORE UPDATE ON pagila.rental FOR EACH ROW EXECUTE PROCEDURE pagila.last_updated()\n",
      "\n"
     ]
    }
   ],
   "source": [
    "!psql -c \"\\d pagila.rental\""
   ]
  },
  {
   "cell_type": "code",
   "execution_count": 26,
   "id": "baking-permit",
   "metadata": {},
   "outputs": [
    {
     "name": "stdout",
     "output_type": "stream",
     "text": [
      "                                              Table \"pagila.staff\"\n",
      "   Column    |           Type           | Collation | Nullable |                    Default                     \n",
      "-------------+--------------------------+-----------+----------+------------------------------------------------\n",
      " staff_id    | integer                  |           | not null | nextval('pagila.staff_staff_id_seq'::regclass)\n",
      " first_name  | text                     |           | not null | \n",
      " last_name   | text                     |           | not null | \n",
      " address_id  | smallint                 |           | not null | \n",
      " email       | text                     |           |          | \n",
      " store_id    | smallint                 |           | not null | \n",
      " active      | boolean                  |           | not null | true\n",
      " username    | text                     |           | not null | \n",
      " password    | text                     |           |          | \n",
      " last_update | timestamp with time zone |           | not null | now()\n",
      " picture     | bytea                    |           |          | \n",
      "Indexes:\n",
      "    \"staff_pkey\" PRIMARY KEY, btree (staff_id)\n",
      "Foreign-key constraints:\n",
      "    \"staff_address_id_fkey\" FOREIGN KEY (address_id) REFERENCES pagila.address(address_id) ON UPDATE CASCADE ON DELETE RESTRICT\n",
      "    \"staff_store_id_fkey\" FOREIGN KEY (store_id) REFERENCES pagila.store(store_id)\n",
      "Referenced by:\n",
      "    TABLE \"pagila.rental\" CONSTRAINT \"rental_staff_id_fkey\" FOREIGN KEY (staff_id) REFERENCES pagila.staff(staff_id) ON UPDATE CASCADE ON DELETE RESTRICT\n",
      "Triggers:\n",
      "    last_updated BEFORE UPDATE ON pagila.staff FOR EACH ROW EXECUTE PROCEDURE pagila.last_updated()\n",
      "\n"
     ]
    }
   ],
   "source": [
    "!psql -c \"\\d pagila.staff\""
   ]
  },
  {
   "cell_type": "code",
   "execution_count": 27,
   "id": "japanese-hydrogen",
   "metadata": {},
   "outputs": [
    {
     "name": "stdout",
     "output_type": "stream",
     "text": [
      "                                                Table \"pagila.store\"\n",
      "      Column      |           Type           | Collation | Nullable |                    Default                     \n",
      "------------------+--------------------------+-----------+----------+------------------------------------------------\n",
      " store_id         | integer                  |           | not null | nextval('pagila.store_store_id_seq'::regclass)\n",
      " manager_staff_id | smallint                 |           | not null | \n",
      " address_id       | smallint                 |           | not null | \n",
      " last_update      | timestamp with time zone |           | not null | now()\n",
      "Indexes:\n",
      "    \"store_pkey\" PRIMARY KEY, btree (store_id)\n",
      "    \"idx_unq_manager_staff_id\" UNIQUE, btree (manager_staff_id)\n",
      "Foreign-key constraints:\n",
      "    \"store_address_id_fkey\" FOREIGN KEY (address_id) REFERENCES pagila.address(address_id) ON UPDATE CASCADE ON DELETE RESTRICT\n",
      "Referenced by:\n",
      "    TABLE \"pagila.customer\" CONSTRAINT \"customer_store_id_fkey\" FOREIGN KEY (store_id) REFERENCES pagila.store(store_id) ON UPDATE CASCADE ON DELETE RESTRICT\n",
      "    TABLE \"pagila.inventory\" CONSTRAINT \"inventory_store_id_fkey\" FOREIGN KEY (store_id) REFERENCES pagila.store(store_id) ON UPDATE CASCADE ON DELETE RESTRICT\n",
      "    TABLE \"pagila.staff\" CONSTRAINT \"staff_store_id_fkey\" FOREIGN KEY (store_id) REFERENCES pagila.store(store_id)\n",
      "Triggers:\n",
      "    last_updated BEFORE UPDATE ON pagila.store FOR EACH ROW EXECUTE PROCEDURE pagila.last_updated()\n",
      "\n"
     ]
    }
   ],
   "source": [
    "!psql -c \"\\d pagila.store\""
   ]
  },
  {
   "cell_type": "markdown",
   "id": "linear-journey",
   "metadata": {},
   "source": [
    "### 3 INNER JOIN Queries Between Two or More Tables with WHERE and ORDER BY"
   ]
  },
  {
   "cell_type": "markdown",
   "id": "matched-queue",
   "metadata": {},
   "source": [
    "##### Inner join table between tables film and film_category. Takes film_id from both tables and displays it with title and release year from film as well as category id from film_category. The table only shows films released after 1998 and are in ascending order based on film_id. The table is limited by 10. "
   ]
  },
  {
   "cell_type": "code",
   "execution_count": 1,
   "id": "conventional-demand",
   "metadata": {},
   "outputs": [
    {
     "name": "stdout",
     "output_type": "stream",
     "text": [
      "      title       | category_id | film_id | release_year \n",
      "------------------+-------------+---------+--------------\n",
      " ACADEMY DINOSAUR |           6 |       1 |         2006\n",
      " ACE GOLDFINGER   |          11 |       2 |         2006\n",
      " ADAPTATION HOLES |           6 |       3 |         2006\n",
      " AFFAIR PREJUDICE |          11 |       4 |         2006\n",
      " AFRICAN EGG      |           8 |       5 |         2006\n",
      " AGENT TRUMAN     |           9 |       6 |         2006\n",
      " AIRPLANE SIERRA  |           5 |       7 |         2006\n",
      " AIRPORT POLLOCK  |          11 |       8 |         2006\n",
      " ALABAMA DEVIL    |          11 |       9 |         2006\n",
      " ALADDIN CALENDAR |          15 |      10 |         2006\n",
      "(10 rows)\n",
      "\n"
     ]
    }
   ],
   "source": [
    "!psql -c \"SELECT title, category_id, pagila.film.film_id, release_year FROM pagila.film_category INNER JOIN pagila.film ON pagila.film.film_id = pagila.film_category.film_id WHERE release_year > 1998 ORDER BY film_id LIMIT 10\""
   ]
  },
  {
   "cell_type": "markdown",
   "id": "cutting-browse",
   "metadata": {},
   "source": [
    "##### Inner join between tables country and city. Takes country_id from both tables and displays it with city from table city and country and country id from table country. The output table then takes only entries where the country is Switzerand, ordered by the city name. Since there are only 3 cities in the data from Switzerland, the table is not limited."
   ]
  },
  {
   "cell_type": "code",
   "execution_count": 2,
   "id": "quiet-opposition",
   "metadata": {},
   "outputs": [
    {
     "name": "stdout",
     "output_type": "stream",
     "text": [
      "   city   |   country   | city_id | country_id \n",
      "----------+-------------+---------+------------\n",
      " Basel    | Switzerland |      56 |         91\n",
      " Bern     | Switzerland |      72 |         91\n",
      " Lausanne | Switzerland |     296 |         91\n",
      "(3 rows)\n",
      "\n"
     ]
    }
   ],
   "source": [
    "!psql -c \"SELECT city, country, city_id, pagila.country.country_id FROM pagila.country INNER JOIN pagila.city ON pagila.city.country_id = pagila.country.country_id WHERE pagila.country.country = 'Switzerland' ORDER BY city\""
   ]
  },
  {
   "cell_type": "markdown",
   "id": "incorrect-architect",
   "metadata": {},
   "source": [
    "##### Inner join between tables customer and payment. Uses customer_id from both tables and displays it with first_name from table customer and amount and payment_date from table payment. Output table displays payment amounts larger than 2 and is ordered in descending order of the amounts. The table is limited by 10."
   ]
  },
  {
   "cell_type": "code",
   "execution_count": 3,
   "id": "generic-obligation",
   "metadata": {},
   "outputs": [
    {
     "name": "stdout",
     "output_type": "stream",
     "text": [
      " customer_id | first_name | amount |         payment_date          \n",
      "-------------+------------+--------+-------------------------------\n",
      "         195 | VANESSA    |  11.99 | 2017-03-23 20:47:59.996577+00\n",
      "         591 | KENT       |  11.99 | 2017-04-07 19:14:17.996577+00\n",
      "         204 | ROSEMARY   |  11.99 | 2017-03-22 22:17:22.996577+00\n",
      "         116 | VICTORIA   |  11.99 | 2017-03-21 22:02:26.996577+00\n",
      "         237 | TANYA      |  11.99 | 2017-03-02 20:46:39.996577+00\n",
      "         305 | RICHARD    |  11.99 | 2017-02-17 22:19:47.996577+00\n",
      "         196 | ALMA       |  11.99 | 2017-01-25 16:46:45.996577+00\n",
      "         362 | NICHOLAS   |  11.99 | 2017-03-21 21:57:24.996577+00\n",
      "          13 | KAREN      |  11.99 | 2017-04-29 21:06:07.996577+00\n",
      "         592 | TERRANCE   |  11.99 | 2017-04-06 21:26:57.996577+00\n",
      "(10 rows)\n",
      "\n"
     ]
    }
   ],
   "source": [
    "!psql -c \"SELECT pagila.customer.customer_id, first_name, amount, payment_date FROM pagila.customer INNER JOIN pagila.payment ON pagila.payment.customer_id = pagila.customer.customer_id WHERE amount > 2 ORDER BY amount DESC LIMIT 10\""
   ]
  },
  {
   "cell_type": "markdown",
   "id": "outdoor-fortune",
   "metadata": {},
   "source": [
    "### 3 OUTER JOIN Queries Between Two or More Tables with WHERE and ORDER BY"
   ]
  },
  {
   "cell_type": "markdown",
   "id": "centered-result",
   "metadata": {},
   "source": [
    "##### Left outer join between tables customer and rental displaying rental_id and inventory_id based on customer_id where the staff_id is 1. All records are listed in ascending order by rental_id and limited by 10."
   ]
  },
  {
   "cell_type": "code",
   "execution_count": 30,
   "id": "stupid-disposition",
   "metadata": {},
   "outputs": [
    {
     "name": "stdout",
     "output_type": "stream",
     "text": [
      " rental_id | inventory_id \n",
      "-----------+--------------\n",
      "         1 |          367\n",
      "         2 |         1525\n",
      "         3 |         1711\n",
      "         5 |         2079\n",
      "         6 |         2792\n",
      "         9 |         2580\n",
      "        13 |         2294\n",
      "        14 |         2701\n",
      "        15 |         3049\n",
      "        17 |          830\n",
      "(10 rows)\n",
      "\n"
     ]
    }
   ],
   "source": [
    "!psql -c \"SELECT rental_id, inventory_id FROM pagila.customer LEFT JOIN pagila.rental ON pagila.customer.customer_id = pagila.rental.customer_id WHERE staff_id = 1 ORDER BY rental_id LIMIT 10\""
   ]
  },
  {
   "cell_type": "markdown",
   "id": "secure-cooking",
   "metadata": {},
   "source": [
    "##### Right outer join between tables film_actor and film followed by a left outer join with table actor based on film_id and actor_id. Table displays 10 records where actor_id is greater than 30 and is ordered by film titles."
   ]
  },
  {
   "cell_type": "code",
   "execution_count": 31,
   "id": "declared-opposition",
   "metadata": {},
   "outputs": [
    {
     "name": "stdout",
     "output_type": "stream",
     "text": [
      "      title       | actor_id | last_name | first_name \n",
      "------------------+----------+-----------+------------\n",
      " ACADEMY DINOSAUR |      198 | KEITEL    | MARY\n",
      " ACADEMY DINOSAUR |      188 | DUKAKIS   | ROCK\n",
      " ACADEMY DINOSAUR |      162 | KILMER    | OPRAH\n",
      " ACADEMY DINOSAUR |      108 | NOLTE     | WARREN\n",
      " ACADEMY DINOSAUR |       53 | TEMPLE    | MENA\n",
      " ACADEMY DINOSAUR |       40 | CAGE      | JOHNNY\n",
      " ACE GOLDFINGER   |      160 | DEPP      | CHRIS\n",
      " ACE GOLDFINGER   |       90 | GUINESS   | SEAN\n",
      " ACE GOLDFINGER   |       85 | ZELLWEGER | MINNIE\n",
      " ADAPTATION HOLES |      123 | DENCH     | JULIANNE\n",
      "(10 rows)\n",
      "\n"
     ]
    }
   ],
   "source": [
    "!psql -c \"SELECT title, pagila.actor.actor_id, last_name, first_name FROM pagila.film_actor RIGHT JOIN pagila.film ON pagila.film_actor.film_id = pagila.film.film_id LEFT OUTER JOIN pagila.actor ON pagila.film_actor.actor_id = pagila.actor.actor_id WHERE pagila.actor.actor_id > 30 ORDER BY pagila.film.title LIMIT 10\""
   ]
  },
  {
   "cell_type": "markdown",
   "id": "civic-dispute",
   "metadata": {},
   "source": [
    "##### Full outer join between tables store and inventory based on store_id where inventory_id is greater than 50. The query is limited to 10 records and ordered by inventory_id in ascending order."
   ]
  },
  {
   "cell_type": "code",
   "execution_count": 32,
   "id": "amino-zimbabwe",
   "metadata": {},
   "outputs": [
    {
     "name": "stdout",
     "output_type": "stream",
     "text": [
      " inventory_id | store_id | manager_staff_id \n",
      "--------------+----------+------------------\n",
      "           51 |        2 |                2\n",
      "           52 |        2 |                2\n",
      "           53 |        1 |                1\n",
      "           54 |        1 |                1\n",
      "           55 |        1 |                1\n",
      "           56 |        1 |                1\n",
      "           57 |        2 |                2\n",
      "           58 |        2 |                2\n",
      "           59 |        2 |                2\n",
      "           60 |        1 |                1\n",
      "(10 rows)\n",
      "\n"
     ]
    }
   ],
   "source": [
    "!psql -c \"SELECT inventory_id, pagila.store.store_id, manager_staff_id FROM pagila.store FULL JOIN pagila.inventory ON pagila.store.store_id = pagila.inventory.store_id WHERE pagila.inventory.inventory_id > 50 ORDER BY inventory_id LIMIT 10\""
   ]
  },
  {
   "cell_type": "markdown",
   "id": "biological-cleaner",
   "metadata": {},
   "source": [
    "### 1 SELF JOIN Query"
   ]
  },
  {
   "cell_type": "markdown",
   "id": "false-cookie",
   "metadata": {},
   "source": [
    "##### Self Join on the film table which displays film titles that have the same length and different names. The table is organized by the ascending length of the films and is limited by 10."
   ]
  },
  {
   "cell_type": "code",
   "execution_count": 48,
   "id": "substantial-teaching",
   "metadata": {},
   "outputs": [
    {
     "name": "stdout",
     "output_type": "stream",
     "text": [
      "        title        | length |        title        \n",
      "---------------------+--------+---------------------\n",
      " KWAI HOMEWARD       |     46 | IRON MOON\n",
      " KWAI HOMEWARD       |     46 | RIDGEMONT SUBMARINE\n",
      " KWAI HOMEWARD       |     46 | LABYRINTH LEAGUE\n",
      " KWAI HOMEWARD       |     46 | ALIEN CENTER\n",
      " IRON MOON           |     46 | KWAI HOMEWARD\n",
      " IRON MOON           |     46 | RIDGEMONT SUBMARINE\n",
      " IRON MOON           |     46 | LABYRINTH LEAGUE\n",
      " IRON MOON           |     46 | ALIEN CENTER\n",
      " RIDGEMONT SUBMARINE |     46 | KWAI HOMEWARD\n",
      " RIDGEMONT SUBMARINE |     46 | IRON MOON\n",
      "(10 rows)\n",
      "\n"
     ]
    }
   ],
   "source": [
    "!psql -c \"SELECT f1.title, f1.length, f2.title FROM pagila.film f1 INNER JOIN pagila.film f2 ON f1.title <> f2.title AND f1.length = f2.length ORDER BY length LIMIT 10\""
   ]
  }
 ],
 "metadata": {
  "environment": {
   "name": "common-cpu.mnightly-2021-01-20-debian-10-test",
   "type": "gcloud",
   "uri": "gcr.io/deeplearning-platform-release/base-cpu:mnightly-2021-01-20-debian-10-test"
  },
  "kernelspec": {
   "display_name": "Python 3",
   "language": "python",
   "name": "python3"
  },
  "language_info": {
   "codemirror_mode": {
    "name": "ipython",
    "version": 3
   },
   "file_extension": ".py",
   "mimetype": "text/x-python",
   "name": "python",
   "nbconvert_exporter": "python",
   "pygments_lexer": "ipython3",
   "version": "3.7.9"
  }
 },
 "nbformat": 4,
 "nbformat_minor": 5
}
