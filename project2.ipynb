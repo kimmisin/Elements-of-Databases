{
 "cells": [
  {
   "cell_type": "markdown",
   "id": "medical-senate",
   "metadata": {},
   "source": [
    "### Download and Extract the Pagila Dataset"
   ]
  },
  {
   "cell_type": "code",
   "execution_count": 1,
   "id": "incredible-third",
   "metadata": {},
   "outputs": [
    {
     "name": "stdout",
     "output_type": "stream",
     "text": [
      "Copying gs://cs327e-open-access/pagila.zip...\n",
      "/ [1 files][672.6 KiB/672.6 KiB]                                                \n",
      "Operation completed over 1 objects/672.6 KiB.                                    \n"
     ]
    }
   ],
   "source": [
    "!gsutil cp gs://cs327e-open-access/pagila.zip ."
   ]
  },
  {
   "cell_type": "code",
   "execution_count": 2,
   "id": "lucky-hayes",
   "metadata": {},
   "outputs": [
    {
     "name": "stdout",
     "output_type": "stream",
     "text": [
      "Archive:  pagila.zip\n",
      "   creating: pagila/\n",
      "  inflating: __MACOSX/._pagila       \n",
      "  inflating: pagila/.DS_Store        \n",
      "  inflating: __MACOSX/pagila/._.DS_Store  \n",
      "  inflating: pagila/pagila-insert-data.sql  \n",
      "  inflating: __MACOSX/pagila/._pagila-insert-data.sql  \n",
      "  inflating: pagila/pagila-schema.sql  \n",
      "  inflating: __MACOSX/pagila/._pagila-schema.sql  \n"
     ]
    }
   ],
   "source": [
    "!unzip pagila.zip"
   ]
  },
  {
   "cell_type": "markdown",
   "id": "precious-wrist",
   "metadata": {},
   "source": [
    "### Create the Pagila Schema and Objects then Populate the Tables"
   ]
  },
  {
   "cell_type": "code",
   "execution_count": null,
   "id": "lesbian-intention",
   "metadata": {},
   "outputs": [],
   "source": [
    "!psql -c \"\\i /home/jupyter/Amaryllis/pagila/pagila-schema.sql\""
   ]
  },
  {
   "cell_type": "code",
   "execution_count": null,
   "id": "designing-administrator",
   "metadata": {},
   "outputs": [],
   "source": [
    "!psql -c \"\\i /home/jupyter/Amaryllis/pagila/pagila-insert-data.sql\""
   ]
  },
  {
   "cell_type": "markdown",
   "id": "global-active",
   "metadata": {},
   "source": [
    "### Describe each Table"
   ]
  },
  {
   "cell_type": "code",
   "execution_count": 8,
   "id": "designing-photographer",
   "metadata": {},
   "outputs": [
    {
     "name": "stdout",
     "output_type": "stream",
     "text": [
      "                                              Table \"pagila.actor\"\n",
      "   Column    |           Type           | Collation | Nullable |                    Default                     \n",
      "-------------+--------------------------+-----------+----------+------------------------------------------------\n",
      " actor_id    | integer                  |           | not null | nextval('pagila.actor_actor_id_seq'::regclass)\n",
      " first_name  | text                     |           | not null | \n",
      " last_name   | text                     |           | not null | \n",
      " last_update | timestamp with time zone |           | not null | now()\n",
      "Indexes:\n",
      "    \"actor_pkey\" PRIMARY KEY, btree (actor_id)\n",
      "    \"idx_actor_last_name\" btree (last_name)\n",
      "Referenced by:\n",
      "    TABLE \"pagila.film_actor\" CONSTRAINT \"film_actor_actor_id_fkey\" FOREIGN KEY (actor_id) REFERENCES pagila.actor(actor_id) ON UPDATE CASCADE ON DELETE RESTRICT\n",
      "Triggers:\n",
      "    last_updated BEFORE UPDATE ON pagila.actor FOR EACH ROW EXECUTE PROCEDURE pagila.last_updated()\n",
      "\n"
     ]
    }
   ],
   "source": [
    "!psql -c \"\\d pagila.actor\""
   ]
  },
  {
   "cell_type": "code",
   "execution_count": 9,
   "id": "outstanding-origin",
   "metadata": {},
   "outputs": [
    {
     "name": "stdout",
     "output_type": "stream",
     "text": [
      "                                               Table \"pagila.address\"\n",
      "   Column    |           Type           | Collation | Nullable |                      Default                       \n",
      "-------------+--------------------------+-----------+----------+----------------------------------------------------\n",
      " address_id  | integer                  |           | not null | nextval('pagila.address_address_id_seq'::regclass)\n",
      " address     | text                     |           | not null | \n",
      " address2    | text                     |           |          | \n",
      " district    | text                     |           | not null | \n",
      " city_id     | smallint                 |           | not null | \n",
      " postal_code | text                     |           |          | \n",
      " phone       | text                     |           | not null | \n",
      " last_update | timestamp with time zone |           | not null | now()\n",
      "Indexes:\n",
      "    \"address_pkey\" PRIMARY KEY, btree (address_id)\n",
      "    \"idx_fk_city_id\" btree (city_id)\n",
      "Foreign-key constraints:\n",
      "    \"address_city_id_fkey\" FOREIGN KEY (city_id) REFERENCES pagila.city(city_id) ON UPDATE CASCADE ON DELETE RESTRICT\n",
      "Referenced by:\n",
      "    TABLE \"pagila.customer\" CONSTRAINT \"customer_address_id_fkey\" FOREIGN KEY (address_id) REFERENCES pagila.address(address_id) ON UPDATE CASCADE ON DELETE RESTRICT\n",
      "    TABLE \"pagila.staff\" CONSTRAINT \"staff_address_id_fkey\" FOREIGN KEY (address_id) REFERENCES pagila.address(address_id) ON UPDATE CASCADE ON DELETE RESTRICT\n",
      "    TABLE \"pagila.store\" CONSTRAINT \"store_address_id_fkey\" FOREIGN KEY (address_id) REFERENCES pagila.address(address_id) ON UPDATE CASCADE ON DELETE RESTRICT\n",
      "Triggers:\n",
      "    last_updated BEFORE UPDATE ON pagila.address FOR EACH ROW EXECUTE PROCEDURE pagila.last_updated()\n",
      "\n"
     ]
    }
   ],
   "source": [
    "!psql -c \"\\d pagila.address\""
   ]
  },
  {
   "cell_type": "code",
   "execution_count": 10,
   "id": "hydraulic-motion",
   "metadata": {},
   "outputs": [
    {
     "name": "stdout",
     "output_type": "stream",
     "text": [
      "                                               Table \"pagila.category\"\n",
      "   Column    |           Type           | Collation | Nullable |                       Default                        \n",
      "-------------+--------------------------+-----------+----------+------------------------------------------------------\n",
      " category_id | integer                  |           | not null | nextval('pagila.category_category_id_seq'::regclass)\n",
      " name        | text                     |           | not null | \n",
      " last_update | timestamp with time zone |           | not null | now()\n",
      "Indexes:\n",
      "    \"category_pkey\" PRIMARY KEY, btree (category_id)\n",
      "Referenced by:\n",
      "    TABLE \"pagila.film_category\" CONSTRAINT \"film_category_category_id_fkey\" FOREIGN KEY (category_id) REFERENCES pagila.category(category_id) ON UPDATE CASCADE ON DELETE RESTRICT\n",
      "Triggers:\n",
      "    last_updated BEFORE UPDATE ON pagila.category FOR EACH ROW EXECUTE PROCEDURE pagila.last_updated()\n",
      "\n"
     ]
    }
   ],
   "source": [
    "!psql -c \"\\d pagila.category\""
   ]
  },
  {
   "cell_type": "code",
   "execution_count": 11,
   "id": "banned-billy",
   "metadata": {},
   "outputs": [
    {
     "name": "stdout",
     "output_type": "stream",
     "text": [
      "                                             Table \"pagila.city\"\n",
      "   Column    |           Type           | Collation | Nullable |                   Default                    \n",
      "-------------+--------------------------+-----------+----------+----------------------------------------------\n",
      " city_id     | integer                  |           | not null | nextval('pagila.city_city_id_seq'::regclass)\n",
      " city        | text                     |           | not null | \n",
      " country_id  | smallint                 |           | not null | \n",
      " last_update | timestamp with time zone |           | not null | now()\n",
      "Indexes:\n",
      "    \"city_pkey\" PRIMARY KEY, btree (city_id)\n",
      "    \"idx_fk_country_id\" btree (country_id)\n",
      "Foreign-key constraints:\n",
      "    \"city_country_id_fkey\" FOREIGN KEY (country_id) REFERENCES pagila.country(country_id) ON UPDATE CASCADE ON DELETE RESTRICT\n",
      "Referenced by:\n",
      "    TABLE \"pagila.address\" CONSTRAINT \"address_city_id_fkey\" FOREIGN KEY (city_id) REFERENCES pagila.city(city_id) ON UPDATE CASCADE ON DELETE RESTRICT\n",
      "Triggers:\n",
      "    last_updated BEFORE UPDATE ON pagila.city FOR EACH ROW EXECUTE PROCEDURE pagila.last_updated()\n",
      "\n"
     ]
    }
   ],
   "source": [
    "!psql -c \"\\d pagila.city\""
   ]
  },
  {
   "cell_type": "code",
   "execution_count": 12,
   "id": "convinced-indonesia",
   "metadata": {},
   "outputs": [
    {
     "name": "stdout",
     "output_type": "stream",
     "text": [
      "                                               Table \"pagila.country\"\n",
      "   Column    |           Type           | Collation | Nullable |                      Default                       \n",
      "-------------+--------------------------+-----------+----------+----------------------------------------------------\n",
      " country_id  | integer                  |           | not null | nextval('pagila.country_country_id_seq'::regclass)\n",
      " country     | text                     |           | not null | \n",
      " last_update | timestamp with time zone |           | not null | now()\n",
      "Indexes:\n",
      "    \"country_pkey\" PRIMARY KEY, btree (country_id)\n",
      "Referenced by:\n",
      "    TABLE \"pagila.city\" CONSTRAINT \"city_country_id_fkey\" FOREIGN KEY (country_id) REFERENCES pagila.country(country_id) ON UPDATE CASCADE ON DELETE RESTRICT\n",
      "Triggers:\n",
      "    last_updated BEFORE UPDATE ON pagila.country FOR EACH ROW EXECUTE PROCEDURE pagila.last_updated()\n",
      "\n"
     ]
    }
   ],
   "source": [
    "!psql -c \"\\d pagila.country\""
   ]
  },
  {
   "cell_type": "code",
   "execution_count": 13,
   "id": "interior-traveler",
   "metadata": {},
   "outputs": [
    {
     "name": "stdout",
     "output_type": "stream",
     "text": [
      "                                                Table \"pagila.customer\"\n",
      "   Column    |           Type           | Collation | Nullable |                        Default                        \n",
      "-------------+--------------------------+-----------+----------+-------------------------------------------------------\n",
      " customer_id | integer                  |           | not null | nextval('pagila.customer_customer_id_seq1'::regclass)\n",
      " store_id    | smallint                 |           | not null | \n",
      " first_name  | text                     |           | not null | \n",
      " last_name   | text                     |           | not null | \n",
      " email       | text                     |           |          | \n",
      " address_id  | smallint                 |           | not null | \n",
      " activebool  | boolean                  |           | not null | true\n",
      " create_date | date                     |           | not null | ('now'::text)::date\n",
      " last_update | timestamp with time zone |           |          | now()\n",
      " active      | integer                  |           |          | \n",
      "Indexes:\n",
      "    \"customer_pkey\" PRIMARY KEY, btree (customer_id)\n",
      "    \"idx_fk_address_id\" btree (address_id)\n",
      "    \"idx_fk_store_id\" btree (store_id)\n",
      "    \"idx_last_name\" btree (last_name)\n",
      "Foreign-key constraints:\n",
      "    \"customer_address_id_fkey\" FOREIGN KEY (address_id) REFERENCES pagila.address(address_id) ON UPDATE CASCADE ON DELETE RESTRICT\n",
      "    \"customer_store_id_fkey\" FOREIGN KEY (store_id) REFERENCES pagila.store(store_id) ON UPDATE CASCADE ON DELETE RESTRICT\n",
      "Referenced by:\n",
      "    TABLE \"pagila.rental\" CONSTRAINT \"rental_customer_id_fkey\" FOREIGN KEY (customer_id) REFERENCES pagila.customer(customer_id) ON UPDATE CASCADE ON DELETE RESTRICT\n",
      "Triggers:\n",
      "    last_updated BEFORE UPDATE ON pagila.customer FOR EACH ROW EXECUTE PROCEDURE pagila.last_updated()\n",
      "\n"
     ]
    }
   ],
   "source": [
    "!psql -c \"\\d pagila.customer\""
   ]
  },
  {
   "cell_type": "code",
   "execution_count": 14,
   "id": "insured-replication",
   "metadata": {},
   "outputs": [
    {
     "name": "stdout",
     "output_type": "stream",
     "text": [
      "                                                  Table \"pagila.film\"\n",
      "        Column        |           Type           | Collation | Nullable |                   Default                    \n",
      "----------------------+--------------------------+-----------+----------+----------------------------------------------\n",
      " film_id              | integer                  |           | not null | nextval('pagila.film_film_id_seq'::regclass)\n",
      " title                | text                     |           | not null | \n",
      " description          | text                     |           |          | \n",
      " release_year         | pagila.year              |           |          | \n",
      " language_id          | smallint                 |           | not null | \n",
      " original_language_id | smallint                 |           |          | \n",
      " rental_duration      | smallint                 |           | not null | 3\n",
      " rental_rate          | numeric(4,2)             |           | not null | 4.99\n",
      " length               | smallint                 |           |          | \n",
      " replacement_cost     | numeric(5,2)             |           | not null | 19.99\n",
      " rating               | pagila.mpaa_rating       |           |          | 'G'::pagila.mpaa_rating\n",
      " last_update          | timestamp with time zone |           | not null | now()\n",
      " special_features     | text[]                   |           |          | \n",
      " fulltext             | tsvector                 |           | not null | \n",
      "Indexes:\n",
      "    \"film_pkey\" PRIMARY KEY, btree (film_id)\n",
      "    \"film_fulltext_idx\" gist (fulltext)\n",
      "    \"idx_fk_language_id\" btree (language_id)\n",
      "    \"idx_fk_original_language_id\" btree (original_language_id)\n",
      "    \"idx_title\" btree (title)\n",
      "Foreign-key constraints:\n",
      "    \"film_language_id_fkey\" FOREIGN KEY (language_id) REFERENCES pagila.language(language_id) ON UPDATE CASCADE ON DELETE RESTRICT\n",
      "    \"film_original_language_id_fkey\" FOREIGN KEY (original_language_id) REFERENCES pagila.language(language_id) ON UPDATE CASCADE ON DELETE RESTRICT\n",
      "Referenced by:\n",
      "    TABLE \"pagila.film_actor\" CONSTRAINT \"film_actor_film_id_fkey\" FOREIGN KEY (film_id) REFERENCES pagila.film(film_id) ON UPDATE CASCADE ON DELETE RESTRICT\n",
      "    TABLE \"pagila.film_category\" CONSTRAINT \"film_category_film_id_fkey\" FOREIGN KEY (film_id) REFERENCES pagila.film(film_id) ON UPDATE CASCADE ON DELETE RESTRICT\n",
      "    TABLE \"pagila.inventory\" CONSTRAINT \"inventory_film_id_fkey\" FOREIGN KEY (film_id) REFERENCES pagila.film(film_id) ON UPDATE CASCADE ON DELETE RESTRICT\n",
      "Triggers:\n",
      "    film_fulltext_trigger BEFORE INSERT OR UPDATE ON pagila.film FOR EACH ROW EXECUTE PROCEDURE tsvector_update_trigger('fulltext', 'pg_catalog.english', 'title', 'description')\n",
      "    last_updated BEFORE UPDATE ON pagila.film FOR EACH ROW EXECUTE PROCEDURE pagila.last_updated()\n",
      "\n"
     ]
    }
   ],
   "source": [
    "!psql -c \"\\d pagila.film\""
   ]
  },
  {
   "cell_type": "code",
   "execution_count": 15,
   "id": "classified-sacrifice",
   "metadata": {},
   "outputs": [
    {
     "name": "stdout",
     "output_type": "stream",
     "text": [
      "                        Table \"pagila.film_actor\"\n",
      "   Column    |           Type           | Collation | Nullable | Default \n",
      "-------------+--------------------------+-----------+----------+---------\n",
      " actor_id    | smallint                 |           | not null | \n",
      " film_id     | smallint                 |           | not null | \n",
      " last_update | timestamp with time zone |           | not null | now()\n",
      "Indexes:\n",
      "    \"film_actor_pkey\" PRIMARY KEY, btree (actor_id, film_id)\n",
      "    \"idx_fk_film_id\" btree (film_id)\n",
      "Foreign-key constraints:\n",
      "    \"film_actor_actor_id_fkey\" FOREIGN KEY (actor_id) REFERENCES pagila.actor(actor_id) ON UPDATE CASCADE ON DELETE RESTRICT\n",
      "    \"film_actor_film_id_fkey\" FOREIGN KEY (film_id) REFERENCES pagila.film(film_id) ON UPDATE CASCADE ON DELETE RESTRICT\n",
      "Triggers:\n",
      "    last_updated BEFORE UPDATE ON pagila.film_actor FOR EACH ROW EXECUTE PROCEDURE pagila.last_updated()\n",
      "\n"
     ]
    }
   ],
   "source": [
    "!psql -c \"\\d pagila.film_actor\""
   ]
  },
  {
   "cell_type": "code",
   "execution_count": 16,
   "id": "abroad-retrieval",
   "metadata": {},
   "outputs": [
    {
     "name": "stdout",
     "output_type": "stream",
     "text": [
      "                      Table \"pagila.film_category\"\n",
      "   Column    |           Type           | Collation | Nullable | Default \n",
      "-------------+--------------------------+-----------+----------+---------\n",
      " film_id     | smallint                 |           | not null | \n",
      " category_id | smallint                 |           | not null | \n",
      " last_update | timestamp with time zone |           | not null | now()\n",
      "Indexes:\n",
      "    \"film_category_pkey\" PRIMARY KEY, btree (film_id, category_id)\n",
      "Foreign-key constraints:\n",
      "    \"film_category_category_id_fkey\" FOREIGN KEY (category_id) REFERENCES pagila.category(category_id) ON UPDATE CASCADE ON DELETE RESTRICT\n",
      "    \"film_category_film_id_fkey\" FOREIGN KEY (film_id) REFERENCES pagila.film(film_id) ON UPDATE CASCADE ON DELETE RESTRICT\n",
      "Triggers:\n",
      "    last_updated BEFORE UPDATE ON pagila.film_category FOR EACH ROW EXECUTE PROCEDURE pagila.last_updated()\n",
      "\n"
     ]
    }
   ],
   "source": [
    "!psql -c \"\\d pagila.film_category\""
   ]
  },
  {
   "cell_type": "code",
   "execution_count": 17,
   "id": "fleet-address",
   "metadata": {},
   "outputs": [
    {
     "name": "stdout",
     "output_type": "stream",
     "text": [
      "                                                Table \"pagila.inventory\"\n",
      "    Column    |           Type           | Collation | Nullable |                        Default                         \n",
      "--------------+--------------------------+-----------+----------+--------------------------------------------------------\n",
      " inventory_id | integer                  |           | not null | nextval('pagila.inventory_inventory_id_seq'::regclass)\n",
      " film_id      | smallint                 |           | not null | \n",
      " store_id     | smallint                 |           | not null | \n",
      " last_update  | timestamp with time zone |           | not null | now()\n",
      "Indexes:\n",
      "    \"inventory_pkey\" PRIMARY KEY, btree (inventory_id)\n",
      "    \"idx_store_id_film_id\" btree (store_id, film_id)\n",
      "Foreign-key constraints:\n",
      "    \"inventory_film_id_fkey\" FOREIGN KEY (film_id) REFERENCES pagila.film(film_id) ON UPDATE CASCADE ON DELETE RESTRICT\n",
      "    \"inventory_store_id_fkey\" FOREIGN KEY (store_id) REFERENCES pagila.store(store_id) ON UPDATE CASCADE ON DELETE RESTRICT\n",
      "Referenced by:\n",
      "    TABLE \"pagila.rental\" CONSTRAINT \"rental_inventory_id_fkey\" FOREIGN KEY (inventory_id) REFERENCES pagila.inventory(inventory_id) ON UPDATE CASCADE ON DELETE RESTRICT\n",
      "Triggers:\n",
      "    last_updated BEFORE UPDATE ON pagila.inventory FOR EACH ROW EXECUTE PROCEDURE pagila.last_updated()\n",
      "\n"
     ]
    }
   ],
   "source": [
    "!psql -c \"\\d pagila.inventory\""
   ]
  },
  {
   "cell_type": "code",
   "execution_count": 18,
   "id": "peripheral-cuisine",
   "metadata": {},
   "outputs": [
    {
     "name": "stdout",
     "output_type": "stream",
     "text": [
      "                                               Table \"pagila.language\"\n",
      "   Column    |           Type           | Collation | Nullable |                       Default                        \n",
      "-------------+--------------------------+-----------+----------+------------------------------------------------------\n",
      " language_id | integer                  |           | not null | nextval('pagila.language_language_id_seq'::regclass)\n",
      " name        | character(20)            |           | not null | \n",
      " last_update | timestamp with time zone |           | not null | now()\n",
      "Indexes:\n",
      "    \"language_pkey\" PRIMARY KEY, btree (language_id)\n",
      "Referenced by:\n",
      "    TABLE \"pagila.film\" CONSTRAINT \"film_language_id_fkey\" FOREIGN KEY (language_id) REFERENCES pagila.language(language_id) ON UPDATE CASCADE ON DELETE RESTRICT\n",
      "    TABLE \"pagila.film\" CONSTRAINT \"film_original_language_id_fkey\" FOREIGN KEY (original_language_id) REFERENCES pagila.language(language_id) ON UPDATE CASCADE ON DELETE RESTRICT\n",
      "Triggers:\n",
      "    last_updated BEFORE UPDATE ON pagila.language FOR EACH ROW EXECUTE PROCEDURE pagila.last_updated()\n",
      "\n"
     ]
    }
   ],
   "source": [
    "!psql -c \"\\d pagila.language\""
   ]
  },
  {
   "cell_type": "code",
   "execution_count": 19,
   "id": "linear-charity",
   "metadata": {},
   "outputs": [
    {
     "name": "stdout",
     "output_type": "stream",
     "text": [
      "                                               Table \"pagila.payment\"\n",
      "    Column    |           Type           | Collation | Nullable |                      Default                       \n",
      "--------------+--------------------------+-----------+----------+----------------------------------------------------\n",
      " payment_id   | integer                  |           | not null | nextval('pagila.payment_payment_id_seq'::regclass)\n",
      " customer_id  | smallint                 |           | not null | \n",
      " staff_id     | smallint                 |           | not null | \n",
      " rental_id    | integer                  |           | not null | \n",
      " amount       | numeric(5,2)             |           | not null | \n",
      " payment_date | timestamp with time zone |           | not null | \n",
      "Indexes:\n",
      "    \"idx_fk_customer_id\" btree (customer_id)\n",
      "    \"idx_fk_staff_id\" btree (staff_id)\n",
      "\n"
     ]
    }
   ],
   "source": [
    "!psql -c \"\\d pagila.payment\""
   ]
  },
  {
   "cell_type": "code",
   "execution_count": 20,
   "id": "continent-commercial",
   "metadata": {},
   "outputs": [
    {
     "name": "stdout",
     "output_type": "stream",
     "text": [
      "                                               Table \"pagila.rental\"\n",
      "    Column    |           Type           | Collation | Nullable |                     Default                      \n",
      "--------------+--------------------------+-----------+----------+--------------------------------------------------\n",
      " rental_id    | integer                  |           | not null | nextval('pagila.rental_rental_id_seq'::regclass)\n",
      " rental_date  | timestamp with time zone |           | not null | \n",
      " inventory_id | integer                  |           | not null | \n",
      " customer_id  | smallint                 |           | not null | \n",
      " return_date  | timestamp with time zone |           |          | \n",
      " staff_id     | smallint                 |           | not null | \n",
      " last_update  | timestamp with time zone |           | not null | now()\n",
      "Indexes:\n",
      "    \"rental_pkey\" PRIMARY KEY, btree (rental_id)\n",
      "    \"idx_unq_rental_rental_date_inventory_id_customer_id\" UNIQUE, btree (rental_date, inventory_id, customer_id)\n",
      "    \"idx_fk_inventory_id\" btree (inventory_id)\n",
      "Foreign-key constraints:\n",
      "    \"rental_customer_id_fkey\" FOREIGN KEY (customer_id) REFERENCES pagila.customer(customer_id) ON UPDATE CASCADE ON DELETE RESTRICT\n",
      "    \"rental_inventory_id_fkey\" FOREIGN KEY (inventory_id) REFERENCES pagila.inventory(inventory_id) ON UPDATE CASCADE ON DELETE RESTRICT\n",
      "    \"rental_staff_id_fkey\" FOREIGN KEY (staff_id) REFERENCES pagila.staff(staff_id) ON UPDATE CASCADE ON DELETE RESTRICT\n",
      "Triggers:\n",
      "    last_updated BEFORE UPDATE ON pagila.rental FOR EACH ROW EXECUTE PROCEDURE pagila.last_updated()\n",
      "\n"
     ]
    }
   ],
   "source": [
    "!psql -c \"\\d pagila.rental\""
   ]
  },
  {
   "cell_type": "code",
   "execution_count": 21,
   "id": "generous-spine",
   "metadata": {},
   "outputs": [
    {
     "name": "stdout",
     "output_type": "stream",
     "text": [
      "                                              Table \"pagila.staff\"\n",
      "   Column    |           Type           | Collation | Nullable |                    Default                     \n",
      "-------------+--------------------------+-----------+----------+------------------------------------------------\n",
      " staff_id    | integer                  |           | not null | nextval('pagila.staff_staff_id_seq'::regclass)\n",
      " first_name  | text                     |           | not null | \n",
      " last_name   | text                     |           | not null | \n",
      " address_id  | smallint                 |           | not null | \n",
      " email       | text                     |           |          | \n",
      " store_id    | smallint                 |           | not null | \n",
      " active      | boolean                  |           | not null | true\n",
      " username    | text                     |           | not null | \n",
      " password    | text                     |           |          | \n",
      " last_update | timestamp with time zone |           | not null | now()\n",
      " picture     | bytea                    |           |          | \n",
      "Indexes:\n",
      "    \"staff_pkey\" PRIMARY KEY, btree (staff_id)\n",
      "Foreign-key constraints:\n",
      "    \"staff_address_id_fkey\" FOREIGN KEY (address_id) REFERENCES pagila.address(address_id) ON UPDATE CASCADE ON DELETE RESTRICT\n",
      "    \"staff_store_id_fkey\" FOREIGN KEY (store_id) REFERENCES pagila.store(store_id)\n",
      "Referenced by:\n",
      "    TABLE \"pagila.rental\" CONSTRAINT \"rental_staff_id_fkey\" FOREIGN KEY (staff_id) REFERENCES pagila.staff(staff_id) ON UPDATE CASCADE ON DELETE RESTRICT\n",
      "Triggers:\n",
      "    last_updated BEFORE UPDATE ON pagila.staff FOR EACH ROW EXECUTE PROCEDURE pagila.last_updated()\n",
      "\n"
     ]
    }
   ],
   "source": [
    "!psql -c \"\\d pagila.staff\""
   ]
  },
  {
   "cell_type": "code",
   "execution_count": 22,
   "id": "blank-script",
   "metadata": {},
   "outputs": [
    {
     "name": "stdout",
     "output_type": "stream",
     "text": [
      "                                                Table \"pagila.store\"\n",
      "      Column      |           Type           | Collation | Nullable |                    Default                     \n",
      "------------------+--------------------------+-----------+----------+------------------------------------------------\n",
      " store_id         | integer                  |           | not null | nextval('pagila.store_store_id_seq'::regclass)\n",
      " manager_staff_id | smallint                 |           | not null | \n",
      " address_id       | smallint                 |           | not null | \n",
      " last_update      | timestamp with time zone |           | not null | now()\n",
      "Indexes:\n",
      "    \"store_pkey\" PRIMARY KEY, btree (store_id)\n",
      "    \"idx_unq_manager_staff_id\" UNIQUE, btree (manager_staff_id)\n",
      "Foreign-key constraints:\n",
      "    \"store_address_id_fkey\" FOREIGN KEY (address_id) REFERENCES pagila.address(address_id) ON UPDATE CASCADE ON DELETE RESTRICT\n",
      "Referenced by:\n",
      "    TABLE \"pagila.customer\" CONSTRAINT \"customer_store_id_fkey\" FOREIGN KEY (store_id) REFERENCES pagila.store(store_id) ON UPDATE CASCADE ON DELETE RESTRICT\n",
      "    TABLE \"pagila.inventory\" CONSTRAINT \"inventory_store_id_fkey\" FOREIGN KEY (store_id) REFERENCES pagila.store(store_id) ON UPDATE CASCADE ON DELETE RESTRICT\n",
      "    TABLE \"pagila.staff\" CONSTRAINT \"staff_store_id_fkey\" FOREIGN KEY (store_id) REFERENCES pagila.store(store_id)\n",
      "Triggers:\n",
      "    last_updated BEFORE UPDATE ON pagila.store FOR EACH ROW EXECUTE PROCEDURE pagila.last_updated()\n",
      "\n"
     ]
    }
   ],
   "source": [
    "!psql -c \"\\d pagila.store\""
   ]
  },
  {
   "cell_type": "markdown",
   "id": "verbal-bhutan",
   "metadata": {},
   "source": [
    "### 3 INNER JOIN Queries Between Two or More Tables with WHERE and ORDER BY"
   ]
  },
  {
   "cell_type": "code",
   "execution_count": null,
   "id": "mediterranean-adelaide",
   "metadata": {},
   "outputs": [],
   "source": [
    "# LIMIT clause if output > 10 rows\n",
    "# include MARKDOWN comment above each SQL statement"
   ]
  },
  {
   "cell_type": "code",
   "execution_count": null,
   "id": "oriented-transparency",
   "metadata": {},
   "outputs": [],
   "source": []
  },
  {
   "cell_type": "markdown",
   "id": "decent-thesaurus",
   "metadata": {},
   "source": [
    "### 3 OUTER JOIN Queries Between Two or More Tables with WHERE and ORDER BY"
   ]
  },
  {
   "cell_type": "markdown",
   "id": "exterior-wages",
   "metadata": {},
   "source": [
    "#### Left outer join between tables customer and rental displaying rental_id and inventory_id based on customer_id where the staff_id is 1. All records are listed in ascending order by rental_id and limited by 10."
   ]
  },
  {
   "cell_type": "code",
   "execution_count": 39,
   "id": "powerful-continuity",
   "metadata": {},
   "outputs": [
    {
     "name": "stdout",
     "output_type": "stream",
     "text": [
      " rental_id | inventory_id \n",
      "-----------+--------------\n",
      "         1 |          367\n",
      "         2 |         1525\n",
      "         3 |         1711\n",
      "         5 |         2079\n",
      "         6 |         2792\n",
      "         9 |         2580\n",
      "        13 |         2294\n",
      "        14 |         2701\n",
      "        15 |         3049\n",
      "        17 |          830\n",
      "(10 rows)\n",
      "\n"
     ]
    }
   ],
   "source": [
    "!psql -c \"SELECT rental_id, inventory_id FROM pagila.customer LEFT JOIN pagila.rental ON pagila.customer.customer_id = pagila.rental.customer_id WHERE staff_id = 1 ORDER BY rental_id LIMIT 10\""
   ]
  },
  {
   "cell_type": "markdown",
   "id": "colonial-loading",
   "metadata": {},
   "source": [
    "#### Right outer join between tables film_actor and film followed by a left outer join with table actor based on film_id and actor_id. Table displays 10 records where actor_id is greater than 30 and is ordered by film titles."
   ]
  },
  {
   "cell_type": "code",
   "execution_count": 48,
   "id": "accessible-economy",
   "metadata": {},
   "outputs": [
    {
     "name": "stdout",
     "output_type": "stream",
     "text": [
      "      title       | actor_id | last_name | first_name \n",
      "------------------+----------+-----------+------------\n",
      " ACADEMY DINOSAUR |      198 | KEITEL    | MARY\n",
      " ACADEMY DINOSAUR |      188 | DUKAKIS   | ROCK\n",
      " ACADEMY DINOSAUR |      162 | KILMER    | OPRAH\n",
      " ACADEMY DINOSAUR |      108 | NOLTE     | WARREN\n",
      " ACADEMY DINOSAUR |       53 | TEMPLE    | MENA\n",
      " ACADEMY DINOSAUR |       40 | CAGE      | JOHNNY\n",
      " ACE GOLDFINGER   |      160 | DEPP      | CHRIS\n",
      " ACE GOLDFINGER   |       90 | GUINESS   | SEAN\n",
      " ACE GOLDFINGER   |       85 | ZELLWEGER | MINNIE\n",
      " ADAPTATION HOLES |      123 | DENCH     | JULIANNE\n",
      "(10 rows)\n",
      "\n"
     ]
    }
   ],
   "source": [
    "!psql -c \"SELECT title, pagila.actor.actor_id, last_name, first_name FROM pagila.film_actor RIGHT JOIN pagila.film ON pagila.film_actor.film_id = pagila.film.film_id LEFT OUTER JOIN pagila.actor ON pagila.film_actor.actor_id = pagila.actor.actor_id WHERE pagila.actor.actor_id > 30 ORDER BY pagila.film.title LIMIT 10\""
   ]
  },
  {
   "cell_type": "markdown",
   "id": "institutional-clinton",
   "metadata": {},
   "source": [
    "### Full Outer Join"
   ]
  },
  {
   "cell_type": "markdown",
   "id": "labeled-jenny",
   "metadata": {},
   "source": [
    " #### Full outer join between tables store and inventory based on store_id where inventory_id is greater than 50. The query is limited to 10 records and ordered by inventory_id in ascending order."
   ]
  },
  {
   "cell_type": "code",
   "execution_count": 52,
   "id": "straight-spouse",
   "metadata": {},
   "outputs": [
    {
     "name": "stdout",
     "output_type": "stream",
     "text": [
      " inventory_id | store_id | manager_staff_id \n",
      "--------------+----------+------------------\n",
      "           51 |        2 |                2\n",
      "           52 |        2 |                2\n",
      "           53 |        1 |                1\n",
      "           54 |        1 |                1\n",
      "           55 |        1 |                1\n",
      "           56 |        1 |                1\n",
      "           57 |        2 |                2\n",
      "           58 |        2 |                2\n",
      "           59 |        2 |                2\n",
      "           60 |        1 |                1\n",
      "(10 rows)\n",
      "\n"
     ]
    }
   ],
   "source": [
    "!psql -c \"SELECT inventory_id, pagila.store.store_id, manager_staff_id FROM pagila.store FULL JOIN pagila.inventory ON pagila.store.store_id = pagila.inventory.store_id WHERE pagila.inventory.inventory_id > 50 ORDER BY inventory_id LIMIT 10\""
   ]
  },
  {
   "cell_type": "markdown",
   "id": "czech-customer",
   "metadata": {},
   "source": [
    "### 1 SELF JOIN Query"
   ]
  },
  {
   "cell_type": "code",
   "execution_count": null,
   "id": "genetic-supervision",
   "metadata": {},
   "outputs": [],
   "source": [
    "# LIMIT clause if output > 10 rows\n",
    "# include MARKDOWN comment above each SQL statement"
   ]
  },
  {
   "cell_type": "code",
   "execution_count": null,
   "id": "alpha-antibody",
   "metadata": {},
   "outputs": [],
   "source": []
  },
  {
   "cell_type": "markdown",
   "id": "circular-award",
   "metadata": {},
   "source": [
    "### Sampling Each Table for ERD and Queries: feel free to use this to figure out queries "
   ]
  },
  {
   "cell_type": "code",
   "execution_count": 2,
   "id": "attempted-disclaimer",
   "metadata": {},
   "outputs": [
    {
     "name": "stdout",
     "output_type": "stream",
     "text": [
      " actor_id | first_name |  last_name   |      last_update       \n",
      "----------+------------+--------------+------------------------\n",
      "        1 | PENELOPE   | GUINESS      | 2017-02-15 09:34:33+00\n",
      "        2 | NICK       | WAHLBERG     | 2017-02-15 09:34:33+00\n",
      "        3 | ED         | CHASE        | 2017-02-15 09:34:33+00\n",
      "        4 | JENNIFER   | DAVIS        | 2017-02-15 09:34:33+00\n",
      "        5 | JOHNNY     | LOLLOBRIGIDA | 2017-02-15 09:34:33+00\n",
      "        6 | BETTE      | NICHOLSON    | 2017-02-15 09:34:33+00\n",
      "        7 | GRACE      | MOSTEL       | 2017-02-15 09:34:33+00\n",
      "        8 | MATTHEW    | JOHANSSON    | 2017-02-15 09:34:33+00\n",
      "        9 | JOE        | SWANK        | 2017-02-15 09:34:33+00\n",
      "       10 | CHRISTIAN  | GABLE        | 2017-02-15 09:34:33+00\n",
      "       11 | ZERO       | CAGE         | 2017-02-15 09:34:33+00\n",
      "       12 | KARL       | BERRY        | 2017-02-15 09:34:33+00\n",
      "       13 | UMA        | WOOD         | 2017-02-15 09:34:33+00\n",
      "       14 | VIVIEN     | BERGEN       | 2017-02-15 09:34:33+00\n",
      "       15 | CUBA       | OLIVIER      | 2017-02-15 09:34:33+00\n",
      "       16 | FRED       | COSTNER      | 2017-02-15 09:34:33+00\n",
      "       17 | HELEN      | VOIGHT       | 2017-02-15 09:34:33+00\n",
      "       18 | DAN        | TORN         | 2017-02-15 09:34:33+00\n",
      "       19 | BOB        | FAWCETT      | 2017-02-15 09:34:33+00\n",
      "       20 | LUCILLE    | TRACY        | 2017-02-15 09:34:33+00\n",
      "       21 | KIRSTEN    | PALTROW      | 2017-02-15 09:34:33+00\n",
      "       22 | ELVIS      | MARX         | 2017-02-15 09:34:33+00\n",
      "       23 | SANDRA     | KILMER       | 2017-02-15 09:34:33+00\n",
      "       24 | CAMERON    | STREEP       | 2017-02-15 09:34:33+00\n",
      "       25 | KEVIN      | BLOOM        | 2017-02-15 09:34:33+00\n",
      "       26 | RIP        | CRAWFORD     | 2017-02-15 09:34:33+00\n",
      "       27 | JULIA      | MCQUEEN      | 2017-02-15 09:34:33+00\n",
      "       28 | WOODY      | HOFFMAN      | 2017-02-15 09:34:33+00\n",
      "       29 | ALEC       | WAYNE        | 2017-02-15 09:34:33+00\n",
      "       30 | SANDRA     | PECK         | 2017-02-15 09:34:33+00\n",
      "(30 rows)\n",
      "\n"
     ]
    }
   ],
   "source": [
    "!psql -c \"select * from pagila.actor limit 30\""
   ]
  },
  {
   "cell_type": "code",
   "execution_count": 13,
   "id": "unavailable-divorce",
   "metadata": {},
   "outputs": [
    {
     "name": "stdout",
     "output_type": "stream",
     "text": [
      " address_id | city_id \n",
      "------------+---------\n",
      "         56 |       1\n",
      "        105 |       2\n",
      "        457 |       3\n",
      "        491 |       4\n",
      "        332 |       5\n",
      "        397 |       6\n",
      "        214 |       7\n",
      "        372 |       8\n",
      "        302 |       9\n",
      "        580 |      10\n",
      "        484 |      11\n",
      "        102 |      12\n",
      "         74 |      13\n",
      "        596 |      14\n",
      "        400 |      15\n",
      "        422 |      16\n",
      "         37 |      17\n",
      "        179 |      18\n",
      "        419 |      19\n",
      "        364 |      20\n",
      "        557 |      21\n",
      "        229 |      22\n",
      "        420 |      23\n",
      "        540 |      24\n",
      "        312 |      25\n",
      "        233 |      26\n",
      "         49 |      27\n",
      "        220 |      28\n",
      "        141 |      29\n",
      "         81 |      30\n",
      "(30 rows)\n",
      "\n"
     ]
    }
   ],
   "source": [
    "!psql -c \"select address_id, city_id from pagila.address order by city_id limit 30\""
   ]
  },
  {
   "cell_type": "code",
   "execution_count": 4,
   "id": "working-collar",
   "metadata": {},
   "outputs": [
    {
     "name": "stdout",
     "output_type": "stream",
     "text": [
      " category_id |    name     |      last_update       \n",
      "-------------+-------------+------------------------\n",
      "           1 | Action      | 2017-02-15 09:46:27+00\n",
      "           2 | Animation   | 2017-02-15 09:46:27+00\n",
      "           3 | Children    | 2017-02-15 09:46:27+00\n",
      "           4 | Classics    | 2017-02-15 09:46:27+00\n",
      "           5 | Comedy      | 2017-02-15 09:46:27+00\n",
      "           6 | Documentary | 2017-02-15 09:46:27+00\n",
      "           7 | Drama       | 2017-02-15 09:46:27+00\n",
      "           8 | Family      | 2017-02-15 09:46:27+00\n",
      "           9 | Foreign     | 2017-02-15 09:46:27+00\n",
      "          10 | Games       | 2017-02-15 09:46:27+00\n",
      "          11 | Horror      | 2017-02-15 09:46:27+00\n",
      "          12 | Music       | 2017-02-15 09:46:27+00\n",
      "          13 | New         | 2017-02-15 09:46:27+00\n",
      "          14 | Sci-Fi      | 2017-02-15 09:46:27+00\n",
      "          15 | Sports      | 2017-02-15 09:46:27+00\n",
      "          16 | Travel      | 2017-02-15 09:46:27+00\n",
      "(16 rows)\n",
      "\n"
     ]
    }
   ],
   "source": [
    "!psql -c \"select * from pagila.category limit 30\""
   ]
  },
  {
   "cell_type": "code",
   "execution_count": 14,
   "id": "lyric-scanning",
   "metadata": {},
   "outputs": [
    {
     "name": "stdout",
     "output_type": "stream",
     "text": [
      " city_id |         city         | country_id |      last_update       \n",
      "---------+----------------------+------------+------------------------\n",
      "     251 | Kabul                |          1 | 2017-02-15 09:45:25+00\n",
      "     483 | Skikda               |          2 | 2017-02-15 09:45:25+00\n",
      "      63 | Bchar                |          2 | 2017-02-15 09:45:25+00\n",
      "      59 | Batna                |          2 | 2017-02-15 09:45:25+00\n",
      "     516 | Tafuna               |          3 | 2017-02-15 09:45:25+00\n",
      "     360 | Namibe               |          4 | 2017-02-15 09:45:25+00\n",
      "      67 | Benguela             |          4 | 2017-02-15 09:45:25+00\n",
      "     493 | South Hill           |          5 | 2017-02-15 09:45:25+00\n",
      "     567 | Vicente Lpez         |          6 | 2017-02-15 09:45:25+00\n",
      "     524 | Tandil               |          6 | 2017-02-15 09:45:25+00\n",
      "     457 | Santa F              |          6 | 2017-02-15 09:45:25+00\n",
      "     454 | San Miguel de Tucumn |          6 | 2017-02-15 09:45:25+00\n",
      "     424 | Quilmes              |          6 | 2017-02-15 09:45:25+00\n",
      "     334 | Merlo                |          6 | 2017-02-15 09:45:25+00\n",
      "     289 | La Plata             |          6 | 2017-02-15 09:45:25+00\n",
      "     165 | Ezeiza               |          6 | 2017-02-15 09:45:25+00\n",
      "     161 | Escobar              |          6 | 2017-02-15 09:45:25+00\n",
      "     128 | Crdoba               |          6 | 2017-02-15 09:45:25+00\n",
      "      45 | Baha Blanca          |          6 | 2017-02-15 09:45:25+00\n",
      "      43 | Avellaneda           |          6 | 2017-02-15 09:45:25+00\n",
      "      20 | Almirante Brown      |          6 | 2017-02-15 09:45:25+00\n",
      "     586 | Yerevan              |          7 | 2017-02-15 09:45:25+00\n",
      "     576 | Woodridge            |          8 | 2017-02-15 09:45:25+00\n",
      "     447 | Salzburg             |          9 | 2017-02-15 09:45:25+00\n",
      "     307 | Linz                 |          9 | 2017-02-15 09:45:25+00\n",
      "     186 | Graz                 |          9 | 2017-02-15 09:45:25+00\n",
      "     505 | Sumqayit             |         10 | 2017-02-15 09:45:25+00\n",
      "      48 | Baku                 |         10 | 2017-02-15 09:45:25+00\n",
      "      14 | al-Manama            |         11 | 2017-02-15 09:45:25+00\n",
      "     525 | Tangail              |         12 | 2017-02-15 09:45:25+00\n",
      "(30 rows)\n",
      "\n"
     ]
    }
   ],
   "source": [
    "!psql -c \"select * from pagila.city order by country_id limit 30\""
   ]
  },
  {
   "cell_type": "code",
   "execution_count": 6,
   "id": "scenic-struggle",
   "metadata": {},
   "outputs": [
    {
     "name": "stdout",
     "output_type": "stream",
     "text": [
      " country_id |                country                |      last_update       \n",
      "------------+---------------------------------------+------------------------\n",
      "          1 | Afghanistan                           | 2017-02-15 09:44:00+00\n",
      "          2 | Algeria                               | 2017-02-15 09:44:00+00\n",
      "          3 | American Samoa                        | 2017-02-15 09:44:00+00\n",
      "          4 | Angola                                | 2017-02-15 09:44:00+00\n",
      "          5 | Anguilla                              | 2017-02-15 09:44:00+00\n",
      "          6 | Argentina                             | 2017-02-15 09:44:00+00\n",
      "          7 | Armenia                               | 2017-02-15 09:44:00+00\n",
      "          8 | Australia                             | 2017-02-15 09:44:00+00\n",
      "          9 | Austria                               | 2017-02-15 09:44:00+00\n",
      "         10 | Azerbaijan                            | 2017-02-15 09:44:00+00\n",
      "         11 | Bahrain                               | 2017-02-15 09:44:00+00\n",
      "         12 | Bangladesh                            | 2017-02-15 09:44:00+00\n",
      "         13 | Belarus                               | 2017-02-15 09:44:00+00\n",
      "         14 | Bolivia                               | 2017-02-15 09:44:00+00\n",
      "         15 | Brazil                                | 2017-02-15 09:44:00+00\n",
      "         16 | Brunei                                | 2017-02-15 09:44:00+00\n",
      "         17 | Bulgaria                              | 2017-02-15 09:44:00+00\n",
      "         18 | Cambodia                              | 2017-02-15 09:44:00+00\n",
      "         19 | Cameroon                              | 2017-02-15 09:44:00+00\n",
      "         20 | Canada                                | 2017-02-15 09:44:00+00\n",
      "         21 | Chad                                  | 2017-02-15 09:44:00+00\n",
      "         22 | Chile                                 | 2017-02-15 09:44:00+00\n",
      "         23 | China                                 | 2017-02-15 09:44:00+00\n",
      "         24 | Colombia                              | 2017-02-15 09:44:00+00\n",
      "         25 | Congo, The Democratic Republic of the | 2017-02-15 09:44:00+00\n",
      "         26 | Czech Republic                        | 2017-02-15 09:44:00+00\n",
      "         27 | Dominican Republic                    | 2017-02-15 09:44:00+00\n",
      "         28 | Ecuador                               | 2017-02-15 09:44:00+00\n",
      "         29 | Egypt                                 | 2017-02-15 09:44:00+00\n",
      "         30 | Estonia                               | 2017-02-15 09:44:00+00\n",
      "(30 rows)\n",
      "\n"
     ]
    }
   ],
   "source": [
    "!psql -c \"select * from pagila.country limit 30\""
   ]
  },
  {
   "cell_type": "code",
   "execution_count": 20,
   "id": "narrow-ethnic",
   "metadata": {},
   "outputs": [
    {
     "name": "stdout",
     "output_type": "stream",
     "text": [
      " customer_id | store_id | address_id \n",
      "-------------+----------+------------\n",
      "           1 |        1 |          5\n",
      "           2 |        1 |          6\n",
      "           3 |        1 |          7\n",
      "           4 |        2 |          8\n",
      "           5 |        1 |          9\n",
      "           6 |        2 |         10\n",
      "           7 |        1 |         11\n",
      "           8 |        2 |         12\n",
      "           9 |        2 |         13\n",
      "          10 |        1 |         14\n",
      "          11 |        2 |         15\n",
      "          12 |        1 |         16\n",
      "          13 |        2 |         17\n",
      "          14 |        2 |         18\n",
      "          15 |        1 |         19\n",
      "          16 |        2 |         20\n",
      "          17 |        1 |         21\n",
      "          18 |        2 |         22\n",
      "          19 |        1 |         23\n",
      "          20 |        2 |         24\n",
      "          21 |        1 |         25\n",
      "          22 |        1 |         26\n",
      "          23 |        2 |         27\n",
      "          24 |        2 |         28\n",
      "          25 |        1 |         29\n",
      "          26 |        2 |         30\n",
      "          27 |        2 |         31\n",
      "          28 |        1 |         32\n",
      "          29 |        2 |         33\n",
      "          30 |        1 |         34\n",
      "          31 |        2 |         35\n",
      "          32 |        1 |         36\n",
      "          33 |        2 |         37\n",
      "          34 |        2 |         38\n",
      "          35 |        2 |         39\n",
      "          36 |        2 |         40\n",
      "          37 |        1 |         41\n",
      "          38 |        1 |         42\n",
      "          39 |        1 |         43\n",
      "          40 |        2 |         44\n",
      "          41 |        1 |         45\n",
      "          42 |        2 |         46\n",
      "          43 |        2 |         47\n",
      "          44 |        1 |         48\n",
      "          45 |        1 |         49\n",
      "          46 |        2 |         50\n",
      "          47 |        1 |         51\n",
      "          48 |        1 |         52\n",
      "          49 |        2 |         53\n",
      "          50 |        1 |         54\n",
      "          51 |        1 |         55\n",
      "          52 |        1 |         56\n",
      "          53 |        1 |         57\n",
      "          54 |        1 |         58\n",
      "          55 |        2 |         59\n",
      "          56 |        1 |         60\n",
      "          57 |        2 |         61\n",
      "          58 |        1 |         62\n",
      "          59 |        1 |         63\n",
      "          60 |        1 |         64\n",
      "          61 |        2 |         65\n",
      "          62 |        1 |         66\n",
      "          63 |        1 |         67\n",
      "          64 |        2 |         68\n",
      "          65 |        2 |         69\n",
      "          66 |        2 |         70\n",
      "          67 |        1 |         71\n",
      "          68 |        1 |         72\n",
      "          69 |        2 |         73\n",
      "          70 |        2 |         74\n",
      "          71 |        1 |         75\n",
      "          72 |        2 |         76\n",
      "          73 |        2 |         77\n",
      "          74 |        1 |         78\n",
      "          75 |        2 |         79\n",
      "          76 |        2 |         80\n",
      "          77 |        2 |         81\n",
      "          78 |        1 |         82\n",
      "          79 |        1 |         83\n",
      "          80 |        1 |         84\n",
      "          81 |        1 |         85\n",
      "          82 |        1 |         86\n",
      "          83 |        1 |         87\n",
      "          84 |        2 |         88\n",
      "          85 |        2 |         89\n",
      "          86 |        2 |         90\n",
      "          87 |        1 |         91\n",
      "          88 |        2 |         92\n",
      "          89 |        1 |         93\n",
      "          90 |        2 |         94\n",
      "          91 |        2 |         95\n",
      "          92 |        2 |         96\n",
      "          93 |        1 |         97\n",
      "          94 |        1 |         98\n",
      "          95 |        2 |         99\n",
      "          96 |        1 |        100\n",
      "          97 |        2 |        101\n",
      "          98 |        1 |        102\n",
      "          99 |        2 |        103\n",
      "         100 |        1 |        104\n",
      "         101 |        1 |        105\n",
      "         102 |        1 |        106\n",
      "         103 |        1 |        107\n",
      "         104 |        1 |        108\n",
      "         105 |        1 |        109\n",
      "         106 |        1 |        110\n",
      "         107 |        1 |        111\n",
      "         108 |        1 |        112\n",
      "         109 |        2 |        113\n",
      "         110 |        2 |        114\n",
      "         111 |        1 |        115\n",
      "         112 |        2 |        116\n",
      "         113 |        2 |        117\n",
      "         114 |        2 |        118\n",
      "         115 |        1 |        119\n",
      "         116 |        1 |        120\n",
      "         117 |        1 |        121\n",
      "         118 |        1 |        122\n",
      "         119 |        1 |        123\n",
      "         120 |        2 |        124\n",
      "         121 |        1 |        125\n",
      "         122 |        1 |        126\n",
      "         123 |        2 |        127\n",
      "         124 |        1 |        128\n",
      "         125 |        1 |        129\n",
      "         126 |        1 |        130\n",
      "         127 |        2 |        131\n",
      "         128 |        1 |        132\n",
      "         129 |        1 |        133\n",
      "         130 |        1 |        134\n",
      "         131 |        2 |        135\n",
      "         132 |        2 |        136\n",
      "         133 |        1 |        137\n",
      "         134 |        1 |        138\n",
      "         135 |        2 |        139\n",
      "         136 |        2 |        140\n",
      "         137 |        2 |        141\n",
      "         138 |        1 |        142\n",
      "         139 |        1 |        143\n",
      "         140 |        1 |        144\n",
      "         141 |        1 |        145\n",
      "         142 |        1 |        146\n",
      "         143 |        1 |        147\n",
      "         144 |        1 |        148\n",
      "         145 |        1 |        149\n",
      "         146 |        1 |        150\n",
      "         147 |        2 |        151\n",
      "         148 |        1 |        152\n",
      "         149 |        1 |        153\n",
      "         150 |        2 |        154\n",
      "         151 |        2 |        155\n",
      "         152 |        1 |        156\n",
      "         153 |        2 |        157\n",
      "         154 |        2 |        158\n",
      "         155 |        1 |        159\n",
      "         156 |        1 |        160\n",
      "         157 |        2 |        161\n",
      "         158 |        1 |        162\n",
      "         159 |        1 |        163\n",
      "         160 |        2 |        164\n",
      "         161 |        1 |        165\n",
      "         162 |        2 |        166\n",
      "         163 |        1 |        167\n",
      "         164 |        2 |        168\n",
      "         165 |        2 |        169\n",
      "         166 |        1 |        170\n",
      "         167 |        2 |        171\n",
      "         168 |        1 |        172\n",
      "         169 |        2 |        173\n",
      "         170 |        1 |        174\n",
      "         171 |        2 |        175\n",
      "         172 |        1 |        176\n",
      "         173 |        1 |        177\n",
      "         174 |        2 |        178\n",
      "         175 |        1 |        179\n",
      "         176 |        1 |        180\n",
      "         177 |        2 |        181\n",
      "         178 |        2 |        182\n",
      "         179 |        1 |        183\n",
      "         180 |        2 |        184\n",
      "         181 |        2 |        185\n",
      "         182 |        1 |        186\n",
      "         183 |        2 |        187\n",
      "         184 |        1 |        188\n",
      "         185 |        1 |        189\n",
      "         186 |        2 |        190\n",
      "         187 |        2 |        191\n",
      "         188 |        1 |        192\n",
      "         189 |        1 |        193\n",
      "         190 |        2 |        194\n",
      "         191 |        1 |        195\n",
      "         192 |        1 |        196\n",
      "         193 |        2 |        197\n",
      "         194 |        2 |        198\n",
      "         195 |        1 |        199\n",
      "         196 |        1 |        200\n",
      "         197 |        2 |        201\n",
      "         198 |        2 |        202\n",
      "         199 |        2 |        203\n",
      "         200 |        2 |        204\n",
      "         201 |        1 |        205\n",
      "         202 |        2 |        206\n",
      "         203 |        1 |        207\n",
      "         204 |        1 |        208\n",
      "         205 |        2 |        209\n",
      "         206 |        1 |        210\n",
      "         207 |        1 |        211\n",
      "         208 |        1 |        212\n",
      "         209 |        2 |        213\n",
      "         210 |        2 |        214\n",
      "         211 |        1 |        215\n",
      "         212 |        2 |        216\n",
      "         213 |        1 |        217\n",
      "         214 |        1 |        218\n",
      "         215 |        2 |        219\n",
      "         216 |        1 |        220\n",
      "         217 |        2 |        221\n",
      "         218 |        1 |        222\n",
      "         219 |        2 |        223\n",
      "         220 |        2 |        224\n",
      "         221 |        1 |        225\n",
      "         222 |        2 |        226\n",
      "         223 |        1 |        227\n",
      "         224 |        2 |        228\n",
      "         225 |        1 |        229\n",
      "         226 |        2 |        230\n",
      "         227 |        1 |        231\n",
      "         228 |        2 |        232\n",
      "         229 |        1 |        233\n",
      "         230 |        2 |        234\n",
      "         231 |        1 |        235\n",
      "         232 |        2 |        236\n",
      "         233 |        2 |        237\n",
      "         234 |        1 |        238\n",
      "         235 |        1 |        239\n",
      "         236 |        1 |        240\n",
      "         237 |        1 |        241\n",
      "         238 |        1 |        242\n",
      "         239 |        2 |        243\n",
      "         240 |        1 |        244\n",
      "         241 |        2 |        245\n",
      "         242 |        1 |        246\n",
      "         243 |        1 |        247\n",
      "         244 |        2 |        248\n",
      "         245 |        1 |        249\n",
      "         246 |        1 |        250\n",
      "         247 |        1 |        251\n",
      "         248 |        1 |        252\n",
      "         249 |        2 |        253\n",
      "         250 |        2 |        254\n",
      "         251 |        2 |        255\n",
      "         252 |        2 |        256\n",
      "         253 |        1 |        258\n",
      "         254 |        2 |        259\n",
      "         255 |        2 |        260\n",
      "         256 |        2 |        261\n",
      "         257 |        2 |        262\n",
      "         258 |        1 |        263\n",
      "         259 |        2 |        264\n",
      "         260 |        1 |        265\n",
      "         261 |        1 |        266\n",
      "         262 |        2 |        267\n",
      "         263 |        1 |        268\n",
      "         264 |        1 |        269\n",
      "         265 |        2 |        270\n",
      "         266 |        2 |        271\n",
      "         267 |        1 |        272\n",
      "         268 |        1 |        273\n",
      "         269 |        1 |        274\n",
      "         270 |        1 |        275\n",
      "         271 |        1 |        276\n",
      "         272 |        1 |        277\n",
      "         273 |        2 |        278\n",
      "         274 |        1 |        279\n",
      "         275 |        2 |        280\n",
      "         276 |        1 |        281\n",
      "         277 |        2 |        282\n",
      "         278 |        2 |        283\n",
      "         279 |        2 |        284\n",
      "         280 |        2 |        285\n",
      "         281 |        2 |        286\n",
      "         282 |        2 |        287\n",
      "         283 |        1 |        288\n",
      "         284 |        1 |        289\n",
      "         285 |        1 |        290\n",
      "         286 |        1 |        291\n",
      "         287 |        2 |        292\n",
      "         288 |        1 |        293\n",
      "         289 |        1 |        294\n",
      "         290 |        1 |        295\n",
      "         291 |        1 |        296\n",
      "         292 |        2 |        297\n",
      "         293 |        2 |        298\n",
      "         294 |        2 |        299\n",
      "         295 |        1 |        300\n",
      "         296 |        2 |        301\n",
      "         297 |        1 |        302\n",
      "         298 |        1 |        303\n",
      "         299 |        2 |        304\n",
      "         300 |        1 |        305\n",
      "         301 |        2 |        306\n",
      "         302 |        1 |        307\n",
      "         303 |        2 |        308\n",
      "         304 |        2 |        309\n",
      "         305 |        1 |        310\n",
      "         306 |        1 |        311\n",
      "         307 |        2 |        312\n",
      "         308 |        1 |        313\n",
      "         309 |        1 |        314\n",
      "         310 |        2 |        315\n",
      "         311 |        2 |        316\n",
      "         312 |        2 |        317\n",
      "         313 |        2 |        318\n",
      "         314 |        1 |        319\n",
      "         315 |        2 |        320\n",
      "         316 |        1 |        321\n",
      "         317 |        2 |        322\n",
      "         318 |        1 |        323\n",
      "         319 |        2 |        324\n",
      "         320 |        2 |        325\n",
      "         321 |        1 |        326\n",
      "         322 |        1 |        327\n",
      "         323 |        2 |        328\n",
      "         324 |        2 |        329\n",
      "         325 |        1 |        330\n",
      "         326 |        1 |        331\n",
      "         327 |        2 |        332\n",
      "         328 |        2 |        333\n",
      "         329 |        2 |        334\n",
      "         330 |        1 |        335\n",
      "         331 |        1 |        336\n",
      "         332 |        1 |        337\n",
      "         333 |        2 |        338\n",
      "         334 |        2 |        339\n",
      "         335 |        1 |        340\n",
      "         336 |        1 |        341\n",
      "         337 |        1 |        342\n",
      "         338 |        1 |        343\n",
      "         339 |        2 |        344\n",
      "         340 |        1 |        345\n",
      "         341 |        1 |        346\n",
      "         342 |        1 |        347\n",
      "         343 |        1 |        348\n",
      "         344 |        1 |        349\n",
      "         345 |        1 |        350\n",
      "         346 |        1 |        351\n",
      "         347 |        2 |        352\n",
      "         348 |        2 |        353\n",
      "         349 |        2 |        354\n",
      "         350 |        1 |        355\n",
      "         351 |        1 |        356\n",
      "         352 |        1 |        357\n",
      "         353 |        1 |        358\n",
      "         354 |        2 |        359\n",
      "         355 |        2 |        360\n",
      "         356 |        2 |        361\n",
      "         357 |        1 |        362\n",
      "         358 |        2 |        363\n",
      "         359 |        2 |        364\n",
      "         360 |        2 |        365\n",
      "         361 |        2 |        366\n",
      "         362 |        1 |        367\n",
      "         363 |        2 |        368\n",
      "         364 |        1 |        369\n",
      "         365 |        2 |        370\n",
      "         366 |        1 |        371\n",
      "         367 |        1 |        372\n",
      "         368 |        1 |        373\n",
      "         369 |        2 |        374\n",
      "         370 |        2 |        375\n",
      "         371 |        1 |        376\n",
      "         372 |        2 |        377\n",
      "         373 |        1 |        378\n",
      "         374 |        2 |        379\n",
      "         375 |        2 |        380\n",
      "         376 |        1 |        381\n",
      "         377 |        1 |        382\n",
      "         378 |        1 |        383\n",
      "         379 |        1 |        384\n",
      "         380 |        1 |        385\n",
      "         381 |        2 |        386\n",
      "         382 |        2 |        387\n",
      "         383 |        1 |        388\n",
      "         384 |        2 |        389\n",
      "         385 |        1 |        390\n",
      "         386 |        1 |        391\n",
      "         387 |        2 |        392\n",
      "         388 |        2 |        393\n",
      "         389 |        1 |        394\n",
      "         390 |        1 |        395\n",
      "         391 |        1 |        396\n",
      "         392 |        2 |        397\n",
      "         393 |        1 |        398\n",
      "         394 |        2 |        399\n",
      "         395 |        2 |        400\n",
      "         396 |        1 |        401\n",
      "         397 |        1 |        402\n",
      "         398 |        1 |        403\n",
      "         399 |        1 |        404\n",
      "         400 |        2 |        405\n",
      "         401 |        2 |        406\n",
      "         402 |        1 |        407\n",
      "         403 |        1 |        408\n",
      "         404 |        2 |        409\n",
      "         405 |        1 |        410\n",
      "         406 |        1 |        411\n",
      "         407 |        1 |        412\n",
      "         408 |        1 |        413\n",
      "         409 |        2 |        414\n",
      "         410 |        2 |        415\n",
      "         411 |        1 |        416\n",
      "         412 |        2 |        417\n",
      "         413 |        2 |        418\n",
      "         414 |        1 |        419\n",
      "         415 |        1 |        420\n",
      "         416 |        2 |        421\n",
      "         417 |        1 |        422\n",
      "         418 |        2 |        423\n",
      "         419 |        1 |        424\n",
      "         420 |        1 |        425\n",
      "         421 |        1 |        426\n",
      "         422 |        1 |        427\n",
      "         423 |        2 |        428\n",
      "         424 |        2 |        429\n",
      "         425 |        2 |        430\n",
      "         426 |        1 |        431\n",
      "         427 |        2 |        432\n",
      "         428 |        2 |        433\n",
      "         429 |        2 |        434\n",
      "         430 |        1 |        435\n",
      "         431 |        2 |        436\n",
      "         432 |        1 |        437\n",
      "         433 |        1 |        438\n",
      "         434 |        1 |        439\n",
      "         435 |        2 |        440\n",
      "         436 |        1 |        441\n",
      "         437 |        2 |        442\n",
      "         438 |        1 |        443\n",
      "         439 |        2 |        444\n",
      "         440 |        1 |        445\n",
      "         441 |        1 |        446\n",
      "         442 |        1 |        447\n",
      "         443 |        2 |        448\n",
      "         444 |        2 |        449\n",
      "         445 |        1 |        450\n",
      "         446 |        2 |        451\n",
      "         447 |        1 |        452\n",
      "         448 |        1 |        453\n",
      "         449 |        2 |        454\n",
      "         450 |        1 |        455\n",
      "         451 |        1 |        456\n",
      "         452 |        1 |        457\n",
      "         453 |        1 |        458\n",
      "         454 |        2 |        459\n",
      "         455 |        2 |        460\n",
      "         456 |        2 |        461\n",
      "         457 |        2 |        462\n",
      "         458 |        1 |        463\n",
      "         459 |        1 |        464\n",
      "         460 |        1 |        465\n",
      "         461 |        1 |        466\n",
      "         462 |        2 |        467\n",
      "         463 |        2 |        468\n",
      "         464 |        1 |        469\n",
      "         465 |        1 |        470\n",
      "         466 |        1 |        471\n",
      "         467 |        2 |        472\n",
      "         468 |        1 |        473\n",
      "         469 |        2 |        474\n",
      "         470 |        1 |        475\n",
      "         471 |        1 |        476\n",
      "         472 |        1 |        477\n",
      "         473 |        2 |        478\n",
      "         474 |        2 |        479\n",
      "         475 |        2 |        480\n",
      "         476 |        1 |        481\n",
      "         477 |        1 |        482\n",
      "         478 |        1 |        483\n",
      "         479 |        1 |        484\n",
      "         480 |        1 |        485\n",
      "         481 |        1 |        486\n",
      "         482 |        1 |        487\n",
      "         483 |        2 |        488\n",
      "         484 |        1 |        489\n",
      "         485 |        1 |        490\n",
      "         486 |        1 |        491\n",
      "         487 |        2 |        492\n",
      "         488 |        2 |        493\n",
      "         489 |        1 |        494\n",
      "         490 |        1 |        495\n",
      "         491 |        2 |        496\n",
      "         492 |        2 |        497\n",
      "         493 |        1 |        498\n",
      "         494 |        2 |        499\n",
      "         495 |        2 |        500\n",
      "         496 |        2 |        501\n",
      "         497 |        2 |        502\n",
      "         498 |        1 |        503\n",
      "         499 |        2 |        504\n",
      "         500 |        1 |        505\n",
      "         501 |        1 |        506\n",
      "         502 |        1 |        507\n",
      "         503 |        1 |        508\n",
      "         504 |        1 |        509\n",
      "         505 |        1 |        510\n",
      "         506 |        2 |        511\n",
      "         507 |        2 |        512\n",
      "         508 |        2 |        513\n",
      "         509 |        1 |        514\n",
      "         510 |        2 |        515\n",
      "         511 |        1 |        516\n",
      "         512 |        1 |        517\n",
      "         513 |        2 |        519\n",
      "         514 |        2 |        520\n",
      "         515 |        1 |        521\n",
      "         516 |        2 |        522\n",
      "         517 |        2 |        523\n",
      "         518 |        1 |        524\n",
      "         519 |        2 |        525\n",
      "         520 |        2 |        526\n",
      "         521 |        2 |        527\n",
      "         522 |        2 |        528\n",
      "         523 |        1 |        529\n",
      "         524 |        1 |        530\n",
      "         525 |        2 |        531\n",
      "         526 |        2 |        532\n",
      "         527 |        1 |        533\n",
      "         528 |        1 |        534\n",
      "         529 |        2 |        535\n",
      "         530 |        2 |        536\n",
      "         531 |        2 |        537\n",
      "         532 |        2 |        538\n",
      "         533 |        1 |        539\n",
      "         534 |        1 |        540\n",
      "         535 |        1 |        541\n",
      "         536 |        2 |        542\n",
      "         537 |        2 |        543\n",
      "         538 |        2 |        544\n",
      "         539 |        1 |        545\n",
      "         540 |        1 |        546\n",
      "         541 |        2 |        547\n",
      "         542 |        2 |        548\n",
      "         543 |        1 |        549\n",
      "         544 |        2 |        550\n",
      "         545 |        2 |        551\n",
      "         546 |        1 |        552\n",
      "         547 |        1 |        553\n",
      "         548 |        1 |        554\n",
      "         549 |        1 |        555\n",
      "         550 |        2 |        556\n",
      "         551 |        2 |        557\n",
      "         552 |        2 |        558\n",
      "         553 |        1 |        559\n",
      "         554 |        1 |        560\n",
      "         555 |        1 |        561\n",
      "         556 |        2 |        562\n",
      "         557 |        1 |        563\n",
      "         558 |        1 |        564\n",
      "         559 |        2 |        565\n",
      "         560 |        1 |        566\n",
      "         561 |        2 |        567\n",
      "         562 |        1 |        568\n",
      "         563 |        2 |        569\n",
      "         564 |        2 |        570\n",
      "         565 |        2 |        571\n",
      "         566 |        1 |        572\n",
      "         567 |        2 |        573\n",
      "         568 |        2 |        574\n",
      "         569 |        2 |        575\n",
      "         570 |        2 |        576\n",
      "         571 |        2 |        577\n",
      "         572 |        1 |        578\n",
      "         573 |        1 |        579\n",
      "         574 |        2 |        580\n",
      "         575 |        2 |        581\n",
      "         576 |        2 |        582\n",
      "         577 |        2 |        583\n",
      "         578 |        2 |        584\n",
      "         579 |        2 |        585\n",
      "         580 |        1 |        586\n",
      "         581 |        1 |        587\n",
      "         582 |        2 |        588\n",
      "         583 |        1 |        589\n",
      "         584 |        2 |        590\n",
      "         585 |        1 |        591\n",
      "         586 |        1 |        592\n",
      "         587 |        1 |        593\n",
      "         588 |        1 |        594\n",
      "         589 |        1 |        595\n",
      "         590 |        2 |        596\n",
      "         591 |        1 |        597\n",
      "         592 |        1 |        598\n",
      "         593 |        2 |        599\n",
      "         594 |        1 |        600\n",
      "         595 |        1 |        601\n",
      "         596 |        1 |        602\n",
      "         597 |        1 |        603\n",
      "         598 |        1 |        604\n",
      "         599 |        2 |        605\n",
      "(599 rows)\n",
      "\n"
     ]
    }
   ],
   "source": [
    "!psql -c \"select customer_id, store_id, address_id from pagila.customer order by address_id\""
   ]
  },
  {
   "cell_type": "code",
   "execution_count": 9,
   "id": "prime-performance",
   "metadata": {},
   "outputs": [
    {
     "name": "stdout",
     "output_type": "stream",
     "text": [
      " language_id | original_language_id | film_id \n",
      "-------------+----------------------+---------\n",
      "           1 |                      |       1\n",
      "           1 |                      |       2\n",
      "           1 |                      |       3\n",
      "           1 |                      |       4\n",
      "           1 |                      |       5\n",
      "           1 |                      |       6\n",
      "           1 |                      |       7\n",
      "           1 |                      |       8\n",
      "           1 |                      |       9\n",
      "           1 |                      |      10\n",
      "           1 |                      |      11\n",
      "           1 |                      |      12\n",
      "           1 |                      |     213\n",
      "           1 |                      |      13\n",
      "           1 |                      |      14\n",
      "           1 |                      |      15\n",
      "           1 |                      |      16\n",
      "           1 |                      |      17\n",
      "           1 |                      |      18\n",
      "           1 |                      |      19\n",
      "           1 |                      |      20\n",
      "           1 |                      |      21\n",
      "           1 |                      |      22\n",
      "           1 |                      |      23\n",
      "           1 |                      |      24\n",
      "           1 |                      |      25\n",
      "           1 |                      |      26\n",
      "           1 |                      |      27\n",
      "           1 |                      |      28\n",
      "           1 |                      |      29\n",
      "(30 rows)\n",
      "\n"
     ]
    }
   ],
   "source": [
    "!psql -c \"select language_id, original_language_id, film_id from pagila.film order by original_language_id DESC limit 30\""
   ]
  },
  {
   "cell_type": "code",
   "execution_count": 1,
   "id": "convertible-freight",
   "metadata": {},
   "outputs": [
    {
     "name": "stdout",
     "output_type": "stream",
     "text": [
      " actor_id | film_id |      last_update       \n",
      "----------+---------+------------------------\n",
      "      198 |       1 | 2017-02-15 10:05:03+00\n",
      "      188 |       1 | 2017-02-15 10:05:03+00\n",
      "      162 |       1 | 2017-02-15 10:05:03+00\n",
      "      108 |       1 | 2017-02-15 10:05:03+00\n",
      "       53 |       1 | 2017-02-15 10:05:03+00\n",
      "       40 |       1 | 2017-02-15 10:05:03+00\n",
      "       30 |       1 | 2017-02-15 10:05:03+00\n",
      "       20 |       1 | 2017-02-15 10:05:03+00\n",
      "       10 |       1 | 2017-02-15 10:05:03+00\n",
      "        1 |       1 | 2017-02-15 10:05:03+00\n",
      "      160 |       2 | 2017-02-15 10:05:03+00\n",
      "       90 |       2 | 2017-02-15 10:05:03+00\n",
      "       85 |       2 | 2017-02-15 10:05:03+00\n",
      "       19 |       2 | 2017-02-15 10:05:03+00\n",
      "      123 |       3 | 2017-02-15 10:05:03+00\n",
      "       64 |       3 | 2017-02-15 10:05:03+00\n",
      "       24 |       3 | 2017-02-15 10:05:03+00\n",
      "       19 |       3 | 2017-02-15 10:05:03+00\n",
      "        2 |       3 | 2017-02-15 10:05:03+00\n",
      "      162 |       4 | 2017-02-15 10:05:03+00\n",
      "      147 |       4 | 2017-02-15 10:05:03+00\n",
      "       88 |       4 | 2017-02-15 10:05:03+00\n",
      "       81 |       4 | 2017-02-15 10:05:03+00\n",
      "       41 |       4 | 2017-02-15 10:05:03+00\n",
      "      200 |       5 | 2017-02-15 10:05:03+00\n",
      "      181 |       5 | 2017-02-15 10:05:03+00\n",
      "      103 |       5 | 2017-02-15 10:05:03+00\n",
      "       59 |       5 | 2017-02-15 10:05:03+00\n",
      "       51 |       5 | 2017-02-15 10:05:03+00\n",
      "      197 |       6 | 2017-02-15 10:05:03+00\n",
      "(30 rows)\n",
      "\n"
     ]
    }
   ],
   "source": [
    "!psql -c \"select * from pagila.film_actor order by film_id limit 30\""
   ]
  },
  {
   "cell_type": "code",
   "execution_count": 3,
   "id": "correct-library",
   "metadata": {},
   "outputs": [
    {
     "name": "stdout",
     "output_type": "stream",
     "text": [
      " film_id | category_id |      last_update       \n",
      "---------+-------------+------------------------\n",
      "     287 |           1 | 2017-02-15 10:07:09+00\n",
      "     329 |           1 | 2017-02-15 10:07:09+00\n",
      "     212 |           1 | 2017-02-15 10:07:09+00\n",
      "     271 |           1 | 2017-02-15 10:07:09+00\n",
      "     303 |           1 | 2017-02-15 10:07:09+00\n",
      "     327 |           1 | 2017-02-15 10:07:09+00\n",
      "     162 |           1 | 2017-02-15 10:07:09+00\n",
      "     210 |           1 | 2017-02-15 10:07:09+00\n",
      "     229 |           1 | 2017-02-15 10:07:09+00\n",
      "     253 |           1 | 2017-02-15 10:07:09+00\n",
      "     115 |           1 | 2017-02-15 10:07:09+00\n",
      "     292 |           1 | 2017-02-15 10:07:09+00\n",
      "     205 |           1 | 2017-02-15 10:07:09+00\n",
      "     318 |           1 | 2017-02-15 10:07:09+00\n",
      "     130 |           1 | 2017-02-15 10:07:09+00\n",
      "     105 |           1 | 2017-02-15 10:07:09+00\n",
      "      97 |           1 | 2017-02-15 10:07:09+00\n",
      "      19 |           1 | 2017-02-15 10:07:09+00\n",
      "     126 |           1 | 2017-02-15 10:07:09+00\n",
      "      21 |           1 | 2017-02-15 10:07:09+00\n",
      "     250 |           1 | 2017-02-15 10:07:09+00\n",
      "     252 |           1 | 2017-02-15 10:07:09+00\n",
      "      67 |           1 | 2017-02-15 10:07:09+00\n",
      "      38 |           1 | 2017-02-15 10:07:09+00\n",
      "      56 |           1 | 2017-02-15 10:07:09+00\n",
      "     194 |           1 | 2017-02-15 10:07:09+00\n",
      "     111 |           1 | 2017-02-15 10:07:09+00\n",
      "      29 |           1 | 2017-02-15 10:07:09+00\n",
      "     371 |           1 | 2017-02-15 10:07:09+00\n",
      "     360 |           1 | 2017-02-15 10:07:09+00\n",
      "(30 rows)\n",
      "\n"
     ]
    }
   ],
   "source": [
    "!psql -c \"select * from pagila.film_category order by category_id limit 30\""
   ]
  },
  {
   "cell_type": "code",
   "execution_count": 11,
   "id": "undefined-austin",
   "metadata": {},
   "outputs": [
    {
     "name": "stdout",
     "output_type": "stream",
     "text": [
      " inventory_id | film_id | store_id |      last_update       \n",
      "--------------+---------+----------+------------------------\n",
      "            1 |       1 |        1 | 2017-02-15 10:09:17+00\n",
      "            2 |       1 |        1 | 2017-02-15 10:09:17+00\n",
      "            3 |       1 |        1 | 2017-02-15 10:09:17+00\n",
      "            4 |       1 |        1 | 2017-02-15 10:09:17+00\n",
      "            5 |       1 |        2 | 2017-02-15 10:09:17+00\n",
      "            6 |       1 |        2 | 2017-02-15 10:09:17+00\n",
      "            7 |       1 |        2 | 2017-02-15 10:09:17+00\n",
      "            8 |       1 |        2 | 2017-02-15 10:09:17+00\n",
      "            9 |       2 |        2 | 2017-02-15 10:09:17+00\n",
      "           10 |       2 |        2 | 2017-02-15 10:09:17+00\n",
      "           11 |       2 |        2 | 2017-02-15 10:09:17+00\n",
      "           12 |       3 |        2 | 2017-02-15 10:09:17+00\n",
      "           13 |       3 |        2 | 2017-02-15 10:09:17+00\n",
      "           14 |       3 |        2 | 2017-02-15 10:09:17+00\n",
      "           15 |       3 |        2 | 2017-02-15 10:09:17+00\n",
      "           16 |       4 |        1 | 2017-02-15 10:09:17+00\n",
      "           17 |       4 |        1 | 2017-02-15 10:09:17+00\n",
      "           18 |       4 |        1 | 2017-02-15 10:09:17+00\n",
      "           19 |       4 |        1 | 2017-02-15 10:09:17+00\n",
      "           20 |       4 |        2 | 2017-02-15 10:09:17+00\n",
      "           21 |       4 |        2 | 2017-02-15 10:09:17+00\n",
      "           22 |       4 |        2 | 2017-02-15 10:09:17+00\n",
      "           23 |       5 |        2 | 2017-02-15 10:09:17+00\n",
      "           24 |       5 |        2 | 2017-02-15 10:09:17+00\n",
      "           25 |       5 |        2 | 2017-02-15 10:09:17+00\n",
      "           26 |       6 |        1 | 2017-02-15 10:09:17+00\n",
      "           27 |       6 |        1 | 2017-02-15 10:09:17+00\n",
      "           28 |       6 |        1 | 2017-02-15 10:09:17+00\n",
      "           29 |       6 |        2 | 2017-02-15 10:09:17+00\n",
      "           30 |       6 |        2 | 2017-02-15 10:09:17+00\n",
      "(30 rows)\n",
      "\n"
     ]
    }
   ],
   "source": [
    "!psql -c \"select * from pagila.inventory limit 30\""
   ]
  },
  {
   "cell_type": "code",
   "execution_count": 13,
   "id": "underlying-affiliation",
   "metadata": {},
   "outputs": [
    {
     "name": "stdout",
     "output_type": "stream",
     "text": [
      " language_id |         name         |      last_update       \n",
      "-------------+----------------------+------------------------\n",
      "           1 | English              | 2017-02-15 10:02:19+00\n",
      "           2 | Italian              | 2017-02-15 10:02:19+00\n",
      "           3 | Japanese             | 2017-02-15 10:02:19+00\n",
      "           4 | Mandarin             | 2017-02-15 10:02:19+00\n",
      "           5 | French               | 2017-02-15 10:02:19+00\n",
      "           6 | German               | 2017-02-15 10:02:19+00\n",
      "(6 rows)\n",
      "\n"
     ]
    }
   ],
   "source": [
    "!psql -c \"select * from pagila.language limit 30\""
   ]
  },
  {
   "cell_type": "code",
   "execution_count": 14,
   "id": "informational-aaron",
   "metadata": {},
   "outputs": [
    {
     "name": "stdout",
     "output_type": "stream",
     "text": [
      " payment_id | customer_id | staff_id | rental_id | amount |         payment_date          \n",
      "------------+-------------+----------+-----------+--------+-------------------------------\n",
      "      16050 |         269 |        2 |         7 |   1.99 | 2017-01-24 21:40:19.996577+00\n",
      "      16051 |         269 |        1 |        98 |   0.99 | 2017-01-25 15:16:50.996577+00\n",
      "      16052 |         269 |        2 |       678 |   6.99 | 2017-01-28 21:44:14.996577+00\n",
      "      16053 |         269 |        2 |       703 |   0.99 | 2017-01-29 00:58:02.996577+00\n",
      "      16054 |         269 |        1 |       750 |   4.99 | 2017-01-29 08:10:06.996577+00\n",
      "      16055 |         269 |        2 |      1099 |   2.99 | 2017-01-31 12:23:14.996577+00\n",
      "      16056 |         270 |        1 |       193 |   1.99 | 2017-01-26 05:10:14.996577+00\n",
      "      16057 |         270 |        1 |      1040 |   4.99 | 2017-01-31 04:03:42.996577+00\n",
      "      16058 |         271 |        1 |      1096 |   8.99 | 2017-01-31 11:59:15.996577+00\n",
      "      16059 |         272 |        1 |        33 |   0.99 | 2017-01-25 02:47:17.996577+00\n",
      "      16060 |         272 |        1 |       405 |   6.99 | 2017-01-27 12:01:05.996577+00\n",
      "      16061 |         272 |        1 |      1041 |   6.99 | 2017-01-31 04:14:49.996577+00\n",
      "      16062 |         272 |        1 |      1072 |   0.99 | 2017-01-31 08:21:16.996577+00\n",
      "      16063 |         273 |        2 |       122 |   3.99 | 2017-01-25 18:14:47.996577+00\n",
      "      16064 |         273 |        2 |       980 |   0.99 | 2017-01-30 20:13:45.996577+00\n",
      "      16065 |         274 |        1 |       147 |   2.99 | 2017-01-25 22:46:16.996577+00\n",
      "      16066 |         274 |        1 |       208 |   4.99 | 2017-01-26 06:38:48.996577+00\n",
      "      16067 |         274 |        2 |       301 |   2.99 | 2017-01-26 19:34:40.996577+00\n",
      "      16068 |         274 |        1 |       394 |   5.99 | 2017-01-27 09:54:37.996577+00\n",
      "      16069 |         274 |        2 |       474 |   2.99 | 2017-01-27 20:40:22.996577+00\n",
      "      16070 |         274 |        1 |       892 |   4.99 | 2017-01-30 06:31:22.996577+00\n",
      "      16071 |         275 |        2 |       336 |   2.99 | 2017-01-27 01:43:49.996577+00\n",
      "      16072 |         276 |        1 |       736 |   3.99 | 2017-01-29 06:38:33.996577+00\n",
      "      16073 |         276 |        1 |       860 |  10.99 | 2017-01-30 01:13:42.996577+00\n",
      "      16074 |         277 |        2 |       308 |   6.99 | 2017-01-26 20:30:05.996577+00\n",
      "      16075 |         278 |        1 |      1092 |   4.99 | 2017-01-31 10:44:23.996577+00\n",
      "      16076 |         279 |        1 |       979 |   2.99 | 2017-01-30 20:05:37.996577+00\n",
      "      16077 |         279 |        2 |      1019 |   0.99 | 2017-01-31 01:33:33.996577+00\n",
      "      16078 |         280 |        1 |      1014 |   4.99 | 2017-01-31 01:07:42.996577+00\n",
      "      16079 |         281 |        2 |       650 |   2.99 | 2017-01-28 18:14:06.996577+00\n",
      "(30 rows)\n",
      "\n"
     ]
    }
   ],
   "source": [
    "!psql -c \"select * from pagila.payment limit 30\""
   ]
  },
  {
   "cell_type": "code",
   "execution_count": 28,
   "id": "sunset-default",
   "metadata": {},
   "outputs": [
    {
     "name": "stdout",
     "output_type": "stream",
     "text": [
      " rental_id | inventory_id | customer_id | staff_id |      rental_date       \n",
      "-----------+--------------+-------------+----------+------------------------\n",
      "        46 |         3318 |           7 |        2 | 2005-05-25 06:04:08+00\n",
      "        57 |         3938 |           6 |        2 | 2005-05-25 08:43:32+00\n",
      "        42 |          380 |         523 |        2 | 2005-05-25 05:24:58+00\n",
      "        45 |         1853 |         436 |        2 | 2005-05-25 05:59:39+00\n",
      "        50 |         1983 |          18 |        2 | 2005-05-25 06:44:53+00\n",
      "        54 |         2787 |         291 |        2 | 2005-05-25 07:23:25+00\n",
      "        35 |         1286 |         484 |        2 | 2005-05-25 04:24:36+00\n",
      "        39 |         4466 |         207 |        2 | 2005-05-25 04:51:46+00\n",
      "        11 |         4443 |         142 |        2 | 2005-05-25 00:09:02+00\n",
      "        44 |         3098 |         207 |        2 | 2005-05-25 05:53:23+00\n",
      "        49 |         2965 |         498 |        2 | 2005-05-25 06:39:35+00\n",
      "         4 |         2452 |         333 |        2 | 2005-05-24 23:04:41+00\n",
      "        52 |         4017 |         507 |        2 | 2005-05-25 06:51:29+00\n",
      "        53 |         1255 |         569 |        2 | 2005-05-25 07:19:16+00\n",
      "        34 |         2613 |         597 |        2 | 2005-05-25 04:19:28+00\n",
      "        18 |         3376 |          19 |        2 | 2005-05-25 01:10:47+00\n",
      "        10 |         1824 |         399 |        2 | 2005-05-25 00:02:21+00\n",
      "        20 |         3517 |         185 |        2 | 2005-05-25 01:48:41+00\n",
      "        21 |          146 |         388 |        2 | 2005-05-25 01:59:46+00\n",
      "        22 |          727 |         509 |        2 | 2005-05-25 02:19:23+00\n",
      "        12 |         1584 |         261 |        2 | 2005-05-25 00:19:27+00\n",
      "        43 |         2578 |         532 |        2 | 2005-05-25 05:39:25+00\n",
      "        25 |         3961 |          37 |        2 | 2005-05-25 03:21:20+00\n",
      "         7 |         3995 |         269 |        2 | 2005-05-24 23:11:53+00\n",
      "        27 |         1225 |         301 |        2 | 2005-05-25 03:41:50+00\n",
      "        28 |         4068 |         232 |        2 | 2005-05-25 03:42:37+00\n",
      "        29 |          611 |          44 |        2 | 2005-05-25 03:47:12+00\n",
      "         8 |         2346 |         239 |        2 | 2005-05-24 23:31:46+00\n",
      "        16 |          389 |         316 |        2 | 2005-05-25 00:43:11+00\n",
      "        61 |         4210 |         250 |        2 | 2005-05-25 09:01:57+00\n",
      "(30 rows)\n",
      "\n"
     ]
    }
   ],
   "source": [
    "!psql -c \"select rental_id, inventory_id, customer_id, staff_id, rental_date from pagila.rental order by staff_id DESC limit 30\""
   ]
  },
  {
   "cell_type": "code",
   "execution_count": 27,
   "id": "excellent-hindu",
   "metadata": {},
   "outputs": [
    {
     "name": "stdout",
     "output_type": "stream",
     "text": [
      " staff_id | first_name | last_name | address_id | store_id \n",
      "----------+------------+-----------+------------+----------\n",
      "        1 | Mike       | Hillyer   |          3 |        1\n",
      "        2 | Jon        | Stephens  |          4 |        2\n",
      "(2 rows)\n",
      "\n"
     ]
    }
   ],
   "source": [
    "!psql -c \"select staff_id, first_name, last_name, address_id, store_id from pagila.staff limit 30\""
   ]
  },
  {
   "cell_type": "code",
   "execution_count": 17,
   "id": "herbal-accent",
   "metadata": {},
   "outputs": [
    {
     "name": "stdout",
     "output_type": "stream",
     "text": [
      " store_id | manager_staff_id | address_id |      last_update       \n",
      "----------+------------------+------------+------------------------\n",
      "        1 |                1 |          1 | 2017-02-15 09:57:12+00\n",
      "        2 |                2 |          2 | 2017-02-15 09:57:12+00\n",
      "(2 rows)\n",
      "\n"
     ]
    }
   ],
   "source": [
    "!psql -c \"select * from pagila.store limit 30\""
   ]
  },
  {
   "cell_type": "code",
   "execution_count": null,
   "id": "supported-stranger",
   "metadata": {},
   "outputs": [],
   "source": []
  }
 ],
 "metadata": {
  "environment": {
   "name": "common-cpu.mnightly-2021-01-20-debian-10-test",
   "type": "gcloud",
   "uri": "gcr.io/deeplearning-platform-release/base-cpu:mnightly-2021-01-20-debian-10-test"
  },
  "kernelspec": {
   "display_name": "Python 3",
   "language": "python",
   "name": "python3"
  },
  "language_info": {
   "codemirror_mode": {
    "name": "ipython",
    "version": 3
   },
   "file_extension": ".py",
   "mimetype": "text/x-python",
   "name": "python",
   "nbconvert_exporter": "python",
   "pygments_lexer": "ipython3",
   "version": "3.7.9"
  }
 },
 "nbformat": 4,
 "nbformat_minor": 5
}
