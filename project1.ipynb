{
 "cells": [
  {
   "cell_type": "markdown",
   "id": "ambient-configuration",
   "metadata": {},
   "source": [
    "### Download Sakila Dataset"
   ]
  },
  {
   "cell_type": "code",
   "execution_count": 1,
   "id": "incredible-spray",
   "metadata": {},
   "outputs": [
    {
     "name": "stdout",
     "output_type": "stream",
     "text": [
      "Copying gs://cs327e-open-access/sakila.zip...\n",
      "/ [1 files][788.5 KiB/788.5 KiB]                                                \n",
      "Operation completed over 1 objects/788.5 KiB.                                    \n"
     ]
    }
   ],
   "source": [
    "!gsutil cp gs://cs327e-open-access/sakila.zip ."
   ]
  },
  {
   "cell_type": "code",
   "execution_count": 2,
   "id": "sustainable-texas",
   "metadata": {},
   "outputs": [
    {
     "name": "stdout",
     "output_type": "stream",
     "text": [
      "Archive:  sakila.zip\n",
      "   creating: sakila/\n",
      "  inflating: sakila/.DS_Store        \n",
      "  inflating: __MACOSX/sakila/._.DS_Store  \n",
      "  inflating: sakila/sakila schema.png  \n",
      "  inflating: __MACOSX/sakila/._sakila schema.png  \n",
      "  inflating: sakila/sakila-data.sql  \n",
      "  inflating: __MACOSX/sakila/._sakila-data.sql  \n",
      "  inflating: sakila/sakila-database.sql  \n",
      "  inflating: __MACOSX/sakila/._sakila-database.sql  \n"
     ]
    }
   ],
   "source": [
    "!unzip sakila.zip"
   ]
  },
  {
   "cell_type": "markdown",
   "id": "transparent-position",
   "metadata": {},
   "source": [
    "### Create Sakila Database and Database Objects"
   ]
  },
  {
   "cell_type": "code",
   "execution_count": 3,
   "id": "configured-arrest",
   "metadata": {},
   "outputs": [],
   "source": [
    "!mysql < /home/jupyter/Amaryllis/sakila/sakila-database.sql"
   ]
  },
  {
   "cell_type": "markdown",
   "id": "structured-wichita",
   "metadata": {},
   "source": [
    "### Populate the Tables"
   ]
  },
  {
   "cell_type": "code",
   "execution_count": 4,
   "id": "future-uzbekistan",
   "metadata": {},
   "outputs": [],
   "source": [
    "!mysql < /home/jupyter/Amaryllis/sakila/sakila-data.sql"
   ]
  },
  {
   "cell_type": "markdown",
   "id": "played-albert",
   "metadata": {},
   "source": [
    "### Get Row Count for each Table in the Sakila Database"
   ]
  },
  {
   "cell_type": "code",
   "execution_count": 5,
   "id": "contrary-georgia",
   "metadata": {},
   "outputs": [
    {
     "name": "stdout",
     "output_type": "stream",
     "text": [
      "+----------+\n",
      "| count(*) |\n",
      "+----------+\n",
      "|      200 |\n",
      "+----------+\n"
     ]
    }
   ],
   "source": [
    "!mysql sakila -e \"select count(*) from actor\""
   ]
  },
  {
   "cell_type": "code",
   "execution_count": 6,
   "id": "martial-appointment",
   "metadata": {},
   "outputs": [
    {
     "name": "stdout",
     "output_type": "stream",
     "text": [
      "+----------+\n",
      "| count(*) |\n",
      "+----------+\n",
      "|      603 |\n",
      "+----------+\n"
     ]
    }
   ],
   "source": [
    "!mysql sakila -e \"select count(*) from address\""
   ]
  },
  {
   "cell_type": "code",
   "execution_count": 7,
   "id": "preliminary-exemption",
   "metadata": {},
   "outputs": [
    {
     "name": "stdout",
     "output_type": "stream",
     "text": [
      "+----------+\n",
      "| count(*) |\n",
      "+----------+\n",
      "|       16 |\n",
      "+----------+\n"
     ]
    }
   ],
   "source": [
    "!mysql sakila -e \"select count(*) from category\""
   ]
  },
  {
   "cell_type": "code",
   "execution_count": 8,
   "id": "crucial-karma",
   "metadata": {},
   "outputs": [
    {
     "name": "stdout",
     "output_type": "stream",
     "text": [
      "+----------+\n",
      "| count(*) |\n",
      "+----------+\n",
      "|      600 |\n",
      "+----------+\n"
     ]
    }
   ],
   "source": [
    "!mysql sakila -e \"select count(*) from city\""
   ]
  },
  {
   "cell_type": "code",
   "execution_count": 9,
   "id": "thick-powell",
   "metadata": {},
   "outputs": [
    {
     "name": "stdout",
     "output_type": "stream",
     "text": [
      "+----------+\n",
      "| count(*) |\n",
      "+----------+\n",
      "|      109 |\n",
      "+----------+\n"
     ]
    }
   ],
   "source": [
    "!mysql sakila -e \"select count(*) from country\""
   ]
  },
  {
   "cell_type": "code",
   "execution_count": 10,
   "id": "respected-modeling",
   "metadata": {},
   "outputs": [
    {
     "name": "stdout",
     "output_type": "stream",
     "text": [
      "+----------+\n",
      "| count(*) |\n",
      "+----------+\n",
      "|      599 |\n",
      "+----------+\n"
     ]
    }
   ],
   "source": [
    "!mysql sakila -e \"select count(*) from customer\""
   ]
  },
  {
   "cell_type": "code",
   "execution_count": 11,
   "id": "needed-circular",
   "metadata": {},
   "outputs": [
    {
     "name": "stdout",
     "output_type": "stream",
     "text": [
      "+----------+\n",
      "| count(*) |\n",
      "+----------+\n",
      "|     1000 |\n",
      "+----------+\n"
     ]
    }
   ],
   "source": [
    "!mysql sakila -e \"select count(*) from film\""
   ]
  },
  {
   "cell_type": "code",
   "execution_count": 12,
   "id": "right-blade",
   "metadata": {},
   "outputs": [
    {
     "name": "stdout",
     "output_type": "stream",
     "text": [
      "+----------+\n",
      "| count(*) |\n",
      "+----------+\n",
      "|     5462 |\n",
      "+----------+\n"
     ]
    }
   ],
   "source": [
    "!mysql sakila -e \"select count(*) from film_actor\""
   ]
  },
  {
   "cell_type": "code",
   "execution_count": 13,
   "id": "simplified-square",
   "metadata": {},
   "outputs": [
    {
     "name": "stdout",
     "output_type": "stream",
     "text": [
      "+----------+\n",
      "| count(*) |\n",
      "+----------+\n",
      "|     1000 |\n",
      "+----------+\n"
     ]
    }
   ],
   "source": [
    "!mysql sakila -e \"select count(*) from film_category\""
   ]
  },
  {
   "cell_type": "code",
   "execution_count": 14,
   "id": "minus-channels",
   "metadata": {},
   "outputs": [
    {
     "name": "stdout",
     "output_type": "stream",
     "text": [
      "+----------+\n",
      "| count(*) |\n",
      "+----------+\n",
      "|     1000 |\n",
      "+----------+\n"
     ]
    }
   ],
   "source": [
    "!mysql sakila -e \"select count(*) from film_text\""
   ]
  },
  {
   "cell_type": "code",
   "execution_count": 15,
   "id": "accepting-vanilla",
   "metadata": {},
   "outputs": [
    {
     "name": "stdout",
     "output_type": "stream",
     "text": [
      "+----------+\n",
      "| count(*) |\n",
      "+----------+\n",
      "|     4581 |\n",
      "+----------+\n"
     ]
    }
   ],
   "source": [
    "!mysql sakila -e \"select count(*) from inventory\""
   ]
  },
  {
   "cell_type": "code",
   "execution_count": 16,
   "id": "optical-circle",
   "metadata": {},
   "outputs": [
    {
     "name": "stdout",
     "output_type": "stream",
     "text": [
      "+----------+\n",
      "| count(*) |\n",
      "+----------+\n",
      "|        6 |\n",
      "+----------+\n"
     ]
    }
   ],
   "source": [
    "!mysql sakila -e \"select count(*) from language\""
   ]
  },
  {
   "cell_type": "code",
   "execution_count": 17,
   "id": "greater-divide",
   "metadata": {},
   "outputs": [
    {
     "name": "stdout",
     "output_type": "stream",
     "text": [
      "+----------+\n",
      "| count(*) |\n",
      "+----------+\n",
      "|    16049 |\n",
      "+----------+\n"
     ]
    }
   ],
   "source": [
    "!mysql sakila -e \"select count(*) from payment\""
   ]
  },
  {
   "cell_type": "code",
   "execution_count": 18,
   "id": "streaming-watts",
   "metadata": {},
   "outputs": [
    {
     "name": "stdout",
     "output_type": "stream",
     "text": [
      "+----------+\n",
      "| count(*) |\n",
      "+----------+\n",
      "|    16044 |\n",
      "+----------+\n"
     ]
    }
   ],
   "source": [
    "!mysql sakila -e \"select count(*) from rental\""
   ]
  },
  {
   "cell_type": "code",
   "execution_count": 19,
   "id": "behind-firmware",
   "metadata": {},
   "outputs": [
    {
     "name": "stdout",
     "output_type": "stream",
     "text": [
      "+----------+\n",
      "| count(*) |\n",
      "+----------+\n",
      "|        2 |\n",
      "+----------+\n"
     ]
    }
   ],
   "source": [
    "!mysql sakila -e \"select count(*) from staff\""
   ]
  },
  {
   "cell_type": "code",
   "execution_count": 20,
   "id": "weighted-danger",
   "metadata": {},
   "outputs": [
    {
     "name": "stdout",
     "output_type": "stream",
     "text": [
      "+----------+\n",
      "| count(*) |\n",
      "+----------+\n",
      "|        2 |\n",
      "+----------+\n"
     ]
    }
   ],
   "source": [
    "!mysql sakila -e \"select count(*) from store\""
   ]
  },
  {
   "cell_type": "markdown",
   "id": "answering-silicon",
   "metadata": {},
   "source": [
    "### Sample a Few Records from each Table"
   ]
  },
  {
   "cell_type": "code",
   "execution_count": null,
   "id": "genetic-orientation",
   "metadata": {},
   "outputs": [],
   "source": []
  },
  {
   "cell_type": "markdown",
   "id": "united-worry",
   "metadata": {},
   "source": [
    "### Query a Table Using WHERE and ORDER BY"
   ]
  },
  {
   "cell_type": "code",
   "execution_count": null,
   "id": "endless-recording",
   "metadata": {},
   "outputs": [],
   "source": [
    "# The query asks for all fields from the payment table in the sakila database where the customer ID is 333 and output ordered by the payment date in ascending order"
   ]
  },
  {
   "cell_type": "code",
   "execution_count": 21,
   "id": "conceptual-birth",
   "metadata": {},
   "outputs": [
    {
     "name": "stdout",
     "output_type": "stream",
     "text": [
      "+------------+-------------+----------+-----------+--------+---------------------+---------------------+\n",
      "| payment_id | customer_id | staff_id | rental_id | amount | payment_date        | last_update         |\n",
      "+------------+-------------+----------+-----------+--------+---------------------+---------------------+\n",
      "|       8987 |         333 |        1 |         4 |   4.99 | 2005-05-24 23:04:41 | 2006-02-15 22:16:17 |\n",
      "|       8988 |         333 |        1 |      1667 |   2.99 | 2005-06-16 10:18:59 | 2006-02-15 22:16:17 |\n",
      "|       8989 |         333 |        1 |      2149 |   6.99 | 2005-06-17 22:50:00 | 2006-02-15 22:16:17 |\n",
      "|       8990 |         333 |        1 |      2929 |   1.99 | 2005-06-20 04:47:39 | 2006-02-15 22:16:17 |\n",
      "|       8991 |         333 |        1 |      3110 |   2.99 | 2005-06-20 17:40:12 | 2006-02-15 22:16:17 |\n",
      "|       8992 |         333 |        2 |      5032 |   0.99 | 2005-07-09 02:39:47 | 2006-02-15 22:16:17 |\n",
      "|       8993 |         333 |        1 |      5645 |   1.99 | 2005-07-10 06:58:21 | 2006-02-15 22:16:17 |\n",
      "|       8994 |         333 |        2 |      5892 |   4.99 | 2005-07-10 20:02:42 | 2006-02-15 22:16:17 |\n",
      "|       8995 |         333 |        2 |      6275 |   0.99 | 2005-07-11 16:12:11 | 2006-02-15 22:16:18 |\n",
      "|       8996 |         333 |        2 |      6931 |   4.99 | 2005-07-26 23:02:57 | 2006-02-15 22:16:18 |\n",
      "|       8997 |         333 |        2 |      6958 |   0.99 | 2005-07-27 00:02:41 | 2006-02-15 22:16:18 |\n",
      "|       8998 |         333 |        2 |      7076 |   6.99 | 2005-07-27 04:12:14 | 2006-02-15 22:16:18 |\n",
      "|       8999 |         333 |        2 |      7246 |   0.99 | 2005-07-27 10:30:41 | 2006-02-15 22:16:18 |\n",
      "|       9000 |         333 |        1 |      8719 |   4.99 | 2005-07-29 17:45:45 | 2006-02-15 22:16:18 |\n",
      "|       9001 |         333 |        2 |      9148 |   4.99 | 2005-07-30 10:39:10 | 2006-02-15 22:16:18 |\n",
      "|       9002 |         333 |        2 |      9338 |  10.99 | 2005-07-30 18:03:13 | 2006-02-15 22:16:18 |\n",
      "|       9003 |         333 |        2 |     10035 |   4.99 | 2005-07-31 18:46:46 | 2006-02-15 22:16:18 |\n",
      "|       9004 |         333 |        1 |     10062 |   2.99 | 2005-07-31 19:24:55 | 2006-02-15 22:16:18 |\n",
      "|       9005 |         333 |        2 |     10844 |   4.99 | 2005-08-01 23:46:58 | 2006-02-15 22:16:18 |\n",
      "|       9006 |         333 |        1 |     12427 |   6.99 | 2005-08-18 10:24:17 | 2006-02-15 22:16:18 |\n",
      "|       9007 |         333 |        2 |     12661 |   0.99 | 2005-08-18 19:10:10 | 2006-02-15 22:16:18 |\n",
      "|       9008 |         333 |        1 |     13579 |   3.99 | 2005-08-20 05:22:06 | 2006-02-15 22:16:18 |\n",
      "|       9009 |         333 |        2 |     13710 |   4.99 | 2005-08-20 09:35:20 | 2006-02-15 22:16:18 |\n",
      "|       9010 |         333 |        1 |     14057 |   4.99 | 2005-08-20 22:22:59 | 2006-02-15 22:16:18 |\n",
      "|       9011 |         333 |        1 |     14740 |   2.99 | 2005-08-21 22:35:33 | 2006-02-15 22:16:18 |\n",
      "|       9012 |         333 |        2 |     15253 |   2.99 | 2005-08-22 18:05:21 | 2006-02-15 22:16:18 |\n",
      "|       9013 |         333 |        1 |     15313 |   4.99 | 2005-08-22 19:59:42 | 2006-02-15 22:16:18 |\n",
      "+------------+-------------+----------+-----------+--------+---------------------+---------------------+\n"
     ]
    }
   ],
   "source": [
    "!mysql sakila -e \"select * from payment where customer_id = 333 order by payment_date\""
   ]
  },
  {
   "cell_type": "markdown",
   "id": "assisted-improvement",
   "metadata": {},
   "source": [
    "### Add a Record Into a Table with INSERT"
   ]
  },
  {
   "cell_type": "code",
   "execution_count": 10,
   "id": "minus-daily",
   "metadata": {},
   "outputs": [],
   "source": [
    "# Include a short comment above your SQL statement to describe the SQL"
   ]
  },
  {
   "cell_type": "code",
   "execution_count": null,
   "id": "improved-latvia",
   "metadata": {},
   "outputs": [],
   "source": []
  },
  {
   "cell_type": "markdown",
   "id": "determined-wesley",
   "metadata": {},
   "source": [
    "### Update One or More Records in a Table with UPDATE"
   ]
  },
  {
   "cell_type": "code",
   "execution_count": null,
   "id": "operational-headquarters",
   "metadata": {},
   "outputs": [],
   "source": [
    "# Updated the name of cateory ID 4 from \"Drama\" to \"Romance\" in table category."
   ]
  },
  {
   "cell_type": "code",
   "execution_count": 22,
   "id": "opposed-processing",
   "metadata": {},
   "outputs": [],
   "source": [
    "!mysql sakila -e \"update category set name = 'Romance' where category_id = 4\""
   ]
  },
  {
   "cell_type": "markdown",
   "id": "cloudy-thumbnail",
   "metadata": {},
   "source": [
    "### Delete One or More Records from a Table with DELETE"
   ]
  },
  {
   "cell_type": "code",
   "execution_count": null,
   "id": "distributed-builder",
   "metadata": {},
   "outputs": [],
   "source": [
    "# Include a short comment above your SQL statement to describe the SQL"
   ]
  },
  {
   "cell_type": "code",
   "execution_count": null,
   "id": "promising-darwin",
   "metadata": {},
   "outputs": [],
   "source": []
  }
 ],
 "metadata": {
  "environment": {
   "name": "common-cpu.mnightly-2021-01-20-debian-10-test",
   "type": "gcloud",
   "uri": "gcr.io/deeplearning-platform-release/base-cpu:mnightly-2021-01-20-debian-10-test"
  },
  "kernelspec": {
   "display_name": "Python 3",
   "language": "python",
   "name": "python3"
  },
  "language_info": {
   "codemirror_mode": {
    "name": "ipython",
    "version": 3
   },
   "file_extension": ".py",
   "mimetype": "text/x-python",
   "name": "python",
   "nbconvert_exporter": "python",
   "pygments_lexer": "ipython3",
   "version": "3.7.9"
  }
 },
 "nbformat": 4,
 "nbformat_minor": 5
}
