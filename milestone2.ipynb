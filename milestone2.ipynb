{
 "cells": [
  {
   "cell_type": "markdown",
   "id": "adapted-sector",
   "metadata": {},
   "source": [
    "#### create BigQuery Dataset \"datamart\""
   ]
  },
  {
   "cell_type": "code",
   "execution_count": 1,
   "id": "sealed-dinner",
   "metadata": {},
   "outputs": [
    {
     "name": "stdout",
     "output_type": "stream",
     "text": [
      "Dataset 'lunar-analyzer-302702:datamart' successfully created.\n"
     ]
    }
   ],
   "source": [
    "!bq --location=US mk --dataset datamart"
   ]
  },
  {
   "cell_type": "markdown",
   "id": "vocational-jaguar",
   "metadata": {},
   "source": [
    "### Transform the COVID-19 Dataset"
   ]
  },
  {
   "cell_type": "markdown",
   "id": "confirmed-andrews",
   "metadata": {},
   "source": [
    "#### create preliminary covid table"
   ]
  },
  {
   "cell_type": "code",
   "execution_count": 42,
   "id": "handy-drilling",
   "metadata": {},
   "outputs": [
    {
     "data": {
      "text/html": [
       "<div>\n",
       "<style scoped>\n",
       "    .dataframe tbody tr th:only-of-type {\n",
       "        vertical-align: middle;\n",
       "    }\n",
       "\n",
       "    .dataframe tbody tr th {\n",
       "        vertical-align: top;\n",
       "    }\n",
       "\n",
       "    .dataframe thead th {\n",
       "        text-align: right;\n",
       "    }\n",
       "</style>\n",
       "<table border=\"1\" class=\"dataframe\">\n",
       "  <thead>\n",
       "    <tr style=\"text-align: right;\">\n",
       "      <th></th>\n",
       "    </tr>\n",
       "  </thead>\n",
       "  <tbody>\n",
       "  </tbody>\n",
       "</table>\n",
       "</div>"
      ],
      "text/plain": [
       "Empty DataFrame\n",
       "Columns: []\n",
       "Index: []"
      ]
     },
     "execution_count": 42,
     "metadata": {},
     "output_type": "execute_result"
    }
   ],
   "source": [
    "%%bigquery\n",
    "CREATE OR REPLACE TABLE datamart.covid AS\n",
    "SELECT null AS id, fips, admin2, province_state, country_region AS Country, last_update, latitude, longitude, confirmed, deaths, recovered, active, combined_key, incident_rate, case_fatality_ratio\n",
    "FROM jhu_daily_reports_staging.covid_winter2020\n",
    "UNION ALL\n",
    "SELECT null AS id, fips, admin2, province_state, country_region AS Country, last_update, latitude, longitude, confirmed, deaths, recovered, active, combined_key, incident_rate, case_fatality_ratio\n",
    "FROM jhu_daily_reports_staging.covid_spring2020\n",
    "UNION ALL\n",
    "SELECT null AS id, fips, admin2, province_state, country_region AS Country, CAST(last_update AS STRING) AS last_update, lat AS latitude, long_ AS longitude, confirmed, deaths, recovered, active, combined_key, incidence_rate AS incident_rate, case_fatality_ratio\n",
    "FROM jhu_daily_reports_staging.covid_summer2020\n",
    "UNION ALL\n",
    "SELECT null AS id, fips, admin2, province_state, country_region AS Country, CAST(last_update AS STRING) AS last_update, lat AS latitude, long_ AS longitude, confirmed, deaths, recovered, active, combined_key, incident_rate, case_fatality_ratio\n",
    "FROM jhu_daily_reports_staging.covid_fall2020\n",
    "UNION ALL\n",
    "SELECT null AS id, fips, admin2, province_state, country_region AS Country, CAST(last_update AS STRING) AS last_update, lat AS latitude, long_ AS longitude, confirmed, deaths, recovered, active, combined_key, incident_rate, case_fatality_ratio\n",
    "FROM jhu_daily_reports_staging.covid_winter2021\n",
    "UNION ALL\n",
    "SELECT null AS id, fips, admin2, province_state, country_region AS Country, CAST(last_update AS STRING) AS last_update, lat AS latitude, long_ AS longitude, confirmed, deaths, recovered, active, combined_key, incident_rate, case_fatality_ratio\n",
    "FROM jhu_daily_reports_staging.covid_spring2021"
   ]
  },
  {
   "cell_type": "markdown",
   "id": "homeless-compromise",
   "metadata": {},
   "source": [
    "#### compute fingerprint ids for preliminary covid table"
   ]
  },
  {
   "cell_type": "code",
   "execution_count": 43,
   "id": "portable-campbell",
   "metadata": {},
   "outputs": [
    {
     "data": {
      "text/html": [
       "<div>\n",
       "<style scoped>\n",
       "    .dataframe tbody tr th:only-of-type {\n",
       "        vertical-align: middle;\n",
       "    }\n",
       "\n",
       "    .dataframe tbody tr th {\n",
       "        vertical-align: top;\n",
       "    }\n",
       "\n",
       "    .dataframe thead th {\n",
       "        text-align: right;\n",
       "    }\n",
       "</style>\n",
       "<table border=\"1\" class=\"dataframe\">\n",
       "  <thead>\n",
       "    <tr style=\"text-align: right;\">\n",
       "      <th></th>\n",
       "    </tr>\n",
       "  </thead>\n",
       "  <tbody>\n",
       "  </tbody>\n",
       "</table>\n",
       "</div>"
      ],
      "text/plain": [
       "Empty DataFrame\n",
       "Columns: []\n",
       "Index: []"
      ]
     },
     "execution_count": 43,
     "metadata": {},
     "output_type": "execute_result"
    }
   ],
   "source": [
    "%%bigquery\n",
    "UPDATE datamart.covid\n",
    "SET id=FARM_FINGERPRINT(country)\n",
    "WHERE province_state IS null"
   ]
  },
  {
   "cell_type": "code",
   "execution_count": 44,
   "id": "useful-ribbon",
   "metadata": {},
   "outputs": [
    {
     "data": {
      "text/html": [
       "<div>\n",
       "<style scoped>\n",
       "    .dataframe tbody tr th:only-of-type {\n",
       "        vertical-align: middle;\n",
       "    }\n",
       "\n",
       "    .dataframe tbody tr th {\n",
       "        vertical-align: top;\n",
       "    }\n",
       "\n",
       "    .dataframe thead th {\n",
       "        text-align: right;\n",
       "    }\n",
       "</style>\n",
       "<table border=\"1\" class=\"dataframe\">\n",
       "  <thead>\n",
       "    <tr style=\"text-align: right;\">\n",
       "      <th></th>\n",
       "    </tr>\n",
       "  </thead>\n",
       "  <tbody>\n",
       "  </tbody>\n",
       "</table>\n",
       "</div>"
      ],
      "text/plain": [
       "Empty DataFrame\n",
       "Columns: []\n",
       "Index: []"
      ]
     },
     "execution_count": 44,
     "metadata": {},
     "output_type": "execute_result"
    }
   ],
   "source": [
    "%%bigquery\n",
    "UPDATE datamart.covid\n",
    "SET id=FARM_FINGERPRINT(concat(province_state, country))\n",
    "WHERE (province_state IS NOT null AND country!='US')"
   ]
  },
  {
   "cell_type": "code",
   "execution_count": 46,
   "id": "amber-coupon",
   "metadata": {},
   "outputs": [
    {
     "data": {
      "text/html": [
       "<div>\n",
       "<style scoped>\n",
       "    .dataframe tbody tr th:only-of-type {\n",
       "        vertical-align: middle;\n",
       "    }\n",
       "\n",
       "    .dataframe tbody tr th {\n",
       "        vertical-align: top;\n",
       "    }\n",
       "\n",
       "    .dataframe thead th {\n",
       "        text-align: right;\n",
       "    }\n",
       "</style>\n",
       "<table border=\"1\" class=\"dataframe\">\n",
       "  <thead>\n",
       "    <tr style=\"text-align: right;\">\n",
       "      <th></th>\n",
       "    </tr>\n",
       "  </thead>\n",
       "  <tbody>\n",
       "  </tbody>\n",
       "</table>\n",
       "</div>"
      ],
      "text/plain": [
       "Empty DataFrame\n",
       "Columns: []\n",
       "Index: []"
      ]
     },
     "execution_count": 46,
     "metadata": {},
     "output_type": "execute_result"
    }
   ],
   "source": [
    "%%bigquery\n",
    "UPDATE datamart.covid\n",
    "SET id=FARM_FINGERPRINT(concat(admin2, province_state, country))\n",
    "WHERE (province_state IS NOT null AND country='US' AND admin2 IS NOT null AND fips IS NULL)"
   ]
  },
  {
   "cell_type": "code",
   "execution_count": 48,
   "id": "addressed-musician",
   "metadata": {},
   "outputs": [
    {
     "data": {
      "text/html": [
       "<div>\n",
       "<style scoped>\n",
       "    .dataframe tbody tr th:only-of-type {\n",
       "        vertical-align: middle;\n",
       "    }\n",
       "\n",
       "    .dataframe tbody tr th {\n",
       "        vertical-align: top;\n",
       "    }\n",
       "\n",
       "    .dataframe thead th {\n",
       "        text-align: right;\n",
       "    }\n",
       "</style>\n",
       "<table border=\"1\" class=\"dataframe\">\n",
       "  <thead>\n",
       "    <tr style=\"text-align: right;\">\n",
       "      <th></th>\n",
       "    </tr>\n",
       "  </thead>\n",
       "  <tbody>\n",
       "  </tbody>\n",
       "</table>\n",
       "</div>"
      ],
      "text/plain": [
       "Empty DataFrame\n",
       "Columns: []\n",
       "Index: []"
      ]
     },
     "execution_count": 48,
     "metadata": {},
     "output_type": "execute_result"
    }
   ],
   "source": [
    "%%bigquery\n",
    "UPDATE datamart.covid\n",
    "SET id=FARM_FINGERPRINT(concat(CAST(fips AS STRING), admin2, province_state, country))\n",
    "WHERE (province_state IS NOT null AND country='US' AND admin2 IS NOT null AND fips IS NOT null)"
   ]
  },
  {
   "cell_type": "code",
   "execution_count": 50,
   "id": "fiscal-large",
   "metadata": {},
   "outputs": [
    {
     "data": {
      "text/html": [
       "<div>\n",
       "<style scoped>\n",
       "    .dataframe tbody tr th:only-of-type {\n",
       "        vertical-align: middle;\n",
       "    }\n",
       "\n",
       "    .dataframe tbody tr th {\n",
       "        vertical-align: top;\n",
       "    }\n",
       "\n",
       "    .dataframe thead th {\n",
       "        text-align: right;\n",
       "    }\n",
       "</style>\n",
       "<table border=\"1\" class=\"dataframe\">\n",
       "  <thead>\n",
       "    <tr style=\"text-align: right;\">\n",
       "      <th></th>\n",
       "    </tr>\n",
       "  </thead>\n",
       "  <tbody>\n",
       "  </tbody>\n",
       "</table>\n",
       "</div>"
      ],
      "text/plain": [
       "Empty DataFrame\n",
       "Columns: []\n",
       "Index: []"
      ]
     },
     "execution_count": 50,
     "metadata": {},
     "output_type": "execute_result"
    }
   ],
   "source": [
    "%%bigquery\n",
    "UPDATE datamart.covid\n",
    "SET id=FARM_FINGERPRINT(concat(CAST(fips AS STRING), province_state, country))\n",
    "WHERE (province_state IS NOT null AND country='US' AND admin2 IS null AND fips IS NOT null)"
   ]
  },
  {
   "cell_type": "code",
   "execution_count": 52,
   "id": "isolated-virginia",
   "metadata": {},
   "outputs": [
    {
     "data": {
      "text/html": [
       "<div>\n",
       "<style scoped>\n",
       "    .dataframe tbody tr th:only-of-type {\n",
       "        vertical-align: middle;\n",
       "    }\n",
       "\n",
       "    .dataframe tbody tr th {\n",
       "        vertical-align: top;\n",
       "    }\n",
       "\n",
       "    .dataframe thead th {\n",
       "        text-align: right;\n",
       "    }\n",
       "</style>\n",
       "<table border=\"1\" class=\"dataframe\">\n",
       "  <thead>\n",
       "    <tr style=\"text-align: right;\">\n",
       "      <th></th>\n",
       "    </tr>\n",
       "  </thead>\n",
       "  <tbody>\n",
       "  </tbody>\n",
       "</table>\n",
       "</div>"
      ],
      "text/plain": [
       "Empty DataFrame\n",
       "Columns: []\n",
       "Index: []"
      ]
     },
     "execution_count": 52,
     "metadata": {},
     "output_type": "execute_result"
    }
   ],
   "source": [
    "%%bigquery\n",
    "UPDATE datamart.covid\n",
    "SET id=FARM_FINGERPRINT(concat(province_state, country))\n",
    "WHERE (province_state IS NOT null AND country='US' AND admin2 IS null AND fips IS null)"
   ]
  },
  {
   "cell_type": "markdown",
   "id": "published-netscape",
   "metadata": {},
   "source": [
    "#### check that there is no null id field in the preliminary covid table"
   ]
  },
  {
   "cell_type": "code",
   "execution_count": 53,
   "id": "colonial-hawaii",
   "metadata": {},
   "outputs": [
    {
     "data": {
      "text/html": [
       "<div>\n",
       "<style scoped>\n",
       "    .dataframe tbody tr th:only-of-type {\n",
       "        vertical-align: middle;\n",
       "    }\n",
       "\n",
       "    .dataframe tbody tr th {\n",
       "        vertical-align: top;\n",
       "    }\n",
       "\n",
       "    .dataframe thead th {\n",
       "        text-align: right;\n",
       "    }\n",
       "</style>\n",
       "<table border=\"1\" class=\"dataframe\">\n",
       "  <thead>\n",
       "    <tr style=\"text-align: right;\">\n",
       "      <th></th>\n",
       "      <th>null_id_count</th>\n",
       "    </tr>\n",
       "  </thead>\n",
       "  <tbody>\n",
       "    <tr>\n",
       "      <th>0</th>\n",
       "      <td>0</td>\n",
       "    </tr>\n",
       "  </tbody>\n",
       "</table>\n",
       "</div>"
      ],
      "text/plain": [
       "   null_id_count\n",
       "0              0"
      ]
     },
     "execution_count": 53,
     "metadata": {},
     "output_type": "execute_result"
    }
   ],
   "source": [
    "%%bigquery\n",
    "SELECT count(*) AS null_id_count\n",
    "FROM datamart.covid\n",
    "WHERE id IS null"
   ]
  },
  {
   "cell_type": "markdown",
   "id": "excited-anniversary",
   "metadata": {},
   "source": [
    "#### sample preliminary covid table"
   ]
  },
  {
   "cell_type": "code",
   "execution_count": 54,
   "id": "stuffed-collins",
   "metadata": {},
   "outputs": [
    {
     "data": {
      "text/html": [
       "<div>\n",
       "<style scoped>\n",
       "    .dataframe tbody tr th:only-of-type {\n",
       "        vertical-align: middle;\n",
       "    }\n",
       "\n",
       "    .dataframe tbody tr th {\n",
       "        vertical-align: top;\n",
       "    }\n",
       "\n",
       "    .dataframe thead th {\n",
       "        text-align: right;\n",
       "    }\n",
       "</style>\n",
       "<table border=\"1\" class=\"dataframe\">\n",
       "  <thead>\n",
       "    <tr style=\"text-align: right;\">\n",
       "      <th></th>\n",
       "      <th>id</th>\n",
       "      <th>fips</th>\n",
       "      <th>admin2</th>\n",
       "      <th>province_state</th>\n",
       "      <th>Country</th>\n",
       "      <th>last_update</th>\n",
       "      <th>latitude</th>\n",
       "      <th>longitude</th>\n",
       "      <th>confirmed</th>\n",
       "      <th>deaths</th>\n",
       "      <th>recovered</th>\n",
       "      <th>active</th>\n",
       "      <th>combined_key</th>\n",
       "      <th>incident_rate</th>\n",
       "      <th>case_fatality_ratio</th>\n",
       "    </tr>\n",
       "  </thead>\n",
       "  <tbody>\n",
       "    <tr>\n",
       "      <th>0</th>\n",
       "      <td>8576431891811451300</td>\n",
       "      <td>NaN</td>\n",
       "      <td>None</td>\n",
       "      <td>None</td>\n",
       "      <td>Azerbaijan</td>\n",
       "      <td>2020-02-28 15:03:26</td>\n",
       "      <td>NaN</td>\n",
       "      <td>NaN</td>\n",
       "      <td>1</td>\n",
       "      <td>0</td>\n",
       "      <td>0</td>\n",
       "      <td>NaN</td>\n",
       "      <td>None</td>\n",
       "      <td>NaN</td>\n",
       "      <td>NaN</td>\n",
       "    </tr>\n",
       "    <tr>\n",
       "      <th>1</th>\n",
       "      <td>8778414404485170876</td>\n",
       "      <td>NaN</td>\n",
       "      <td>None</td>\n",
       "      <td>None</td>\n",
       "      <td>Afghanistan</td>\n",
       "      <td>2020-10-13 04:24:02+00</td>\n",
       "      <td>33.93911</td>\n",
       "      <td>67.709953</td>\n",
       "      <td>39870</td>\n",
       "      <td>1481</td>\n",
       "      <td>33118</td>\n",
       "      <td>5273.0</td>\n",
       "      <td>Afghanistan</td>\n",
       "      <td>102.418955</td>\n",
       "      <td>3.709556</td>\n",
       "    </tr>\n",
       "    <tr>\n",
       "      <th>2</th>\n",
       "      <td>8778414404485170876</td>\n",
       "      <td>NaN</td>\n",
       "      <td>None</td>\n",
       "      <td>None</td>\n",
       "      <td>Afghanistan</td>\n",
       "      <td>2020-12-24 05:23:04+00</td>\n",
       "      <td>33.93911</td>\n",
       "      <td>67.709953</td>\n",
       "      <td>50433</td>\n",
       "      <td>2117</td>\n",
       "      <td>39692</td>\n",
       "      <td>8624.0</td>\n",
       "      <td>Afghanistan</td>\n",
       "      <td>129.553427</td>\n",
       "      <td>4.197648</td>\n",
       "    </tr>\n",
       "    <tr>\n",
       "      <th>3</th>\n",
       "      <td>8778414404485170876</td>\n",
       "      <td>NaN</td>\n",
       "      <td>None</td>\n",
       "      <td>None</td>\n",
       "      <td>Afghanistan</td>\n",
       "      <td>2020-09-05 04:28:19+00</td>\n",
       "      <td>33.93911</td>\n",
       "      <td>67.709953</td>\n",
       "      <td>38304</td>\n",
       "      <td>1410</td>\n",
       "      <td>29713</td>\n",
       "      <td>7182.0</td>\n",
       "      <td>Afghanistan</td>\n",
       "      <td>98.396179</td>\n",
       "      <td>3.678467</td>\n",
       "    </tr>\n",
       "    <tr>\n",
       "      <th>4</th>\n",
       "      <td>8778414404485170876</td>\n",
       "      <td>NaN</td>\n",
       "      <td>None</td>\n",
       "      <td>None</td>\n",
       "      <td>Afghanistan</td>\n",
       "      <td>2021-03-29 04:28:35+00</td>\n",
       "      <td>33.93911</td>\n",
       "      <td>67.709953</td>\n",
       "      <td>56294</td>\n",
       "      <td>2470</td>\n",
       "      <td>50013</td>\n",
       "      <td>3811.0</td>\n",
       "      <td>Afghanistan</td>\n",
       "      <td>144.609296</td>\n",
       "      <td>4.387679</td>\n",
       "    </tr>\n",
       "  </tbody>\n",
       "</table>\n",
       "</div>"
      ],
      "text/plain": [
       "                    id  fips admin2 province_state      Country  \\\n",
       "0  8576431891811451300   NaN   None           None   Azerbaijan   \n",
       "1  8778414404485170876   NaN   None           None  Afghanistan   \n",
       "2  8778414404485170876   NaN   None           None  Afghanistan   \n",
       "3  8778414404485170876   NaN   None           None  Afghanistan   \n",
       "4  8778414404485170876   NaN   None           None  Afghanistan   \n",
       "\n",
       "              last_update  latitude  longitude  confirmed  deaths  recovered  \\\n",
       "0     2020-02-28 15:03:26       NaN        NaN          1       0          0   \n",
       "1  2020-10-13 04:24:02+00  33.93911  67.709953      39870    1481      33118   \n",
       "2  2020-12-24 05:23:04+00  33.93911  67.709953      50433    2117      39692   \n",
       "3  2020-09-05 04:28:19+00  33.93911  67.709953      38304    1410      29713   \n",
       "4  2021-03-29 04:28:35+00  33.93911  67.709953      56294    2470      50013   \n",
       "\n",
       "   active combined_key  incident_rate  case_fatality_ratio  \n",
       "0     NaN         None            NaN                  NaN  \n",
       "1  5273.0  Afghanistan     102.418955             3.709556  \n",
       "2  8624.0  Afghanistan     129.553427             4.197648  \n",
       "3  7182.0  Afghanistan      98.396179             3.678467  \n",
       "4  3811.0  Afghanistan     144.609296             4.387679  "
      ]
     },
     "execution_count": 54,
     "metadata": {},
     "output_type": "execute_result"
    }
   ],
   "source": [
    "%%bigquery\n",
    "SELECT *\n",
    "FROM datamart.covid\n",
    "ORDER BY province_state, country\n",
    "LIMIT 5"
   ]
  },
  {
   "cell_type": "markdown",
   "id": "changed-taylor",
   "metadata": {},
   "source": [
    "### Transforms for table locations"
   ]
  },
  {
   "cell_type": "markdown",
   "id": "civilian-orlando",
   "metadata": {},
   "source": [
    "#### create locations_raw table"
   ]
  },
  {
   "cell_type": "code",
   "execution_count": 55,
   "id": "musical-chile",
   "metadata": {},
   "outputs": [
    {
     "data": {
      "text/html": [
       "<div>\n",
       "<style scoped>\n",
       "    .dataframe tbody tr th:only-of-type {\n",
       "        vertical-align: middle;\n",
       "    }\n",
       "\n",
       "    .dataframe tbody tr th {\n",
       "        vertical-align: top;\n",
       "    }\n",
       "\n",
       "    .dataframe thead th {\n",
       "        text-align: right;\n",
       "    }\n",
       "</style>\n",
       "<table border=\"1\" class=\"dataframe\">\n",
       "  <thead>\n",
       "    <tr style=\"text-align: right;\">\n",
       "      <th></th>\n",
       "    </tr>\n",
       "  </thead>\n",
       "  <tbody>\n",
       "  </tbody>\n",
       "</table>\n",
       "</div>"
      ],
      "text/plain": [
       "Empty DataFrame\n",
       "Columns: []\n",
       "Index: []"
      ]
     },
     "execution_count": 55,
     "metadata": {},
     "output_type": "execute_result"
    }
   ],
   "source": [
    "%%bigquery\n",
    "CREATE OR REPLACE TABLE datamart.Locations_raw AS\n",
    "SELECT DISTINCT id, fips, admin2, province_state, country, latitude, longitude, combined_key\n",
    "FROM datamart.covid"
   ]
  },
  {
   "cell_type": "markdown",
   "id": "cubic-future",
   "metadata": {},
   "source": [
    "#### show rows that have city,state in province_state column of the locations_raw table"
   ]
  },
  {
   "cell_type": "code",
   "execution_count": 56,
   "id": "intense-handy",
   "metadata": {},
   "outputs": [
    {
     "data": {
      "text/html": [
       "<div>\n",
       "<style scoped>\n",
       "    .dataframe tbody tr th:only-of-type {\n",
       "        vertical-align: middle;\n",
       "    }\n",
       "\n",
       "    .dataframe tbody tr th {\n",
       "        vertical-align: top;\n",
       "    }\n",
       "\n",
       "    .dataframe thead th {\n",
       "        text-align: right;\n",
       "    }\n",
       "</style>\n",
       "<table border=\"1\" class=\"dataframe\">\n",
       "  <thead>\n",
       "    <tr style=\"text-align: right;\">\n",
       "      <th></th>\n",
       "      <th>id</th>\n",
       "      <th>fips</th>\n",
       "      <th>admin2</th>\n",
       "      <th>province_state</th>\n",
       "      <th>index</th>\n",
       "      <th>country</th>\n",
       "      <th>latitude</th>\n",
       "      <th>longitude</th>\n",
       "      <th>combined_key</th>\n",
       "    </tr>\n",
       "  </thead>\n",
       "  <tbody>\n",
       "    <tr>\n",
       "      <th>0</th>\n",
       "      <td>8145114016361068042</td>\n",
       "      <td>NaN</td>\n",
       "      <td>None</td>\n",
       "      <td>Tempe, AZ</td>\n",
       "      <td>6</td>\n",
       "      <td>US</td>\n",
       "      <td>33.4255</td>\n",
       "      <td>-111.9400</td>\n",
       "      <td>None</td>\n",
       "    </tr>\n",
       "    <tr>\n",
       "      <th>1</th>\n",
       "      <td>8145114016361068042</td>\n",
       "      <td>NaN</td>\n",
       "      <td>None</td>\n",
       "      <td>Tempe, AZ</td>\n",
       "      <td>6</td>\n",
       "      <td>US</td>\n",
       "      <td>NaN</td>\n",
       "      <td>NaN</td>\n",
       "      <td>None</td>\n",
       "    </tr>\n",
       "    <tr>\n",
       "      <th>2</th>\n",
       "      <td>8556287708025666455</td>\n",
       "      <td>NaN</td>\n",
       "      <td>None</td>\n",
       "      <td>Boston, MA</td>\n",
       "      <td>7</td>\n",
       "      <td>US</td>\n",
       "      <td>NaN</td>\n",
       "      <td>NaN</td>\n",
       "      <td>None</td>\n",
       "    </tr>\n",
       "    <tr>\n",
       "      <th>3</th>\n",
       "      <td>8556287708025666455</td>\n",
       "      <td>NaN</td>\n",
       "      <td>None</td>\n",
       "      <td>Boston, MA</td>\n",
       "      <td>7</td>\n",
       "      <td>US</td>\n",
       "      <td>42.3601</td>\n",
       "      <td>-71.0589</td>\n",
       "      <td>None</td>\n",
       "    </tr>\n",
       "    <tr>\n",
       "      <th>4</th>\n",
       "      <td>-1673719292839792409</td>\n",
       "      <td>NaN</td>\n",
       "      <td>None</td>\n",
       "      <td>Orange, CA</td>\n",
       "      <td>7</td>\n",
       "      <td>US</td>\n",
       "      <td>NaN</td>\n",
       "      <td>NaN</td>\n",
       "      <td>None</td>\n",
       "    </tr>\n",
       "    <tr>\n",
       "      <th>5</th>\n",
       "      <td>-1673719292839792409</td>\n",
       "      <td>NaN</td>\n",
       "      <td>None</td>\n",
       "      <td>Orange, CA</td>\n",
       "      <td>7</td>\n",
       "      <td>US</td>\n",
       "      <td>33.7879</td>\n",
       "      <td>-117.8531</td>\n",
       "      <td>None</td>\n",
       "    </tr>\n",
       "    <tr>\n",
       "      <th>6</th>\n",
       "      <td>7702389166849437576</td>\n",
       "      <td>NaN</td>\n",
       "      <td>None</td>\n",
       "      <td>Travis, CA</td>\n",
       "      <td>7</td>\n",
       "      <td>US</td>\n",
       "      <td>NaN</td>\n",
       "      <td>NaN</td>\n",
       "      <td>None</td>\n",
       "    </tr>\n",
       "    <tr>\n",
       "      <th>7</th>\n",
       "      <td>2904588917003491558</td>\n",
       "      <td>NaN</td>\n",
       "      <td>None</td>\n",
       "      <td>Ashland, NE</td>\n",
       "      <td>8</td>\n",
       "      <td>US</td>\n",
       "      <td>NaN</td>\n",
       "      <td>NaN</td>\n",
       "      <td>None</td>\n",
       "    </tr>\n",
       "    <tr>\n",
       "      <th>8</th>\n",
       "      <td>8162844378884388227</td>\n",
       "      <td>NaN</td>\n",
       "      <td>None</td>\n",
       "      <td>Chicago, IL</td>\n",
       "      <td>8</td>\n",
       "      <td>US</td>\n",
       "      <td>41.8781</td>\n",
       "      <td>-87.6298</td>\n",
       "      <td>None</td>\n",
       "    </tr>\n",
       "    <tr>\n",
       "      <th>9</th>\n",
       "      <td>8162844378884388227</td>\n",
       "      <td>NaN</td>\n",
       "      <td>None</td>\n",
       "      <td>Chicago, IL</td>\n",
       "      <td>8</td>\n",
       "      <td>US</td>\n",
       "      <td>NaN</td>\n",
       "      <td>NaN</td>\n",
       "      <td>None</td>\n",
       "    </tr>\n",
       "  </tbody>\n",
       "</table>\n",
       "</div>"
      ],
      "text/plain": [
       "                    id  fips admin2 province_state  index country  latitude  \\\n",
       "0  8145114016361068042   NaN   None      Tempe, AZ      6      US   33.4255   \n",
       "1  8145114016361068042   NaN   None      Tempe, AZ      6      US       NaN   \n",
       "2  8556287708025666455   NaN   None     Boston, MA      7      US       NaN   \n",
       "3  8556287708025666455   NaN   None     Boston, MA      7      US   42.3601   \n",
       "4 -1673719292839792409   NaN   None     Orange, CA      7      US       NaN   \n",
       "5 -1673719292839792409   NaN   None     Orange, CA      7      US   33.7879   \n",
       "6  7702389166849437576   NaN   None     Travis, CA      7      US       NaN   \n",
       "7  2904588917003491558   NaN   None    Ashland, NE      8      US       NaN   \n",
       "8  8162844378884388227   NaN   None    Chicago, IL      8      US   41.8781   \n",
       "9  8162844378884388227   NaN   None    Chicago, IL      8      US       NaN   \n",
       "\n",
       "   longitude combined_key  \n",
       "0  -111.9400         None  \n",
       "1        NaN         None  \n",
       "2        NaN         None  \n",
       "3   -71.0589         None  \n",
       "4        NaN         None  \n",
       "5  -117.8531         None  \n",
       "6        NaN         None  \n",
       "7        NaN         None  \n",
       "8   -87.6298         None  \n",
       "9        NaN         None  "
      ]
     },
     "execution_count": 56,
     "metadata": {},
     "output_type": "execute_result"
    }
   ],
   "source": [
    "%%bigquery\n",
    "SELECT id, fips, admin2, province_state, strpos(province_state, ',') AS index, country, latitude, longitude, combined_key\n",
    "FROM datamart.Locations_raw\n",
    "WHERE strpos(province_state, ',') > 0\n",
    "LIMIT 10"
   ]
  },
  {
   "cell_type": "markdown",
   "id": "focused-arrest",
   "metadata": {},
   "source": [
    "#### standardize city, state in the locations_raw table into table locations_city"
   ]
  },
  {
   "cell_type": "code",
   "execution_count": 57,
   "id": "former-argentina",
   "metadata": {},
   "outputs": [
    {
     "data": {
      "text/html": [
       "<div>\n",
       "<style scoped>\n",
       "    .dataframe tbody tr th:only-of-type {\n",
       "        vertical-align: middle;\n",
       "    }\n",
       "\n",
       "    .dataframe tbody tr th {\n",
       "        vertical-align: top;\n",
       "    }\n",
       "\n",
       "    .dataframe thead th {\n",
       "        text-align: right;\n",
       "    }\n",
       "</style>\n",
       "<table border=\"1\" class=\"dataframe\">\n",
       "  <thead>\n",
       "    <tr style=\"text-align: right;\">\n",
       "      <th></th>\n",
       "    </tr>\n",
       "  </thead>\n",
       "  <tbody>\n",
       "  </tbody>\n",
       "</table>\n",
       "</div>"
      ],
      "text/plain": [
       "Empty DataFrame\n",
       "Columns: []\n",
       "Index: []"
      ]
     },
     "execution_count": 57,
     "metadata": {},
     "output_type": "execute_result"
    }
   ],
   "source": [
    "%%bigquery\n",
    "CREATE OR REPLACE TABLE datamart.Locations_city AS\n",
    "SELECT id, fips, admin2, split(province_state, ',')[offset(0)] AS city, split(province_state, ',')[offset(1)] AS state, country, latitude, longitude, combined_key\n",
    "FROM datamart.Locations_raw\n",
    "WHERE strpos(province_state, ',') > 0"
   ]
  },
  {
   "cell_type": "markdown",
   "id": "metropolitan-parking",
   "metadata": {},
   "source": [
    "#### create locations table (if error, try CAST(null AS string) AS City"
   ]
  },
  {
   "cell_type": "code",
   "execution_count": 58,
   "id": "emerging-championship",
   "metadata": {},
   "outputs": [
    {
     "data": {
      "text/html": [
       "<div>\n",
       "<style scoped>\n",
       "    .dataframe tbody tr th:only-of-type {\n",
       "        vertical-align: middle;\n",
       "    }\n",
       "\n",
       "    .dataframe tbody tr th {\n",
       "        vertical-align: top;\n",
       "    }\n",
       "\n",
       "    .dataframe thead th {\n",
       "        text-align: right;\n",
       "    }\n",
       "</style>\n",
       "<table border=\"1\" class=\"dataframe\">\n",
       "  <thead>\n",
       "    <tr style=\"text-align: right;\">\n",
       "      <th></th>\n",
       "    </tr>\n",
       "  </thead>\n",
       "  <tbody>\n",
       "  </tbody>\n",
       "</table>\n",
       "</div>"
      ],
      "text/plain": [
       "Empty DataFrame\n",
       "Columns: []\n",
       "Index: []"
      ]
     },
     "execution_count": 58,
     "metadata": {},
     "output_type": "execute_result"
    }
   ],
   "source": [
    "%%bigquery\n",
    "CREATE OR REPLACE TABLE datamart.locations AS\n",
    "(SELECT id, fips, admin2, city, state, country, latitude, longitude, combined_key\n",
    "FROM datamart.Locations_city\n",
    "UNION ALL\n",
    "SELECT id, fips, admin2, null AS City, province_state AS State, country, latitude, longitude, combined_key\n",
    "FROM datamart.Locations_raw\n",
    "WHERE strpos(province_state, ',') = 0\n",
    "UNION ALL\n",
    "SELECT id, fips, admin2, null AS City, province_state AS State, country, latitude, longitude, combined_key\n",
    "FROM datamart.Locations_raw\n",
    "WHERE province_state IS null\n",
    ")"
   ]
  },
  {
   "cell_type": "markdown",
   "id": "willing-broadcasting",
   "metadata": {},
   "source": [
    "#### Ensure no rows were lost"
   ]
  },
  {
   "cell_type": "code",
   "execution_count": 59,
   "id": "advised-cradle",
   "metadata": {},
   "outputs": [
    {
     "data": {
      "text/html": [
       "<div>\n",
       "<style scoped>\n",
       "    .dataframe tbody tr th:only-of-type {\n",
       "        vertical-align: middle;\n",
       "    }\n",
       "\n",
       "    .dataframe tbody tr th {\n",
       "        vertical-align: top;\n",
       "    }\n",
       "\n",
       "    .dataframe thead th {\n",
       "        text-align: right;\n",
       "    }\n",
       "</style>\n",
       "<table border=\"1\" class=\"dataframe\">\n",
       "  <thead>\n",
       "    <tr style=\"text-align: right;\">\n",
       "      <th></th>\n",
       "      <th>locations_raw_count</th>\n",
       "      <th>locations_count</th>\n",
       "    </tr>\n",
       "  </thead>\n",
       "  <tbody>\n",
       "    <tr>\n",
       "      <th>0</th>\n",
       "      <td>5637</td>\n",
       "      <td>5637</td>\n",
       "    </tr>\n",
       "  </tbody>\n",
       "</table>\n",
       "</div>"
      ],
      "text/plain": [
       "   locations_raw_count  locations_count\n",
       "0                 5637             5637"
      ]
     },
     "execution_count": 59,
     "metadata": {},
     "output_type": "execute_result"
    }
   ],
   "source": [
    "%%bigquery\n",
    "SELECT count(*) AS locations_raw_count, (SELECT count(*) FROM datamart.locations) AS locations_count\n",
    "FROM datamart.Locations_raw"
   ]
  },
  {
   "cell_type": "code",
   "execution_count": 72,
   "id": "fatal-indie",
   "metadata": {},
   "outputs": [
    {
     "data": {
      "text/html": [
       "<div>\n",
       "<style scoped>\n",
       "    .dataframe tbody tr th:only-of-type {\n",
       "        vertical-align: middle;\n",
       "    }\n",
       "\n",
       "    .dataframe tbody tr th {\n",
       "        vertical-align: top;\n",
       "    }\n",
       "\n",
       "    .dataframe thead th {\n",
       "        text-align: right;\n",
       "    }\n",
       "</style>\n",
       "<table border=\"1\" class=\"dataframe\">\n",
       "  <thead>\n",
       "    <tr style=\"text-align: right;\">\n",
       "      <th></th>\n",
       "    </tr>\n",
       "  </thead>\n",
       "  <tbody>\n",
       "  </tbody>\n",
       "</table>\n",
       "</div>"
      ],
      "text/plain": [
       "Empty DataFrame\n",
       "Columns: []\n",
       "Index: []"
      ]
     },
     "execution_count": 72,
     "metadata": {},
     "output_type": "execute_result"
    }
   ],
   "source": [
    "%%bigquery\n",
    "CREATE OR REPLACE TABLE datamart.locations AS\n",
    "SELECT id, fips, admin2, city, state, country, latitude, longitude, combined_key\n",
    "FROM\n",
    "    (SELECT *, rank() over (partition by id, country ORDER BY latitude DESC, longitude DESC, combined_key DESC) AS rank\n",
    "    FROM datamart.locations)\n",
    "WHERE rank = 1"
   ]
  },
  {
   "cell_type": "markdown",
   "id": "metallic-dominican",
   "metadata": {},
   "source": [
    "#### PK check: if same number then no duplicates"
   ]
  },
  {
   "cell_type": "code",
   "execution_count": 73,
   "id": "green-louisville",
   "metadata": {},
   "outputs": [
    {
     "data": {
      "text/html": [
       "<div>\n",
       "<style scoped>\n",
       "    .dataframe tbody tr th:only-of-type {\n",
       "        vertical-align: middle;\n",
       "    }\n",
       "\n",
       "    .dataframe tbody tr th {\n",
       "        vertical-align: top;\n",
       "    }\n",
       "\n",
       "    .dataframe thead th {\n",
       "        text-align: right;\n",
       "    }\n",
       "</style>\n",
       "<table border=\"1\" class=\"dataframe\">\n",
       "  <thead>\n",
       "    <tr style=\"text-align: right;\">\n",
       "      <th></th>\n",
       "      <th>distinct_PK</th>\n",
       "      <th>locations_count</th>\n",
       "    </tr>\n",
       "  </thead>\n",
       "  <tbody>\n",
       "    <tr>\n",
       "      <th>0</th>\n",
       "      <td>4413</td>\n",
       "      <td>4413</td>\n",
       "    </tr>\n",
       "  </tbody>\n",
       "</table>\n",
       "</div>"
      ],
      "text/plain": [
       "   distinct_PK  locations_count\n",
       "0         4413             4413"
      ]
     },
     "execution_count": 73,
     "metadata": {},
     "output_type": "execute_result"
    }
   ],
   "source": [
    "%%bigquery\n",
    "SELECT count(*) AS distinct_PK, (SELECT count(*) FROM datamart.locations) AS locations_count\n",
    "FROM (\n",
    "    SELECT DISTINCT id\n",
    "    FROM datamart.locations\n",
    ")"
   ]
  },
  {
   "cell_type": "markdown",
   "id": "earlier-windsor",
   "metadata": {},
   "source": [
    "### Transforms for table cases"
   ]
  },
  {
   "cell_type": "markdown",
   "id": "knowing-cliff",
   "metadata": {},
   "source": [
    "#### create Cases_raw table from preliminary covid table"
   ]
  },
  {
   "cell_type": "code",
   "execution_count": 78,
   "id": "silver-pacific",
   "metadata": {},
   "outputs": [
    {
     "data": {
      "text/html": [
       "<div>\n",
       "<style scoped>\n",
       "    .dataframe tbody tr th:only-of-type {\n",
       "        vertical-align: middle;\n",
       "    }\n",
       "\n",
       "    .dataframe tbody tr th {\n",
       "        vertical-align: top;\n",
       "    }\n",
       "\n",
       "    .dataframe thead th {\n",
       "        text-align: right;\n",
       "    }\n",
       "</style>\n",
       "<table border=\"1\" class=\"dataframe\">\n",
       "  <thead>\n",
       "    <tr style=\"text-align: right;\">\n",
       "      <th></th>\n",
       "    </tr>\n",
       "  </thead>\n",
       "  <tbody>\n",
       "  </tbody>\n",
       "</table>\n",
       "</div>"
      ],
      "text/plain": [
       "Empty DataFrame\n",
       "Columns: []\n",
       "Index: []"
      ]
     },
     "execution_count": 78,
     "metadata": {},
     "output_type": "execute_result"
    }
   ],
   "source": [
    "%%bigquery\n",
    "CREATE OR REPLACE TABLE datamart.Cases_raw AS\n",
    "SELECT id AS location_id, last_update, confirmed, deaths, recovered, active, incident_rate, case_fatality_ratio\n",
    "FROM datamart.covid"
   ]
  },
  {
   "cell_type": "markdown",
   "id": "british-bidder",
   "metadata": {},
   "source": [
    "#### sample distinct dates in cases_raw table"
   ]
  },
  {
   "cell_type": "code",
   "execution_count": 79,
   "id": "spectacular-therapist",
   "metadata": {},
   "outputs": [
    {
     "data": {
      "text/html": [
       "<div>\n",
       "<style scoped>\n",
       "    .dataframe tbody tr th:only-of-type {\n",
       "        vertical-align: middle;\n",
       "    }\n",
       "\n",
       "    .dataframe tbody tr th {\n",
       "        vertical-align: top;\n",
       "    }\n",
       "\n",
       "    .dataframe thead th {\n",
       "        text-align: right;\n",
       "    }\n",
       "</style>\n",
       "<table border=\"1\" class=\"dataframe\">\n",
       "  <thead>\n",
       "    <tr style=\"text-align: right;\">\n",
       "      <th></th>\n",
       "      <th>last_update</th>\n",
       "    </tr>\n",
       "  </thead>\n",
       "  <tbody>\n",
       "    <tr>\n",
       "      <th>0</th>\n",
       "      <td>2020-12-23 05:22:03+00</td>\n",
       "    </tr>\n",
       "    <tr>\n",
       "      <th>1</th>\n",
       "      <td>2021-02-22 05:24:21+00</td>\n",
       "    </tr>\n",
       "    <tr>\n",
       "      <th>2</th>\n",
       "      <td>2020-10-16 04:24:01+00</td>\n",
       "    </tr>\n",
       "    <tr>\n",
       "      <th>3</th>\n",
       "      <td>2021-03-03 05:23:28+00</td>\n",
       "    </tr>\n",
       "    <tr>\n",
       "      <th>4</th>\n",
       "      <td>2020-11-14 05:25:37+00</td>\n",
       "    </tr>\n",
       "    <tr>\n",
       "      <th>5</th>\n",
       "      <td>2020-08-14 04:51:19+00</td>\n",
       "    </tr>\n",
       "    <tr>\n",
       "      <th>6</th>\n",
       "      <td>2020-09-25 04:23:00+00</td>\n",
       "    </tr>\n",
       "    <tr>\n",
       "      <th>7</th>\n",
       "      <td>2020-07-06 04:33:57+00</td>\n",
       "    </tr>\n",
       "    <tr>\n",
       "      <th>8</th>\n",
       "      <td>2020-10-28 04:24:39+00</td>\n",
       "    </tr>\n",
       "    <tr>\n",
       "      <th>9</th>\n",
       "      <td>2021-01-30 05:22:49+00</td>\n",
       "    </tr>\n",
       "  </tbody>\n",
       "</table>\n",
       "</div>"
      ],
      "text/plain": [
       "              last_update\n",
       "0  2020-12-23 05:22:03+00\n",
       "1  2021-02-22 05:24:21+00\n",
       "2  2020-10-16 04:24:01+00\n",
       "3  2021-03-03 05:23:28+00\n",
       "4  2020-11-14 05:25:37+00\n",
       "5  2020-08-14 04:51:19+00\n",
       "6  2020-09-25 04:23:00+00\n",
       "7  2020-07-06 04:33:57+00\n",
       "8  2020-10-28 04:24:39+00\n",
       "9  2021-01-30 05:22:49+00"
      ]
     },
     "execution_count": 79,
     "metadata": {},
     "output_type": "execute_result"
    }
   ],
   "source": [
    "%%bigquery\n",
    "SELECT DISTINCT last_update\n",
    "FROM datamart.Cases_raw\n",
    "LIMIT 10"
   ]
  },
  {
   "cell_type": "code",
   "execution_count": 80,
   "id": "organizational-motion",
   "metadata": {},
   "outputs": [
    {
     "data": {
      "text/html": [
       "<div>\n",
       "<style scoped>\n",
       "    .dataframe tbody tr th:only-of-type {\n",
       "        vertical-align: middle;\n",
       "    }\n",
       "\n",
       "    .dataframe tbody tr th {\n",
       "        vertical-align: top;\n",
       "    }\n",
       "\n",
       "    .dataframe thead th {\n",
       "        text-align: right;\n",
       "    }\n",
       "</style>\n",
       "<table border=\"1\" class=\"dataframe\">\n",
       "  <thead>\n",
       "    <tr style=\"text-align: right;\">\n",
       "      <th></th>\n",
       "      <th>last_update</th>\n",
       "    </tr>\n",
       "  </thead>\n",
       "  <tbody>\n",
       "    <tr>\n",
       "      <th>0</th>\n",
       "      <td>1/22/20 17:00</td>\n",
       "    </tr>\n",
       "    <tr>\n",
       "      <th>1</th>\n",
       "      <td>1/23/20 17:00</td>\n",
       "    </tr>\n",
       "    <tr>\n",
       "      <th>2</th>\n",
       "      <td>1/24/20 17:00</td>\n",
       "    </tr>\n",
       "    <tr>\n",
       "      <th>3</th>\n",
       "      <td>1/25/20 17:00</td>\n",
       "    </tr>\n",
       "    <tr>\n",
       "      <th>4</th>\n",
       "      <td>1/26/20 16:00</td>\n",
       "    </tr>\n",
       "    <tr>\n",
       "      <th>5</th>\n",
       "      <td>1/27/20 23:59</td>\n",
       "    </tr>\n",
       "    <tr>\n",
       "      <th>6</th>\n",
       "      <td>1/28/20 23:00</td>\n",
       "    </tr>\n",
       "    <tr>\n",
       "      <th>7</th>\n",
       "      <td>1/29/20 19:30</td>\n",
       "    </tr>\n",
       "    <tr>\n",
       "      <th>8</th>\n",
       "      <td>1/30/20 16:00</td>\n",
       "    </tr>\n",
       "    <tr>\n",
       "      <th>9</th>\n",
       "      <td>1/31/20 10:37</td>\n",
       "    </tr>\n",
       "  </tbody>\n",
       "</table>\n",
       "</div>"
      ],
      "text/plain": [
       "     last_update\n",
       "0  1/22/20 17:00\n",
       "1  1/23/20 17:00\n",
       "2  1/24/20 17:00\n",
       "3  1/25/20 17:00\n",
       "4  1/26/20 16:00\n",
       "5  1/27/20 23:59\n",
       "6  1/28/20 23:00\n",
       "7  1/29/20 19:30\n",
       "8  1/30/20 16:00\n",
       "9  1/31/20 10:37"
      ]
     },
     "execution_count": 80,
     "metadata": {},
     "output_type": "execute_result"
    }
   ],
   "source": [
    "%%bigquery\n",
    "SELECT DISTINCT last_update\n",
    "FROM datamart.Cases_raw\n",
    "ORDER BY last_update\n",
    "LIMIT 10"
   ]
  },
  {
   "cell_type": "markdown",
   "id": "acute-rouge",
   "metadata": {},
   "source": [
    "#### create Cases_hypen_date_fixed"
   ]
  },
  {
   "cell_type": "code",
   "execution_count": 81,
   "id": "medical-toilet",
   "metadata": {},
   "outputs": [
    {
     "data": {
      "text/html": [
       "<div>\n",
       "<style scoped>\n",
       "    .dataframe tbody tr th:only-of-type {\n",
       "        vertical-align: middle;\n",
       "    }\n",
       "\n",
       "    .dataframe tbody tr th {\n",
       "        vertical-align: top;\n",
       "    }\n",
       "\n",
       "    .dataframe thead th {\n",
       "        text-align: right;\n",
       "    }\n",
       "</style>\n",
       "<table border=\"1\" class=\"dataframe\">\n",
       "  <thead>\n",
       "    <tr style=\"text-align: right;\">\n",
       "      <th></th>\n",
       "      <th>last_update</th>\n",
       "    </tr>\n",
       "  </thead>\n",
       "  <tbody>\n",
       "    <tr>\n",
       "      <th>0</th>\n",
       "      <td>2020-03-15 18:20:18</td>\n",
       "    </tr>\n",
       "    <tr>\n",
       "      <th>1</th>\n",
       "      <td>2020-03-18 13:13:15</td>\n",
       "    </tr>\n",
       "    <tr>\n",
       "      <th>2</th>\n",
       "      <td>2020-03-20 20:13:15</td>\n",
       "    </tr>\n",
       "    <tr>\n",
       "      <th>3</th>\n",
       "      <td>2020-03-11 20:00:00</td>\n",
       "    </tr>\n",
       "    <tr>\n",
       "      <th>4</th>\n",
       "      <td>2020-02-07 23:43:02</td>\n",
       "    </tr>\n",
       "    <tr>\n",
       "      <th>5</th>\n",
       "      <td>2020-03-14 11:33:06</td>\n",
       "    </tr>\n",
       "    <tr>\n",
       "      <th>6</th>\n",
       "      <td>2020-03-14 20:13:16</td>\n",
       "    </tr>\n",
       "    <tr>\n",
       "      <th>7</th>\n",
       "      <td>2020-02-29 12:13:10</td>\n",
       "    </tr>\n",
       "    <tr>\n",
       "      <th>8</th>\n",
       "      <td>2020-02-06 23:23:02</td>\n",
       "    </tr>\n",
       "    <tr>\n",
       "      <th>9</th>\n",
       "      <td>2020-03-16 19:13:13</td>\n",
       "    </tr>\n",
       "    <tr>\n",
       "      <th>10</th>\n",
       "      <td>2020-03-20 07:43:02</td>\n",
       "    </tr>\n",
       "    <tr>\n",
       "      <th>11</th>\n",
       "      <td>2020-03-02 15:03:23</td>\n",
       "    </tr>\n",
       "    <tr>\n",
       "      <th>12</th>\n",
       "      <td>2020-03-18 14:53:05</td>\n",
       "    </tr>\n",
       "    <tr>\n",
       "      <th>13</th>\n",
       "      <td>2020-03-21 17:43:03</td>\n",
       "    </tr>\n",
       "    <tr>\n",
       "      <th>14</th>\n",
       "      <td>2020-03-18 14:13:56</td>\n",
       "    </tr>\n",
       "  </tbody>\n",
       "</table>\n",
       "</div>"
      ],
      "text/plain": [
       "            last_update\n",
       "0   2020-03-15 18:20:18\n",
       "1   2020-03-18 13:13:15\n",
       "2   2020-03-20 20:13:15\n",
       "3   2020-03-11 20:00:00\n",
       "4   2020-02-07 23:43:02\n",
       "5   2020-03-14 11:33:06\n",
       "6   2020-03-14 20:13:16\n",
       "7   2020-02-29 12:13:10\n",
       "8   2020-02-06 23:23:02\n",
       "9   2020-03-16 19:13:13\n",
       "10  2020-03-20 07:43:02\n",
       "11  2020-03-02 15:03:23\n",
       "12  2020-03-18 14:53:05\n",
       "13  2020-03-21 17:43:03\n",
       "14  2020-03-18 14:13:56"
      ]
     },
     "execution_count": 81,
     "metadata": {},
     "output_type": "execute_result"
    }
   ],
   "source": [
    "%%bigquery\n",
    "SELECT last_update\n",
    "FROM datamart.Cases_raw\n",
    "WHERE strpos(last_update, '-') > 0 AND strpos(last_update, ' ') > 0 AND strpos(last_update, '+') = 0\n",
    "LIMIT 15"
   ]
  },
  {
   "cell_type": "code",
   "execution_count": 82,
   "id": "interpreted-words",
   "metadata": {},
   "outputs": [
    {
     "data": {
      "text/html": [
       "<div>\n",
       "<style scoped>\n",
       "    .dataframe tbody tr th:only-of-type {\n",
       "        vertical-align: middle;\n",
       "    }\n",
       "\n",
       "    .dataframe tbody tr th {\n",
       "        vertical-align: top;\n",
       "    }\n",
       "\n",
       "    .dataframe thead th {\n",
       "        text-align: right;\n",
       "    }\n",
       "</style>\n",
       "<table border=\"1\" class=\"dataframe\">\n",
       "  <thead>\n",
       "    <tr style=\"text-align: right;\">\n",
       "      <th></th>\n",
       "    </tr>\n",
       "  </thead>\n",
       "  <tbody>\n",
       "  </tbody>\n",
       "</table>\n",
       "</div>"
      ],
      "text/plain": [
       "Empty DataFrame\n",
       "Columns: []\n",
       "Index: []"
      ]
     },
     "execution_count": 82,
     "metadata": {},
     "output_type": "execute_result"
    }
   ],
   "source": [
    "%%bigquery\n",
    "CREATE OR REPLACE TABLE datamart.Cases_hyphen_date_fixed AS\n",
    "SELECT location_id, CAST(last_update AS DATETIME) AS last_update, confirmed, deaths, recovered, active, incident_rate, case_fatality_ratio\n",
    "FROM datamart.Cases_raw\n",
    "WHERE strpos(last_update, '-') > 0 AND strpos(last_update, ' ') > 0 AND strpos(last_update, '+') = 0"
   ]
  },
  {
   "cell_type": "markdown",
   "id": "frequent-theater",
   "metadata": {},
   "source": [
    "#### create Cases_plus_date_fixed"
   ]
  },
  {
   "cell_type": "code",
   "execution_count": 83,
   "id": "veterinary-rebel",
   "metadata": {},
   "outputs": [
    {
     "data": {
      "text/html": [
       "<div>\n",
       "<style scoped>\n",
       "    .dataframe tbody tr th:only-of-type {\n",
       "        vertical-align: middle;\n",
       "    }\n",
       "\n",
       "    .dataframe tbody tr th {\n",
       "        vertical-align: top;\n",
       "    }\n",
       "\n",
       "    .dataframe thead th {\n",
       "        text-align: right;\n",
       "    }\n",
       "</style>\n",
       "<table border=\"1\" class=\"dataframe\">\n",
       "  <thead>\n",
       "    <tr style=\"text-align: right;\">\n",
       "      <th></th>\n",
       "      <th>last_update</th>\n",
       "    </tr>\n",
       "  </thead>\n",
       "  <tbody>\n",
       "    <tr>\n",
       "      <th>0</th>\n",
       "      <td>2020-12-23 05:22:03+00</td>\n",
       "    </tr>\n",
       "    <tr>\n",
       "      <th>1</th>\n",
       "      <td>2021-02-22 05:24:21+00</td>\n",
       "    </tr>\n",
       "    <tr>\n",
       "      <th>2</th>\n",
       "      <td>2020-10-16 04:24:01+00</td>\n",
       "    </tr>\n",
       "    <tr>\n",
       "      <th>3</th>\n",
       "      <td>2021-03-03 05:23:28+00</td>\n",
       "    </tr>\n",
       "    <tr>\n",
       "      <th>4</th>\n",
       "      <td>2020-11-14 05:25:37+00</td>\n",
       "    </tr>\n",
       "    <tr>\n",
       "      <th>5</th>\n",
       "      <td>2020-08-14 04:51:19+00</td>\n",
       "    </tr>\n",
       "    <tr>\n",
       "      <th>6</th>\n",
       "      <td>2020-09-25 04:23:00+00</td>\n",
       "    </tr>\n",
       "    <tr>\n",
       "      <th>7</th>\n",
       "      <td>2020-07-06 04:33:57+00</td>\n",
       "    </tr>\n",
       "    <tr>\n",
       "      <th>8</th>\n",
       "      <td>2020-10-28 04:24:39+00</td>\n",
       "    </tr>\n",
       "    <tr>\n",
       "      <th>9</th>\n",
       "      <td>2021-01-30 05:22:49+00</td>\n",
       "    </tr>\n",
       "    <tr>\n",
       "      <th>10</th>\n",
       "      <td>2020-10-12 04:23:45+00</td>\n",
       "    </tr>\n",
       "    <tr>\n",
       "      <th>11</th>\n",
       "      <td>2020-09-27 04:23:00+00</td>\n",
       "    </tr>\n",
       "    <tr>\n",
       "      <th>12</th>\n",
       "      <td>2021-04-09 04:21:13+00</td>\n",
       "    </tr>\n",
       "    <tr>\n",
       "      <th>13</th>\n",
       "      <td>2021-04-02 04:20:36+00</td>\n",
       "    </tr>\n",
       "    <tr>\n",
       "      <th>14</th>\n",
       "      <td>2021-03-03 05:23:28+00</td>\n",
       "    </tr>\n",
       "  </tbody>\n",
       "</table>\n",
       "</div>"
      ],
      "text/plain": [
       "               last_update\n",
       "0   2020-12-23 05:22:03+00\n",
       "1   2021-02-22 05:24:21+00\n",
       "2   2020-10-16 04:24:01+00\n",
       "3   2021-03-03 05:23:28+00\n",
       "4   2020-11-14 05:25:37+00\n",
       "5   2020-08-14 04:51:19+00\n",
       "6   2020-09-25 04:23:00+00\n",
       "7   2020-07-06 04:33:57+00\n",
       "8   2020-10-28 04:24:39+00\n",
       "9   2021-01-30 05:22:49+00\n",
       "10  2020-10-12 04:23:45+00\n",
       "11  2020-09-27 04:23:00+00\n",
       "12  2021-04-09 04:21:13+00\n",
       "13  2021-04-02 04:20:36+00\n",
       "14  2021-03-03 05:23:28+00"
      ]
     },
     "execution_count": 83,
     "metadata": {},
     "output_type": "execute_result"
    }
   ],
   "source": [
    "%%bigquery\n",
    "SELECT last_update\n",
    "FROM datamart.Cases_raw\n",
    "WHERE strpos(last_update, '-') > 0 AND strpos(last_update, ' ') > 0 AND strpos(last_update, '+') > 0\n",
    "LIMIT 15"
   ]
  },
  {
   "cell_type": "code",
   "execution_count": 84,
   "id": "enabling-sterling",
   "metadata": {},
   "outputs": [
    {
     "data": {
      "text/html": [
       "<div>\n",
       "<style scoped>\n",
       "    .dataframe tbody tr th:only-of-type {\n",
       "        vertical-align: middle;\n",
       "    }\n",
       "\n",
       "    .dataframe tbody tr th {\n",
       "        vertical-align: top;\n",
       "    }\n",
       "\n",
       "    .dataframe thead th {\n",
       "        text-align: right;\n",
       "    }\n",
       "</style>\n",
       "<table border=\"1\" class=\"dataframe\">\n",
       "  <thead>\n",
       "    <tr style=\"text-align: right;\">\n",
       "      <th></th>\n",
       "    </tr>\n",
       "  </thead>\n",
       "  <tbody>\n",
       "  </tbody>\n",
       "</table>\n",
       "</div>"
      ],
      "text/plain": [
       "Empty DataFrame\n",
       "Columns: []\n",
       "Index: []"
      ]
     },
     "execution_count": 84,
     "metadata": {},
     "output_type": "execute_result"
    }
   ],
   "source": [
    "%%bigquery\n",
    "CREATE OR REPLACE TABLE datamart.Cases_plus_date_fixed AS\n",
    "SELECT location_id,CAST(CAST(last_update AS TIMESTAMP) AS DATETIME) AS last_update, confirmed, deaths, recovered, active, incident_rate, case_fatality_ratio\n",
    "FROM datamart.Cases_raw\n",
    "WHERE strpos(last_update, '-') > 0 AND strpos(last_update, ' ') > 0 AND strpos(last_update, '+') > 0"
   ]
  },
  {
   "cell_type": "markdown",
   "id": "animated-denver",
   "metadata": {},
   "source": [
    "#### create Cases_slash_date"
   ]
  },
  {
   "cell_type": "code",
   "execution_count": 85,
   "id": "necessary-concrete",
   "metadata": {},
   "outputs": [
    {
     "data": {
      "text/html": [
       "<div>\n",
       "<style scoped>\n",
       "    .dataframe tbody tr th:only-of-type {\n",
       "        vertical-align: middle;\n",
       "    }\n",
       "\n",
       "    .dataframe tbody tr th {\n",
       "        vertical-align: top;\n",
       "    }\n",
       "\n",
       "    .dataframe thead th {\n",
       "        text-align: right;\n",
       "    }\n",
       "</style>\n",
       "<table border=\"1\" class=\"dataframe\">\n",
       "  <thead>\n",
       "    <tr style=\"text-align: right;\">\n",
       "      <th></th>\n",
       "      <th>last_update</th>\n",
       "    </tr>\n",
       "  </thead>\n",
       "  <tbody>\n",
       "    <tr>\n",
       "      <th>0</th>\n",
       "      <td>5/30/20 2:32</td>\n",
       "    </tr>\n",
       "    <tr>\n",
       "      <th>1</th>\n",
       "      <td>6/1/20 2:32</td>\n",
       "    </tr>\n",
       "    <tr>\n",
       "      <th>2</th>\n",
       "      <td>5/31/20 2:32</td>\n",
       "    </tr>\n",
       "    <tr>\n",
       "      <th>3</th>\n",
       "      <td>5/12/20 3:32</td>\n",
       "    </tr>\n",
       "    <tr>\n",
       "      <th>4</th>\n",
       "      <td>5/19/20 2:32</td>\n",
       "    </tr>\n",
       "    <tr>\n",
       "      <th>5</th>\n",
       "      <td>5/4/20 2:32</td>\n",
       "    </tr>\n",
       "    <tr>\n",
       "      <th>6</th>\n",
       "      <td>4/17/20 23:30</td>\n",
       "    </tr>\n",
       "    <tr>\n",
       "      <th>7</th>\n",
       "      <td>5/28/20 2:32</td>\n",
       "    </tr>\n",
       "    <tr>\n",
       "      <th>8</th>\n",
       "      <td>5/20/20 2:32</td>\n",
       "    </tr>\n",
       "    <tr>\n",
       "      <th>9</th>\n",
       "      <td>5/26/20 2:32</td>\n",
       "    </tr>\n",
       "    <tr>\n",
       "      <th>10</th>\n",
       "      <td>5/8/20 2:32</td>\n",
       "    </tr>\n",
       "    <tr>\n",
       "      <th>11</th>\n",
       "      <td>5/5/20 2:32</td>\n",
       "    </tr>\n",
       "    <tr>\n",
       "      <th>12</th>\n",
       "      <td>4/5/20 2:06</td>\n",
       "    </tr>\n",
       "    <tr>\n",
       "      <th>13</th>\n",
       "      <td>4/20/20 23:36</td>\n",
       "    </tr>\n",
       "    <tr>\n",
       "      <th>14</th>\n",
       "      <td>4/21/20 23:30</td>\n",
       "    </tr>\n",
       "  </tbody>\n",
       "</table>\n",
       "</div>"
      ],
      "text/plain": [
       "      last_update\n",
       "0    5/30/20 2:32\n",
       "1     6/1/20 2:32\n",
       "2    5/31/20 2:32\n",
       "3    5/12/20 3:32\n",
       "4    5/19/20 2:32\n",
       "5     5/4/20 2:32\n",
       "6   4/17/20 23:30\n",
       "7    5/28/20 2:32\n",
       "8    5/20/20 2:32\n",
       "9    5/26/20 2:32\n",
       "10    5/8/20 2:32\n",
       "11    5/5/20 2:32\n",
       "12    4/5/20 2:06\n",
       "13  4/20/20 23:36\n",
       "14  4/21/20 23:30"
      ]
     },
     "execution_count": 85,
     "metadata": {},
     "output_type": "execute_result"
    }
   ],
   "source": [
    "%%bigquery\n",
    "SELECT DISTINCT last_update\n",
    "FROM datamart.Cases_raw\n",
    "WHERE strpos(last_update, '/') > 0\n",
    "LIMIT 15"
   ]
  },
  {
   "cell_type": "code",
   "execution_count": 86,
   "id": "powerful-efficiency",
   "metadata": {},
   "outputs": [
    {
     "data": {
      "text/html": [
       "<div>\n",
       "<style scoped>\n",
       "    .dataframe tbody tr th:only-of-type {\n",
       "        vertical-align: middle;\n",
       "    }\n",
       "\n",
       "    .dataframe tbody tr th {\n",
       "        vertical-align: top;\n",
       "    }\n",
       "\n",
       "    .dataframe thead th {\n",
       "        text-align: right;\n",
       "    }\n",
       "</style>\n",
       "<table border=\"1\" class=\"dataframe\">\n",
       "  <thead>\n",
       "    <tr style=\"text-align: right;\">\n",
       "      <th></th>\n",
       "    </tr>\n",
       "  </thead>\n",
       "  <tbody>\n",
       "  </tbody>\n",
       "</table>\n",
       "</div>"
      ],
      "text/plain": [
       "Empty DataFrame\n",
       "Columns: []\n",
       "Index: []"
      ]
     },
     "execution_count": 86,
     "metadata": {},
     "output_type": "execute_result"
    }
   ],
   "source": [
    "%%bigquery\n",
    "CREATE OR REPLACE TABLE datamart.Cases_slash_date AS\n",
    "SELECT * \n",
    "FROM datamart.Cases_raw\n",
    "WHERE strpos(last_update, '/') > 0"
   ]
  },
  {
   "cell_type": "markdown",
   "id": "convenient-mouth",
   "metadata": {},
   "source": [
    "#### check Cases_slash_date for their year format"
   ]
  },
  {
   "cell_type": "code",
   "execution_count": 87,
   "id": "advance-crawford",
   "metadata": {},
   "outputs": [
    {
     "data": {
      "text/html": [
       "<div>\n",
       "<style scoped>\n",
       "    .dataframe tbody tr th:only-of-type {\n",
       "        vertical-align: middle;\n",
       "    }\n",
       "\n",
       "    .dataframe tbody tr th {\n",
       "        vertical-align: top;\n",
       "    }\n",
       "\n",
       "    .dataframe thead th {\n",
       "        text-align: right;\n",
       "    }\n",
       "</style>\n",
       "<table border=\"1\" class=\"dataframe\">\n",
       "  <thead>\n",
       "    <tr style=\"text-align: right;\">\n",
       "      <th></th>\n",
       "      <th>last_update</th>\n",
       "      <th>year_num_digits</th>\n",
       "    </tr>\n",
       "  </thead>\n",
       "  <tbody>\n",
       "    <tr>\n",
       "      <th>0</th>\n",
       "      <td>1/22/20 17:00</td>\n",
       "      <td>2</td>\n",
       "    </tr>\n",
       "    <tr>\n",
       "      <th>1</th>\n",
       "      <td>1/23/20 17:00</td>\n",
       "      <td>2</td>\n",
       "    </tr>\n",
       "    <tr>\n",
       "      <th>2</th>\n",
       "      <td>1/24/20 17:00</td>\n",
       "      <td>2</td>\n",
       "    </tr>\n",
       "    <tr>\n",
       "      <th>3</th>\n",
       "      <td>5/1/20 2:32</td>\n",
       "      <td>2</td>\n",
       "    </tr>\n",
       "    <tr>\n",
       "      <th>4</th>\n",
       "      <td>5/2/20 2:32</td>\n",
       "      <td>2</td>\n",
       "    </tr>\n",
       "    <tr>\n",
       "      <th>5</th>\n",
       "      <td>5/3/20 2:32</td>\n",
       "      <td>2</td>\n",
       "    </tr>\n",
       "    <tr>\n",
       "      <th>6</th>\n",
       "      <td>5/4/20 2:32</td>\n",
       "      <td>2</td>\n",
       "    </tr>\n",
       "    <tr>\n",
       "      <th>7</th>\n",
       "      <td>5/5/20 2:32</td>\n",
       "      <td>2</td>\n",
       "    </tr>\n",
       "    <tr>\n",
       "      <th>8</th>\n",
       "      <td>5/6/20 2:32</td>\n",
       "      <td>2</td>\n",
       "    </tr>\n",
       "    <tr>\n",
       "      <th>9</th>\n",
       "      <td>5/7/20 2:32</td>\n",
       "      <td>2</td>\n",
       "    </tr>\n",
       "  </tbody>\n",
       "</table>\n",
       "</div>"
      ],
      "text/plain": [
       "     last_update  year_num_digits\n",
       "0  1/22/20 17:00                2\n",
       "1  1/23/20 17:00                2\n",
       "2  1/24/20 17:00                2\n",
       "3    5/1/20 2:32                2\n",
       "4    5/2/20 2:32                2\n",
       "5    5/3/20 2:32                2\n",
       "6    5/4/20 2:32                2\n",
       "7    5/5/20 2:32                2\n",
       "8    5/6/20 2:32                2\n",
       "9    5/7/20 2:32                2"
      ]
     },
     "execution_count": 87,
     "metadata": {},
     "output_type": "execute_result"
    }
   ],
   "source": [
    "%%bigquery\n",
    "SELECT last_update, length(split(split(last_update, ' ')[offset(0)], '/')[offset(2)]) AS year_num_digits\n",
    "FROM (\n",
    "    SELECT DISTINCT last_update\n",
    "    FROM datamart.Cases_slash_date)\n",
    "LIMIT 10"
   ]
  },
  {
   "cell_type": "markdown",
   "id": "friendly-structure",
   "metadata": {},
   "source": [
    "#### create Cases_slash_date_fixed"
   ]
  },
  {
   "cell_type": "code",
   "execution_count": 88,
   "id": "vital-commercial",
   "metadata": {},
   "outputs": [
    {
     "data": {
      "text/html": [
       "<div>\n",
       "<style scoped>\n",
       "    .dataframe tbody tr th:only-of-type {\n",
       "        vertical-align: middle;\n",
       "    }\n",
       "\n",
       "    .dataframe tbody tr th {\n",
       "        vertical-align: top;\n",
       "    }\n",
       "\n",
       "    .dataframe thead th {\n",
       "        text-align: right;\n",
       "    }\n",
       "</style>\n",
       "<table border=\"1\" class=\"dataframe\">\n",
       "  <thead>\n",
       "    <tr style=\"text-align: right;\">\n",
       "      <th></th>\n",
       "    </tr>\n",
       "  </thead>\n",
       "  <tbody>\n",
       "  </tbody>\n",
       "</table>\n",
       "</div>"
      ],
      "text/plain": [
       "Empty DataFrame\n",
       "Columns: []\n",
       "Index: []"
      ]
     },
     "execution_count": 88,
     "metadata": {},
     "output_type": "execute_result"
    }
   ],
   "source": [
    "%%bigquery\n",
    "CREATE OR REPLACE TABLE datamart.Cases_slash_date_fixed AS\n",
    "(SELECT location_id, PARSE_DATETIME('%m/%d/%y %H:%M', last_update) AS Last_Update, confirmed, deaths, recovered, active, incident_rate, case_fatality_ratio\n",
    "FROM datamart.Cases_slash_date \n",
    "WHERE length(split(split(last_update, ' ')[offset(0)], '/')[offset(2)]) = 2\n",
    "UNION ALL\n",
    "SELECT location_id, PARSE_DATETIME('%m/%d/%Y %H:%M', last_update) AS Last_Update, confirmed, deaths, recovered, active, incident_rate, case_fatality_ratio\n",
    "FROM datamart.Cases_slash_date \n",
    "WHERE length(split(split(last_update, ' ')[offset(0)], '/')[offset(2)]) = 4\n",
    ")"
   ]
  },
  {
   "cell_type": "markdown",
   "id": "boolean-interval",
   "metadata": {},
   "source": [
    "#### sample Cases_slash_date_fixed for fixed dates"
   ]
  },
  {
   "cell_type": "code",
   "execution_count": 89,
   "id": "emotional-uncertainty",
   "metadata": {},
   "outputs": [
    {
     "data": {
      "text/html": [
       "<div>\n",
       "<style scoped>\n",
       "    .dataframe tbody tr th:only-of-type {\n",
       "        vertical-align: middle;\n",
       "    }\n",
       "\n",
       "    .dataframe tbody tr th {\n",
       "        vertical-align: top;\n",
       "    }\n",
       "\n",
       "    .dataframe thead th {\n",
       "        text-align: right;\n",
       "    }\n",
       "</style>\n",
       "<table border=\"1\" class=\"dataframe\">\n",
       "  <thead>\n",
       "    <tr style=\"text-align: right;\">\n",
       "      <th></th>\n",
       "      <th>last_update</th>\n",
       "    </tr>\n",
       "  </thead>\n",
       "  <tbody>\n",
       "    <tr>\n",
       "      <th>0</th>\n",
       "      <td>2020-01-22 17:00:00</td>\n",
       "    </tr>\n",
       "    <tr>\n",
       "      <th>1</th>\n",
       "      <td>2020-01-23 17:00:00</td>\n",
       "    </tr>\n",
       "    <tr>\n",
       "      <th>2</th>\n",
       "      <td>2020-01-24 17:00:00</td>\n",
       "    </tr>\n",
       "    <tr>\n",
       "      <th>3</th>\n",
       "      <td>2020-01-25 17:00:00</td>\n",
       "    </tr>\n",
       "    <tr>\n",
       "      <th>4</th>\n",
       "      <td>2020-01-26 16:00:00</td>\n",
       "    </tr>\n",
       "    <tr>\n",
       "      <th>5</th>\n",
       "      <td>2020-01-27 23:59:00</td>\n",
       "    </tr>\n",
       "    <tr>\n",
       "      <th>6</th>\n",
       "      <td>2020-01-28 23:00:00</td>\n",
       "    </tr>\n",
       "    <tr>\n",
       "      <th>7</th>\n",
       "      <td>2020-01-29 19:30:00</td>\n",
       "    </tr>\n",
       "    <tr>\n",
       "      <th>8</th>\n",
       "      <td>2020-01-30 16:00:00</td>\n",
       "    </tr>\n",
       "    <tr>\n",
       "      <th>9</th>\n",
       "      <td>2020-01-31 08:15:00</td>\n",
       "    </tr>\n",
       "  </tbody>\n",
       "</table>\n",
       "</div>"
      ],
      "text/plain": [
       "          last_update\n",
       "0 2020-01-22 17:00:00\n",
       "1 2020-01-23 17:00:00\n",
       "2 2020-01-24 17:00:00\n",
       "3 2020-01-25 17:00:00\n",
       "4 2020-01-26 16:00:00\n",
       "5 2020-01-27 23:59:00\n",
       "6 2020-01-28 23:00:00\n",
       "7 2020-01-29 19:30:00\n",
       "8 2020-01-30 16:00:00\n",
       "9 2020-01-31 08:15:00"
      ]
     },
     "execution_count": 89,
     "metadata": {},
     "output_type": "execute_result"
    }
   ],
   "source": [
    "%%bigquery\n",
    "SELECT * \n",
    "FROM (\n",
    "    SELECT DISTINCT last_update\n",
    "    FROM datamart.Cases_slash_date_fixed)\n",
    "ORDER BY last_update\n",
    "LIMIT 10"
   ]
  },
  {
   "cell_type": "markdown",
   "id": "impossible-monte",
   "metadata": {},
   "source": [
    "#### create cases table"
   ]
  },
  {
   "cell_type": "code",
   "execution_count": 90,
   "id": "commercial-locking",
   "metadata": {},
   "outputs": [
    {
     "data": {
      "text/html": [
       "<div>\n",
       "<style scoped>\n",
       "    .dataframe tbody tr th:only-of-type {\n",
       "        vertical-align: middle;\n",
       "    }\n",
       "\n",
       "    .dataframe tbody tr th {\n",
       "        vertical-align: top;\n",
       "    }\n",
       "\n",
       "    .dataframe thead th {\n",
       "        text-align: right;\n",
       "    }\n",
       "</style>\n",
       "<table border=\"1\" class=\"dataframe\">\n",
       "  <thead>\n",
       "    <tr style=\"text-align: right;\">\n",
       "      <th></th>\n",
       "    </tr>\n",
       "  </thead>\n",
       "  <tbody>\n",
       "  </tbody>\n",
       "</table>\n",
       "</div>"
      ],
      "text/plain": [
       "Empty DataFrame\n",
       "Columns: []\n",
       "Index: []"
      ]
     },
     "execution_count": 90,
     "metadata": {},
     "output_type": "execute_result"
    }
   ],
   "source": [
    "%%bigquery\n",
    "CREATE OR REPLACE TABLE datamart.cases AS\n",
    "(SELECT * \n",
    "FROM datamart.Cases_hyphen_date_fixed\n",
    "UNION ALL\n",
    "SELECT *\n",
    "FROM datamart.Cases_plus_date_fixed\n",
    "UNION ALL\n",
    "SELECT *\n",
    "FROM datamart.Cases_slash_date_fixed\n",
    ")"
   ]
  },
  {
   "cell_type": "markdown",
   "id": "chubby-timer",
   "metadata": {},
   "source": [
    "#### ensure no rows were lost"
   ]
  },
  {
   "cell_type": "code",
   "execution_count": 91,
   "id": "pretty-little",
   "metadata": {},
   "outputs": [
    {
     "data": {
      "text/html": [
       "<div>\n",
       "<style scoped>\n",
       "    .dataframe tbody tr th:only-of-type {\n",
       "        vertical-align: middle;\n",
       "    }\n",
       "\n",
       "    .dataframe tbody tr th {\n",
       "        vertical-align: top;\n",
       "    }\n",
       "\n",
       "    .dataframe thead th {\n",
       "        text-align: right;\n",
       "    }\n",
       "</style>\n",
       "<table border=\"1\" class=\"dataframe\">\n",
       "  <thead>\n",
       "    <tr style=\"text-align: right;\">\n",
       "      <th></th>\n",
       "      <th>cases_raw_count</th>\n",
       "      <th>cases_count</th>\n",
       "    </tr>\n",
       "  </thead>\n",
       "  <tbody>\n",
       "    <tr>\n",
       "      <th>0</th>\n",
       "      <td>1657069</td>\n",
       "      <td>1657068</td>\n",
       "    </tr>\n",
       "  </tbody>\n",
       "</table>\n",
       "</div>"
      ],
      "text/plain": [
       "   cases_raw_count  cases_count\n",
       "0          1657069      1657068"
      ]
     },
     "execution_count": 91,
     "metadata": {},
     "output_type": "execute_result"
    }
   ],
   "source": [
    "%%bigquery\n",
    "SELECT count(*) AS cases_raw_count, (SELECT count(*) FROM datamart.cases) AS cases_count\n",
    "FROM datamart.Cases_raw"
   ]
  },
  {
   "cell_type": "markdown",
   "id": "injured-patent",
   "metadata": {},
   "source": [
    "#### remove duplicate cases"
   ]
  },
  {
   "cell_type": "code",
   "execution_count": 92,
   "id": "twenty-definition",
   "metadata": {},
   "outputs": [
    {
     "data": {
      "text/html": [
       "<div>\n",
       "<style scoped>\n",
       "    .dataframe tbody tr th:only-of-type {\n",
       "        vertical-align: middle;\n",
       "    }\n",
       "\n",
       "    .dataframe tbody tr th {\n",
       "        vertical-align: top;\n",
       "    }\n",
       "\n",
       "    .dataframe thead th {\n",
       "        text-align: right;\n",
       "    }\n",
       "</style>\n",
       "<table border=\"1\" class=\"dataframe\">\n",
       "  <thead>\n",
       "    <tr style=\"text-align: right;\">\n",
       "      <th></th>\n",
       "    </tr>\n",
       "  </thead>\n",
       "  <tbody>\n",
       "  </tbody>\n",
       "</table>\n",
       "</div>"
      ],
      "text/plain": [
       "Empty DataFrame\n",
       "Columns: []\n",
       "Index: []"
      ]
     },
     "execution_count": 92,
     "metadata": {},
     "output_type": "execute_result"
    }
   ],
   "source": [
    "%%bigquery\n",
    "CREATE OR REPLACE TABLE datamart.cases AS\n",
    "SELECT DISTINCT *\n",
    "FROM datamart.cases"
   ]
  },
  {
   "cell_type": "markdown",
   "id": "friendly-colon",
   "metadata": {},
   "source": [
    "#### get cases count after first attempt of removing duplicates"
   ]
  },
  {
   "cell_type": "code",
   "execution_count": 93,
   "id": "similar-armstrong",
   "metadata": {},
   "outputs": [
    {
     "data": {
      "text/html": [
       "<div>\n",
       "<style scoped>\n",
       "    .dataframe tbody tr th:only-of-type {\n",
       "        vertical-align: middle;\n",
       "    }\n",
       "\n",
       "    .dataframe tbody tr th {\n",
       "        vertical-align: top;\n",
       "    }\n",
       "\n",
       "    .dataframe thead th {\n",
       "        text-align: right;\n",
       "    }\n",
       "</style>\n",
       "<table border=\"1\" class=\"dataframe\">\n",
       "  <thead>\n",
       "    <tr style=\"text-align: right;\">\n",
       "      <th></th>\n",
       "      <th>distinct_cases_count</th>\n",
       "    </tr>\n",
       "  </thead>\n",
       "  <tbody>\n",
       "    <tr>\n",
       "      <th>0</th>\n",
       "      <td>1476173</td>\n",
       "    </tr>\n",
       "  </tbody>\n",
       "</table>\n",
       "</div>"
      ],
      "text/plain": [
       "   distinct_cases_count\n",
       "0               1476173"
      ]
     },
     "execution_count": 93,
     "metadata": {},
     "output_type": "execute_result"
    }
   ],
   "source": [
    "%%bigquery\n",
    "SELECT count(*) AS distinct_cases_count\n",
    "FROM datamart.cases"
   ]
  },
  {
   "cell_type": "markdown",
   "id": "historical-celebration",
   "metadata": {},
   "source": [
    "#### check if there a still duplicate cases"
   ]
  },
  {
   "cell_type": "code",
   "execution_count": 94,
   "id": "future-click",
   "metadata": {},
   "outputs": [
    {
     "data": {
      "text/html": [
       "<div>\n",
       "<style scoped>\n",
       "    .dataframe tbody tr th:only-of-type {\n",
       "        vertical-align: middle;\n",
       "    }\n",
       "\n",
       "    .dataframe tbody tr th {\n",
       "        vertical-align: top;\n",
       "    }\n",
       "\n",
       "    .dataframe thead th {\n",
       "        text-align: right;\n",
       "    }\n",
       "</style>\n",
       "<table border=\"1\" class=\"dataframe\">\n",
       "  <thead>\n",
       "    <tr style=\"text-align: right;\">\n",
       "      <th></th>\n",
       "      <th>location_id</th>\n",
       "      <th>last_update</th>\n",
       "      <th>duplicate_cases</th>\n",
       "    </tr>\n",
       "  </thead>\n",
       "  <tbody>\n",
       "    <tr>\n",
       "      <th>0</th>\n",
       "      <td>3183797238637395852</td>\n",
       "      <td>2021-04-02 15:13:53</td>\n",
       "      <td>146</td>\n",
       "    </tr>\n",
       "    <tr>\n",
       "      <th>1</th>\n",
       "      <td>-1181716864917925688</td>\n",
       "      <td>2021-04-02 15:13:53</td>\n",
       "      <td>111</td>\n",
       "    </tr>\n",
       "    <tr>\n",
       "      <th>2</th>\n",
       "      <td>2231787937947570706</td>\n",
       "      <td>2020-12-21 13:27:30</td>\n",
       "      <td>92</td>\n",
       "    </tr>\n",
       "    <tr>\n",
       "      <th>3</th>\n",
       "      <td>8778414404485170876</td>\n",
       "      <td>2020-03-17 11:53:10</td>\n",
       "      <td>3</td>\n",
       "    </tr>\n",
       "    <tr>\n",
       "      <th>4</th>\n",
       "      <td>8778414404485170876</td>\n",
       "      <td>2020-02-24 23:33:02</td>\n",
       "      <td>3</td>\n",
       "    </tr>\n",
       "    <tr>\n",
       "      <th>5</th>\n",
       "      <td>-391570144277816991</td>\n",
       "      <td>2020-03-14 22:33:04</td>\n",
       "      <td>2</td>\n",
       "    </tr>\n",
       "    <tr>\n",
       "      <th>6</th>\n",
       "      <td>8009782315755301025</td>\n",
       "      <td>2020-08-04 02:27:56</td>\n",
       "      <td>2</td>\n",
       "    </tr>\n",
       "    <tr>\n",
       "      <th>7</th>\n",
       "      <td>7612477503619687113</td>\n",
       "      <td>2020-02-13 17:53:03</td>\n",
       "      <td>2</td>\n",
       "    </tr>\n",
       "    <tr>\n",
       "      <th>8</th>\n",
       "      <td>7612477503619687113</td>\n",
       "      <td>2020-02-17 07:33:02</td>\n",
       "      <td>2</td>\n",
       "    </tr>\n",
       "    <tr>\n",
       "      <th>9</th>\n",
       "      <td>7430223413705102985</td>\n",
       "      <td>2020-03-14 20:13:16</td>\n",
       "      <td>2</td>\n",
       "    </tr>\n",
       "  </tbody>\n",
       "</table>\n",
       "</div>"
      ],
      "text/plain": [
       "           location_id         last_update  duplicate_cases\n",
       "0  3183797238637395852 2021-04-02 15:13:53              146\n",
       "1 -1181716864917925688 2021-04-02 15:13:53              111\n",
       "2  2231787937947570706 2020-12-21 13:27:30               92\n",
       "3  8778414404485170876 2020-03-17 11:53:10                3\n",
       "4  8778414404485170876 2020-02-24 23:33:02                3\n",
       "5  -391570144277816991 2020-03-14 22:33:04                2\n",
       "6  8009782315755301025 2020-08-04 02:27:56                2\n",
       "7  7612477503619687113 2020-02-13 17:53:03                2\n",
       "8  7612477503619687113 2020-02-17 07:33:02                2\n",
       "9  7430223413705102985 2020-03-14 20:13:16                2"
      ]
     },
     "execution_count": 94,
     "metadata": {},
     "output_type": "execute_result"
    }
   ],
   "source": [
    "%%bigquery\n",
    "SELECT location_id, last_update, count(*) AS duplicate_cases\n",
    "FROM datamart.cases\n",
    "GROUP BY location_id, last_update\n",
    "HAVING count(*) > 1\n",
    "ORDER BY count(*) DESC\n",
    "LIMIT 10"
   ]
  },
  {
   "cell_type": "markdown",
   "id": "collected-insurance",
   "metadata": {},
   "source": [
    "#### remove duplicates based on confirmed, deaths, and recovered cases"
   ]
  },
  {
   "cell_type": "code",
   "execution_count": 95,
   "id": "operational-bearing",
   "metadata": {},
   "outputs": [
    {
     "data": {
      "text/html": [
       "<div>\n",
       "<style scoped>\n",
       "    .dataframe tbody tr th:only-of-type {\n",
       "        vertical-align: middle;\n",
       "    }\n",
       "\n",
       "    .dataframe tbody tr th {\n",
       "        vertical-align: top;\n",
       "    }\n",
       "\n",
       "    .dataframe thead th {\n",
       "        text-align: right;\n",
       "    }\n",
       "</style>\n",
       "<table border=\"1\" class=\"dataframe\">\n",
       "  <thead>\n",
       "    <tr style=\"text-align: right;\">\n",
       "      <th></th>\n",
       "    </tr>\n",
       "  </thead>\n",
       "  <tbody>\n",
       "  </tbody>\n",
       "</table>\n",
       "</div>"
      ],
      "text/plain": [
       "Empty DataFrame\n",
       "Columns: []\n",
       "Index: []"
      ]
     },
     "execution_count": 95,
     "metadata": {},
     "output_type": "execute_result"
    }
   ],
   "source": [
    "%%bigquery\n",
    "CREATE OR REPLACE TABLE datamart.cases AS\n",
    "SELECT location_id, last_update, confirmed, deaths, recovered, active, incident_rate, case_fatality_ratio\n",
    "FROM(SELECT *, rank() over (partition by location_id, last_update order by confirmed DESC, deaths DESC, recovered DESC ) as rank\n",
    "FROM datamart.cases)\n",
    "WHERE rank = 1"
   ]
  },
  {
   "cell_type": "markdown",
   "id": "color-engineer",
   "metadata": {},
   "source": [
    "#### PK check: if same number then no duplicates"
   ]
  },
  {
   "cell_type": "code",
   "execution_count": 96,
   "id": "recreational-spectrum",
   "metadata": {},
   "outputs": [
    {
     "data": {
      "text/html": [
       "<div>\n",
       "<style scoped>\n",
       "    .dataframe tbody tr th:only-of-type {\n",
       "        vertical-align: middle;\n",
       "    }\n",
       "\n",
       "    .dataframe tbody tr th {\n",
       "        vertical-align: top;\n",
       "    }\n",
       "\n",
       "    .dataframe thead th {\n",
       "        text-align: right;\n",
       "    }\n",
       "</style>\n",
       "<table border=\"1\" class=\"dataframe\">\n",
       "  <thead>\n",
       "    <tr style=\"text-align: right;\">\n",
       "      <th></th>\n",
       "      <th>distinct_PK</th>\n",
       "      <th>cases_count</th>\n",
       "    </tr>\n",
       "  </thead>\n",
       "  <tbody>\n",
       "    <tr>\n",
       "      <th>0</th>\n",
       "      <td>1475767</td>\n",
       "      <td>1475767</td>\n",
       "    </tr>\n",
       "  </tbody>\n",
       "</table>\n",
       "</div>"
      ],
      "text/plain": [
       "   distinct_PK  cases_count\n",
       "0      1475767      1475767"
      ]
     },
     "execution_count": 96,
     "metadata": {},
     "output_type": "execute_result"
    }
   ],
   "source": [
    "%%bigquery\n",
    "SELECT count(*) AS distinct_PK, (SELECT count(*) FROM datamart.cases) AS cases_count\n",
    "FROM (\n",
    "    SELECT DISTINCT location_id, last_update\n",
    "    FROM datamart.cases\n",
    ")"
   ]
  },
  {
   "cell_type": "markdown",
   "id": "rental-species",
   "metadata": {},
   "source": [
    "#### FK check"
   ]
  },
  {
   "cell_type": "code",
   "execution_count": 97,
   "id": "convertible-mathematics",
   "metadata": {},
   "outputs": [
    {
     "data": {
      "text/html": [
       "<div>\n",
       "<style scoped>\n",
       "    .dataframe tbody tr th:only-of-type {\n",
       "        vertical-align: middle;\n",
       "    }\n",
       "\n",
       "    .dataframe tbody tr th {\n",
       "        vertical-align: top;\n",
       "    }\n",
       "\n",
       "    .dataframe thead th {\n",
       "        text-align: right;\n",
       "    }\n",
       "</style>\n",
       "<table border=\"1\" class=\"dataframe\">\n",
       "  <thead>\n",
       "    <tr style=\"text-align: right;\">\n",
       "      <th></th>\n",
       "      <th>foreign_key_violations</th>\n",
       "    </tr>\n",
       "  </thead>\n",
       "  <tbody>\n",
       "    <tr>\n",
       "      <th>0</th>\n",
       "      <td>0</td>\n",
       "    </tr>\n",
       "  </tbody>\n",
       "</table>\n",
       "</div>"
      ],
      "text/plain": [
       "   foreign_key_violations\n",
       "0                       0"
      ]
     },
     "execution_count": 97,
     "metadata": {},
     "output_type": "execute_result"
    }
   ],
   "source": [
    "%%bigquery\n",
    "SELECT count(*) AS foreign_key_violations\n",
    "FROM datamart.cases AS c\n",
    "LEFT JOIN datamart.locations AS l ON c.location_id=l.id\n",
    "WHERE l.id IS null"
   ]
  },
  {
   "cell_type": "markdown",
   "id": "congressional-hungarian",
   "metadata": {},
   "source": [
    "### Transform the ACS Dataset"
   ]
  },
  {
   "cell_type": "markdown",
   "id": "diverse-collins",
   "metadata": {},
   "source": [
    "### Transforms for table demographics"
   ]
  },
  {
   "cell_type": "markdown",
   "id": "integrated-cutting",
   "metadata": {},
   "source": [
    "#### create demo_temp"
   ]
  },
  {
   "cell_type": "code",
   "execution_count": 5,
   "id": "opening-custom",
   "metadata": {},
   "outputs": [
    {
     "data": {
      "text/html": [
       "<div>\n",
       "<style scoped>\n",
       "    .dataframe tbody tr th:only-of-type {\n",
       "        vertical-align: middle;\n",
       "    }\n",
       "\n",
       "    .dataframe tbody tr th {\n",
       "        vertical-align: top;\n",
       "    }\n",
       "\n",
       "    .dataframe thead th {\n",
       "        text-align: right;\n",
       "    }\n",
       "</style>\n",
       "<table border=\"1\" class=\"dataframe\">\n",
       "  <thead>\n",
       "    <tr style=\"text-align: right;\">\n",
       "      <th></th>\n",
       "    </tr>\n",
       "  </thead>\n",
       "  <tbody>\n",
       "  </tbody>\n",
       "</table>\n",
       "</div>"
      ],
      "text/plain": [
       "Empty DataFrame\n",
       "Columns: []\n",
       "Index: []"
      ]
     },
     "execution_count": 5,
     "metadata": {},
     "output_type": "execute_result"
    }
   ],
   "source": [
    "%%bigquery\n",
    "CREATE OR REPLACE TABLE datamart.demo_temp AS\n",
    "SELECT 'US' AS country, null AS category, null AS subcategory1, null AS subcategory2, TRIM(_Label_) AS label, CAST(United_States__Estimate AS NUMERIC) AS estimate, REGEXP_REPLACE(United_States__Margin_of_Error, '[^0-9.]', '') AS error_margin, REGEXP_REPLACE(United_States__Percent, '[^0-9.]', '') AS percent, REGEXP_REPLACE(United_States__Percent_Margin_of_Error, '[^0-9.]', '') AS error_margin_percent\n",
    "FROM us_census_bureau_staging.acs_demographics"
   ]
  },
  {
   "cell_type": "markdown",
   "id": "greatest-belarus",
   "metadata": {},
   "source": [
    "#### update blank strings to nulls"
   ]
  },
  {
   "cell_type": "code",
   "execution_count": 6,
   "id": "micro-bikini",
   "metadata": {},
   "outputs": [
    {
     "data": {
      "text/html": [
       "<div>\n",
       "<style scoped>\n",
       "    .dataframe tbody tr th:only-of-type {\n",
       "        vertical-align: middle;\n",
       "    }\n",
       "\n",
       "    .dataframe tbody tr th {\n",
       "        vertical-align: top;\n",
       "    }\n",
       "\n",
       "    .dataframe thead th {\n",
       "        text-align: right;\n",
       "    }\n",
       "</style>\n",
       "<table border=\"1\" class=\"dataframe\">\n",
       "  <thead>\n",
       "    <tr style=\"text-align: right;\">\n",
       "      <th></th>\n",
       "    </tr>\n",
       "  </thead>\n",
       "  <tbody>\n",
       "  </tbody>\n",
       "</table>\n",
       "</div>"
      ],
      "text/plain": [
       "Empty DataFrame\n",
       "Columns: []\n",
       "Index: []"
      ]
     },
     "execution_count": 6,
     "metadata": {},
     "output_type": "execute_result"
    }
   ],
   "source": [
    "%%bigquery\n",
    "UPDATE datamart.demo_temp\n",
    "SET error_margin=null\n",
    "WHERE error_margin=''"
   ]
  },
  {
   "cell_type": "code",
   "execution_count": 7,
   "id": "continuous-mistake",
   "metadata": {},
   "outputs": [
    {
     "data": {
      "text/html": [
       "<div>\n",
       "<style scoped>\n",
       "    .dataframe tbody tr th:only-of-type {\n",
       "        vertical-align: middle;\n",
       "    }\n",
       "\n",
       "    .dataframe tbody tr th {\n",
       "        vertical-align: top;\n",
       "    }\n",
       "\n",
       "    .dataframe thead th {\n",
       "        text-align: right;\n",
       "    }\n",
       "</style>\n",
       "<table border=\"1\" class=\"dataframe\">\n",
       "  <thead>\n",
       "    <tr style=\"text-align: right;\">\n",
       "      <th></th>\n",
       "    </tr>\n",
       "  </thead>\n",
       "  <tbody>\n",
       "  </tbody>\n",
       "</table>\n",
       "</div>"
      ],
      "text/plain": [
       "Empty DataFrame\n",
       "Columns: []\n",
       "Index: []"
      ]
     },
     "execution_count": 7,
     "metadata": {},
     "output_type": "execute_result"
    }
   ],
   "source": [
    "%%bigquery\n",
    "UPDATE datamart.demo_temp\n",
    "SET error_margin_percent=null\n",
    "WHERE error_margin_percent=''"
   ]
  },
  {
   "cell_type": "code",
   "execution_count": 8,
   "id": "employed-accuracy",
   "metadata": {},
   "outputs": [
    {
     "data": {
      "text/html": [
       "<div>\n",
       "<style scoped>\n",
       "    .dataframe tbody tr th:only-of-type {\n",
       "        vertical-align: middle;\n",
       "    }\n",
       "\n",
       "    .dataframe tbody tr th {\n",
       "        vertical-align: top;\n",
       "    }\n",
       "\n",
       "    .dataframe thead th {\n",
       "        text-align: right;\n",
       "    }\n",
       "</style>\n",
       "<table border=\"1\" class=\"dataframe\">\n",
       "  <thead>\n",
       "    <tr style=\"text-align: right;\">\n",
       "      <th></th>\n",
       "    </tr>\n",
       "  </thead>\n",
       "  <tbody>\n",
       "  </tbody>\n",
       "</table>\n",
       "</div>"
      ],
      "text/plain": [
       "Empty DataFrame\n",
       "Columns: []\n",
       "Index: []"
      ]
     },
     "execution_count": 8,
     "metadata": {},
     "output_type": "execute_result"
    }
   ],
   "source": [
    "%%bigquery\n",
    "UPDATE datamart.demo_temp\n",
    "SET percent=null\n",
    "WHERE percent=''"
   ]
  },
  {
   "cell_type": "markdown",
   "id": "deadly-twenty",
   "metadata": {},
   "source": [
    "#### create table demographics"
   ]
  },
  {
   "cell_type": "code",
   "execution_count": 34,
   "id": "geological-working",
   "metadata": {},
   "outputs": [
    {
     "data": {
      "text/html": [
       "<div>\n",
       "<style scoped>\n",
       "    .dataframe tbody tr th:only-of-type {\n",
       "        vertical-align: middle;\n",
       "    }\n",
       "\n",
       "    .dataframe tbody tr th {\n",
       "        vertical-align: top;\n",
       "    }\n",
       "\n",
       "    .dataframe thead th {\n",
       "        text-align: right;\n",
       "    }\n",
       "</style>\n",
       "<table border=\"1\" class=\"dataframe\">\n",
       "  <thead>\n",
       "    <tr style=\"text-align: right;\">\n",
       "      <th></th>\n",
       "    </tr>\n",
       "  </thead>\n",
       "  <tbody>\n",
       "  </tbody>\n",
       "</table>\n",
       "</div>"
      ],
      "text/plain": [
       "Empty DataFrame\n",
       "Columns: []\n",
       "Index: []"
      ]
     },
     "execution_count": 34,
     "metadata": {},
     "output_type": "execute_result"
    }
   ],
   "source": [
    "%%bigquery\n",
    "CREATE OR REPLACE TABLE datamart.demographics AS\n",
    "SELECT country, CAST(category AS STRING) AS category, CAST(subcategory1 AS STRING) AS subcategory1, CAST(subcategory2 AS STRING) AS subcategory2, label, estimate, CAST(error_margin AS NUMERIC) AS error_margin, CAST(percent AS NUMERIC) AS percent, CAST(error_margin_percent AS NUMERIC) AS error_margin_percent\n",
    "FROM datamart.demo_temp"
   ]
  },
  {
   "cell_type": "markdown",
   "id": "ideal-horizontal",
   "metadata": {},
   "source": [
    "#### remove non-data rows"
   ]
  },
  {
   "cell_type": "code",
   "execution_count": 35,
   "id": "extraordinary-bedroom",
   "metadata": {},
   "outputs": [
    {
     "data": {
      "text/html": [
       "<div>\n",
       "<style scoped>\n",
       "    .dataframe tbody tr th:only-of-type {\n",
       "        vertical-align: middle;\n",
       "    }\n",
       "\n",
       "    .dataframe tbody tr th {\n",
       "        vertical-align: top;\n",
       "    }\n",
       "\n",
       "    .dataframe thead th {\n",
       "        text-align: right;\n",
       "    }\n",
       "</style>\n",
       "<table border=\"1\" class=\"dataframe\">\n",
       "  <thead>\n",
       "    <tr style=\"text-align: right;\">\n",
       "      <th></th>\n",
       "    </tr>\n",
       "  </thead>\n",
       "  <tbody>\n",
       "  </tbody>\n",
       "</table>\n",
       "</div>"
      ],
      "text/plain": [
       "Empty DataFrame\n",
       "Columns: []\n",
       "Index: []"
      ]
     },
     "execution_count": 35,
     "metadata": {},
     "output_type": "execute_result"
    }
   ],
   "source": [
    "%%bigquery\n",
    "DELETE FROM datamart.demographics\n",
    "WHERE estimate IS null AND error_margin IS null AND percent IS null AND error_margin IS null"
   ]
  },
  {
   "cell_type": "markdown",
   "id": "acoustic-finger",
   "metadata": {},
   "source": [
    "#### update records with corresponding category and subcategory"
   ]
  },
  {
   "cell_type": "code",
   "execution_count": 36,
   "id": "thermal-development",
   "metadata": {},
   "outputs": [
    {
     "data": {
      "text/html": [
       "<div>\n",
       "<style scoped>\n",
       "    .dataframe tbody tr th:only-of-type {\n",
       "        vertical-align: middle;\n",
       "    }\n",
       "\n",
       "    .dataframe tbody tr th {\n",
       "        vertical-align: top;\n",
       "    }\n",
       "\n",
       "    .dataframe thead th {\n",
       "        text-align: right;\n",
       "    }\n",
       "</style>\n",
       "<table border=\"1\" class=\"dataframe\">\n",
       "  <thead>\n",
       "    <tr style=\"text-align: right;\">\n",
       "      <th></th>\n",
       "    </tr>\n",
       "  </thead>\n",
       "  <tbody>\n",
       "  </tbody>\n",
       "</table>\n",
       "</div>"
      ],
      "text/plain": [
       "Empty DataFrame\n",
       "Columns: []\n",
       "Index: []"
      ]
     },
     "execution_count": 36,
     "metadata": {},
     "output_type": "execute_result"
    }
   ],
   "source": [
    "%%bigquery\n",
    "UPDATE datamart.demographics\n",
    "SET category='general'\n",
    "WHERE label IN ('Male', 'Female', 'Sex ratio (males per 100 females)', 'Total population', 'Under 5 years', '5 to 9 years', '10 to 14 years', '15 to 19 years', '20 to 24 years', '25 to 34 years', '35 to 44 years', '45 to 54 years', '55 to 59 years', '60 to 64 years', '65 to 74 years', '75 to 84 years', '85 years and over', 'Median age (years)', 'Under 18 years', '16 years and over', '18 years and over', '21 years and over', '62 years and over', '65 years and over', 'Total housing units', 'Citizen, 18 and over population')"
   ]
  },
  {
   "cell_type": "code",
   "execution_count": 37,
   "id": "distinguished-doubt",
   "metadata": {},
   "outputs": [
    {
     "data": {
      "text/html": [
       "<div>\n",
       "<style scoped>\n",
       "    .dataframe tbody tr th:only-of-type {\n",
       "        vertical-align: middle;\n",
       "    }\n",
       "\n",
       "    .dataframe tbody tr th {\n",
       "        vertical-align: top;\n",
       "    }\n",
       "\n",
       "    .dataframe thead th {\n",
       "        text-align: right;\n",
       "    }\n",
       "</style>\n",
       "<table border=\"1\" class=\"dataframe\">\n",
       "  <thead>\n",
       "    <tr style=\"text-align: right;\">\n",
       "      <th></th>\n",
       "    </tr>\n",
       "  </thead>\n",
       "  <tbody>\n",
       "  </tbody>\n",
       "</table>\n",
       "</div>"
      ],
      "text/plain": [
       "Empty DataFrame\n",
       "Columns: []\n",
       "Index: []"
      ]
     },
     "execution_count": 37,
     "metadata": {},
     "output_type": "execute_result"
    }
   ],
   "source": [
    "%%bigquery\n",
    "UPDATE datamart.demographics\n",
    "SET subcategory1='sex'\n",
    "WHERE (label='Male' AND estimate=159886919 AND error_margin=5817 AND percent=49.2)\n",
    "OR (label='Female' AND estimate=164810876 AND error_margin=5818 AND percent=50.8)\n",
    "OR (label='Sex ratio (males per 100 females)' AND estimate=97 AND error_margin=0.1)"
   ]
  },
  {
   "cell_type": "code",
   "execution_count": 38,
   "id": "divine-blood",
   "metadata": {},
   "outputs": [
    {
     "data": {
      "text/html": [
       "<div>\n",
       "<style scoped>\n",
       "    .dataframe tbody tr th:only-of-type {\n",
       "        vertical-align: middle;\n",
       "    }\n",
       "\n",
       "    .dataframe tbody tr th {\n",
       "        vertical-align: top;\n",
       "    }\n",
       "\n",
       "    .dataframe thead th {\n",
       "        text-align: right;\n",
       "    }\n",
       "</style>\n",
       "<table border=\"1\" class=\"dataframe\">\n",
       "  <thead>\n",
       "    <tr style=\"text-align: right;\">\n",
       "      <th></th>\n",
       "    </tr>\n",
       "  </thead>\n",
       "  <tbody>\n",
       "  </tbody>\n",
       "</table>\n",
       "</div>"
      ],
      "text/plain": [
       "Empty DataFrame\n",
       "Columns: []\n",
       "Index: []"
      ]
     },
     "execution_count": 38,
     "metadata": {},
     "output_type": "execute_result"
    }
   ],
   "source": [
    "%%bigquery\n",
    "UPDATE datamart.demographics\n",
    "SET subcategory1='age'\n",
    "WHERE label IN ('Under 5 years', '5 to 9 years', '10 to 14 years', '15 to 19 years', '20 to 24 years', '25 to 34 years', '35 to 44 years', '45 to 54 years', '55 to 59 years', '60 to 64 years', '65 to 74 years', '75 to 84 years', '85 years and over', 'Median age (years)', 'Under 18 years', '16 years and over', '18 years and over', '21 years and over', '62 years and over', '65 years and over')\n",
    "OR (label='Male' AND estimate=122360385)\n",
    "OR (label='Female' AND estimate=128908018)\n",
    "OR (label='Male' AND estimate=22518603)\n",
    "OR (label='Female' AND estimate=28265193)\n",
    "OR (label='Sex ratio (males per 100 females)' AND estimate=94.9 AND error_margin=0.1)\n",
    "OR (label='Sex ratio (males per 100 females)' AND estimate=79.7 AND error_margin=0.1)"
   ]
  },
  {
   "cell_type": "code",
   "execution_count": 39,
   "id": "funded-suffering",
   "metadata": {},
   "outputs": [
    {
     "data": {
      "text/html": [
       "<div>\n",
       "<style scoped>\n",
       "    .dataframe tbody tr th:only-of-type {\n",
       "        vertical-align: middle;\n",
       "    }\n",
       "\n",
       "    .dataframe tbody tr th {\n",
       "        vertical-align: top;\n",
       "    }\n",
       "\n",
       "    .dataframe thead th {\n",
       "        text-align: right;\n",
       "    }\n",
       "</style>\n",
       "<table border=\"1\" class=\"dataframe\">\n",
       "  <thead>\n",
       "    <tr style=\"text-align: right;\">\n",
       "      <th></th>\n",
       "    </tr>\n",
       "  </thead>\n",
       "  <tbody>\n",
       "  </tbody>\n",
       "</table>\n",
       "</div>"
      ],
      "text/plain": [
       "Empty DataFrame\n",
       "Columns: []\n",
       "Index: []"
      ]
     },
     "execution_count": 39,
     "metadata": {},
     "output_type": "execute_result"
    }
   ],
   "source": [
    "%%bigquery\n",
    "UPDATE datamart.demographics\n",
    "SET subcategory2='18 years and over'\n",
    "WHERE (label='18 years and over')\n",
    "OR (label='Male' AND estimate=122360385)\n",
    "OR (label='Female' AND estimate=128908018)\n",
    "OR (label='Sex ratio (males per 100 females)' AND estimate=94.9 AND error_margin=0.1)"
   ]
  },
  {
   "cell_type": "code",
   "execution_count": 40,
   "id": "incident-notion",
   "metadata": {},
   "outputs": [
    {
     "data": {
      "text/html": [
       "<div>\n",
       "<style scoped>\n",
       "    .dataframe tbody tr th:only-of-type {\n",
       "        vertical-align: middle;\n",
       "    }\n",
       "\n",
       "    .dataframe tbody tr th {\n",
       "        vertical-align: top;\n",
       "    }\n",
       "\n",
       "    .dataframe thead th {\n",
       "        text-align: right;\n",
       "    }\n",
       "</style>\n",
       "<table border=\"1\" class=\"dataframe\">\n",
       "  <thead>\n",
       "    <tr style=\"text-align: right;\">\n",
       "      <th></th>\n",
       "    </tr>\n",
       "  </thead>\n",
       "  <tbody>\n",
       "  </tbody>\n",
       "</table>\n",
       "</div>"
      ],
      "text/plain": [
       "Empty DataFrame\n",
       "Columns: []\n",
       "Index: []"
      ]
     },
     "execution_count": 40,
     "metadata": {},
     "output_type": "execute_result"
    }
   ],
   "source": [
    "%%bigquery\n",
    "UPDATE datamart.demographics\n",
    "SET subcategory2='65 years and over'\n",
    "WHERE (label='65 years and over')\n",
    "OR (label='Male' AND estimate=22518603)\n",
    "OR (label='Female' AND estimate=28265193)\n",
    "OR (label='Sex ratio (males per 100 females)' AND estimate=79.7 AND error_margin=0.1)"
   ]
  },
  {
   "cell_type": "code",
   "execution_count": 41,
   "id": "swedish-chancellor",
   "metadata": {},
   "outputs": [
    {
     "data": {
      "text/html": [
       "<div>\n",
       "<style scoped>\n",
       "    .dataframe tbody tr th:only-of-type {\n",
       "        vertical-align: middle;\n",
       "    }\n",
       "\n",
       "    .dataframe tbody tr th {\n",
       "        vertical-align: top;\n",
       "    }\n",
       "\n",
       "    .dataframe thead th {\n",
       "        text-align: right;\n",
       "    }\n",
       "</style>\n",
       "<table border=\"1\" class=\"dataframe\">\n",
       "  <thead>\n",
       "    <tr style=\"text-align: right;\">\n",
       "      <th></th>\n",
       "    </tr>\n",
       "  </thead>\n",
       "  <tbody>\n",
       "  </tbody>\n",
       "</table>\n",
       "</div>"
      ],
      "text/plain": [
       "Empty DataFrame\n",
       "Columns: []\n",
       "Index: []"
      ]
     },
     "execution_count": 41,
     "metadata": {},
     "output_type": "execute_result"
    }
   ],
   "source": [
    "%%bigquery\n",
    "UPDATE datamart.demographics\n",
    "SET subcategory1='one race'\n",
    "WHERE label IN ('One race', 'Cherokee tribal grouping', 'Chippewa tribal grouping', 'Navajo tribal grouping', 'Sioux tribal grouping', 'Asian Indian', 'Chinese', 'Filipino', 'Japanese', 'Korean', 'Vietnamese', 'Other Asian', 'Native Hawaiian', 'Guamanian or Chamorro', 'Samoan', 'Other Pacific Islander')\n",
    "OR (label='White' AND estimate=235377662)\n",
    "OR (label='Black or African American' AND estimate=41234642)\n",
    "OR (label='American Indian and Alaska Native' AND estimate=2750143)\n",
    "OR (label='Asian' AND estimate=17924209)\n",
    "OR (label='Native Hawaiian and Other Pacific Islander' AND estimate=599868)\n",
    "OR (label='Some other race' AND estimate=16047369)"
   ]
  },
  {
   "cell_type": "code",
   "execution_count": 42,
   "id": "progressive-twins",
   "metadata": {},
   "outputs": [
    {
     "data": {
      "text/html": [
       "<div>\n",
       "<style scoped>\n",
       "    .dataframe tbody tr th:only-of-type {\n",
       "        vertical-align: middle;\n",
       "    }\n",
       "\n",
       "    .dataframe tbody tr th {\n",
       "        vertical-align: top;\n",
       "    }\n",
       "\n",
       "    .dataframe thead th {\n",
       "        text-align: right;\n",
       "    }\n",
       "</style>\n",
       "<table border=\"1\" class=\"dataframe\">\n",
       "  <thead>\n",
       "    <tr style=\"text-align: right;\">\n",
       "      <th></th>\n",
       "    </tr>\n",
       "  </thead>\n",
       "  <tbody>\n",
       "  </tbody>\n",
       "</table>\n",
       "</div>"
      ],
      "text/plain": [
       "Empty DataFrame\n",
       "Columns: []\n",
       "Index: []"
      ]
     },
     "execution_count": 42,
     "metadata": {},
     "output_type": "execute_result"
    }
   ],
   "source": [
    "%%bigquery\n",
    "UPDATE datamart.demographics\n",
    "SET subcategory2='American Indian and Alaska Native'\n",
    "WHERE label IN ('Cherokee tribal grouping', 'Chippewa tribal grouping', 'Navajo tribal grouping', 'Sioux tribal grouping')\n",
    "OR (label='American Indian and Alaska Native' AND estimate=2750143)"
   ]
  },
  {
   "cell_type": "code",
   "execution_count": 43,
   "id": "fossil-mouth",
   "metadata": {},
   "outputs": [
    {
     "data": {
      "text/html": [
       "<div>\n",
       "<style scoped>\n",
       "    .dataframe tbody tr th:only-of-type {\n",
       "        vertical-align: middle;\n",
       "    }\n",
       "\n",
       "    .dataframe tbody tr th {\n",
       "        vertical-align: top;\n",
       "    }\n",
       "\n",
       "    .dataframe thead th {\n",
       "        text-align: right;\n",
       "    }\n",
       "</style>\n",
       "<table border=\"1\" class=\"dataframe\">\n",
       "  <thead>\n",
       "    <tr style=\"text-align: right;\">\n",
       "      <th></th>\n",
       "    </tr>\n",
       "  </thead>\n",
       "  <tbody>\n",
       "  </tbody>\n",
       "</table>\n",
       "</div>"
      ],
      "text/plain": [
       "Empty DataFrame\n",
       "Columns: []\n",
       "Index: []"
      ]
     },
     "execution_count": 43,
     "metadata": {},
     "output_type": "execute_result"
    }
   ],
   "source": [
    "%%bigquery\n",
    "UPDATE datamart.demographics\n",
    "SET subcategory2='Asian'\n",
    "WHERE label IN ('Asian Indian', 'Chinese', 'Filipino', 'Japanese', 'Korean', 'Vietnamese', 'Other Asian')\n",
    "OR (label='Asian' AND estimate=17924209)"
   ]
  },
  {
   "cell_type": "code",
   "execution_count": 44,
   "id": "third-teacher",
   "metadata": {},
   "outputs": [
    {
     "data": {
      "text/html": [
       "<div>\n",
       "<style scoped>\n",
       "    .dataframe tbody tr th:only-of-type {\n",
       "        vertical-align: middle;\n",
       "    }\n",
       "\n",
       "    .dataframe tbody tr th {\n",
       "        vertical-align: top;\n",
       "    }\n",
       "\n",
       "    .dataframe thead th {\n",
       "        text-align: right;\n",
       "    }\n",
       "</style>\n",
       "<table border=\"1\" class=\"dataframe\">\n",
       "  <thead>\n",
       "    <tr style=\"text-align: right;\">\n",
       "      <th></th>\n",
       "    </tr>\n",
       "  </thead>\n",
       "  <tbody>\n",
       "  </tbody>\n",
       "</table>\n",
       "</div>"
      ],
      "text/plain": [
       "Empty DataFrame\n",
       "Columns: []\n",
       "Index: []"
      ]
     },
     "execution_count": 44,
     "metadata": {},
     "output_type": "execute_result"
    }
   ],
   "source": [
    "%%bigquery\n",
    "UPDATE datamart.demographics\n",
    "SET subcategory2='Native Hawaiian and Other Pacific Islander'\n",
    "WHERE label IN ('Native Hawaiian', 'Guamanian or Chamorro', 'Samoan', 'Other Pacific Islander')\n",
    "OR (label='Native Hawaiian and Other Pacific Islander' AND estimate=599868)"
   ]
  },
  {
   "cell_type": "code",
   "execution_count": 45,
   "id": "regular-pizza",
   "metadata": {},
   "outputs": [
    {
     "data": {
      "text/html": [
       "<div>\n",
       "<style scoped>\n",
       "    .dataframe tbody tr th:only-of-type {\n",
       "        vertical-align: middle;\n",
       "    }\n",
       "\n",
       "    .dataframe tbody tr th {\n",
       "        vertical-align: top;\n",
       "    }\n",
       "\n",
       "    .dataframe thead th {\n",
       "        text-align: right;\n",
       "    }\n",
       "</style>\n",
       "<table border=\"1\" class=\"dataframe\">\n",
       "  <thead>\n",
       "    <tr style=\"text-align: right;\">\n",
       "      <th></th>\n",
       "    </tr>\n",
       "  </thead>\n",
       "  <tbody>\n",
       "  </tbody>\n",
       "</table>\n",
       "</div>"
      ],
      "text/plain": [
       "Empty DataFrame\n",
       "Columns: []\n",
       "Index: []"
      ]
     },
     "execution_count": 45,
     "metadata": {},
     "output_type": "execute_result"
    }
   ],
   "source": [
    "%%bigquery\n",
    "UPDATE datamart.demographics\n",
    "SET subcategory1='two or more races'\n",
    "WHERE label IN ('White and Black or African American', 'White and American Indian and Alaska Native', 'White and Asian', 'Black or African American and American Indian and Alaska Native')\n",
    "OR (label='Two or more races' AND estimate=10763902)"
   ]
  },
  {
   "cell_type": "code",
   "execution_count": 46,
   "id": "positive-serve",
   "metadata": {},
   "outputs": [
    {
     "data": {
      "text/html": [
       "<div>\n",
       "<style scoped>\n",
       "    .dataframe tbody tr th:only-of-type {\n",
       "        vertical-align: middle;\n",
       "    }\n",
       "\n",
       "    .dataframe tbody tr th {\n",
       "        vertical-align: top;\n",
       "    }\n",
       "\n",
       "    .dataframe thead th {\n",
       "        text-align: right;\n",
       "    }\n",
       "</style>\n",
       "<table border=\"1\" class=\"dataframe\">\n",
       "  <thead>\n",
       "    <tr style=\"text-align: right;\">\n",
       "      <th></th>\n",
       "    </tr>\n",
       "  </thead>\n",
       "  <tbody>\n",
       "  </tbody>\n",
       "</table>\n",
       "</div>"
      ],
      "text/plain": [
       "Empty DataFrame\n",
       "Columns: []\n",
       "Index: []"
      ]
     },
     "execution_count": 46,
     "metadata": {},
     "output_type": "execute_result"
    }
   ],
   "source": [
    "%%bigquery\n",
    "UPDATE datamart.demographics\n",
    "SET subcategory1='Race alone or in combination with one or more other races'\n",
    "WHERE (label='White' AND estimate=244597669)\n",
    "OR (label='Black or African American' AND estimate=45612523)\n",
    "OR (label='American Indian and Alaska Native' AND estimate=5643919)\n",
    "OR (label='Asian' AND estimate=21408058)\n",
    "OR (label='Native Hawaiian and Other Pacific Islander' AND estimate=1399393)\n",
    "OR (label='Some other race' AND estimate=17859236)"
   ]
  },
  {
   "cell_type": "code",
   "execution_count": 47,
   "id": "commercial-medicare",
   "metadata": {},
   "outputs": [
    {
     "data": {
      "text/html": [
       "<div>\n",
       "<style scoped>\n",
       "    .dataframe tbody tr th:only-of-type {\n",
       "        vertical-align: middle;\n",
       "    }\n",
       "\n",
       "    .dataframe tbody tr th {\n",
       "        vertical-align: top;\n",
       "    }\n",
       "\n",
       "    .dataframe thead th {\n",
       "        text-align: right;\n",
       "    }\n",
       "</style>\n",
       "<table border=\"1\" class=\"dataframe\">\n",
       "  <thead>\n",
       "    <tr style=\"text-align: right;\">\n",
       "      <th></th>\n",
       "    </tr>\n",
       "  </thead>\n",
       "  <tbody>\n",
       "  </tbody>\n",
       "</table>\n",
       "</div>"
      ],
      "text/plain": [
       "Empty DataFrame\n",
       "Columns: []\n",
       "Index: []"
      ]
     },
     "execution_count": 47,
     "metadata": {},
     "output_type": "execute_result"
    }
   ],
   "source": [
    "%%bigquery\n",
    "UPDATE datamart.demographics\n",
    "SET subcategory1='Hispanic or Latino'\n",
    "WHERE label IN ('Hispanic or Latino (of any race)', 'Mexican', 'Puerto Rican', 'Cuban', 'Other Hispanic or Latino')"
   ]
  },
  {
   "cell_type": "code",
   "execution_count": 48,
   "id": "wrong-movie",
   "metadata": {},
   "outputs": [
    {
     "data": {
      "text/html": [
       "<div>\n",
       "<style scoped>\n",
       "    .dataframe tbody tr th:only-of-type {\n",
       "        vertical-align: middle;\n",
       "    }\n",
       "\n",
       "    .dataframe tbody tr th {\n",
       "        vertical-align: top;\n",
       "    }\n",
       "\n",
       "    .dataframe thead th {\n",
       "        text-align: right;\n",
       "    }\n",
       "</style>\n",
       "<table border=\"1\" class=\"dataframe\">\n",
       "  <thead>\n",
       "    <tr style=\"text-align: right;\">\n",
       "      <th></th>\n",
       "    </tr>\n",
       "  </thead>\n",
       "  <tbody>\n",
       "  </tbody>\n",
       "</table>\n",
       "</div>"
      ],
      "text/plain": [
       "Empty DataFrame\n",
       "Columns: []\n",
       "Index: []"
      ]
     },
     "execution_count": 48,
     "metadata": {},
     "output_type": "execute_result"
    }
   ],
   "source": [
    "%%bigquery\n",
    "UPDATE datamart.demographics\n",
    "SET subcategory1='Not Hispanic or Latino'\n",
    "WHERE label IN ('Not Hispanic or Latino', 'White alone', 'Black or African American alone', 'American Indian and Alaska Native alone', 'Asian alone', 'Native Hawaiian and Other Pacific Islander alone', 'Some other race alone','Two races including Some other race', 'Two races excluding Some other race, and Three or more races')\n",
    "OR (label='Two or more races' AND estimate=7941608 AND error_margin=66801 AND percent=2.4)"
   ]
  },
  {
   "cell_type": "code",
   "execution_count": 49,
   "id": "small-romantic",
   "metadata": {},
   "outputs": [
    {
     "data": {
      "text/html": [
       "<div>\n",
       "<style scoped>\n",
       "    .dataframe tbody tr th:only-of-type {\n",
       "        vertical-align: middle;\n",
       "    }\n",
       "\n",
       "    .dataframe tbody tr th {\n",
       "        vertical-align: top;\n",
       "    }\n",
       "\n",
       "    .dataframe thead th {\n",
       "        text-align: right;\n",
       "    }\n",
       "</style>\n",
       "<table border=\"1\" class=\"dataframe\">\n",
       "  <thead>\n",
       "    <tr style=\"text-align: right;\">\n",
       "      <th></th>\n",
       "    </tr>\n",
       "  </thead>\n",
       "  <tbody>\n",
       "  </tbody>\n",
       "</table>\n",
       "</div>"
      ],
      "text/plain": [
       "Empty DataFrame\n",
       "Columns: []\n",
       "Index: []"
      ]
     },
     "execution_count": 49,
     "metadata": {},
     "output_type": "execute_result"
    }
   ],
   "source": [
    "%%bigquery\n",
    "UPDATE datamart.demographics\n",
    "SET subcategory2='Two or more races'\n",
    "WHERE label IN ('Two races including Some other race', 'Two races excluding Some other race, and Three or more races')\n",
    "OR (label='Two or more races' AND estimate=7941608 AND error_margin=66801 AND percent=2.4)"
   ]
  },
  {
   "cell_type": "code",
   "execution_count": 50,
   "id": "numerous-baltimore",
   "metadata": {},
   "outputs": [
    {
     "data": {
      "text/html": [
       "<div>\n",
       "<style scoped>\n",
       "    .dataframe tbody tr th:only-of-type {\n",
       "        vertical-align: middle;\n",
       "    }\n",
       "\n",
       "    .dataframe tbody tr th {\n",
       "        vertical-align: top;\n",
       "    }\n",
       "\n",
       "    .dataframe thead th {\n",
       "        text-align: right;\n",
       "    }\n",
       "</style>\n",
       "<table border=\"1\" class=\"dataframe\">\n",
       "  <thead>\n",
       "    <tr style=\"text-align: right;\">\n",
       "      <th></th>\n",
       "    </tr>\n",
       "  </thead>\n",
       "  <tbody>\n",
       "  </tbody>\n",
       "</table>\n",
       "</div>"
      ],
      "text/plain": [
       "Empty DataFrame\n",
       "Columns: []\n",
       "Index: []"
      ]
     },
     "execution_count": 50,
     "metadata": {},
     "output_type": "execute_result"
    }
   ],
   "source": [
    "%%bigquery\n",
    "UPDATE datamart.demographics\n",
    "SET subcategory1='Citizen, 18 and over population'\n",
    "WHERE (label='Citizen, 18 and over population')\n",
    "OR (label='Male' AND estimate=112003359)\n",
    "OR (label='Female' AND estimate=118956432)"
   ]
  },
  {
   "cell_type": "code",
   "execution_count": 51,
   "id": "crucial-order",
   "metadata": {},
   "outputs": [
    {
     "data": {
      "text/html": [
       "<div>\n",
       "<style scoped>\n",
       "    .dataframe tbody tr th:only-of-type {\n",
       "        vertical-align: middle;\n",
       "    }\n",
       "\n",
       "    .dataframe tbody tr th {\n",
       "        vertical-align: top;\n",
       "    }\n",
       "\n",
       "    .dataframe thead th {\n",
       "        text-align: right;\n",
       "    }\n",
       "</style>\n",
       "<table border=\"1\" class=\"dataframe\">\n",
       "  <thead>\n",
       "    <tr style=\"text-align: right;\">\n",
       "      <th></th>\n",
       "    </tr>\n",
       "  </thead>\n",
       "  <tbody>\n",
       "  </tbody>\n",
       "</table>\n",
       "</div>"
      ],
      "text/plain": [
       "Empty DataFrame\n",
       "Columns: []\n",
       "Index: []"
      ]
     },
     "execution_count": 51,
     "metadata": {},
     "output_type": "execute_result"
    }
   ],
   "source": [
    "%%bigquery\n",
    "UPDATE datamart.demographics\n",
    "SET subcategory2='sex'\n",
    "WHERE (label='Male' AND estimate=112003359)\n",
    "OR (label='Female' AND estimate=118956432)"
   ]
  },
  {
   "cell_type": "code",
   "execution_count": 52,
   "id": "german-richmond",
   "metadata": {},
   "outputs": [
    {
     "data": {
      "text/html": [
       "<div>\n",
       "<style scoped>\n",
       "    .dataframe tbody tr th:only-of-type {\n",
       "        vertical-align: middle;\n",
       "    }\n",
       "\n",
       "    .dataframe tbody tr th {\n",
       "        vertical-align: top;\n",
       "    }\n",
       "\n",
       "    .dataframe thead th {\n",
       "        text-align: right;\n",
       "    }\n",
       "</style>\n",
       "<table border=\"1\" class=\"dataframe\">\n",
       "  <thead>\n",
       "    <tr style=\"text-align: right;\">\n",
       "      <th></th>\n",
       "    </tr>\n",
       "  </thead>\n",
       "  <tbody>\n",
       "  </tbody>\n",
       "</table>\n",
       "</div>"
      ],
      "text/plain": [
       "Empty DataFrame\n",
       "Columns: []\n",
       "Index: []"
      ]
     },
     "execution_count": 52,
     "metadata": {},
     "output_type": "execute_result"
    }
   ],
   "source": [
    "%%bigquery\n",
    "UPDATE datamart.demographics\n",
    "SET category='race'\n",
    "WHERE subcategory1 IN ('one race', 'two or more races', 'Race alone or in combination with one or more other races', 'Hispanic or Latino', 'Not Hispanic or Latino')"
   ]
  },
  {
   "cell_type": "markdown",
   "id": "refined-arnold",
   "metadata": {},
   "source": [
    "#### make fields null in percent column if they're not percentages"
   ]
  },
  {
   "cell_type": "code",
   "execution_count": 53,
   "id": "painted-weekly",
   "metadata": {},
   "outputs": [
    {
     "data": {
      "text/html": [
       "<div>\n",
       "<style scoped>\n",
       "    .dataframe tbody tr th:only-of-type {\n",
       "        vertical-align: middle;\n",
       "    }\n",
       "\n",
       "    .dataframe tbody tr th {\n",
       "        vertical-align: top;\n",
       "    }\n",
       "\n",
       "    .dataframe thead th {\n",
       "        text-align: right;\n",
       "    }\n",
       "</style>\n",
       "<table border=\"1\" class=\"dataframe\">\n",
       "  <thead>\n",
       "    <tr style=\"text-align: right;\">\n",
       "      <th></th>\n",
       "    </tr>\n",
       "  </thead>\n",
       "  <tbody>\n",
       "  </tbody>\n",
       "</table>\n",
       "</div>"
      ],
      "text/plain": [
       "Empty DataFrame\n",
       "Columns: []\n",
       "Index: []"
      ]
     },
     "execution_count": 53,
     "metadata": {},
     "output_type": "execute_result"
    }
   ],
   "source": [
    "%%bigquery\n",
    "UPDATE datamart.demographics\n",
    "SET percent=null\n",
    "WHERE estimate=percent"
   ]
  },
  {
   "cell_type": "markdown",
   "id": "timely-leave",
   "metadata": {},
   "source": [
    "#### remove duplicate records"
   ]
  },
  {
   "cell_type": "code",
   "execution_count": 54,
   "id": "charming-venture",
   "metadata": {},
   "outputs": [
    {
     "data": {
      "text/html": [
       "<div>\n",
       "<style scoped>\n",
       "    .dataframe tbody tr th:only-of-type {\n",
       "        vertical-align: middle;\n",
       "    }\n",
       "\n",
       "    .dataframe tbody tr th {\n",
       "        vertical-align: top;\n",
       "    }\n",
       "\n",
       "    .dataframe thead th {\n",
       "        text-align: right;\n",
       "    }\n",
       "</style>\n",
       "<table border=\"1\" class=\"dataframe\">\n",
       "  <thead>\n",
       "    <tr style=\"text-align: right;\">\n",
       "      <th></th>\n",
       "    </tr>\n",
       "  </thead>\n",
       "  <tbody>\n",
       "  </tbody>\n",
       "</table>\n",
       "</div>"
      ],
      "text/plain": [
       "Empty DataFrame\n",
       "Columns: []\n",
       "Index: []"
      ]
     },
     "execution_count": 54,
     "metadata": {},
     "output_type": "execute_result"
    }
   ],
   "source": [
    "%%bigquery\n",
    "CREATE OR REPLACE TABLE datamart.demographics AS\n",
    "SELECT DISTINCT *\n",
    "FROM datamart.demographics"
   ]
  },
  {
   "cell_type": "code",
   "execution_count": 55,
   "id": "departmental-thesaurus",
   "metadata": {},
   "outputs": [
    {
     "data": {
      "text/html": [
       "<div>\n",
       "<style scoped>\n",
       "    .dataframe tbody tr th:only-of-type {\n",
       "        vertical-align: middle;\n",
       "    }\n",
       "\n",
       "    .dataframe tbody tr th {\n",
       "        vertical-align: top;\n",
       "    }\n",
       "\n",
       "    .dataframe thead th {\n",
       "        text-align: right;\n",
       "    }\n",
       "</style>\n",
       "<table border=\"1\" class=\"dataframe\">\n",
       "  <thead>\n",
       "    <tr style=\"text-align: right;\">\n",
       "      <th></th>\n",
       "    </tr>\n",
       "  </thead>\n",
       "  <tbody>\n",
       "  </tbody>\n",
       "</table>\n",
       "</div>"
      ],
      "text/plain": [
       "Empty DataFrame\n",
       "Columns: []\n",
       "Index: []"
      ]
     },
     "execution_count": 55,
     "metadata": {},
     "output_type": "execute_result"
    }
   ],
   "source": [
    "%%bigquery\n",
    "DELETE FROM datamart.demographics\n",
    "WHERE (label='18 years and over' AND percent IS null)\n",
    "OR (label='65 years and over' AND percent IS null)"
   ]
  },
  {
   "cell_type": "markdown",
   "id": "historical-necklace",
   "metadata": {},
   "source": [
    "#### remove housing record"
   ]
  },
  {
   "cell_type": "code",
   "execution_count": 99,
   "id": "governmental-disaster",
   "metadata": {},
   "outputs": [
    {
     "data": {
      "text/html": [
       "<div>\n",
       "<style scoped>\n",
       "    .dataframe tbody tr th:only-of-type {\n",
       "        vertical-align: middle;\n",
       "    }\n",
       "\n",
       "    .dataframe tbody tr th {\n",
       "        vertical-align: top;\n",
       "    }\n",
       "\n",
       "    .dataframe thead th {\n",
       "        text-align: right;\n",
       "    }\n",
       "</style>\n",
       "<table border=\"1\" class=\"dataframe\">\n",
       "  <thead>\n",
       "    <tr style=\"text-align: right;\">\n",
       "      <th></th>\n",
       "    </tr>\n",
       "  </thead>\n",
       "  <tbody>\n",
       "  </tbody>\n",
       "</table>\n",
       "</div>"
      ],
      "text/plain": [
       "Empty DataFrame\n",
       "Columns: []\n",
       "Index: []"
      ]
     },
     "execution_count": 99,
     "metadata": {},
     "output_type": "execute_result"
    }
   ],
   "source": [
    "%%bigquery\n",
    "DELETE FROM datamart.demographics\n",
    "WHERE label='Total housing units'"
   ]
  },
  {
   "cell_type": "markdown",
   "id": "veterinary-dictionary",
   "metadata": {},
   "source": [
    "#### PK check: if same number then no duplicates"
   ]
  },
  {
   "cell_type": "code",
   "execution_count": 100,
   "id": "seeing-slovakia",
   "metadata": {},
   "outputs": [
    {
     "data": {
      "text/html": [
       "<div>\n",
       "<style scoped>\n",
       "    .dataframe tbody tr th:only-of-type {\n",
       "        vertical-align: middle;\n",
       "    }\n",
       "\n",
       "    .dataframe tbody tr th {\n",
       "        vertical-align: top;\n",
       "    }\n",
       "\n",
       "    .dataframe thead th {\n",
       "        text-align: right;\n",
       "    }\n",
       "</style>\n",
       "<table border=\"1\" class=\"dataframe\">\n",
       "  <thead>\n",
       "    <tr style=\"text-align: right;\">\n",
       "      <th></th>\n",
       "      <th>distinct_PK</th>\n",
       "      <th>demographics_count</th>\n",
       "    </tr>\n",
       "  </thead>\n",
       "  <tbody>\n",
       "    <tr>\n",
       "      <th>0</th>\n",
       "      <td>81</td>\n",
       "      <td>81</td>\n",
       "    </tr>\n",
       "  </tbody>\n",
       "</table>\n",
       "</div>"
      ],
      "text/plain": [
       "   distinct_PK  demographics_count\n",
       "0           81                  81"
      ]
     },
     "execution_count": 100,
     "metadata": {},
     "output_type": "execute_result"
    }
   ],
   "source": [
    "%%bigquery\n",
    "SELECT count(*) AS distinct_PK, (SELECT count(*) FROM datamart.demographics) AS demographics_count\n",
    "FROM (\n",
    "    SELECT DISTINCT category, subcategory1, subcategory2, label\n",
    "    FROM datamart.demographics\n",
    ")"
   ]
  },
  {
   "cell_type": "markdown",
   "id": "impaired-symposium",
   "metadata": {},
   "source": [
    "### FK check"
   ]
  },
  {
   "cell_type": "code",
   "execution_count": 101,
   "id": "hollow-anxiety",
   "metadata": {},
   "outputs": [
    {
     "data": {
      "text/html": [
       "<div>\n",
       "<style scoped>\n",
       "    .dataframe tbody tr th:only-of-type {\n",
       "        vertical-align: middle;\n",
       "    }\n",
       "\n",
       "    .dataframe tbody tr th {\n",
       "        vertical-align: top;\n",
       "    }\n",
       "\n",
       "    .dataframe thead th {\n",
       "        text-align: right;\n",
       "    }\n",
       "</style>\n",
       "<table border=\"1\" class=\"dataframe\">\n",
       "  <thead>\n",
       "    <tr style=\"text-align: right;\">\n",
       "      <th></th>\n",
       "      <th>foreign_key_violations</th>\n",
       "    </tr>\n",
       "  </thead>\n",
       "  <tbody>\n",
       "    <tr>\n",
       "      <th>0</th>\n",
       "      <td>0</td>\n",
       "    </tr>\n",
       "  </tbody>\n",
       "</table>\n",
       "</div>"
      ],
      "text/plain": [
       "   foreign_key_violations\n",
       "0                       0"
      ]
     },
     "execution_count": 101,
     "metadata": {},
     "output_type": "execute_result"
    }
   ],
   "source": [
    "%%bigquery\n",
    "SELECT count(*) AS foreign_key_violations\n",
    "FROM datamart.demographics AS d \n",
    "LEFT JOIN datamart.locations AS l ON d.country=l.country\n",
    "WHERE l.id IS null"
   ]
  },
  {
   "cell_type": "markdown",
   "id": "limiting-phase",
   "metadata": {},
   "source": [
    "### Transforms for table housing"
   ]
  },
  {
   "cell_type": "markdown",
   "id": "tutorial-volume",
   "metadata": {},
   "source": [
    "#### create housing_temp"
   ]
  },
  {
   "cell_type": "code",
   "execution_count": 24,
   "id": "catholic-confirmation",
   "metadata": {},
   "outputs": [
    {
     "data": {
      "text/html": [
       "<div>\n",
       "<style scoped>\n",
       "    .dataframe tbody tr th:only-of-type {\n",
       "        vertical-align: middle;\n",
       "    }\n",
       "\n",
       "    .dataframe tbody tr th {\n",
       "        vertical-align: top;\n",
       "    }\n",
       "\n",
       "    .dataframe thead th {\n",
       "        text-align: right;\n",
       "    }\n",
       "</style>\n",
       "<table border=\"1\" class=\"dataframe\">\n",
       "  <thead>\n",
       "    <tr style=\"text-align: right;\">\n",
       "      <th></th>\n",
       "    </tr>\n",
       "  </thead>\n",
       "  <tbody>\n",
       "  </tbody>\n",
       "</table>\n",
       "</div>"
      ],
      "text/plain": [
       "Empty DataFrame\n",
       "Columns: []\n",
       "Index: []"
      ]
     },
     "execution_count": 24,
     "metadata": {},
     "output_type": "execute_result"
    }
   ],
   "source": [
    "%%bigquery\n",
    "CREATE OR REPLACE TABLE datamart.housing_temp AS\n",
    "SELECT 'US' AS country, null AS category, null AS subcategory, TRIM(_Label_) AS label, CAST(United_States__Estimate AS NUMERIC) AS estimate, REGEXP_REPLACE(United_States__Margin_of_Error, '[^0-9.]', '') AS error_margin, REGEXP_REPLACE(United_States__Percent, '[^0-9.]', '') AS percent, REGEXP_REPLACE(United_States__Percent_Margin_of_Error, '[^0-9.]', '') AS error_margin_percent\n",
    "FROM us_census_bureau_staging.acs_housing"
   ]
  },
  {
   "cell_type": "markdown",
   "id": "bronze-boulder",
   "metadata": {},
   "source": [
    "#### update blank strings to nulls"
   ]
  },
  {
   "cell_type": "code",
   "execution_count": 25,
   "id": "periodic-cowboy",
   "metadata": {},
   "outputs": [
    {
     "data": {
      "text/html": [
       "<div>\n",
       "<style scoped>\n",
       "    .dataframe tbody tr th:only-of-type {\n",
       "        vertical-align: middle;\n",
       "    }\n",
       "\n",
       "    .dataframe tbody tr th {\n",
       "        vertical-align: top;\n",
       "    }\n",
       "\n",
       "    .dataframe thead th {\n",
       "        text-align: right;\n",
       "    }\n",
       "</style>\n",
       "<table border=\"1\" class=\"dataframe\">\n",
       "  <thead>\n",
       "    <tr style=\"text-align: right;\">\n",
       "      <th></th>\n",
       "    </tr>\n",
       "  </thead>\n",
       "  <tbody>\n",
       "  </tbody>\n",
       "</table>\n",
       "</div>"
      ],
      "text/plain": [
       "Empty DataFrame\n",
       "Columns: []\n",
       "Index: []"
      ]
     },
     "execution_count": 25,
     "metadata": {},
     "output_type": "execute_result"
    }
   ],
   "source": [
    "%%bigquery\n",
    "UPDATE datamart.housing_temp\n",
    "SET error_margin=null\n",
    "WHERE error_margin=''"
   ]
  },
  {
   "cell_type": "code",
   "execution_count": 26,
   "id": "shared-norman",
   "metadata": {},
   "outputs": [
    {
     "data": {
      "text/html": [
       "<div>\n",
       "<style scoped>\n",
       "    .dataframe tbody tr th:only-of-type {\n",
       "        vertical-align: middle;\n",
       "    }\n",
       "\n",
       "    .dataframe tbody tr th {\n",
       "        vertical-align: top;\n",
       "    }\n",
       "\n",
       "    .dataframe thead th {\n",
       "        text-align: right;\n",
       "    }\n",
       "</style>\n",
       "<table border=\"1\" class=\"dataframe\">\n",
       "  <thead>\n",
       "    <tr style=\"text-align: right;\">\n",
       "      <th></th>\n",
       "    </tr>\n",
       "  </thead>\n",
       "  <tbody>\n",
       "  </tbody>\n",
       "</table>\n",
       "</div>"
      ],
      "text/plain": [
       "Empty DataFrame\n",
       "Columns: []\n",
       "Index: []"
      ]
     },
     "execution_count": 26,
     "metadata": {},
     "output_type": "execute_result"
    }
   ],
   "source": [
    "%%bigquery\n",
    "UPDATE datamart.housing_temp\n",
    "SET error_margin_percent=null\n",
    "WHERE error_margin_percent=''"
   ]
  },
  {
   "cell_type": "code",
   "execution_count": 27,
   "id": "varying-wages",
   "metadata": {},
   "outputs": [
    {
     "data": {
      "text/html": [
       "<div>\n",
       "<style scoped>\n",
       "    .dataframe tbody tr th:only-of-type {\n",
       "        vertical-align: middle;\n",
       "    }\n",
       "\n",
       "    .dataframe tbody tr th {\n",
       "        vertical-align: top;\n",
       "    }\n",
       "\n",
       "    .dataframe thead th {\n",
       "        text-align: right;\n",
       "    }\n",
       "</style>\n",
       "<table border=\"1\" class=\"dataframe\">\n",
       "  <thead>\n",
       "    <tr style=\"text-align: right;\">\n",
       "      <th></th>\n",
       "    </tr>\n",
       "  </thead>\n",
       "  <tbody>\n",
       "  </tbody>\n",
       "</table>\n",
       "</div>"
      ],
      "text/plain": [
       "Empty DataFrame\n",
       "Columns: []\n",
       "Index: []"
      ]
     },
     "execution_count": 27,
     "metadata": {},
     "output_type": "execute_result"
    }
   ],
   "source": [
    "%%bigquery\n",
    "UPDATE datamart.housing_temp\n",
    "SET percent=null\n",
    "WHERE percent=''"
   ]
  },
  {
   "cell_type": "markdown",
   "id": "popular-curve",
   "metadata": {},
   "source": [
    "#### create table housing"
   ]
  },
  {
   "cell_type": "code",
   "execution_count": 26,
   "id": "cooperative-handling",
   "metadata": {},
   "outputs": [
    {
     "data": {
      "text/html": [
       "<div>\n",
       "<style scoped>\n",
       "    .dataframe tbody tr th:only-of-type {\n",
       "        vertical-align: middle;\n",
       "    }\n",
       "\n",
       "    .dataframe tbody tr th {\n",
       "        vertical-align: top;\n",
       "    }\n",
       "\n",
       "    .dataframe thead th {\n",
       "        text-align: right;\n",
       "    }\n",
       "</style>\n",
       "<table border=\"1\" class=\"dataframe\">\n",
       "  <thead>\n",
       "    <tr style=\"text-align: right;\">\n",
       "      <th></th>\n",
       "    </tr>\n",
       "  </thead>\n",
       "  <tbody>\n",
       "  </tbody>\n",
       "</table>\n",
       "</div>"
      ],
      "text/plain": [
       "Empty DataFrame\n",
       "Columns: []\n",
       "Index: []"
      ]
     },
     "execution_count": 26,
     "metadata": {},
     "output_type": "execute_result"
    }
   ],
   "source": [
    "%%bigquery\n",
    "CREATE OR REPLACE TABLE datamart.housing AS\n",
    "SELECT country, CAST(category AS STRING) AS category, CAST(subcategory AS STRING) AS subcategory, label, estimate, CAST(error_margin AS NUMERIC) AS error_margin, CAST(percent AS NUMERIC) AS percent, CAST(error_margin_percent AS NUMERIC) AS error_margin_percent\n",
    "FROM datamart.housing_temp"
   ]
  },
  {
   "cell_type": "markdown",
   "id": "different-fireplace",
   "metadata": {},
   "source": [
    "#### remove non-data rows"
   ]
  },
  {
   "cell_type": "code",
   "execution_count": 53,
   "id": "pleasant-australian",
   "metadata": {},
   "outputs": [
    {
     "data": {
      "text/html": [
       "<div>\n",
       "<style scoped>\n",
       "    .dataframe tbody tr th:only-of-type {\n",
       "        vertical-align: middle;\n",
       "    }\n",
       "\n",
       "    .dataframe tbody tr th {\n",
       "        vertical-align: top;\n",
       "    }\n",
       "\n",
       "    .dataframe thead th {\n",
       "        text-align: right;\n",
       "    }\n",
       "</style>\n",
       "<table border=\"1\" class=\"dataframe\">\n",
       "  <thead>\n",
       "    <tr style=\"text-align: right;\">\n",
       "      <th></th>\n",
       "    </tr>\n",
       "  </thead>\n",
       "  <tbody>\n",
       "  </tbody>\n",
       "</table>\n",
       "</div>"
      ],
      "text/plain": [
       "Empty DataFrame\n",
       "Columns: []\n",
       "Index: []"
      ]
     },
     "execution_count": 53,
     "metadata": {},
     "output_type": "execute_result"
    }
   ],
   "source": [
    "%%bigquery\n",
    "DELETE FROM datamart.housing\n",
    "WHERE estimate IS null AND error_margin IS null AND percent IS null AND error_margin IS null"
   ]
  },
  {
   "cell_type": "markdown",
   "id": "certified-investigation",
   "metadata": {},
   "source": [
    "#### update records with corresponding category and subcategory"
   ]
  },
  {
   "cell_type": "code",
   "execution_count": 6,
   "id": "palestinian-smart",
   "metadata": {},
   "outputs": [
    {
     "data": {
      "text/html": [
       "<div>\n",
       "<style scoped>\n",
       "    .dataframe tbody tr th:only-of-type {\n",
       "        vertical-align: middle;\n",
       "    }\n",
       "\n",
       "    .dataframe tbody tr th {\n",
       "        vertical-align: top;\n",
       "    }\n",
       "\n",
       "    .dataframe thead th {\n",
       "        text-align: right;\n",
       "    }\n",
       "</style>\n",
       "<table border=\"1\" class=\"dataframe\">\n",
       "  <thead>\n",
       "    <tr style=\"text-align: right;\">\n",
       "      <th></th>\n",
       "    </tr>\n",
       "  </thead>\n",
       "  <tbody>\n",
       "  </tbody>\n",
       "</table>\n",
       "</div>"
      ],
      "text/plain": [
       "Empty DataFrame\n",
       "Columns: []\n",
       "Index: []"
      ]
     },
     "execution_count": 6,
     "metadata": {},
     "output_type": "execute_result"
    }
   ],
   "source": [
    "%%bigquery\n",
    "UPDATE datamart.housing\n",
    "SET category='housing units'\n",
    "WHERE label IN ( 'Total housing units', 'Occupied housing units', 'Vacant housing units', 'Homeowner vacancy rate', 'Rental vacancy rate','1-unit, detached', '1-unit, attached','2 units', '3 or 4 units', '5 to 9 units', '10 to 19 units', '20 or more units', 'Mobile home', 'Boat, RV, van, etc.', 'Built 2014 or later', 'Built 2010 to 2013', 'Built 2000 to 2009', 'Built 1990 to 1999', 'Built 1980 to 1989', 'Built 1970 to 1979', 'Built 1960 to 1969', 'Built 1950 to 1959', 'Built 1940 to 1949', 'Built 1939 or earlier', '1 room', '2 rooms', '3 rooms', '4 rooms', '5 rooms', '6 rooms', '7 rooms', '8 rooms', '9 rooms or more', 'Median rooms', 'No bedroom', '1 bedroom', '2 bedrooms', '3 bedrooms', '4 bedrooms', '5 or more bedrooms')"
   ]
  },
  {
   "cell_type": "code",
   "execution_count": 15,
   "id": "false-cedar",
   "metadata": {},
   "outputs": [
    {
     "data": {
      "text/html": [
       "<div>\n",
       "<style scoped>\n",
       "    .dataframe tbody tr th:only-of-type {\n",
       "        vertical-align: middle;\n",
       "    }\n",
       "\n",
       "    .dataframe tbody tr th {\n",
       "        vertical-align: top;\n",
       "    }\n",
       "\n",
       "    .dataframe thead th {\n",
       "        text-align: right;\n",
       "    }\n",
       "</style>\n",
       "<table border=\"1\" class=\"dataframe\">\n",
       "  <thead>\n",
       "    <tr style=\"text-align: right;\">\n",
       "      <th></th>\n",
       "    </tr>\n",
       "  </thead>\n",
       "  <tbody>\n",
       "  </tbody>\n",
       "</table>\n",
       "</div>"
      ],
      "text/plain": [
       "Empty DataFrame\n",
       "Columns: []\n",
       "Index: []"
      ]
     },
     "execution_count": 15,
     "metadata": {},
     "output_type": "execute_result"
    }
   ],
   "source": [
    "%%bigquery\n",
    "UPDATE datamart.housing\n",
    "SET subcategory='housing occupancy'\n",
    "WHERE label IN ('Occupied housing units', 'Vacant housing units', 'Homeowner vacancy rate', 'Rental vacancy rate')"
   ]
  },
  {
   "cell_type": "code",
   "execution_count": 7,
   "id": "right-webster",
   "metadata": {},
   "outputs": [
    {
     "data": {
      "text/html": [
       "<div>\n",
       "<style scoped>\n",
       "    .dataframe tbody tr th:only-of-type {\n",
       "        vertical-align: middle;\n",
       "    }\n",
       "\n",
       "    .dataframe tbody tr th {\n",
       "        vertical-align: top;\n",
       "    }\n",
       "\n",
       "    .dataframe thead th {\n",
       "        text-align: right;\n",
       "    }\n",
       "</style>\n",
       "<table border=\"1\" class=\"dataframe\">\n",
       "  <thead>\n",
       "    <tr style=\"text-align: right;\">\n",
       "      <th></th>\n",
       "    </tr>\n",
       "  </thead>\n",
       "  <tbody>\n",
       "  </tbody>\n",
       "</table>\n",
       "</div>"
      ],
      "text/plain": [
       "Empty DataFrame\n",
       "Columns: []\n",
       "Index: []"
      ]
     },
     "execution_count": 7,
     "metadata": {},
     "output_type": "execute_result"
    }
   ],
   "source": [
    "%%bigquery\n",
    "UPDATE datamart.housing\n",
    "SET subcategory='units in structure'\n",
    "WHERE label IN ('1-unit, detached', '1-unit, attached','2 units', '3 or 4 units', '5 to 9 units', '10 to 19 units', '20 or more units', 'Mobile home', 'Boat, RV, van, etc.')"
   ]
  },
  {
   "cell_type": "code",
   "execution_count": 8,
   "id": "smart-knight",
   "metadata": {},
   "outputs": [
    {
     "data": {
      "text/html": [
       "<div>\n",
       "<style scoped>\n",
       "    .dataframe tbody tr th:only-of-type {\n",
       "        vertical-align: middle;\n",
       "    }\n",
       "\n",
       "    .dataframe tbody tr th {\n",
       "        vertical-align: top;\n",
       "    }\n",
       "\n",
       "    .dataframe thead th {\n",
       "        text-align: right;\n",
       "    }\n",
       "</style>\n",
       "<table border=\"1\" class=\"dataframe\">\n",
       "  <thead>\n",
       "    <tr style=\"text-align: right;\">\n",
       "      <th></th>\n",
       "    </tr>\n",
       "  </thead>\n",
       "  <tbody>\n",
       "  </tbody>\n",
       "</table>\n",
       "</div>"
      ],
      "text/plain": [
       "Empty DataFrame\n",
       "Columns: []\n",
       "Index: []"
      ]
     },
     "execution_count": 8,
     "metadata": {},
     "output_type": "execute_result"
    }
   ],
   "source": [
    "%%bigquery\n",
    "UPDATE datamart.housing\n",
    "SET subcategory='housing tenure'\n",
    "WHERE label IN ('Owner-occupied', 'Renter-occupied', 'Average household size of owner-occupied unit', 'Average household size of renter-occupied unit')"
   ]
  },
  {
   "cell_type": "code",
   "execution_count": 29,
   "id": "atomic-standard",
   "metadata": {},
   "outputs": [
    {
     "data": {
      "text/html": [
       "<div>\n",
       "<style scoped>\n",
       "    .dataframe tbody tr th:only-of-type {\n",
       "        vertical-align: middle;\n",
       "    }\n",
       "\n",
       "    .dataframe tbody tr th {\n",
       "        vertical-align: top;\n",
       "    }\n",
       "\n",
       "    .dataframe thead th {\n",
       "        text-align: right;\n",
       "    }\n",
       "</style>\n",
       "<table border=\"1\" class=\"dataframe\">\n",
       "  <thead>\n",
       "    <tr style=\"text-align: right;\">\n",
       "      <th></th>\n",
       "    </tr>\n",
       "  </thead>\n",
       "  <tbody>\n",
       "  </tbody>\n",
       "</table>\n",
       "</div>"
      ],
      "text/plain": [
       "Empty DataFrame\n",
       "Columns: []\n",
       "Index: []"
      ]
     },
     "execution_count": 29,
     "metadata": {},
     "output_type": "execute_result"
    }
   ],
   "source": [
    "%%bigquery\n",
    "UPDATE datamart.housing\n",
    "SET subcategory='built year'\n",
    "WHERE label IN ('Built 2014 or later', 'Built 2010 to 2013', 'Built 2000 to 2009', 'Built 1990 to 1999', 'Built 1980 to 1989', 'Built 1970 to 1979', 'Built 1960 to 1969', 'Built 1950 to 1959', 'Built 1940 to 1949', 'Built 1939 or earlier')"
   ]
  },
  {
   "cell_type": "code",
   "execution_count": 30,
   "id": "greater-moment",
   "metadata": {},
   "outputs": [
    {
     "data": {
      "text/html": [
       "<div>\n",
       "<style scoped>\n",
       "    .dataframe tbody tr th:only-of-type {\n",
       "        vertical-align: middle;\n",
       "    }\n",
       "\n",
       "    .dataframe tbody tr th {\n",
       "        vertical-align: top;\n",
       "    }\n",
       "\n",
       "    .dataframe thead th {\n",
       "        text-align: right;\n",
       "    }\n",
       "</style>\n",
       "<table border=\"1\" class=\"dataframe\">\n",
       "  <thead>\n",
       "    <tr style=\"text-align: right;\">\n",
       "      <th></th>\n",
       "    </tr>\n",
       "  </thead>\n",
       "  <tbody>\n",
       "  </tbody>\n",
       "</table>\n",
       "</div>"
      ],
      "text/plain": [
       "Empty DataFrame\n",
       "Columns: []\n",
       "Index: []"
      ]
     },
     "execution_count": 30,
     "metadata": {},
     "output_type": "execute_result"
    }
   ],
   "source": [
    "%%bigquery\n",
    "UPDATE datamart.housing\n",
    "SET subcategory='rooms'\n",
    "WHERE label IN ('1 room', '2 rooms', '3 rooms', '4 rooms', '5 rooms', '6 rooms', '7 rooms', '8 rooms', '9 rooms or more', 'Median rooms')"
   ]
  },
  {
   "cell_type": "code",
   "execution_count": 31,
   "id": "impossible-making",
   "metadata": {},
   "outputs": [
    {
     "data": {
      "text/html": [
       "<div>\n",
       "<style scoped>\n",
       "    .dataframe tbody tr th:only-of-type {\n",
       "        vertical-align: middle;\n",
       "    }\n",
       "\n",
       "    .dataframe tbody tr th {\n",
       "        vertical-align: top;\n",
       "    }\n",
       "\n",
       "    .dataframe thead th {\n",
       "        text-align: right;\n",
       "    }\n",
       "</style>\n",
       "<table border=\"1\" class=\"dataframe\">\n",
       "  <thead>\n",
       "    <tr style=\"text-align: right;\">\n",
       "      <th></th>\n",
       "    </tr>\n",
       "  </thead>\n",
       "  <tbody>\n",
       "  </tbody>\n",
       "</table>\n",
       "</div>"
      ],
      "text/plain": [
       "Empty DataFrame\n",
       "Columns: []\n",
       "Index: []"
      ]
     },
     "execution_count": 31,
     "metadata": {},
     "output_type": "execute_result"
    }
   ],
   "source": [
    "%%bigquery\n",
    "UPDATE datamart.housing\n",
    "SET subcategory='bedrooms'\n",
    "WHERE label IN ('No bedroom', '1 bedroom', '2 bedrooms', '3 bedrooms', '4 bedrooms', '5 or more bedrooms')"
   ]
  },
  {
   "cell_type": "code",
   "execution_count": 32,
   "id": "macro-championship",
   "metadata": {},
   "outputs": [
    {
     "data": {
      "text/html": [
       "<div>\n",
       "<style scoped>\n",
       "    .dataframe tbody tr th:only-of-type {\n",
       "        vertical-align: middle;\n",
       "    }\n",
       "\n",
       "    .dataframe tbody tr th {\n",
       "        vertical-align: top;\n",
       "    }\n",
       "\n",
       "    .dataframe thead th {\n",
       "        text-align: right;\n",
       "    }\n",
       "</style>\n",
       "<table border=\"1\" class=\"dataframe\">\n",
       "  <thead>\n",
       "    <tr style=\"text-align: right;\">\n",
       "      <th></th>\n",
       "    </tr>\n",
       "  </thead>\n",
       "  <tbody>\n",
       "  </tbody>\n",
       "</table>\n",
       "</div>"
      ],
      "text/plain": [
       "Empty DataFrame\n",
       "Columns: []\n",
       "Index: []"
      ]
     },
     "execution_count": 32,
     "metadata": {},
     "output_type": "execute_result"
    }
   ],
   "source": [
    "%%bigquery\n",
    "UPDATE datamart.housing\n",
    "SET category='occupied housing units'\n",
    "WHERE label IN ('Owner-occupied', 'Renter-occupied', 'Average household size of owner-occupied unit', 'Average household size of renter-occupied unit', 'Moved in 2017 or later', 'Moved in 2015 to 2016', 'Moved in 2010 to 2014', 'Moved in 2000 to 2009', 'Moved in 1990 to 1999', 'Moved in 1989 and earlier', 'No vehicles available', '1 vehicle available', '2 vehicles available', '3 or more vehicles available', 'Utility gas', 'Bottled, tank, or LP gas', 'Electricity', 'Fuel oil, kerosene, etc.', 'Coal or coke', 'Wood', 'Solar energy', 'Other fuel', 'No fuel used', 'Lacking complete plumbing facilities', 'Lacking complete kitchen facilities', 'No telephone service available', '1.00 or less', '1.01 to 1.50', '1.51 or more')"
   ]
  },
  {
   "cell_type": "code",
   "execution_count": 33,
   "id": "elect-shade",
   "metadata": {},
   "outputs": [
    {
     "data": {
      "text/html": [
       "<div>\n",
       "<style scoped>\n",
       "    .dataframe tbody tr th:only-of-type {\n",
       "        vertical-align: middle;\n",
       "    }\n",
       "\n",
       "    .dataframe tbody tr th {\n",
       "        vertical-align: top;\n",
       "    }\n",
       "\n",
       "    .dataframe thead th {\n",
       "        text-align: right;\n",
       "    }\n",
       "</style>\n",
       "<table border=\"1\" class=\"dataframe\">\n",
       "  <thead>\n",
       "    <tr style=\"text-align: right;\">\n",
       "      <th></th>\n",
       "    </tr>\n",
       "  </thead>\n",
       "  <tbody>\n",
       "  </tbody>\n",
       "</table>\n",
       "</div>"
      ],
      "text/plain": [
       "Empty DataFrame\n",
       "Columns: []\n",
       "Index: []"
      ]
     },
     "execution_count": 33,
     "metadata": {},
     "output_type": "execute_result"
    }
   ],
   "source": [
    "%%bigquery\n",
    "UPDATE datamart.housing\n",
    "SET subcategory='moved in year'\n",
    "WHERE label IN ('Moved in 2017 or later', 'Moved in 2015 to 2016', 'Moved in 2010 to 2014', 'Moved in 2000 to 2009', 'Moved in 1990 to 1999', 'Moved in 1989 and earlier')"
   ]
  },
  {
   "cell_type": "code",
   "execution_count": 34,
   "id": "copyrighted-hacker",
   "metadata": {},
   "outputs": [
    {
     "data": {
      "text/html": [
       "<div>\n",
       "<style scoped>\n",
       "    .dataframe tbody tr th:only-of-type {\n",
       "        vertical-align: middle;\n",
       "    }\n",
       "\n",
       "    .dataframe tbody tr th {\n",
       "        vertical-align: top;\n",
       "    }\n",
       "\n",
       "    .dataframe thead th {\n",
       "        text-align: right;\n",
       "    }\n",
       "</style>\n",
       "<table border=\"1\" class=\"dataframe\">\n",
       "  <thead>\n",
       "    <tr style=\"text-align: right;\">\n",
       "      <th></th>\n",
       "    </tr>\n",
       "  </thead>\n",
       "  <tbody>\n",
       "  </tbody>\n",
       "</table>\n",
       "</div>"
      ],
      "text/plain": [
       "Empty DataFrame\n",
       "Columns: []\n",
       "Index: []"
      ]
     },
     "execution_count": 34,
     "metadata": {},
     "output_type": "execute_result"
    }
   ],
   "source": [
    "%%bigquery\n",
    "UPDATE datamart.housing\n",
    "SET subcategory='vehicles'\n",
    "WHERE label IN ('No vehicles available', '1 vehicle available', '2 vehicles available', '3 or more vehicles available')"
   ]
  },
  {
   "cell_type": "code",
   "execution_count": 35,
   "id": "hazardous-affair",
   "metadata": {},
   "outputs": [
    {
     "data": {
      "text/html": [
       "<div>\n",
       "<style scoped>\n",
       "    .dataframe tbody tr th:only-of-type {\n",
       "        vertical-align: middle;\n",
       "    }\n",
       "\n",
       "    .dataframe tbody tr th {\n",
       "        vertical-align: top;\n",
       "    }\n",
       "\n",
       "    .dataframe thead th {\n",
       "        text-align: right;\n",
       "    }\n",
       "</style>\n",
       "<table border=\"1\" class=\"dataframe\">\n",
       "  <thead>\n",
       "    <tr style=\"text-align: right;\">\n",
       "      <th></th>\n",
       "    </tr>\n",
       "  </thead>\n",
       "  <tbody>\n",
       "  </tbody>\n",
       "</table>\n",
       "</div>"
      ],
      "text/plain": [
       "Empty DataFrame\n",
       "Columns: []\n",
       "Index: []"
      ]
     },
     "execution_count": 35,
     "metadata": {},
     "output_type": "execute_result"
    }
   ],
   "source": [
    "%%bigquery\n",
    "UPDATE datamart.housing\n",
    "SET subcategory='house heating fuel'\n",
    "WHERE label IN ('Utility gas', 'Bottled, tank, or LP gas', 'Electricity', 'Fuel oil, kerosene, etc.', 'Coal or coke', 'Wood', 'Solar energy', 'Other fuel', 'No fuel used')"
   ]
  },
  {
   "cell_type": "code",
   "execution_count": 36,
   "id": "blocked-requirement",
   "metadata": {},
   "outputs": [
    {
     "data": {
      "text/html": [
       "<div>\n",
       "<style scoped>\n",
       "    .dataframe tbody tr th:only-of-type {\n",
       "        vertical-align: middle;\n",
       "    }\n",
       "\n",
       "    .dataframe tbody tr th {\n",
       "        vertical-align: top;\n",
       "    }\n",
       "\n",
       "    .dataframe thead th {\n",
       "        text-align: right;\n",
       "    }\n",
       "</style>\n",
       "<table border=\"1\" class=\"dataframe\">\n",
       "  <thead>\n",
       "    <tr style=\"text-align: right;\">\n",
       "      <th></th>\n",
       "    </tr>\n",
       "  </thead>\n",
       "  <tbody>\n",
       "  </tbody>\n",
       "</table>\n",
       "</div>"
      ],
      "text/plain": [
       "Empty DataFrame\n",
       "Columns: []\n",
       "Index: []"
      ]
     },
     "execution_count": 36,
     "metadata": {},
     "output_type": "execute_result"
    }
   ],
   "source": [
    "%%bigquery\n",
    "UPDATE datamart.housing\n",
    "SET subcategory='selected characteristics'\n",
    "WHERE label IN ('Lacking complete plumbing facilities', 'Lacking complete kitchen facilities', 'No telephone service available')"
   ]
  },
  {
   "cell_type": "code",
   "execution_count": 37,
   "id": "clear-institution",
   "metadata": {},
   "outputs": [
    {
     "data": {
      "text/html": [
       "<div>\n",
       "<style scoped>\n",
       "    .dataframe tbody tr th:only-of-type {\n",
       "        vertical-align: middle;\n",
       "    }\n",
       "\n",
       "    .dataframe tbody tr th {\n",
       "        vertical-align: top;\n",
       "    }\n",
       "\n",
       "    .dataframe thead th {\n",
       "        text-align: right;\n",
       "    }\n",
       "</style>\n",
       "<table border=\"1\" class=\"dataframe\">\n",
       "  <thead>\n",
       "    <tr style=\"text-align: right;\">\n",
       "      <th></th>\n",
       "    </tr>\n",
       "  </thead>\n",
       "  <tbody>\n",
       "  </tbody>\n",
       "</table>\n",
       "</div>"
      ],
      "text/plain": [
       "Empty DataFrame\n",
       "Columns: []\n",
       "Index: []"
      ]
     },
     "execution_count": 37,
     "metadata": {},
     "output_type": "execute_result"
    }
   ],
   "source": [
    "%%bigquery\n",
    "UPDATE datamart.housing\n",
    "SET subcategory='occupants per room'\n",
    "WHERE label IN ('1.00 or less', '1.01 to 1.50', '1.51 or more')"
   ]
  },
  {
   "cell_type": "code",
   "execution_count": 9,
   "id": "miniature-sculpture",
   "metadata": {},
   "outputs": [
    {
     "data": {
      "text/html": [
       "<div>\n",
       "<style scoped>\n",
       "    .dataframe tbody tr th:only-of-type {\n",
       "        vertical-align: middle;\n",
       "    }\n",
       "\n",
       "    .dataframe tbody tr th {\n",
       "        vertical-align: top;\n",
       "    }\n",
       "\n",
       "    .dataframe thead th {\n",
       "        text-align: right;\n",
       "    }\n",
       "</style>\n",
       "<table border=\"1\" class=\"dataframe\">\n",
       "  <thead>\n",
       "    <tr style=\"text-align: right;\">\n",
       "      <th></th>\n",
       "    </tr>\n",
       "  </thead>\n",
       "  <tbody>\n",
       "  </tbody>\n",
       "</table>\n",
       "</div>"
      ],
      "text/plain": [
       "Empty DataFrame\n",
       "Columns: []\n",
       "Index: []"
      ]
     },
     "execution_count": 9,
     "metadata": {},
     "output_type": "execute_result"
    }
   ],
   "source": [
    "%%bigquery\n",
    "UPDATE datamart.housing\n",
    "SET category='owner-occupied units' \n",
    "WHERE label IN ('Owner-occupied units', 'Less than $50,000', '$50,000 to $99,999', '$100,000 to $149,999', '$150,000 to $199,999', '$200,000 to $299,999', '$300,000 to $499,999', '$500,000 to $999,999', '$1,000,000 or more', 'Housing units with a mortgage', 'Housing units without a mortgage')\n",
    "OR (label='Median (dollars)' AND estimate=217500 AND error_margin=180)"
   ]
  },
  {
   "cell_type": "code",
   "execution_count": 39,
   "id": "saved-coffee",
   "metadata": {},
   "outputs": [
    {
     "data": {
      "text/html": [
       "<div>\n",
       "<style scoped>\n",
       "    .dataframe tbody tr th:only-of-type {\n",
       "        vertical-align: middle;\n",
       "    }\n",
       "\n",
       "    .dataframe tbody tr th {\n",
       "        vertical-align: top;\n",
       "    }\n",
       "\n",
       "    .dataframe thead th {\n",
       "        text-align: right;\n",
       "    }\n",
       "</style>\n",
       "<table border=\"1\" class=\"dataframe\">\n",
       "  <thead>\n",
       "    <tr style=\"text-align: right;\">\n",
       "      <th></th>\n",
       "    </tr>\n",
       "  </thead>\n",
       "  <tbody>\n",
       "  </tbody>\n",
       "</table>\n",
       "</div>"
      ],
      "text/plain": [
       "Empty DataFrame\n",
       "Columns: []\n",
       "Index: []"
      ]
     },
     "execution_count": 39,
     "metadata": {},
     "output_type": "execute_result"
    }
   ],
   "source": [
    "%%bigquery\n",
    "UPDATE datamart.housing\n",
    "SET subcategory='value'\n",
    "WHERE label IN ('Less than $50,000', '$50,000 to $99,999', '$100,000 to $149,999', '$150,000 to $199,999', '$200,000 to $299,999', '$300,000 to $499,999', '$500,000 to $999,999', '$1,000,000 or more')\n",
    "OR (label='Median (dollars)' AND estimate=217500 AND error_margin=180)"
   ]
  },
  {
   "cell_type": "code",
   "execution_count": 40,
   "id": "assured-command",
   "metadata": {},
   "outputs": [
    {
     "data": {
      "text/html": [
       "<div>\n",
       "<style scoped>\n",
       "    .dataframe tbody tr th:only-of-type {\n",
       "        vertical-align: middle;\n",
       "    }\n",
       "\n",
       "    .dataframe tbody tr th {\n",
       "        vertical-align: top;\n",
       "    }\n",
       "\n",
       "    .dataframe thead th {\n",
       "        text-align: right;\n",
       "    }\n",
       "</style>\n",
       "<table border=\"1\" class=\"dataframe\">\n",
       "  <thead>\n",
       "    <tr style=\"text-align: right;\">\n",
       "      <th></th>\n",
       "    </tr>\n",
       "  </thead>\n",
       "  <tbody>\n",
       "  </tbody>\n",
       "</table>\n",
       "</div>"
      ],
      "text/plain": [
       "Empty DataFrame\n",
       "Columns: []\n",
       "Index: []"
      ]
     },
     "execution_count": 40,
     "metadata": {},
     "output_type": "execute_result"
    }
   ],
   "source": [
    "%%bigquery\n",
    "UPDATE datamart.housing\n",
    "SET subcategory='mortgage status'\n",
    "WHERE label IN ('Housing units with a mortgage', 'Housing units without a mortgage')"
   ]
  },
  {
   "cell_type": "code",
   "execution_count": 13,
   "id": "binding-means",
   "metadata": {},
   "outputs": [
    {
     "data": {
      "text/html": [
       "<div>\n",
       "<style scoped>\n",
       "    .dataframe tbody tr th:only-of-type {\n",
       "        vertical-align: middle;\n",
       "    }\n",
       "\n",
       "    .dataframe tbody tr th {\n",
       "        vertical-align: top;\n",
       "    }\n",
       "\n",
       "    .dataframe thead th {\n",
       "        text-align: right;\n",
       "    }\n",
       "</style>\n",
       "<table border=\"1\" class=\"dataframe\">\n",
       "  <thead>\n",
       "    <tr style=\"text-align: right;\">\n",
       "      <th></th>\n",
       "    </tr>\n",
       "  </thead>\n",
       "  <tbody>\n",
       "  </tbody>\n",
       "</table>\n",
       "</div>"
      ],
      "text/plain": [
       "Empty DataFrame\n",
       "Columns: []\n",
       "Index: []"
      ]
     },
     "execution_count": 13,
     "metadata": {},
     "output_type": "execute_result"
    }
   ],
   "source": [
    "%%bigquery\n",
    "UPDATE datamart.housing\n",
    "SET category='housing units with mortgage'\n",
    "WHERE (label='Less than $500' AND estimate=569949 AND error_margin=6363 AND percent=1.2)\n",
    "OR (label='$500 to $999' AND estimate=8242060 AND error_margin=44702 AND percent=17)\n",
    "OR (label='$1,000 to $1,499' AND estimate=13248839 AND error_margin=67426 AND percent=27.4)\n",
    "OR (label='$1,500 to $1,999' AND estimate=10169830 AND error_margin=54768 AND percent=21)\n",
    "OR (label='$2,000 to $2,499' AND estimate=6274095 AND error_margin=36485 AND percent=13)\n",
    "OR (label='$2,500 to $2,999' AND estimate=3841335 AND error_margin=23746 AND percent=7.9)\n",
    "OR (label='$3,000 or more' AND estimate=6070519 AND error_margin=31722 AND percent=12.5)\n",
    "OR (label='Median (dollars)' AND estimate=1595 AND error_margin=2)\n",
    "OR (label='Less than 20.0 percent')\n",
    "OR (label='20.0 to 24.9 percent' AND estimate=7584745 AND error_margin=48798 AND percent=15.7)\n",
    "OR (label='25.0 to 29.9 percent' AND estimate=5072173 AND error_margin=29346 AND percent=10.5)\n",
    "OR (label='30.0 to 34.9 percent' AND estimate=3330974 AND error_margin=18266 AND percent=6.9)\n",
    "OR (label='35.0 percent or more' AND estimate=10069038 AND error_margin=23122 AND percent=20.9)\n",
    "OR (label='Not computed' AND estimate=233653 AND error_margin=3535)\n",
    "OR (label='Housing units with a mortgage')\n",
    "OR (label='Housing units with a mortgage (excluding units where SMOCAPI cannot be computed)')"
   ]
  },
  {
   "cell_type": "code",
   "execution_count": 42,
   "id": "criminal-contest",
   "metadata": {},
   "outputs": [
    {
     "data": {
      "text/html": [
       "<div>\n",
       "<style scoped>\n",
       "    .dataframe tbody tr th:only-of-type {\n",
       "        vertical-align: middle;\n",
       "    }\n",
       "\n",
       "    .dataframe tbody tr th {\n",
       "        vertical-align: top;\n",
       "    }\n",
       "\n",
       "    .dataframe thead th {\n",
       "        text-align: right;\n",
       "    }\n",
       "</style>\n",
       "<table border=\"1\" class=\"dataframe\">\n",
       "  <thead>\n",
       "    <tr style=\"text-align: right;\">\n",
       "      <th></th>\n",
       "    </tr>\n",
       "  </thead>\n",
       "  <tbody>\n",
       "  </tbody>\n",
       "</table>\n",
       "</div>"
      ],
      "text/plain": [
       "Empty DataFrame\n",
       "Columns: []\n",
       "Index: []"
      ]
     },
     "execution_count": 42,
     "metadata": {},
     "output_type": "execute_result"
    }
   ],
   "source": [
    "%%bigquery\n",
    "UPDATE datamart.housing\n",
    "SET subcategory='selected monthly owner costs'\n",
    "WHERE (label='Less than $500' AND estimate=569949 AND error_margin=6363 AND percent=1.2)\n",
    "OR (label='$500 to $999' AND estimate=8242060 AND error_margin=44702 AND percent=17)\n",
    "OR (label='$1,000 to $1,499' AND estimate=13248839 AND error_margin=67426 AND percent=27.4)\n",
    "OR (label='$1,500 to $1,999' AND estimate=10169830 AND error_margin=54768 AND percent=21)\n",
    "OR (label='$2,000 to $2,499' AND estimate=6274095 AND error_margin=36485 AND percent=13)\n",
    "OR (label='$2,500 to $2,999' AND estimate=3841335 AND error_margin=23746 AND percent=7.9)\n",
    "OR (label='$3,000 or more' AND estimate=6070519 AND error_margin=31722 AND percent=12.5)\n",
    "OR (label='Median (dollars)' AND estimate=1595 AND error_margin=2)"
   ]
  },
  {
   "cell_type": "code",
   "execution_count": 43,
   "id": "explicit-population",
   "metadata": {},
   "outputs": [
    {
     "data": {
      "text/html": [
       "<div>\n",
       "<style scoped>\n",
       "    .dataframe tbody tr th:only-of-type {\n",
       "        vertical-align: middle;\n",
       "    }\n",
       "\n",
       "    .dataframe tbody tr th {\n",
       "        vertical-align: top;\n",
       "    }\n",
       "\n",
       "    .dataframe thead th {\n",
       "        text-align: right;\n",
       "    }\n",
       "</style>\n",
       "<table border=\"1\" class=\"dataframe\">\n",
       "  <thead>\n",
       "    <tr style=\"text-align: right;\">\n",
       "      <th></th>\n",
       "    </tr>\n",
       "  </thead>\n",
       "  <tbody>\n",
       "  </tbody>\n",
       "</table>\n",
       "</div>"
      ],
      "text/plain": [
       "Empty DataFrame\n",
       "Columns: []\n",
       "Index: []"
      ]
     },
     "execution_count": 43,
     "metadata": {},
     "output_type": "execute_result"
    }
   ],
   "source": [
    "%%bigquery\n",
    "UPDATE datamart.housing\n",
    "SET subcategory='selected monthly owner costs as a percentage of household income'\n",
    "WHERE (label='Less than 20.0 percent')\n",
    "OR (label='20.0 to 24.9 percent' AND estimate=7584745 AND error_margin=48798 AND percent=15.7)\n",
    "OR (label='25.0 to 29.9 percent' AND estimate=5072173 AND error_margin=29346 AND percent=10.5)\n",
    "OR (label='30.0 to 34.9 percent' AND estimate=3330974 AND error_margin=18266 AND percent=6.9)\n",
    "OR (label='35.0 percent or more' AND estimate=10069038 AND error_margin=23122 AND percent=20.9)\n",
    "OR (label='Not computed' AND estimate=233653 AND error_margin=3535)"
   ]
  },
  {
   "cell_type": "code",
   "execution_count": 11,
   "id": "complicated-slave",
   "metadata": {},
   "outputs": [
    {
     "data": {
      "text/html": [
       "<div>\n",
       "<style scoped>\n",
       "    .dataframe tbody tr th:only-of-type {\n",
       "        vertical-align: middle;\n",
       "    }\n",
       "\n",
       "    .dataframe tbody tr th {\n",
       "        vertical-align: top;\n",
       "    }\n",
       "\n",
       "    .dataframe thead th {\n",
       "        text-align: right;\n",
       "    }\n",
       "</style>\n",
       "<table border=\"1\" class=\"dataframe\">\n",
       "  <thead>\n",
       "    <tr style=\"text-align: right;\">\n",
       "      <th></th>\n",
       "    </tr>\n",
       "  </thead>\n",
       "  <tbody>\n",
       "  </tbody>\n",
       "</table>\n",
       "</div>"
      ],
      "text/plain": [
       "Empty DataFrame\n",
       "Columns: []\n",
       "Index: []"
      ]
     },
     "execution_count": 11,
     "metadata": {},
     "output_type": "execute_result"
    }
   ],
   "source": [
    "%%bigquery\n",
    "UPDATE datamart.housing\n",
    "SET category='housing units without mortgage'\n",
    "WHERE label IN ('Less than $250', '$250 to $399', '$400 to $599', '$600 to $799', '$800 to $999', '$1,000 or more', 'Less than 10.0 percent', '10.0 to 14.9 percent')\n",
    "OR (label='Median (dollars)' AND estimate=500 AND error_margin=1)\n",
    "OR (label='15.0 to 19.9 percent' AND estimate=3154745 AND error_margin=16364 AND percent=11.1)\n",
    "OR (label='20.0 to 24.9 percent' AND estimate=1916515 AND error_margin=11272 AND percent=6.7)\n",
    "OR (label='25.0 to 29.9 percent' AND estimate=1235715 AND error_margin=7526 AND percent=4.3)\n",
    "OR (label='30.0 to 34.9 percent' AND estimate=836924 AND error_margin=6646 AND percent=2.9)\n",
    "OR (label='35.0 percent or more' AND estimate=3010014 AND error_margin=15340 AND percent=10.6)\n",
    "OR (label='Not computed' AND estimate=394725 AND error_margin=4268)\n",
    "OR (label='Housing units without a mortgage')\n",
    "OR (label='Housing unit without a mortgage (excluding units where SMOCAPI cannot be computed)')"
   ]
  },
  {
   "cell_type": "code",
   "execution_count": 45,
   "id": "controversial-definition",
   "metadata": {},
   "outputs": [
    {
     "data": {
      "text/html": [
       "<div>\n",
       "<style scoped>\n",
       "    .dataframe tbody tr th:only-of-type {\n",
       "        vertical-align: middle;\n",
       "    }\n",
       "\n",
       "    .dataframe tbody tr th {\n",
       "        vertical-align: top;\n",
       "    }\n",
       "\n",
       "    .dataframe thead th {\n",
       "        text-align: right;\n",
       "    }\n",
       "</style>\n",
       "<table border=\"1\" class=\"dataframe\">\n",
       "  <thead>\n",
       "    <tr style=\"text-align: right;\">\n",
       "      <th></th>\n",
       "    </tr>\n",
       "  </thead>\n",
       "  <tbody>\n",
       "  </tbody>\n",
       "</table>\n",
       "</div>"
      ],
      "text/plain": [
       "Empty DataFrame\n",
       "Columns: []\n",
       "Index: []"
      ]
     },
     "execution_count": 45,
     "metadata": {},
     "output_type": "execute_result"
    }
   ],
   "source": [
    "%%bigquery\n",
    "UPDATE datamart.housing\n",
    "SET subcategory='selected monthly owner costs'\n",
    "WHERE label IN ('Less than $250', '$250 to $399', '$400 to $599', '$600 to $799', '$800 to $999', '$1,000 or more')\n",
    "OR (label='Median (dollars)' AND estimate=500 AND error_margin=1)"
   ]
  },
  {
   "cell_type": "code",
   "execution_count": 46,
   "id": "known-rider",
   "metadata": {},
   "outputs": [
    {
     "data": {
      "text/html": [
       "<div>\n",
       "<style scoped>\n",
       "    .dataframe tbody tr th:only-of-type {\n",
       "        vertical-align: middle;\n",
       "    }\n",
       "\n",
       "    .dataframe tbody tr th {\n",
       "        vertical-align: top;\n",
       "    }\n",
       "\n",
       "    .dataframe thead th {\n",
       "        text-align: right;\n",
       "    }\n",
       "</style>\n",
       "<table border=\"1\" class=\"dataframe\">\n",
       "  <thead>\n",
       "    <tr style=\"text-align: right;\">\n",
       "      <th></th>\n",
       "    </tr>\n",
       "  </thead>\n",
       "  <tbody>\n",
       "  </tbody>\n",
       "</table>\n",
       "</div>"
      ],
      "text/plain": [
       "Empty DataFrame\n",
       "Columns: []\n",
       "Index: []"
      ]
     },
     "execution_count": 46,
     "metadata": {},
     "output_type": "execute_result"
    }
   ],
   "source": [
    "%%bigquery\n",
    "UPDATE datamart.housing\n",
    "SET subcategory='selected monthly owner costs as a percentage of household income'\n",
    "WHERE label IN ('Less than 10.0 percent', '10.0 to 14.9 percent')\n",
    "OR (label='15.0 to 19.9 percent' AND estimate=3154745 AND error_margin=16364 AND percent=11.1)\n",
    "OR (label='20.0 to 24.9 percent' AND estimate=1916515 AND error_margin=11272 AND percent=6.7)\n",
    "OR (label='25.0 to 29.9 percent' AND estimate=1235715 AND error_margin=7526 AND percent=4.3)\n",
    "OR (label='30.0 to 34.9 percent' AND estimate=836924 AND error_margin=6646 AND percent=2.9)\n",
    "OR (label='35.0 percent or more' AND estimate=3010014 AND error_margin=15340 AND percent=10.6)\n",
    "OR (label='Not computed' AND estimate=394725 AND error_margin=4268)"
   ]
  },
  {
   "cell_type": "code",
   "execution_count": 14,
   "id": "gross-mentor",
   "metadata": {},
   "outputs": [
    {
     "data": {
      "text/html": [
       "<div>\n",
       "<style scoped>\n",
       "    .dataframe tbody tr th:only-of-type {\n",
       "        vertical-align: middle;\n",
       "    }\n",
       "\n",
       "    .dataframe tbody tr th {\n",
       "        vertical-align: top;\n",
       "    }\n",
       "\n",
       "    .dataframe thead th {\n",
       "        text-align: right;\n",
       "    }\n",
       "</style>\n",
       "<table border=\"1\" class=\"dataframe\">\n",
       "  <thead>\n",
       "    <tr style=\"text-align: right;\">\n",
       "      <th></th>\n",
       "    </tr>\n",
       "  </thead>\n",
       "  <tbody>\n",
       "  </tbody>\n",
       "</table>\n",
       "</div>"
      ],
      "text/plain": [
       "Empty DataFrame\n",
       "Columns: []\n",
       "Index: []"
      ]
     },
     "execution_count": 14,
     "metadata": {},
     "output_type": "execute_result"
    }
   ],
   "source": [
    "%%bigquery\n",
    "UPDATE datamart.housing\n",
    "SET category='occupied units paying rent'\n",
    "WHERE (label='Less than $500' AND estimate=3865037 AND error_margin=13581 AND percent=9.4)\n",
    "OR (label='$500 to $999' AND estimate=14956085 AND error_margin=47591 AND percent=36.2)\n",
    "OR (label='$1,000 to $1,499' AND estimate=12403502 AND error_margin=50982 AND percent=30)\n",
    "OR (label='$1,500 to $1,999' AND estimate=5796670 AND error_margin=32779 AND percent=14)\n",
    "OR (label='$2,000 to $2,499' AND estimate=2324841 AND error_margin=14722 AND percent=5.6)\n",
    "OR (label='$2,500 to $2,999' AND estimate=987766 AND error_margin=8283 AND percent=2.4)\n",
    "OR (label='$3,000 or more' AND estimate=977971 AND error_margin=7308 AND percent=2.4)\n",
    "OR (label='Median (dollars)' AND estimate=1062 AND error_margin=1)\n",
    "OR (label='No rent paid' AND estimate=2169795 AND error_margin=10848)\n",
    "OR (label='Less than 15.0 percent')\n",
    "OR (label='15.0 to 19.9 percent' AND estimate=5195435 AND error_margin=23159 AND percent=12.9)\n",
    "OR (label='20.0 to 24.9 percent' AND estimate=5190296 AND error_margin=21539 AND percent=12.9)\n",
    "OR (label='25.0 to 29.9 percent' AND estimate=4681621 AND error_margin=19362 AND percent=11.6)\n",
    "OR (label='30.0 to 34.9 percent' AND estimate=3674673 AND error_margin=17612 AND percent=9.1)\n",
    "OR (label='35.0 percent or more' AND estimate=16328272 AND error_margin=67971 AND percent=40.5)\n",
    "OR (label='Not computed' AND estimate=3115329 AND error_margin=16031)\n",
    "OR (label='Occupied units paying rent')\n",
    "OR (label='Occupied units paying rent (excluding units where GRAPI cannot be computed)')"
   ]
  },
  {
   "cell_type": "code",
   "execution_count": 48,
   "id": "fleet-stationery",
   "metadata": {},
   "outputs": [
    {
     "data": {
      "text/html": [
       "<div>\n",
       "<style scoped>\n",
       "    .dataframe tbody tr th:only-of-type {\n",
       "        vertical-align: middle;\n",
       "    }\n",
       "\n",
       "    .dataframe tbody tr th {\n",
       "        vertical-align: top;\n",
       "    }\n",
       "\n",
       "    .dataframe thead th {\n",
       "        text-align: right;\n",
       "    }\n",
       "</style>\n",
       "<table border=\"1\" class=\"dataframe\">\n",
       "  <thead>\n",
       "    <tr style=\"text-align: right;\">\n",
       "      <th></th>\n",
       "    </tr>\n",
       "  </thead>\n",
       "  <tbody>\n",
       "  </tbody>\n",
       "</table>\n",
       "</div>"
      ],
      "text/plain": [
       "Empty DataFrame\n",
       "Columns: []\n",
       "Index: []"
      ]
     },
     "execution_count": 48,
     "metadata": {},
     "output_type": "execute_result"
    }
   ],
   "source": [
    "%%bigquery\n",
    "UPDATE datamart.housing\n",
    "SET subcategory='gross rent'\n",
    "WHERE (label='Less than $500' AND estimate=3865037 AND error_margin=13581 AND percent=9.4)\n",
    "OR (label='$500 to $999' AND estimate=14956085 AND error_margin=47591 AND percent=36.2)\n",
    "OR (label='$1,000 to $1,499' AND estimate=12403502 AND error_margin=50982 AND percent=30)\n",
    "OR (label='$1,500 to $1,999' AND estimate=5796670 AND error_margin=32779 AND percent=14)\n",
    "OR (label='$2,000 to $2,499' AND estimate=2324841 AND error_margin=14722 AND percent=5.6)\n",
    "OR (label='$2,500 to $2,999' AND estimate=987766 AND error_margin=8283 AND percent=2.4)\n",
    "OR (label='$3,000 or more' AND estimate=977971 AND error_margin=7308 AND percent=2.4)\n",
    "OR (label='Median (dollars)' AND estimate=1062 AND error_margin=1)\n",
    "OR (label='No rent paid' AND estimate=2169795 AND error_margin=10848)"
   ]
  },
  {
   "cell_type": "code",
   "execution_count": 49,
   "id": "three-bradley",
   "metadata": {},
   "outputs": [
    {
     "data": {
      "text/html": [
       "<div>\n",
       "<style scoped>\n",
       "    .dataframe tbody tr th:only-of-type {\n",
       "        vertical-align: middle;\n",
       "    }\n",
       "\n",
       "    .dataframe tbody tr th {\n",
       "        vertical-align: top;\n",
       "    }\n",
       "\n",
       "    .dataframe thead th {\n",
       "        text-align: right;\n",
       "    }\n",
       "</style>\n",
       "<table border=\"1\" class=\"dataframe\">\n",
       "  <thead>\n",
       "    <tr style=\"text-align: right;\">\n",
       "      <th></th>\n",
       "    </tr>\n",
       "  </thead>\n",
       "  <tbody>\n",
       "  </tbody>\n",
       "</table>\n",
       "</div>"
      ],
      "text/plain": [
       "Empty DataFrame\n",
       "Columns: []\n",
       "Index: []"
      ]
     },
     "execution_count": 49,
     "metadata": {},
     "output_type": "execute_result"
    }
   ],
   "source": [
    "%%bigquery\n",
    "UPDATE datamart.housing\n",
    "SET subcategory='gross rent as a percentage of household income'\n",
    "WHERE (label='Less than 15.0 percent')\n",
    "OR (label='15.0 to 19.9 percent' AND estimate=5195435 AND error_margin=23159 AND percent=12.9)\n",
    "OR (label='20.0 to 24.9 percent' AND estimate=5190296 AND error_margin=21539 AND percent=12.9)\n",
    "OR (label='25.0 to 29.9 percent' AND estimate=4681621 AND error_margin=19362 AND percent=11.6)\n",
    "OR (label='30.0 to 34.9 percent' AND estimate=3674673 AND error_margin=17612 AND percent=9.1)\n",
    "OR (label='35.0 percent or more' AND estimate=16328272 AND error_margin=67971 AND percent=40.5)\n",
    "OR (label='Not computed' AND estimate=3115329 AND error_margin=16031)"
   ]
  },
  {
   "cell_type": "markdown",
   "id": "overhead-bahamas",
   "metadata": {},
   "source": [
    "#### make fields null in percent column if they're not percentages"
   ]
  },
  {
   "cell_type": "code",
   "execution_count": 16,
   "id": "caroline-manual",
   "metadata": {},
   "outputs": [
    {
     "data": {
      "text/html": [
       "<div>\n",
       "<style scoped>\n",
       "    .dataframe tbody tr th:only-of-type {\n",
       "        vertical-align: middle;\n",
       "    }\n",
       "\n",
       "    .dataframe tbody tr th {\n",
       "        vertical-align: top;\n",
       "    }\n",
       "\n",
       "    .dataframe thead th {\n",
       "        text-align: right;\n",
       "    }\n",
       "</style>\n",
       "<table border=\"1\" class=\"dataframe\">\n",
       "  <thead>\n",
       "    <tr style=\"text-align: right;\">\n",
       "      <th></th>\n",
       "    </tr>\n",
       "  </thead>\n",
       "  <tbody>\n",
       "  </tbody>\n",
       "</table>\n",
       "</div>"
      ],
      "text/plain": [
       "Empty DataFrame\n",
       "Columns: []\n",
       "Index: []"
      ]
     },
     "execution_count": 16,
     "metadata": {},
     "output_type": "execute_result"
    }
   ],
   "source": [
    "%%bigquery\n",
    "UPDATE datamart.housing\n",
    "SET percent=null\n",
    "WHERE estimate=percent"
   ]
  },
  {
   "cell_type": "markdown",
   "id": "worthy-worship",
   "metadata": {},
   "source": [
    "#### remove duplicate records"
   ]
  },
  {
   "cell_type": "code",
   "execution_count": 51,
   "id": "beneficial-serve",
   "metadata": {},
   "outputs": [
    {
     "data": {
      "text/html": [
       "<div>\n",
       "<style scoped>\n",
       "    .dataframe tbody tr th:only-of-type {\n",
       "        vertical-align: middle;\n",
       "    }\n",
       "\n",
       "    .dataframe tbody tr th {\n",
       "        vertical-align: top;\n",
       "    }\n",
       "\n",
       "    .dataframe thead th {\n",
       "        text-align: right;\n",
       "    }\n",
       "</style>\n",
       "<table border=\"1\" class=\"dataframe\">\n",
       "  <thead>\n",
       "    <tr style=\"text-align: right;\">\n",
       "      <th></th>\n",
       "    </tr>\n",
       "  </thead>\n",
       "  <tbody>\n",
       "  </tbody>\n",
       "</table>\n",
       "</div>"
      ],
      "text/plain": [
       "Empty DataFrame\n",
       "Columns: []\n",
       "Index: []"
      ]
     },
     "execution_count": 51,
     "metadata": {},
     "output_type": "execute_result"
    }
   ],
   "source": [
    "%%bigquery\n",
    "CREATE OR REPLACE TABLE datamart.housing AS\n",
    "SELECT DISTINCT *\n",
    "FROM datamart.housing"
   ]
  },
  {
   "cell_type": "code",
   "execution_count": 105,
   "id": "buried-melissa",
   "metadata": {},
   "outputs": [
    {
     "data": {
      "text/html": [
       "<div>\n",
       "<style scoped>\n",
       "    .dataframe tbody tr th:only-of-type {\n",
       "        vertical-align: middle;\n",
       "    }\n",
       "\n",
       "    .dataframe tbody tr th {\n",
       "        vertical-align: top;\n",
       "    }\n",
       "\n",
       "    .dataframe thead th {\n",
       "        text-align: right;\n",
       "    }\n",
       "</style>\n",
       "<table border=\"1\" class=\"dataframe\">\n",
       "  <thead>\n",
       "    <tr style=\"text-align: right;\">\n",
       "      <th></th>\n",
       "    </tr>\n",
       "  </thead>\n",
       "  <tbody>\n",
       "  </tbody>\n",
       "</table>\n",
       "</div>"
      ],
      "text/plain": [
       "Empty DataFrame\n",
       "Columns: []\n",
       "Index: []"
      ]
     },
     "execution_count": 105,
     "metadata": {},
     "output_type": "execute_result"
    }
   ],
   "source": [
    "%%bigquery\n",
    "DELETE FROM datamart.housing\n",
    "WHERE (label='Occupied housing units' AND percent IS null)\n",
    "OR (label='Housing units with a mortgage' AND percent IS null)\n",
    "OR (label='Housing units without a mortgage' AND percent IS null)"
   ]
  },
  {
   "cell_type": "markdown",
   "id": "developmental-strip",
   "metadata": {},
   "source": [
    "#### PK check: if same number then no duplicates"
   ]
  },
  {
   "cell_type": "code",
   "execution_count": 106,
   "id": "developing-verification",
   "metadata": {},
   "outputs": [
    {
     "data": {
      "text/html": [
       "<div>\n",
       "<style scoped>\n",
       "    .dataframe tbody tr th:only-of-type {\n",
       "        vertical-align: middle;\n",
       "    }\n",
       "\n",
       "    .dataframe tbody tr th {\n",
       "        vertical-align: top;\n",
       "    }\n",
       "\n",
       "    .dataframe thead th {\n",
       "        text-align: right;\n",
       "    }\n",
       "</style>\n",
       "<table border=\"1\" class=\"dataframe\">\n",
       "  <thead>\n",
       "    <tr style=\"text-align: right;\">\n",
       "      <th></th>\n",
       "      <th>distinct_PK</th>\n",
       "      <th>housing_count</th>\n",
       "    </tr>\n",
       "  </thead>\n",
       "  <tbody>\n",
       "    <tr>\n",
       "      <th>0</th>\n",
       "      <td>130</td>\n",
       "      <td>130</td>\n",
       "    </tr>\n",
       "  </tbody>\n",
       "</table>\n",
       "</div>"
      ],
      "text/plain": [
       "   distinct_PK  housing_count\n",
       "0          130            130"
      ]
     },
     "execution_count": 106,
     "metadata": {},
     "output_type": "execute_result"
    }
   ],
   "source": [
    "%%bigquery\n",
    "SELECT count(*) AS distinct_PK, (SELECT count(*) FROM datamart.housing) AS housing_count\n",
    "FROM (\n",
    "    SELECT DISTINCT category, subcategory, label\n",
    "    FROM datamart.housing\n",
    ")"
   ]
  },
  {
   "cell_type": "markdown",
   "id": "violent-broadway",
   "metadata": {},
   "source": [
    "#### FK check"
   ]
  },
  {
   "cell_type": "code",
   "execution_count": 107,
   "id": "strong-certification",
   "metadata": {},
   "outputs": [
    {
     "data": {
      "text/html": [
       "<div>\n",
       "<style scoped>\n",
       "    .dataframe tbody tr th:only-of-type {\n",
       "        vertical-align: middle;\n",
       "    }\n",
       "\n",
       "    .dataframe tbody tr th {\n",
       "        vertical-align: top;\n",
       "    }\n",
       "\n",
       "    .dataframe thead th {\n",
       "        text-align: right;\n",
       "    }\n",
       "</style>\n",
       "<table border=\"1\" class=\"dataframe\">\n",
       "  <thead>\n",
       "    <tr style=\"text-align: right;\">\n",
       "      <th></th>\n",
       "      <th>foreign_key_violations</th>\n",
       "    </tr>\n",
       "  </thead>\n",
       "  <tbody>\n",
       "    <tr>\n",
       "      <th>0</th>\n",
       "      <td>0</td>\n",
       "    </tr>\n",
       "  </tbody>\n",
       "</table>\n",
       "</div>"
      ],
      "text/plain": [
       "   foreign_key_violations\n",
       "0                       0"
      ]
     },
     "execution_count": 107,
     "metadata": {},
     "output_type": "execute_result"
    }
   ],
   "source": [
    "%%bigquery\n",
    "SELECT count(*) AS foreign_key_violations\n",
    "FROM datamart.housing AS h\n",
    "LEFT JOIN datamart.locations AS l ON h.country=l.country\n",
    "WHERE l.id IS null"
   ]
  },
  {
   "cell_type": "markdown",
   "id": "returning-telephone",
   "metadata": {},
   "source": [
    "### Transforms for table economics"
   ]
  },
  {
   "cell_type": "markdown",
   "id": "universal-recommendation",
   "metadata": {},
   "source": [
    "#### Create economics temp"
   ]
  },
  {
   "cell_type": "code",
   "execution_count": 1,
   "id": "grateful-wrist",
   "metadata": {},
   "outputs": [
    {
     "data": {
      "text/html": [
       "<div>\n",
       "<style scoped>\n",
       "    .dataframe tbody tr th:only-of-type {\n",
       "        vertical-align: middle;\n",
       "    }\n",
       "\n",
       "    .dataframe tbody tr th {\n",
       "        vertical-align: top;\n",
       "    }\n",
       "\n",
       "    .dataframe thead th {\n",
       "        text-align: right;\n",
       "    }\n",
       "</style>\n",
       "<table border=\"1\" class=\"dataframe\">\n",
       "  <thead>\n",
       "    <tr style=\"text-align: right;\">\n",
       "      <th></th>\n",
       "    </tr>\n",
       "  </thead>\n",
       "  <tbody>\n",
       "  </tbody>\n",
       "</table>\n",
       "</div>"
      ],
      "text/plain": [
       "Empty DataFrame\n",
       "Columns: []\n",
       "Index: []"
      ]
     },
     "execution_count": 1,
     "metadata": {},
     "output_type": "execute_result"
    }
   ],
   "source": [
    "%%bigquery\n",
    "CREATE OR REPLACE TABLE datamart.economics_temp AS\n",
    "SELECT 'US' AS country, null AS category, null AS subcategory, TRIM (Label) AS label, CAST(United_States__Estimate AS NUMERIC) AS estimate, REGEXP_REPLACE(United_States__Margin_of_Error, '[^0-9.]', '') AS error_margin, REGEXP_REPLACE(United_States__Percent, '[^0-9.]', '') AS percent, REGEXP_REPLACE(United_States__Percent_Margin_of_Error, '[^0-9.]', '') AS error_margin_percent\n",
    "FROM us_census_bureau_staging.acs_economics"
   ]
  },
  {
   "cell_type": "markdown",
   "id": "civic-attraction",
   "metadata": {},
   "source": [
    "#### Update blank strings to nulls"
   ]
  },
  {
   "cell_type": "code",
   "execution_count": 2,
   "id": "later-parallel",
   "metadata": {},
   "outputs": [
    {
     "data": {
      "text/html": [
       "<div>\n",
       "<style scoped>\n",
       "    .dataframe tbody tr th:only-of-type {\n",
       "        vertical-align: middle;\n",
       "    }\n",
       "\n",
       "    .dataframe tbody tr th {\n",
       "        vertical-align: top;\n",
       "    }\n",
       "\n",
       "    .dataframe thead th {\n",
       "        text-align: right;\n",
       "    }\n",
       "</style>\n",
       "<table border=\"1\" class=\"dataframe\">\n",
       "  <thead>\n",
       "    <tr style=\"text-align: right;\">\n",
       "      <th></th>\n",
       "    </tr>\n",
       "  </thead>\n",
       "  <tbody>\n",
       "  </tbody>\n",
       "</table>\n",
       "</div>"
      ],
      "text/plain": [
       "Empty DataFrame\n",
       "Columns: []\n",
       "Index: []"
      ]
     },
     "execution_count": 2,
     "metadata": {},
     "output_type": "execute_result"
    }
   ],
   "source": [
    "%%bigquery\n",
    "UPDATE datamart.economics_temp\n",
    "SET error_margin=null\n",
    "WHERE error_margin=''"
   ]
  },
  {
   "cell_type": "code",
   "execution_count": 3,
   "id": "finished-measure",
   "metadata": {},
   "outputs": [
    {
     "data": {
      "text/html": [
       "<div>\n",
       "<style scoped>\n",
       "    .dataframe tbody tr th:only-of-type {\n",
       "        vertical-align: middle;\n",
       "    }\n",
       "\n",
       "    .dataframe tbody tr th {\n",
       "        vertical-align: top;\n",
       "    }\n",
       "\n",
       "    .dataframe thead th {\n",
       "        text-align: right;\n",
       "    }\n",
       "</style>\n",
       "<table border=\"1\" class=\"dataframe\">\n",
       "  <thead>\n",
       "    <tr style=\"text-align: right;\">\n",
       "      <th></th>\n",
       "    </tr>\n",
       "  </thead>\n",
       "  <tbody>\n",
       "  </tbody>\n",
       "</table>\n",
       "</div>"
      ],
      "text/plain": [
       "Empty DataFrame\n",
       "Columns: []\n",
       "Index: []"
      ]
     },
     "execution_count": 3,
     "metadata": {},
     "output_type": "execute_result"
    }
   ],
   "source": [
    "%%bigquery\n",
    "UPDATE datamart.economics_temp\n",
    "SET error_margin_percent=null\n",
    "WHERE error_margin_percent=''"
   ]
  },
  {
   "cell_type": "code",
   "execution_count": 4,
   "id": "departmental-fifth",
   "metadata": {},
   "outputs": [
    {
     "data": {
      "text/html": [
       "<div>\n",
       "<style scoped>\n",
       "    .dataframe tbody tr th:only-of-type {\n",
       "        vertical-align: middle;\n",
       "    }\n",
       "\n",
       "    .dataframe tbody tr th {\n",
       "        vertical-align: top;\n",
       "    }\n",
       "\n",
       "    .dataframe thead th {\n",
       "        text-align: right;\n",
       "    }\n",
       "</style>\n",
       "<table border=\"1\" class=\"dataframe\">\n",
       "  <thead>\n",
       "    <tr style=\"text-align: right;\">\n",
       "      <th></th>\n",
       "    </tr>\n",
       "  </thead>\n",
       "  <tbody>\n",
       "  </tbody>\n",
       "</table>\n",
       "</div>"
      ],
      "text/plain": [
       "Empty DataFrame\n",
       "Columns: []\n",
       "Index: []"
      ]
     },
     "execution_count": 4,
     "metadata": {},
     "output_type": "execute_result"
    }
   ],
   "source": [
    "%%bigquery\n",
    "UPDATE datamart.economics_temp\n",
    "SET percent=null\n",
    "WHERE percent=''"
   ]
  },
  {
   "cell_type": "markdown",
   "id": "extreme-cross",
   "metadata": {},
   "source": [
    "#### Create Table Economics"
   ]
  },
  {
   "cell_type": "code",
   "execution_count": 5,
   "id": "moving-brain",
   "metadata": {},
   "outputs": [
    {
     "data": {
      "text/html": [
       "<div>\n",
       "<style scoped>\n",
       "    .dataframe tbody tr th:only-of-type {\n",
       "        vertical-align: middle;\n",
       "    }\n",
       "\n",
       "    .dataframe tbody tr th {\n",
       "        vertical-align: top;\n",
       "    }\n",
       "\n",
       "    .dataframe thead th {\n",
       "        text-align: right;\n",
       "    }\n",
       "</style>\n",
       "<table border=\"1\" class=\"dataframe\">\n",
       "  <thead>\n",
       "    <tr style=\"text-align: right;\">\n",
       "      <th></th>\n",
       "    </tr>\n",
       "  </thead>\n",
       "  <tbody>\n",
       "  </tbody>\n",
       "</table>\n",
       "</div>"
      ],
      "text/plain": [
       "Empty DataFrame\n",
       "Columns: []\n",
       "Index: []"
      ]
     },
     "execution_count": 5,
     "metadata": {},
     "output_type": "execute_result"
    }
   ],
   "source": [
    "%%bigquery\n",
    "CREATE OR REPLACE TABLE datamart.economics AS\n",
    "SELECT country, CAST(category AS STRING) AS category, CAST(subcategory AS STRING) AS subcategory, label, estimate, CAST(error_margin AS NUMERIC) AS error_margin, CAST(percent AS NUMERIC) AS percent, CAST(error_margin_percent AS NUMERIC) AS error_margin_percent\n",
    "FROM datamart.economics_temp"
   ]
  },
  {
   "cell_type": "markdown",
   "id": "enabling-dover",
   "metadata": {},
   "source": [
    "#### Remove non-data rows"
   ]
  },
  {
   "cell_type": "code",
   "execution_count": 6,
   "id": "corporate-provision",
   "metadata": {},
   "outputs": [
    {
     "data": {
      "text/html": [
       "<div>\n",
       "<style scoped>\n",
       "    .dataframe tbody tr th:only-of-type {\n",
       "        vertical-align: middle;\n",
       "    }\n",
       "\n",
       "    .dataframe tbody tr th {\n",
       "        vertical-align: top;\n",
       "    }\n",
       "\n",
       "    .dataframe thead th {\n",
       "        text-align: right;\n",
       "    }\n",
       "</style>\n",
       "<table border=\"1\" class=\"dataframe\">\n",
       "  <thead>\n",
       "    <tr style=\"text-align: right;\">\n",
       "      <th></th>\n",
       "    </tr>\n",
       "  </thead>\n",
       "  <tbody>\n",
       "  </tbody>\n",
       "</table>\n",
       "</div>"
      ],
      "text/plain": [
       "Empty DataFrame\n",
       "Columns: []\n",
       "Index: []"
      ]
     },
     "execution_count": 6,
     "metadata": {},
     "output_type": "execute_result"
    }
   ],
   "source": [
    "%%bigquery\n",
    "DELETE FROM datamart.economics\n",
    "WHERE estimate IS null AND error_margin IS null AND percent IS null AND error_margin IS null"
   ]
  },
  {
   "cell_type": "markdown",
   "id": "controversial-healing",
   "metadata": {},
   "source": [
    "### Transforms for table social"
   ]
  },
  {
   "cell_type": "markdown",
   "id": "partial-guess",
   "metadata": {},
   "source": [
    "#### Create social temp"
   ]
  },
  {
   "cell_type": "code",
   "execution_count": 7,
   "id": "expanded-updating",
   "metadata": {},
   "outputs": [
    {
     "data": {
      "text/html": [
       "<div>\n",
       "<style scoped>\n",
       "    .dataframe tbody tr th:only-of-type {\n",
       "        vertical-align: middle;\n",
       "    }\n",
       "\n",
       "    .dataframe tbody tr th {\n",
       "        vertical-align: top;\n",
       "    }\n",
       "\n",
       "    .dataframe thead th {\n",
       "        text-align: right;\n",
       "    }\n",
       "</style>\n",
       "<table border=\"1\" class=\"dataframe\">\n",
       "  <thead>\n",
       "    <tr style=\"text-align: right;\">\n",
       "      <th></th>\n",
       "    </tr>\n",
       "  </thead>\n",
       "  <tbody>\n",
       "  </tbody>\n",
       "</table>\n",
       "</div>"
      ],
      "text/plain": [
       "Empty DataFrame\n",
       "Columns: []\n",
       "Index: []"
      ]
     },
     "execution_count": 7,
     "metadata": {},
     "output_type": "execute_result"
    }
   ],
   "source": [
    "%%bigquery\n",
    "CREATE OR REPLACE TABLE datamart.social_temp AS\n",
    "SELECT 'US' AS country, null AS category, null AS subcategory, TRIM(_Label_) AS label, CAST(United_States__Estimate AS NUMERIC) AS estimate, REGEXP_REPLACE(United_States__Margin_of_Error, '[^0-9.]', '') AS error_margin, REGEXP_REPLACE(United_States__Percent, '[^0-9.]', '') AS percent, REGEXP_REPLACE(United_States__Percent_Margin_of_Error, '[^0-9.]', '') AS error_margin_percent\n",
    "FROM us_census_bureau_staging.acs_social"
   ]
  },
  {
   "cell_type": "markdown",
   "id": "automated-shipping",
   "metadata": {},
   "source": [
    "#### Update Blank Strings to nulls"
   ]
  },
  {
   "cell_type": "code",
   "execution_count": 8,
   "id": "white-trouble",
   "metadata": {},
   "outputs": [
    {
     "data": {
      "text/html": [
       "<div>\n",
       "<style scoped>\n",
       "    .dataframe tbody tr th:only-of-type {\n",
       "        vertical-align: middle;\n",
       "    }\n",
       "\n",
       "    .dataframe tbody tr th {\n",
       "        vertical-align: top;\n",
       "    }\n",
       "\n",
       "    .dataframe thead th {\n",
       "        text-align: right;\n",
       "    }\n",
       "</style>\n",
       "<table border=\"1\" class=\"dataframe\">\n",
       "  <thead>\n",
       "    <tr style=\"text-align: right;\">\n",
       "      <th></th>\n",
       "    </tr>\n",
       "  </thead>\n",
       "  <tbody>\n",
       "  </tbody>\n",
       "</table>\n",
       "</div>"
      ],
      "text/plain": [
       "Empty DataFrame\n",
       "Columns: []\n",
       "Index: []"
      ]
     },
     "execution_count": 8,
     "metadata": {},
     "output_type": "execute_result"
    }
   ],
   "source": [
    "%%bigquery\n",
    "UPDATE datamart.social_temp\n",
    "SET error_margin=null\n",
    "WHERE error_margin=''"
   ]
  },
  {
   "cell_type": "code",
   "execution_count": 9,
   "id": "imposed-postage",
   "metadata": {},
   "outputs": [
    {
     "data": {
      "text/html": [
       "<div>\n",
       "<style scoped>\n",
       "    .dataframe tbody tr th:only-of-type {\n",
       "        vertical-align: middle;\n",
       "    }\n",
       "\n",
       "    .dataframe tbody tr th {\n",
       "        vertical-align: top;\n",
       "    }\n",
       "\n",
       "    .dataframe thead th {\n",
       "        text-align: right;\n",
       "    }\n",
       "</style>\n",
       "<table border=\"1\" class=\"dataframe\">\n",
       "  <thead>\n",
       "    <tr style=\"text-align: right;\">\n",
       "      <th></th>\n",
       "    </tr>\n",
       "  </thead>\n",
       "  <tbody>\n",
       "  </tbody>\n",
       "</table>\n",
       "</div>"
      ],
      "text/plain": [
       "Empty DataFrame\n",
       "Columns: []\n",
       "Index: []"
      ]
     },
     "execution_count": 9,
     "metadata": {},
     "output_type": "execute_result"
    }
   ],
   "source": [
    "%%bigquery\n",
    "UPDATE datamart.social_temp\n",
    "SET error_margin_percent=null\n",
    "WHERE error_margin_percent=''"
   ]
  },
  {
   "cell_type": "code",
   "execution_count": 10,
   "id": "surrounded-notification",
   "metadata": {},
   "outputs": [
    {
     "data": {
      "text/html": [
       "<div>\n",
       "<style scoped>\n",
       "    .dataframe tbody tr th:only-of-type {\n",
       "        vertical-align: middle;\n",
       "    }\n",
       "\n",
       "    .dataframe tbody tr th {\n",
       "        vertical-align: top;\n",
       "    }\n",
       "\n",
       "    .dataframe thead th {\n",
       "        text-align: right;\n",
       "    }\n",
       "</style>\n",
       "<table border=\"1\" class=\"dataframe\">\n",
       "  <thead>\n",
       "    <tr style=\"text-align: right;\">\n",
       "      <th></th>\n",
       "    </tr>\n",
       "  </thead>\n",
       "  <tbody>\n",
       "  </tbody>\n",
       "</table>\n",
       "</div>"
      ],
      "text/plain": [
       "Empty DataFrame\n",
       "Columns: []\n",
       "Index: []"
      ]
     },
     "execution_count": 10,
     "metadata": {},
     "output_type": "execute_result"
    }
   ],
   "source": [
    "%%bigquery\n",
    "UPDATE datamart.social_temp\n",
    "SET percent=null\n",
    "WHERE percent=''"
   ]
  },
  {
   "cell_type": "markdown",
   "id": "peaceful-fundamental",
   "metadata": {},
   "source": [
    "#### Create Table Social"
   ]
  },
  {
   "cell_type": "code",
   "execution_count": 11,
   "id": "sufficient-pendant",
   "metadata": {},
   "outputs": [
    {
     "data": {
      "text/html": [
       "<div>\n",
       "<style scoped>\n",
       "    .dataframe tbody tr th:only-of-type {\n",
       "        vertical-align: middle;\n",
       "    }\n",
       "\n",
       "    .dataframe tbody tr th {\n",
       "        vertical-align: top;\n",
       "    }\n",
       "\n",
       "    .dataframe thead th {\n",
       "        text-align: right;\n",
       "    }\n",
       "</style>\n",
       "<table border=\"1\" class=\"dataframe\">\n",
       "  <thead>\n",
       "    <tr style=\"text-align: right;\">\n",
       "      <th></th>\n",
       "    </tr>\n",
       "  </thead>\n",
       "  <tbody>\n",
       "  </tbody>\n",
       "</table>\n",
       "</div>"
      ],
      "text/plain": [
       "Empty DataFrame\n",
       "Columns: []\n",
       "Index: []"
      ]
     },
     "execution_count": 11,
     "metadata": {},
     "output_type": "execute_result"
    }
   ],
   "source": [
    "%%bigquery\n",
    "CREATE OR REPLACE TABLE datamart.social AS\n",
    "SELECT country, CAST(category AS STRING) AS category, CAST(subcategory AS STRING) AS subcategory, label, estimate, CAST(error_margin AS NUMERIC) AS error_margin, CAST(percent AS NUMERIC) AS percent, CAST(error_margin_percent AS NUMERIC) AS error_margin_percent \n",
    "FROM datamart.social_temp"
   ]
  },
  {
   "cell_type": "markdown",
   "id": "discrete-there",
   "metadata": {},
   "source": [
    "#### Remove non data rows"
   ]
  },
  {
   "cell_type": "code",
   "execution_count": 12,
   "id": "rural-vietnam",
   "metadata": {},
   "outputs": [
    {
     "data": {
      "text/html": [
       "<div>\n",
       "<style scoped>\n",
       "    .dataframe tbody tr th:only-of-type {\n",
       "        vertical-align: middle;\n",
       "    }\n",
       "\n",
       "    .dataframe tbody tr th {\n",
       "        vertical-align: top;\n",
       "    }\n",
       "\n",
       "    .dataframe thead th {\n",
       "        text-align: right;\n",
       "    }\n",
       "</style>\n",
       "<table border=\"1\" class=\"dataframe\">\n",
       "  <thead>\n",
       "    <tr style=\"text-align: right;\">\n",
       "      <th></th>\n",
       "    </tr>\n",
       "  </thead>\n",
       "  <tbody>\n",
       "  </tbody>\n",
       "</table>\n",
       "</div>"
      ],
      "text/plain": [
       "Empty DataFrame\n",
       "Columns: []\n",
       "Index: []"
      ]
     },
     "execution_count": 12,
     "metadata": {},
     "output_type": "execute_result"
    }
   ],
   "source": [
    "%%bigquery\n",
    "DELETE FROM datamart.social\n",
    "WHERE estimate IS null AND error_margin IS null AND percent IS null AND error_margin IS null"
   ]
  },
  {
   "cell_type": "markdown",
   "id": "burning-sapphire",
   "metadata": {},
   "source": [
    "### SQL Queries"
   ]
  },
  {
   "cell_type": "markdown",
   "id": "black-ecuador",
   "metadata": {},
   "source": [
    "#### Get the estimated population of Americans affected by COVID-19 based on the average US April 14, 2021 incident rate, and display the estimated population distributed by the percentage of household income allocated to gross rent (assuming every American household occupies a housing unit for rent)"
   ]
  },
  {
   "cell_type": "code",
   "execution_count": 13,
   "id": "coral-fortune",
   "metadata": {},
   "outputs": [
    {
     "data": {
      "text/html": [
       "<div>\n",
       "<style scoped>\n",
       "    .dataframe tbody tr th:only-of-type {\n",
       "        vertical-align: middle;\n",
       "    }\n",
       "\n",
       "    .dataframe tbody tr th {\n",
       "        vertical-align: top;\n",
       "    }\n",
       "\n",
       "    .dataframe thead th {\n",
       "        text-align: right;\n",
       "    }\n",
       "</style>\n",
       "<table border=\"1\" class=\"dataframe\">\n",
       "  <thead>\n",
       "    <tr style=\"text-align: right;\">\n",
       "      <th></th>\n",
       "      <th>Percentage_of_Household_Income_for_Gross_Rent</th>\n",
       "      <th>Estimated_COVID_Affected_Population</th>\n",
       "    </tr>\n",
       "  </thead>\n",
       "  <tbody>\n",
       "    <tr>\n",
       "      <th>0</th>\n",
       "      <td>15.0 to 19.9 percent</td>\n",
       "      <td>3.520428e+06</td>\n",
       "    </tr>\n",
       "    <tr>\n",
       "      <th>1</th>\n",
       "      <td>20.0 to 24.9 percent</td>\n",
       "      <td>3.520428e+06</td>\n",
       "    </tr>\n",
       "    <tr>\n",
       "      <th>2</th>\n",
       "      <td>25.0 to 29.9 percent</td>\n",
       "      <td>3.165657e+06</td>\n",
       "    </tr>\n",
       "    <tr>\n",
       "      <th>3</th>\n",
       "      <td>30.0 to 34.9 percent</td>\n",
       "      <td>2.483403e+06</td>\n",
       "    </tr>\n",
       "    <tr>\n",
       "      <th>4</th>\n",
       "      <td>35.0 percent or more</td>\n",
       "      <td>1.105251e+07</td>\n",
       "    </tr>\n",
       "    <tr>\n",
       "      <th>5</th>\n",
       "      <td>Less than 15.0 percent</td>\n",
       "      <td>3.575009e+06</td>\n",
       "    </tr>\n",
       "  </tbody>\n",
       "</table>\n",
       "</div>"
      ],
      "text/plain": [
       "  Percentage_of_Household_Income_for_Gross_Rent  \\\n",
       "0                          15.0 to 19.9 percent   \n",
       "1                          20.0 to 24.9 percent   \n",
       "2                          25.0 to 29.9 percent   \n",
       "3                          30.0 to 34.9 percent   \n",
       "4                          35.0 percent or more   \n",
       "5                        Less than 15.0 percent   \n",
       "\n",
       "   Estimated_COVID_Affected_Population  \n",
       "0                         3.520428e+06  \n",
       "1                         3.520428e+06  \n",
       "2                         3.165657e+06  \n",
       "3                         2.483403e+06  \n",
       "4                         1.105251e+07  \n",
       "5                         3.575009e+06  "
      ]
     },
     "execution_count": 13,
     "metadata": {},
     "output_type": "execute_result"
    }
   ],
   "source": [
    "%%bigquery\n",
    "SELECT label AS Percentage_of_Household_Income_for_Gross_Rent, (h.percent/100)*\n",
    "                                (((SELECT AVG(incident_rate)\n",
    "                                    FROM datamart.cases \n",
    "                                    WHERE last_update=(SELECT MAX(last_update) \n",
    "                                                        FROM datamart.cases AS c \n",
    "                                                        JOIN datamart.locations AS l ON c.location_id=l.id \n",
    "                                                        WHERE l.country='US' AND last_update between '2021-04-14' and '2021-04-14 23:59:59'))/100000)\n",
    "                                *\n",
    "                                (SELECT estimate FROM datamart.demographics WHERE label='Total population')) AS Estimated_COVID_Affected_Population \n",
    "FROM datamart.housing AS h\n",
    "WHERE subcategory='gross rent as a percentage of household income' AND percent IS NOT null\n",
    "ORDER BY Percentage_of_Household_Income_for_Gross_Rent"
   ]
  },
  {
   "cell_type": "markdown",
   "id": "organized-myrtle",
   "metadata": {},
   "source": [
    "#### Get the projected number of COVID-19 deaths in the US based on the US's average April 14, 2021 (our most recent data entry) case fatality ratio , and display the estimated deaths distributed by race (assuming that the projected number of deaths is accurately split by the race percentages reported in demographics [focused on the subcategories with one race/two or more races]; the same day's average incident rate is used to project the number of people affected by COVID-19)"
   ]
  },
  {
   "cell_type": "code",
   "execution_count": 8,
   "id": "upper-rover",
   "metadata": {},
   "outputs": [
    {
     "data": {
      "text/html": [
       "<div>\n",
       "<style scoped>\n",
       "    .dataframe tbody tr th:only-of-type {\n",
       "        vertical-align: middle;\n",
       "    }\n",
       "\n",
       "    .dataframe tbody tr th {\n",
       "        vertical-align: top;\n",
       "    }\n",
       "\n",
       "    .dataframe thead th {\n",
       "        text-align: right;\n",
       "    }\n",
       "</style>\n",
       "<table border=\"1\" class=\"dataframe\">\n",
       "  <thead>\n",
       "    <tr style=\"text-align: right;\">\n",
       "      <th></th>\n",
       "      <th>Race</th>\n",
       "      <th>Projected_Deaths</th>\n",
       "    </tr>\n",
       "  </thead>\n",
       "  <tbody>\n",
       "    <tr>\n",
       "      <th>0</th>\n",
       "      <td>American Indian and Alaska Native</td>\n",
       "      <td>4482.362154</td>\n",
       "    </tr>\n",
       "    <tr>\n",
       "      <th>1</th>\n",
       "      <td>Asian</td>\n",
       "      <td>30816.239806</td>\n",
       "    </tr>\n",
       "    <tr>\n",
       "      <th>2</th>\n",
       "      <td>Black or African American</td>\n",
       "      <td>71157.499189</td>\n",
       "    </tr>\n",
       "    <tr>\n",
       "      <th>3</th>\n",
       "      <td>Black or African American and American Indian ...</td>\n",
       "      <td>560.295269</td>\n",
       "    </tr>\n",
       "    <tr>\n",
       "      <th>4</th>\n",
       "      <td>Native Hawaiian and Other Pacific Islander</td>\n",
       "      <td>1120.590538</td>\n",
       "    </tr>\n",
       "    <tr>\n",
       "      <th>5</th>\n",
       "      <td>Some other race</td>\n",
       "      <td>27454.468191</td>\n",
       "    </tr>\n",
       "    <tr>\n",
       "      <th>6</th>\n",
       "      <td>White</td>\n",
       "      <td>406214.070172</td>\n",
       "    </tr>\n",
       "    <tr>\n",
       "      <th>7</th>\n",
       "      <td>White and American Indian and Alaska Native</td>\n",
       "      <td>3361.771615</td>\n",
       "    </tr>\n",
       "    <tr>\n",
       "      <th>8</th>\n",
       "      <td>White and Asian</td>\n",
       "      <td>3922.066884</td>\n",
       "    </tr>\n",
       "    <tr>\n",
       "      <th>9</th>\n",
       "      <td>White and Black or African American</td>\n",
       "      <td>5042.657423</td>\n",
       "    </tr>\n",
       "  </tbody>\n",
       "</table>\n",
       "</div>"
      ],
      "text/plain": [
       "                                                Race  Projected_Deaths\n",
       "0                  American Indian and Alaska Native       4482.362154\n",
       "1                                              Asian      30816.239806\n",
       "2                          Black or African American      71157.499189\n",
       "3  Black or African American and American Indian ...        560.295269\n",
       "4         Native Hawaiian and Other Pacific Islander       1120.590538\n",
       "5                                    Some other race      27454.468191\n",
       "6                                              White     406214.070172\n",
       "7        White and American Indian and Alaska Native       3361.771615\n",
       "8                                    White and Asian       3922.066884\n",
       "9                White and Black or African American       5042.657423"
      ]
     },
     "execution_count": 8,
     "metadata": {},
     "output_type": "execute_result"
    }
   ],
   "source": [
    "%%bigquery\n",
    "SELECT label AS Race, (d.percent/100)*(\n",
    "                                        ((SELECT AVG(case_fatality_ratio)\n",
    "                                        FROM datamart.cases\n",
    "                                        WHERE last_update=(\n",
    "                                        SELECT MAX(last_update)\n",
    "                                        FROM datamart.cases AS c \n",
    "                                        JOIN datamart.locations AS l ON c.location_id=l.id \n",
    "                                        WHERE l.country='US' AND last_update between '2021-04-14' and '2021-04-14 23:59:59'))/100)\n",
    "                                        *\n",
    "                                        (((SELECT AVG(incident_rate) \n",
    "                                        FROM datamart.cases\n",
    "                                        WHERE last_update=(\n",
    "                                        SELECT MAX(last_update)\n",
    "                                        FROM datamart.cases AS c \n",
    "                                        JOIN datamart.locations AS l ON c.location_id=l.id \n",
    "                                        WHERE l.country='US' AND last_update between '2021-04-14' and '2021-04-14 23:59:59'))/100000)*(SELECT estimate FROM datamart.demographics WHERE label='Total population'))\n",
    "                                        ) AS Projected_Deaths\n",
    "FROM datamart.demographics AS d\n",
    "WHERE (subcategory1='one race' AND label IN ('White', 'Black or African American', 'Asian', 'Native Hawaiian and Other Pacific Islander', 'American Indian and Alaska Native', 'Some other race'))\n",
    "OR (subcategory1='two or more races' AND label IN ('White and Black or African American', 'White and American Indian and Alaska Native', 'White and Asian', 'Black or African American and American Indian and Alaska Native'))\n",
    "ORDER BY Race"
   ]
  },
  {
   "cell_type": "markdown",
   "id": "million-warehouse",
   "metadata": {},
   "source": [
    "#### Get the number of Americans actively affected by COVID-19 on January 10, 2021 and display the number of Americans by race (assuming that the total number of active cases is accurately split by the race percentages reported in demographics [focused on the subcategories with Hispanic or Latino/Not Hispanic or Latino]) "
   ]
  },
  {
   "cell_type": "code",
   "execution_count": 10,
   "id": "nutritional-outdoors",
   "metadata": {},
   "outputs": [
    {
     "data": {
      "text/html": [
       "<div>\n",
       "<style scoped>\n",
       "    .dataframe tbody tr th:only-of-type {\n",
       "        vertical-align: middle;\n",
       "    }\n",
       "\n",
       "    .dataframe tbody tr th {\n",
       "        vertical-align: top;\n",
       "    }\n",
       "\n",
       "    .dataframe thead th {\n",
       "        text-align: right;\n",
       "    }\n",
       "</style>\n",
       "<table border=\"1\" class=\"dataframe\">\n",
       "  <thead>\n",
       "    <tr style=\"text-align: right;\">\n",
       "      <th></th>\n",
       "      <th>Race</th>\n",
       "      <th>Active_COVID_Cases</th>\n",
       "    </tr>\n",
       "  </thead>\n",
       "  <tbody>\n",
       "    <tr>\n",
       "      <th>0</th>\n",
       "      <td>American Indian and Alaska Native alone</td>\n",
       "      <td>152345.802000000</td>\n",
       "    </tr>\n",
       "    <tr>\n",
       "      <th>1</th>\n",
       "      <td>Asian alone</td>\n",
       "      <td>1197002.730000000</td>\n",
       "    </tr>\n",
       "    <tr>\n",
       "      <th>2</th>\n",
       "      <td>Black or African American alone</td>\n",
       "      <td>2676933.378000000</td>\n",
       "    </tr>\n",
       "    <tr>\n",
       "      <th>3</th>\n",
       "      <td>Cuban</td>\n",
       "      <td>152345.802000000</td>\n",
       "    </tr>\n",
       "    <tr>\n",
       "      <th>4</th>\n",
       "      <td>Mexican</td>\n",
       "      <td>2437532.832000000</td>\n",
       "    </tr>\n",
       "    <tr>\n",
       "      <th>5</th>\n",
       "      <td>Native Hawaiian and Other Pacific Islander alone</td>\n",
       "      <td>43527.372000000</td>\n",
       "    </tr>\n",
       "    <tr>\n",
       "      <th>6</th>\n",
       "      <td>Other Hispanic or Latino</td>\n",
       "      <td>935838.498000000</td>\n",
       "    </tr>\n",
       "    <tr>\n",
       "      <th>7</th>\n",
       "      <td>Puerto Rican</td>\n",
       "      <td>369982.662000000</td>\n",
       "    </tr>\n",
       "    <tr>\n",
       "      <th>8</th>\n",
       "      <td>Some other race alone</td>\n",
       "      <td>43527.372000000</td>\n",
       "    </tr>\n",
       "    <tr>\n",
       "      <th>9</th>\n",
       "      <td>Two or more races</td>\n",
       "      <td>522328.464000000</td>\n",
       "    </tr>\n",
       "    <tr>\n",
       "      <th>10</th>\n",
       "      <td>White alone</td>\n",
       "      <td>13210557.402000000</td>\n",
       "    </tr>\n",
       "  </tbody>\n",
       "</table>\n",
       "</div>"
      ],
      "text/plain": [
       "                                                Race  Active_COVID_Cases\n",
       "0            American Indian and Alaska Native alone    152345.802000000\n",
       "1                                        Asian alone   1197002.730000000\n",
       "2                    Black or African American alone   2676933.378000000\n",
       "3                                              Cuban    152345.802000000\n",
       "4                                            Mexican   2437532.832000000\n",
       "5   Native Hawaiian and Other Pacific Islander alone     43527.372000000\n",
       "6                           Other Hispanic or Latino    935838.498000000\n",
       "7                                       Puerto Rican    369982.662000000\n",
       "8                              Some other race alone     43527.372000000\n",
       "9                                  Two or more races    522328.464000000\n",
       "10                                       White alone  13210557.402000000"
      ]
     },
     "execution_count": 10,
     "metadata": {},
     "output_type": "execute_result"
    }
   ],
   "source": [
    "%%bigquery\n",
    "SELECT d.label AS Race, (d.percent/100)*\n",
    "                                        (SELECT SUM(active)\n",
    "                                        FROM datamart.cases AS c\n",
    "                                        JOIN datamart.locations AS l ON c.location_id=l.id\n",
    "                                        WHERE l.country='US' AND last_update between '2021-01-10' and '2021-01-10 23:59:59') AS Active_COVID_Cases\n",
    "FROM datamart.demographics AS d\n",
    "WHERE (subcategory1='Hispanic or Latino' AND label IN ('Mexican', 'Puerto Rican', 'Cuban', 'Other Hispanic or Latino'))\n",
    "OR (subcategory1='Not Hispanic or Latino' AND label IN ('White alone', 'Black or African American alone', 'American Indian and Alaska Native alone', 'Asian alone', 'Native Hawaiian and Other Pacific Islander alone', 'Some other race alone', 'Two or more races'))\n",
    "ORDER BY Race"
   ]
  },
  {
   "cell_type": "code",
   "execution_count": null,
   "id": "synthetic-action",
   "metadata": {},
   "outputs": [],
   "source": []
  },
  {
   "cell_type": "code",
   "execution_count": null,
   "id": "foreign-characterization",
   "metadata": {},
   "outputs": [],
   "source": []
  },
  {
   "cell_type": "markdown",
   "id": "million-aquarium",
   "metadata": {},
   "source": [
    "### Views"
   ]
  },
  {
   "cell_type": "markdown",
   "id": "angry-boating",
   "metadata": {},
   "source": [
    "#### Create BigQuery Dataset \"reports\""
   ]
  },
  {
   "cell_type": "code",
   "execution_count": 12,
   "id": "heated-narrow",
   "metadata": {},
   "outputs": [
    {
     "name": "stdout",
     "output_type": "stream",
     "text": [
      "Dataset 'lunar-analyzer-302702:reports' successfully created.\n"
     ]
    }
   ],
   "source": [
    "!bq --location=US mk --dataset reports"
   ]
  },
  {
   "cell_type": "code",
   "execution_count": 14,
   "id": "optional-compression",
   "metadata": {},
   "outputs": [
    {
     "data": {
      "text/html": [
       "<div>\n",
       "<style scoped>\n",
       "    .dataframe tbody tr th:only-of-type {\n",
       "        vertical-align: middle;\n",
       "    }\n",
       "\n",
       "    .dataframe tbody tr th {\n",
       "        vertical-align: top;\n",
       "    }\n",
       "\n",
       "    .dataframe thead th {\n",
       "        text-align: right;\n",
       "    }\n",
       "</style>\n",
       "<table border=\"1\" class=\"dataframe\">\n",
       "  <thead>\n",
       "    <tr style=\"text-align: right;\">\n",
       "      <th></th>\n",
       "    </tr>\n",
       "  </thead>\n",
       "  <tbody>\n",
       "  </tbody>\n",
       "</table>\n",
       "</div>"
      ],
      "text/plain": [
       "Empty DataFrame\n",
       "Columns: []\n",
       "Index: []"
      ]
     },
     "execution_count": 14,
     "metadata": {},
     "output_type": "execute_result"
    }
   ],
   "source": [
    "%%bigquery\n",
    "CREATE VIEW reports.projected_april_14_2021_deaths_by_race AS\n",
    "SELECT label AS Race, (d.percent/100)*(\n",
    "                                        ((SELECT AVG(case_fatality_ratio)\n",
    "                                        FROM datamart.cases\n",
    "                                        WHERE last_update=(\n",
    "                                        SELECT MAX(last_update)\n",
    "                                        FROM datamart.cases AS c \n",
    "                                        JOIN datamart.locations AS l ON c.location_id=l.id \n",
    "                                        WHERE l.country='US' AND last_update between '2021-04-14' and '2021-04-14 23:59:59'))/100)\n",
    "                                        *\n",
    "                                        (((SELECT AVG(incident_rate) \n",
    "                                        FROM datamart.cases\n",
    "                                        WHERE last_update=(\n",
    "                                        SELECT MAX(last_update)\n",
    "                                        FROM datamart.cases AS c \n",
    "                                        JOIN datamart.locations AS l ON c.location_id=l.id \n",
    "                                        WHERE l.country='US' AND last_update between '2021-04-14' and '2021-04-14 23:59:59'))/100000)*(SELECT estimate FROM datamart.demographics WHERE label='Total population'))\n",
    "                                        ) AS Projected_Deaths\n",
    "FROM datamart.demographics AS d\n",
    "WHERE (subcategory1='one race' AND label IN ('White', 'Black or African American', 'Asian', 'Native Hawaiian and Other Pacific Islander', 'American Indian and Alaska Native', 'Some other race'))\n",
    "OR (subcategory1='two or more races' AND label IN ('White and Black or African American', 'White and American Indian and Alaska Native', 'White and Asian', 'Black or African American and American Indian and Alaska Native'))\n",
    "ORDER BY Race"
   ]
  },
  {
   "cell_type": "code",
   "execution_count": null,
   "id": "handmade-billion",
   "metadata": {},
   "outputs": [],
   "source": []
  }
 ],
 "metadata": {
  "environment": {
   "name": "common-cpu.mnightly-2021-01-20-debian-10-test",
   "type": "gcloud",
   "uri": "gcr.io/deeplearning-platform-release/base-cpu:mnightly-2021-01-20-debian-10-test"
  },
  "kernelspec": {
   "display_name": "Python 3",
   "language": "python",
   "name": "python3"
  },
  "language_info": {
   "codemirror_mode": {
    "name": "ipython",
    "version": 3
   },
   "file_extension": ".py",
   "mimetype": "text/x-python",
   "name": "python",
   "nbconvert_exporter": "python",
   "pygments_lexer": "ipython3",
   "version": "3.7.9"
  }
 },
 "nbformat": 4,
 "nbformat_minor": 5
}
