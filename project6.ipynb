{
 "cells": [
  {
   "cell_type": "markdown",
   "id": "refined-madonna",
   "metadata": {},
   "source": [
    "### Terminal lines to download and extract the airbnb data"
   ]
  },
  {
   "cell_type": "code",
   "execution_count": null,
   "id": "average-lightweight",
   "metadata": {},
   "outputs": [],
   "source": [
    "gsutil cp gs://cs327e-open-access/airbnb.zip .\n",
    "unzip airbnb.zip"
   ]
  },
  {
   "cell_type": "markdown",
   "id": "fundamental-robinson",
   "metadata": {},
   "source": [
    "### Setting up CONNECT variable"
   ]
  },
  {
   "cell_type": "code",
   "execution_count": 1,
   "id": "simplified-volume",
   "metadata": {},
   "outputs": [
    {
     "name": "stdout",
     "output_type": "stream",
     "text": [
      "env: CYPHER=/home/jupyter/neo4j-community-4.1.3/bin/cypher-shell\n",
      "env: USER=neo4j\n",
      "env: PW=neopass\n"
     ]
    }
   ],
   "source": [
    "%env CYPHER=/home/jupyter/neo4j-community-4.1.3/bin/cypher-shell\n",
    "%env USER=neo4j\n",
    "%env PW=neopass"
   ]
  },
  {
   "cell_type": "code",
   "execution_count": 2,
   "id": "sustainable-election",
   "metadata": {},
   "outputs": [],
   "source": [
    "CONNECT=\"$CYPHER -u $USER -p $PW\""
   ]
  },
  {
   "cell_type": "code",
   "execution_count": 3,
   "id": "systematic-growth",
   "metadata": {},
   "outputs": [
    {
     "name": "stdout",
     "output_type": "stream",
     "text": [
      "+------------------------------------------------------------------------------------------------+\n",
      "| name     | address          | role         | requestedStatus | currentStatus | error | default |\n",
      "+------------------------------------------------------------------------------------------------+\n",
      "| \"neo4j\"  | \"localhost:7687\" | \"standalone\" | \"online\"        | \"online\"      | \"\"    | TRUE    |\n",
      "| \"system\" | \"localhost:7687\" | \"standalone\" | \"online\"        | \"online\"      | \"\"    | FALSE   |\n",
      "+------------------------------------------------------------------------------------------------+\n",
      "\n",
      "2 rows available after 675 ms, consumed after another 62 ms\n"
     ]
    }
   ],
   "source": [
    "!{CONNECT} \"SHOW DATABASES\""
   ]
  },
  {
   "cell_type": "markdown",
   "id": "stunning-emphasis",
   "metadata": {},
   "source": [
    "### Empty the database"
   ]
  },
  {
   "cell_type": "code",
   "execution_count": 4,
   "id": "contained-bible",
   "metadata": {},
   "outputs": [
    {
     "name": "stdout",
     "output_type": "stream",
     "text": [
      "0 rows available after 50 ms, consumed after another 0 ms\n"
     ]
    }
   ],
   "source": [
    "!{CONNECT} \"MATCH (n) DETACH DELETE n\""
   ]
  },
  {
   "cell_type": "code",
   "execution_count": 5,
   "id": "obvious-marathon",
   "metadata": {},
   "outputs": [
    {
     "name": "stdout",
     "output_type": "stream",
     "text": [
      "+---+\n",
      "| n |\n",
      "+---+\n",
      "+---+\n",
      "\n",
      "0 rows available after 29 ms, consumed after another 1 ms\n"
     ]
    }
   ],
   "source": [
    "#confirm emptiness\n",
    "!{CONNECT} \"MATCH (n) RETURN n\""
   ]
  },
  {
   "cell_type": "markdown",
   "id": "necessary-public",
   "metadata": {},
   "source": [
    "### Load airbnb data into Neo4j"
   ]
  },
  {
   "cell_type": "code",
   "execution_count": 6,
   "id": "joined-population",
   "metadata": {},
   "outputs": [
    {
     "name": "stdout",
     "output_type": "stream",
     "text": [
      "COUNT(l)\n",
      "5835\n",
      "COUNT(a)\n",
      "42\n",
      "COUNT(n)\n",
      "41\n",
      "COUNT(h)\n",
      "4633\n",
      "COUNT(u)\n",
      "55917\n",
      "COUNT(r)\n",
      "62976\n"
     ]
    }
   ],
   "source": [
    "!cat /home/jupyter/Amaryllis/airbnb/load_data.cypher | {CONNECT} --format plain"
   ]
  },
  {
   "cell_type": "markdown",
   "id": "noble-means",
   "metadata": {},
   "source": [
    "### Verify successful data load (Goal: 129,444 nodes)"
   ]
  },
  {
   "cell_type": "code",
   "execution_count": 4,
   "id": "executed-silver",
   "metadata": {},
   "outputs": [
    {
     "name": "stdout",
     "output_type": "stream",
     "text": [
      "+----------+\n",
      "| count(n) |\n",
      "+----------+\n",
      "| 129444   |\n",
      "+----------+\n",
      "\n",
      "1 row available after 144 ms, consumed after another 1 ms\n"
     ]
    }
   ],
   "source": [
    "!{CONNECT} \"MATCH (n) RETURN count(n)\""
   ]
  },
  {
   "cell_type": "markdown",
   "id": "radical-final",
   "metadata": {},
   "source": [
    "### Get Node Counts for Unique Node Labels"
   ]
  },
  {
   "cell_type": "code",
   "execution_count": 6,
   "id": "western-repeat",
   "metadata": {},
   "outputs": [
    {
     "name": "stdout",
     "output_type": "stream",
     "text": [
      "+-----------------------------+\n",
      "| labels(n)        | count(n) |\n",
      "+-----------------------------+\n",
      "| [\"Listing\"]      | 5835     |\n",
      "| [\"Amenity\"]      | 42       |\n",
      "| [\"Neighborhood\"] | 41       |\n",
      "| [\"Host\"]         | 4633     |\n",
      "| [\"User\"]         | 55917    |\n",
      "| [\"Review\"]       | 62976    |\n",
      "+-----------------------------+\n",
      "\n",
      "6 rows available after 105 ms, consumed after another 278 ms\n"
     ]
    }
   ],
   "source": [
    "!{CONNECT} \"MATCH (n) RETURN distinct labels(n), count(n)\""
   ]
  },
  {
   "cell_type": "markdown",
   "id": "south-integral",
   "metadata": {},
   "source": [
    "### Sample Data: 10 Random Nodes"
   ]
  },
  {
   "cell_type": "code",
   "execution_count": 7,
   "id": "mexican-ceiling",
   "metadata": {},
   "outputs": [
    {
     "name": "stdout",
     "output_type": "stream",
     "text": [
      "+-----------------------------------------------------------------------------------------------------------------------------------------------------------------------------------------------------------------------+\n",
      "| n                                                                                                                                                                                                                     |\n",
      "+-----------------------------------------------------------------------------------------------------------------------------------------------------------------------------------------------------------------------+\n",
      "| (:Listing {bedrooms: 1, listing_id: \"72635\", availability_365: 240, price: 300.0, accommodates: 6, name: \"3 Private Bedrooms, SW Austin\", property_type: \"House\", bathrooms: 2})                                      |\n",
      "| (:Listing {bedrooms: 1, cleaning_fee: 75.0, weekly_price: 600.0, listing_id: \"5386323\", availability_365: 364, price: 99.0, accommodates: 2, name: \"Cricket Trailer\", property_type: \"Camper/RV\", bathrooms: 0})      |\n",
      "| (:Listing {bedrooms: 1, listing_id: \"8826517\", availability_365: 365, price: 100.0, accommodates: 2, name: \"Private room 1 in South Austin\", property_type: \"House\", bathrooms: 1})                                   |\n",
      "| (:Listing {bedrooms: 1, listing_id: \"8828616\", availability_365: 365, price: 100.0, accommodates: 2, name: \"Private room 2 in South Austin\", property_type: \"House\", bathrooms: 1})                                   |\n",
      "| (:Listing {bedrooms: 3, cleaning_fee: 125.0, listing_id: \"8536913\", availability_365: 358, price: 599.0, accommodates: 6, name: \"Brand-New 3BR Austin Home\", property_type: \"House\", bathrooms: 2})                   |\n",
      "| (:Listing {bedrooms: 1, listing_id: \"8542056\", availability_365: 365, price: 100.0, accommodates: 2, name: \"Private room & Bathroom.\", property_type: \"House\", bathrooms: 1})                                         |\n",
      "| (:Listing {bedrooms: 1, cleaning_fee: 15.0, listing_id: \"6385948\", availability_365: 301, price: 54.0, accommodates: 2, name: \"S. Austin, convenient to MoPac\", property_type: \"Bed & Breakfast\", bathrooms: 1})      |\n",
      "| (:Listing {bedrooms: 1, cleaning_fee: 25.0, listing_id: \"8486890\", availability_365: 312, price: 40.0, accommodates: 2, name: \"Cozy private room 15 mins frm dtwn\", property_type: \"House\", bathrooms: 1})            |\n",
      "| (:Listing {bedrooms: 1, weekly_price: 750.0, listing_id: \"8633580\", availability_365: 355, price: 130.0, accommodates: 6, name: \"Room to rent\", property_type: \"House\", bathrooms: 1})                                |\n",
      "| (:Listing {bedrooms: 1, cleaning_fee: 10.0, weekly_price: 275.0, listing_id: \"5293632\", availability_365: 364, price: 44.0, accommodates: 2, name: \"Southwest Austin Retreat\", property_type: \"House\", bathrooms: 1}) |\n",
      "+-----------------------------------------------------------------------------------------------------------------------------------------------------------------------------------------------------------------------+\n",
      "\n",
      "10 rows available after 33 ms, consumed after another 24 ms\n"
     ]
    }
   ],
   "source": [
    "!{CONNECT} \"MATCH (n) RETURN n LIMIT 10\""
   ]
  },
  {
   "cell_type": "markdown",
   "id": "fleet-local",
   "metadata": {},
   "source": [
    "### Sample Data: 10 Random Relationships"
   ]
  },
  {
   "cell_type": "code",
   "execution_count": 8,
   "id": "elect-municipality",
   "metadata": {},
   "outputs": [
    {
     "name": "stdout",
     "output_type": "stream",
     "text": [
      "+------------+\n",
      "| r          |\n",
      "+------------+\n",
      "| [:REVIEWS] |\n",
      "| [:HOSTS]   |\n",
      "| [:HOSTS]   |\n",
      "| [:HOSTS]   |\n",
      "| [:HOSTS]   |\n",
      "| [:HOSTS]   |\n",
      "| [:HOSTS]   |\n",
      "| [:HOSTS]   |\n",
      "| [:REVIEWS] |\n",
      "| [:REVIEWS] |\n",
      "+------------+\n",
      "\n",
      "10 rows available after 107 ms, consumed after another 119 ms\n"
     ]
    }
   ],
   "source": [
    "!{CONNECT} \"MATCH ()-[r]->() RETURN r LIMIT 10\""
   ]
  },
  {
   "cell_type": "markdown",
   "id": "informed-diagnosis",
   "metadata": {},
   "source": [
    "### Q1. How many hosts are located in \"Austin, Texas, United States\"?"
   ]
  },
  {
   "cell_type": "code",
   "execution_count": null,
   "id": "micro-puzzle",
   "metadata": {},
   "outputs": [],
   "source": []
  },
  {
   "cell_type": "markdown",
   "id": "checked-community",
   "metadata": {},
   "source": [
    "### Q2. Which listings does host_id = \"4641823\" have? Return the listing name, property_type, price, and availability_365 sorted by price. Limit the results to 10."
   ]
  },
  {
   "cell_type": "code",
   "execution_count": 9,
   "id": "included-bathroom",
   "metadata": {},
   "outputs": [
    {
     "name": "stdout",
     "output_type": "stream",
     "text": [
      "+----------------------------------------------------------------------------------------+\n",
      "| l.name                                | l.property_type | l.price | l.availability_365 |\n",
      "+----------------------------------------------------------------------------------------+\n",
      "| \"1BR Convenient Austin Condo \"        | \"Apartment\"     | 93.0    | 354                |\n",
      "| \"1BR Inviting Downtown Condo, Pool\"   | \"Apartment\"     | 99.0    | 335                |\n",
      "| \"2BR/1.5BA Charming House Off SoCo\"   | \"House\"         | 110.0   | 357                |\n",
      "| \"2BR Prime East-Side Downtown\"        | \"House\"         | 121.0   | 341                |\n",
      "| \"1BR SoCo Treehouse Studio\"           | \"House\"         | 129.0   | 327                |\n",
      "| \"1BR/1.5BA East 6th, Colorful 2Story\" | \"Apartment\"     | 134.0   | 344                |\n",
      "| \"3BR Prestigious Home Travis Heights\" | \"House\"         | 138.0   | 0                  |\n",
      "| \"1BR/1.5BA Perfectly Located Casita\"  | \"House\"         | 140.0   | 351                |\n",
      "| \"3BR/2BA Inviting Retreat off SoCo\"   | \"House\"         | 145.0   | 353                |\n",
      "| \"2BR/2BA Austin Soul Off Soco!\"       | \"House\"         | 149.0   | 334                |\n",
      "+----------------------------------------------------------------------------------------+\n",
      "\n",
      "10 rows available after 123 ms, consumed after another 306 ms\n"
     ]
    }
   ],
   "source": [
    "!{CONNECT} \"MATCH (h:Host)-[r]->(l:Listing) WHERE h.host_id='4641823' RETURN l.name, l.property_type, l.price, l.availability_365 ORDER BY l.price LIMIT 10\""
   ]
  },
  {
   "cell_type": "markdown",
   "id": "seventh-shower",
   "metadata": {},
   "source": [
    "### Q3. Which users wrote a review for listing_id = \"5293632\"? Return the user’s id and name sorted alphabetically by name. Limit the results to 10."
   ]
  },
  {
   "cell_type": "code",
   "execution_count": null,
   "id": "harmful-monaco",
   "metadata": {},
   "outputs": [],
   "source": []
  },
  {
   "cell_type": "markdown",
   "id": "bulgarian-sponsorship",
   "metadata": {},
   "source": [
    "### Q4. Which users wrote a review for any listing which has the amenities \"Washer\" and \"Dryer\"? Return the user’s id and name sorted alphabetically by name. Limit the results to 10."
   ]
  },
  {
   "cell_type": "code",
   "execution_count": 18,
   "id": "premium-throw",
   "metadata": {},
   "outputs": [
    {
     "name": "stdout",
     "output_type": "stream",
     "text": [
      "+-------------------------------------+\n",
      "| u.user_id  | u.name                 |\n",
      "+-------------------------------------+\n",
      "| \"6524431\"  | \"'Ley\"                 |\n",
      "| \"8026901\"  | \"(We Are) Bonnie & Ky\" |\n",
      "| \"14689717\" | \"(email hidden)\"       |\n",
      "| \"11495251\" | \"(email hidden)\"       |\n",
      "| \"10251681\" | \"(email hidden)\"       |\n",
      "| \"8293309\"  | \"(email hidden)\"       |\n",
      "| \"15315643\" | \"(email hidden)\"       |\n",
      "| \"12694638\" | \"(email hidden)\"       |\n",
      "| \"13381969\" | \"(email hidden)\"       |\n",
      "| \"12694638\" | \"(email hidden)\"       |\n",
      "+-------------------------------------+\n",
      "\n",
      "10 rows available after 745 ms, consumed after another 3059 ms\n"
     ]
    }
   ],
   "source": [
    "!{CONNECT} \"MATCH (u:User)-[w:WROTE]-(r:Review)-[p:REVIEWS]-(l:Listing) WHERE (:Amenity{{name:'Washer'}})-[:HAS]-(l)-[:HAS]-(:Amenity{{name:'Dryer'}}) RETURN u.user_id, u.name ORDER BY u.name LIMIT 10\""
   ]
  },
  {
   "cell_type": "markdown",
   "id": "bound-tattoo",
   "metadata": {},
   "source": [
    "### Q5. Which listings have 3 bedrooms and are located in the Clarksville neighborhood? Return the listing name, property_type, price, and availability_365 sorted by price. Limit the results to 5."
   ]
  },
  {
   "cell_type": "code",
   "execution_count": null,
   "id": "institutional-beads",
   "metadata": {},
   "outputs": [],
   "source": []
  },
  {
   "cell_type": "markdown",
   "id": "saved-bradford",
   "metadata": {},
   "source": [
    "### Q6. Which amenities are the most common? Return the name of the amenity and its frequency. Sort the results by count in descending order. Limit the results to 5."
   ]
  },
  {
   "cell_type": "code",
   "execution_count": 11,
   "id": "improved-bryan",
   "metadata": {},
   "outputs": [
    {
     "name": "stdout",
     "output_type": "stream",
     "text": [
      "+----------------------------------------+\n",
      "| a.name                     | frequency |\n",
      "+----------------------------------------+\n",
      "| \"Air Conditioning\"         | 5615      |\n",
      "| \"Wireless Internet\"        | 5479      |\n",
      "| \"Heating\"                  | 5440      |\n",
      "| \"Kitchen\"                  | 5400      |\n",
      "| \"Free Parking on Premises\" | 5123      |\n",
      "+----------------------------------------+\n",
      "\n",
      "5 rows available after 54 ms, consumed after another 202 ms\n"
     ]
    }
   ],
   "source": [
    "!{CONNECT} \"MATCH (l:Listing)-[r]->(a:Amenity) RETURN a.name, count(*) as frequency ORDER BY frequency DESC LIMIT 5\""
   ]
  },
  {
   "cell_type": "markdown",
   "id": "lasting-spotlight",
   "metadata": {},
   "source": [
    "### Q7. Which neighborhoods have the highest number of listings? Return the neighborhood’s name and zip code (neighborhood_id) along with the number of listings they have sorted by the number of listings in descending order. Limit the results to 5."
   ]
  },
  {
   "cell_type": "code",
   "execution_count": null,
   "id": "suspected-indian",
   "metadata": {},
   "outputs": [],
   "source": []
  }
 ],
 "metadata": {
  "environment": {
   "name": "common-cpu.mnightly-2021-01-20-debian-10-test",
   "type": "gcloud",
   "uri": "gcr.io/deeplearning-platform-release/base-cpu:mnightly-2021-01-20-debian-10-test"
  },
  "kernelspec": {
   "display_name": "Python 3",
   "language": "python",
   "name": "python3"
  },
  "language_info": {
   "codemirror_mode": {
    "name": "ipython",
    "version": 3
   },
   "file_extension": ".py",
   "mimetype": "text/x-python",
   "name": "python",
   "nbconvert_exporter": "python",
   "pygments_lexer": "ipython3",
   "version": "3.7.9"
  }
 },
 "nbformat": 4,
 "nbformat_minor": 5
}
