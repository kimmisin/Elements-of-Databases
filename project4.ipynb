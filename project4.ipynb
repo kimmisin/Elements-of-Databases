{
 "cells": [
  {
   "cell_type": "markdown",
   "id": "liberal-impossible",
   "metadata": {},
   "source": [
    "### Using the shopify data from the Spanner session"
   ]
  },
  {
   "cell_type": "markdown",
   "id": "amateur-fifty",
   "metadata": {},
   "source": [
    "### Populate Firestore database with newly designed Shopify data"
   ]
  },
  {
   "cell_type": "code",
   "execution_count": 1,
   "id": "general-collection",
   "metadata": {},
   "outputs": [],
   "source": [
    "import uuid\n",
    "import pandas as pd\n",
    "from google.cloud import firestore\n",
    "db = firestore.Client()"
   ]
  },
  {
   "cell_type": "markdown",
   "id": "civic-factory",
   "metadata": {},
   "source": [
    "#### Apps collection with subcollections: Pricing_Plan (features added), Key_Benefits, and Reviews"
   ]
  },
  {
   "cell_type": "code",
   "execution_count": null,
   "id": "tutorial-leeds",
   "metadata": {},
   "outputs": [],
   "source": [
    "batch = db.batch()\n",
    "\n",
    "df = pd.read_csv('/home/jupyter/Amaryllis/spanner_shopify/apps.csv', sep=',', header=0, lineterminator='\\n')\n",
    "apps_rows = df.values.tolist()\n",
    "\n",
    "df = pd.read_csv('/home/jupyter/Amaryllis/spanner_shopify/pricing_plans.csv', sep=',', header=0, lineterminator='\\n')\n",
    "pricing_plans_rows = df.values.tolist()\n",
    "\n",
    "df = pd.read_csv('/home/jupyter/Amaryllis/spanner_shopify/pricing_plan_features.csv', sep=',', header=0, lineterminator='\\n')\n",
    "feature_rows = df.values.tolist()\n",
    "\n",
    "df = pd.read_csv('/home/jupyter/Amaryllis/spanner_shopify/key_benefits.csv', sep=',', header=0, lineterminator='\\n')\n",
    "benefits_rows = df.values.tolist()\n",
    "\n",
    "df = pd.read_csv('/home/jupyter/Amaryllis/spanner_shopify/reviews.csv', sep=',', header=0, lineterminator='\\n')\n",
    "reviews_rows = df.values.tolist()\n",
    "\n",
    "count = 0\n",
    "\n",
    "for app_row in apps_rows:\n",
    "    app_record = {}\n",
    "    app_record['id'] = app_row[0]\n",
    "    app_record['url'] = app_row[1]\n",
    "    app_record['title'] = app_row[2]\n",
    "    app_record['developer'] = app_row[3]\n",
    "    app_record['developer_link'] = app_row[4]\n",
    "    app_record['icon'] = app_row[5]\n",
    "    app_record['rating'] = app_row[6]\n",
    "    app_record['reviews_count'] = app_row[7]\n",
    "    \n",
    "    apps_ref = db.collection('apps').document(app_row[0])\n",
    "    batch.set(apps_ref, app_record)\n",
    "    count = count + 1\n",
    "    if (count == 399):\n",
    "        count = 0\n",
    "        batch.commit()\n",
    "        batch = db.batch() \n",
    "\n",
    "    for plan_row in pricing_plans_rows:\n",
    "        if app_row[0] == plan_row[1]:\n",
    "            plan_record = {}\n",
    "            plan_record['id'] = plan_row[0]\n",
    "            plan_record['title'] = plan_row[2]\n",
    "            plan_record['price'] = plan_row[3]\n",
    "            features_list = []\n",
    "            for feature_row in feature_rows:\n",
    "                if (feature_row[0] == plan_row[0]) and (feature_row[1] == plan_row[1]):\n",
    "                    features_list.append(feature_row[2])\n",
    "            plan_record['features'] = features_list\n",
    "            \n",
    "            plan_ref = apps_ref.collection('pricing_plans').document(plan_row[0])\n",
    "            batch.set(plan_ref, plan_record)\n",
    "\n",
    "            count = count + 1\n",
    "            if (count == 399):\n",
    "                count = 0\n",
    "                batch.commit()\n",
    "                batch = db.batch() \n",
    "\n",
    "    for benefits_row in benefits_rows:\n",
    "        if app_row[0] == benefits_row[0]:\n",
    "            benefits_record = {}\n",
    "            benefits_record['title'] = benefits_row[1]\n",
    "            benefits_record['description'] = benefits_row[2]\n",
    "            \n",
    "            benefits_id = str(uuid.uuid4())\n",
    "            benefits_ref = apps_ref.collection('key_benefits').document(benefits_id)\n",
    "            batch.set(benefits_ref, benefits_record)\n",
    "\n",
    "            count = count + 1\n",
    "            if (count == 399):\n",
    "                count = 0\n",
    "                batch.commit()\n",
    "                batch = db.batch() \n",
    "\n",
    "    for review_row in reviews_rows:\n",
    "        if app_row[0] == review_row[0]:\n",
    "            review_record = {}\n",
    "            review_record['author'] = review_row[1]\n",
    "            review_record['rating'] = review_row[2]\n",
    "            review_record['posted_at'] = review_row[3]\n",
    "\n",
    "            review_id = str(uuid.uuid4())\n",
    "            reviews_ref = apps_ref.collection('reviews').document(review_id)\n",
    "            batch.set(reviews_ref, review_record)\n",
    "\n",
    "            count = count + 1\n",
    "            if (count == 399):\n",
    "                count = 0\n",
    "                batch.commit()\n",
    "                batch = db.batch() \n",
    "\n",
    "batch.commit()"
   ]
  },
  {
   "cell_type": "code",
   "execution_count": null,
   "id": "massive-insulation",
   "metadata": {},
   "outputs": [],
   "source": [
    "# we cleared the output in order to decrease scrolling"
   ]
  },
  {
   "cell_type": "markdown",
   "id": "destroyed-nursery",
   "metadata": {},
   "source": [
    "#### Categories collection with sub collection Apps"
   ]
  },
  {
   "cell_type": "code",
   "execution_count": 3,
   "id": "front-rotation",
   "metadata": {},
   "outputs": [],
   "source": [
    "batch = db.batch()\n",
    "\n",
    "df = pd.read_csv('/home/jupyter/Amaryllis/spanner_shopify/categories.csv', sep=',', header=0, lineterminator='\\n')\n",
    "categories_rows = df.values.tolist()\n",
    "\n",
    "df = pd.read_csv('/home/jupyter/Amaryllis/spanner_shopify/apps_categories.csv', sep=',', header=0, lineterminator='\\n')\n",
    "junction_rows = df.values.tolist()\n",
    "\n",
    "df = pd.read_csv('/home/jupyter/Amaryllis/spanner_shopify/apps.csv', sep=',', header=0, lineterminator='\\n')\n",
    "apps_rows = df.values.tolist()\n",
    "\n",
    "for app in apps_rows:\n",
    "    app_record = {}\n",
    "    app_record['id'] = app[0]\n",
    "    app_record['url'] = app[1]\n",
    "    app_record['title'] = app[2]\n",
    "    app_record['developer'] = app[3]\n",
    "    app_record['developer_link'] = app[4]\n",
    "    app_record['icon'] = app[5]\n",
    "    app_record['rating'] = app[6]\n",
    "    app_record['reviews_count'] = app[7]\n",
    "\n",
    "    for junction in junction_rows:\n",
    "        # match via app_id\n",
    "        if app[0] == junction[0]:\n",
    "            for category in categories_rows:\n",
    "                # match via category_id\n",
    "                if junction[1] == category[0]:\n",
    "                    categories_ref = db.collection('categories').document(category[0])\n",
    "                    doc = categories_ref.get()\n",
    "                    if doc.exists:\n",
    "                        app_ref = categories_ref.collection('apps').document(app[0])\n",
    "                        batch.set(app_ref, app_record)\n",
    "                    else:\n",
    "                        category_record = {}\n",
    "                        category_record['id'] = category[0]\n",
    "                        category_record['title'] = category[1]\n",
    "\n",
    "                        batch.set(categories_ref, category_record)\n",
    "                        app_ref = categories_ref.collection('apps').document(app[0])\n",
    "                        batch.set(app_ref, app_record)\n",
    "\n",
    "    batch.commit()"
   ]
  },
  {
   "cell_type": "markdown",
   "id": "after-yeast",
   "metadata": {},
   "source": [
    "### Document count for each collection and their subcollection(s)"
   ]
  },
  {
   "cell_type": "markdown",
   "id": "considered-campbell",
   "metadata": {},
   "source": [
    "#### Apps collection and its subcollections document count"
   ]
  },
  {
   "cell_type": "code",
   "execution_count": 4,
   "id": "thirty-permit",
   "metadata": {},
   "outputs": [
    {
     "name": "stdout",
     "output_type": "stream",
     "text": [
      "The number of documents in the collection apps is 3547\n"
     ]
    }
   ],
   "source": [
    "appsDocs = db.collection('apps').get()\n",
    "\n",
    "print(\"The number of documents in the collection apps is\", len(appsDocs))"
   ]
  },
  {
   "cell_type": "code",
   "execution_count": 5,
   "id": "occupational-saudi",
   "metadata": {},
   "outputs": [
    {
     "name": "stdout",
     "output_type": "stream",
     "text": [
      "The number of documents in the subcollection key_benefits is 9541\n"
     ]
    }
   ],
   "source": [
    "keyBenefitsDocs = db.collection_group('key_benefits').stream()\n",
    "\n",
    "keyBenefitCount = 0\n",
    "for doc in keyBenefitsDocs:\n",
    "    keyBenefitCount += 1\n",
    "\n",
    "print(\"The number of documents in the subcollection key_benefits is\", keyBenefitCount)"
   ]
  },
  {
   "cell_type": "code",
   "execution_count": 6,
   "id": "systematic-fairy",
   "metadata": {},
   "outputs": [
    {
     "name": "stdout",
     "output_type": "stream",
     "text": [
      "The number of documents in the subcollection reviews is 124601\n"
     ]
    }
   ],
   "source": [
    "reviewsDocs = db.collection_group('reviews').stream()\n",
    "\n",
    "reviewsCount = 0\n",
    "for doc in reviewsDocs:\n",
    "    reviewsCount += 1\n",
    "\n",
    "print(\"The number of documents in the subcollection reviews is\", reviewsCount)"
   ]
  },
  {
   "cell_type": "code",
   "execution_count": 7,
   "id": "cultural-enforcement",
   "metadata": {},
   "outputs": [
    {
     "name": "stdout",
     "output_type": "stream",
     "text": [
      "The number of documents in the subcollection pricing_plans is 6275\n"
     ]
    }
   ],
   "source": [
    "pricingPlansDocs = db.collection_group('pricing_plans').stream()\n",
    "\n",
    "pricingPlansCount = 0\n",
    "for doc in pricingPlansDocs:\n",
    "    pricingPlansCount += 1\n",
    "    \n",
    "print(\"The number of documents in the subcollection pricing_plans is\", pricingPlansCount)"
   ]
  },
  {
   "cell_type": "markdown",
   "id": "prospective-trick",
   "metadata": {},
   "source": [
    "#### Categories collection and its app subcollection document count"
   ]
  },
  {
   "cell_type": "code",
   "execution_count": 8,
   "id": "frequent-bubble",
   "metadata": {},
   "outputs": [
    {
     "name": "stdout",
     "output_type": "stream",
     "text": [
      "The number of documents in the collection categories is  12\n"
     ]
    }
   ],
   "source": [
    "categoriesDocs = db.collection('categories').get()\n",
    "print(\"The number of documents in the collection categories is \", len(categoriesDocs))"
   ]
  },
  {
   "cell_type": "code",
   "execution_count": 9,
   "id": "sapphire-fourth",
   "metadata": {},
   "outputs": [
    {
     "name": "stdout",
     "output_type": "stream",
     "text": [
      "The number of documents in the subcollection apps is 5383\n"
     ]
    }
   ],
   "source": [
    "allAppsDocs = db.collection_group('apps').stream()\n",
    "# This count includes categories' apps subcollection and the top level apps collection\n",
    "allAppsCount = 0\n",
    "for doc in allAppsDocs:\n",
    "    allAppsCount += 1\n",
    "\n",
    "# This count is just of the top level apps collection\n",
    "appsCollection = db.collection('apps').get()\n",
    "topLevelAppsCount = len(appsCollection)\n",
    "    \n",
    "# Categories collection's apps subcollection document count\n",
    "catAppsCount = allAppsCount - topLevelAppsCount\n",
    "    \n",
    "print(\"The number of documents in the subcollection apps is\", catAppsCount)"
   ]
  },
  {
   "cell_type": "markdown",
   "id": "innovative-billy",
   "metadata": {},
   "source": [
    "### List the 10 apps with the highest number of reviews based on apps.review_count"
   ]
  },
  {
   "cell_type": "code",
   "execution_count": null,
   "id": "north-namibia",
   "metadata": {},
   "outputs": [],
   "source": [
    "# Return the id, title, developer, rating, and reviews_count of those apps. \n",
    "# Order by reviews_count in descending order"
   ]
  },
  {
   "cell_type": "code",
   "execution_count": 12,
   "id": "wrapped-young",
   "metadata": {},
   "outputs": [
    {
     "name": "stdout",
     "output_type": "stream",
     "text": [
      "ID: d9f142ee-b141-4dc4-9353-173db61d2eb0 => {'title': 'Privy ‑ Exit Pop Ups & Email', 'developer': 'Privy', 'rating': 4.7, 'reviews_count': 23078}\n",
      "ID: 78ea0810-c008-4a4e-a82f-de0c790e3286 => {'title': 'Free Shipping Bar', 'developer': 'Hextom', 'rating': 4.9, 'reviews_count': 8737}\n",
      "ID: b88488b0-9912-44d3-b736-224c36f09d95 => {'title': 'Sales Pop ‑ Popup Notification', 'developer': 'CartKit', 'rating': 4.8, 'reviews_count': 6905}\n",
      "ID: e528a60e-94f8-4e92-80e2-5bc6013b8283 => {'title': 'BEST Currency Converter', 'developer': 'Grizzly Apps', 'rating': 4.8, 'reviews_count': 5986}\n",
      "ID: be2640c4-01b5-4d52-9f68-cae8c0734d0d => {'title': 'Recart FB Messenger Marketing', 'developer': 'Recart', 'rating': 4.8, 'reviews_count': 5596}\n",
      "ID: 70bff9e0-4316-4cc6-84ce-92fcd1bc6925 => {'title': 'EU Cookie Bar ‑ Cookie GDPR', 'developer': 'Booster Apps', 'rating': 4.7, 'reviews_count': 5259}\n",
      "ID: 171816e2-27d4-4552-a65e-ab44a312fe04 => {'title': 'Sales Pop Master ‑ Countdown', 'developer': 'Autoketing', 'rating': 4.8, 'reviews_count': 4931}\n",
      "ID: 9025eff0-d714-4df1-930f-43f5582979ad => {'title': 'Ultimate Sales Boost', 'developer': 'Hextom', 'rating': 4.8, 'reviews_count': 4847}\n",
      "ID: 404183ac-6d52-4960-85d2-8350f37c2f0b => {'title': 'Ads by Varinode', 'developer': 'Varinode, Inc.', 'rating': 4.9, 'reviews_count': 4245}\n",
      "ID: 0380c5ed-7b91-4d4b-9a4e-f6a1c50269dd => {'title': 'Quick Announcement Bar', 'developer': 'Hextom', 'rating': 4.9, 'reviews_count': 4237}\n"
     ]
    }
   ],
   "source": [
    "highestReviews = db.collection(\"apps\").order_by(\"reviews_count\", direction=firestore.Query.DESCENDING).limit(10)\n",
    "\n",
    "results = highestReviews.stream()\n",
    "\n",
    "for doc in results:\n",
    "    doc = doc.to_dict()\n",
    "    a = doc['title']\n",
    "    b = doc['developer']\n",
    "    c = doc['rating']\n",
    "    d = doc['reviews_count']\n",
    "    print(\"ID:\", doc['id'], \"=>\", {\"title\":a, \"developer\":b, \"rating\":c, \"reviews_count\":d} )"
   ]
  }
 ],
 "metadata": {
  "environment": {
   "name": "common-cpu.mnightly-2021-01-20-debian-10-test",
   "type": "gcloud",
   "uri": "gcr.io/deeplearning-platform-release/base-cpu:mnightly-2021-01-20-debian-10-test"
  },
  "kernelspec": {
   "display_name": "Python 3",
   "language": "python",
   "name": "python3"
  },
  "language_info": {
   "codemirror_mode": {
    "name": "ipython",
    "version": 3
   },
   "file_extension": ".py",
   "mimetype": "text/x-python",
   "name": "python",
   "nbconvert_exporter": "python",
   "pygments_lexer": "ipython3",
   "version": "3.7.9"
  }
 },
 "nbformat": 4,
 "nbformat_minor": 5
}
