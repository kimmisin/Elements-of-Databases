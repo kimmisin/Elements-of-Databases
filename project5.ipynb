{
 "cells": [
  {
   "cell_type": "markdown",
   "id": "african-pittsburgh",
   "metadata": {},
   "source": [
    "### Terminal lines to get the dataset and restore the mongodb dump file "
   ]
  },
  {
   "cell_type": "code",
   "execution_count": null,
   "id": "retained-client",
   "metadata": {},
   "outputs": [],
   "source": [
    "gsutil cp gs://cs327e-open-access/open_foods.zip .\n",
    "unzip open_foods.zip\n",
    "mongorestore -d open_food -c products dump/open_food/products.bson"
   ]
  },
  {
   "cell_type": "markdown",
   "id": "brilliant-kinase",
   "metadata": {},
   "source": [
    "### Q1"
   ]
  },
  {
   "cell_type": "code",
   "execution_count": 1,
   "id": "otherwise-practitioner",
   "metadata": {},
   "outputs": [
    {
     "name": "stdout",
     "output_type": "stream",
     "text": [
      "309370\n"
     ]
    }
   ],
   "source": [
    "!mongo open_food --quiet --eval 'db.products.count()'"
   ]
  },
  {
   "cell_type": "markdown",
   "id": "authentic-fitness",
   "metadata": {},
   "source": [
    "### Q2"
   ]
  },
  {
   "cell_type": "code",
   "execution_count": 2,
   "id": "motivated-appointment",
   "metadata": {},
   "outputs": [
    {
     "name": "stdout",
     "output_type": "stream",
     "text": [
      "{ \"_id\" : \"0071720007105\", \"product_name\" : \"Tootsie Roll\" }\n"
     ]
    }
   ],
   "source": [
    "!mongo open_food --quiet --eval 'db.products.find({categories : \"Snacks, Sweet snacks, Confectioneries, Candies, Chews\"}, {product_name: 1}).pretty()'"
   ]
  },
  {
   "cell_type": "markdown",
   "id": "computational-margin",
   "metadata": {},
   "source": [
    "### Q3"
   ]
  },
  {
   "cell_type": "code",
   "execution_count": 3,
   "id": "tutorial-somerset",
   "metadata": {},
   "outputs": [
    {
     "name": "stdout",
     "output_type": "stream",
     "text": [
      "{\n",
      "\t\"_id\" : \"0852909003299\",\n",
      "\t\"product_name\" : \"Almondmilk\",\n",
      "\t\"code\" : \"0852909003299\"\n",
      "}\n",
      "{\n",
      "\t\"_id\" : \"0840423102055\",\n",
      "\t\"code\" : \"0840423102055\",\n",
      "\t\"product_name\" : \"Garlic wine pasta with chicken meatballs with whole wheat rotini, white beans, and greens, cooked in avocado oil, and topped with parmesan and mozzarella, garlic wine pasta with chicken meatballs\"\n",
      "}\n"
     ]
    }
   ],
   "source": [
    "!mongo open_food --quiet --eval 'db.products.find({last_modified_t: {$gte: 1601856000}}, {code:1, product_name:1}).pretty()'"
   ]
  },
  {
   "cell_type": "markdown",
   "id": "russian-nitrogen",
   "metadata": {},
   "source": [
    "### Q4"
   ]
  },
  {
   "cell_type": "code",
   "execution_count": 4,
   "id": "coated-friendship",
   "metadata": {},
   "outputs": [
    {
     "name": "stdout",
     "output_type": "stream",
     "text": [
      "115\n"
     ]
    }
   ],
   "source": [
    "!mongo open_food --quiet --eval 'db.products.count({packaging: \"Plastic\"})'"
   ]
  },
  {
   "cell_type": "markdown",
   "id": "legitimate-firewall",
   "metadata": {},
   "source": [
    "### Q5"
   ]
  },
  {
   "cell_type": "code",
   "execution_count": 5,
   "id": "corrected-aspect",
   "metadata": {},
   "outputs": [
    {
     "name": "stdout",
     "output_type": "stream",
     "text": [
      "{\n",
      "\t\"_id\" : \"0099482455859\",\n",
      "\t\"creator\" : \"usda-ndb-import\",\n",
      "\t\"brands\" : \"365 Everyday Value,Whole Foods Market  Inc.\",\n",
      "\t\"code\" : \"0099482455859\",\n",
      "\t\"product_name\" : \"Whole Wheat Bread\"\n",
      "}\n"
     ]
    }
   ],
   "source": [
    "!mongo open_food --quiet --eval 'db.products.find({manufacturing_places: \"Austin, TX\", stores: \"Whole Foods\"}, {code:1, creator:1, product_name:1, brands:1}).pretty()'"
   ]
  },
  {
   "cell_type": "markdown",
   "id": "manual-amsterdam",
   "metadata": {},
   "source": [
    "### Q6"
   ]
  },
  {
   "cell_type": "code",
   "execution_count": 6,
   "id": "marine-tiger",
   "metadata": {},
   "outputs": [
    {
     "name": "stdout",
     "output_type": "stream",
     "text": [
      "{\n",
      "\t\"_id\" : \"00547352\",\n",
      "\t\"product_name\" : \"Organic roasted vegetable pizza\",\n",
      "\t\"creator\" : \"djfkzz\",\n",
      "\t\"brands\" : \"Trader Joes\"\n",
      "}\n",
      "{\n",
      "\t\"_id\" : \"00556903\",\n",
      "\t\"brands\" : \"Trader Joes\",\n",
      "\t\"creator\" : \"djfkzz\",\n",
      "\t\"product_name\" : \"Thai Sweet Chili Veggie Burger\"\n",
      "}\n",
      "{\n",
      "\t\"_id\" : \"00508285\",\n",
      "\t\"product_name\" : \"Trader joes, sriracha sauce\",\n",
      "\t\"brands\" : \"Trader Joes\",\n",
      "\t\"creator\" : \"usda-ndb-import\"\n",
      "}\n"
     ]
    }
   ],
   "source": [
    "!mongo open_food --quiet --eval 'db.products.find({brands: \"Trader Joes\", product_name: {$ne: null}}, {creator: 1, product_name: 1, brands: 1}).sort({product_name: 1}).pretty()'"
   ]
  },
  {
   "cell_type": "markdown",
   "id": "collected-cardiff",
   "metadata": {},
   "source": [
    "### Q7"
   ]
  },
  {
   "cell_type": "code",
   "execution_count": 7,
   "id": "realistic-density",
   "metadata": {},
   "outputs": [
    {
     "name": "stdout",
     "output_type": "stream",
     "text": [
      "{\n",
      "\t\"_id\" : \"0040000265252\",\n",
      "\t\"brands\" : \"Mars\",\n",
      "\t\"product_name\" : \"Almond & dark chocolate\"\n",
      "}\n",
      "{ \"_id\" : \"0040000422068\", \"brands\" : \"mars\", \"product_name\" : \"BAR\" }\n",
      "{\n",
      "\t\"_id\" : \"0047677386518\",\n",
      "\t\"brands\" : \"m&m's\",\n",
      "\t\"product_name\" : \"M&m's, light ice cream, chocolate\"\n",
      "}\n",
      "{\n",
      "\t\"_id\" : \"0044000029524\",\n",
      "\t\"product_name\" : \"Nabisco oreo cookies double stuf 1x4.1 oz\",\n",
      "\t\"brands\" : \"oreo\"\n",
      "}\n",
      "{\n",
      "\t\"_id\" : \"04005108\",\n",
      "\t\"product_name\" : \"Real fruit juice!\",\n",
      "\t\"brands\" : \"starburst\"\n",
      "}\n"
     ]
    }
   ],
   "source": [
    "!mongo open_food --quiet --eval 'db.products.find({brands: {$in:[\"m&m\\u0027s\", \"mars\", \"Mars\", \"oreo\", \"starburst\"]}}, {product_name:1, brands:1}).sort({product_name:1}).limit(5).pretty()'"
   ]
  },
  {
   "cell_type": "markdown",
   "id": "satellite-kitchen",
   "metadata": {},
   "source": [
    "### Create, update, and delete a document"
   ]
  },
  {
   "cell_type": "code",
   "execution_count": 8,
   "id": "golden-image",
   "metadata": {},
   "outputs": [],
   "source": [
    "# Document creation (minimum 5 non-null attributes)\n",
    "starfruit = '{product_name: \"Xingguo\", generic_name: \"honeyed starfruit\", brands: [\"Paldo\", \"Prim\"], creator: \"Jane Doe\", countries: [\"United States\", \"China\", \"India\"]}'"
   ]
  },
  {
   "cell_type": "code",
   "execution_count": 9,
   "id": "vital-rochester",
   "metadata": {},
   "outputs": [
    {
     "name": "stdout",
     "output_type": "stream",
     "text": [
      "WriteResult({ \"nInserted\" : 1 })\n"
     ]
    }
   ],
   "source": [
    "# Insert new document into the products collection\n",
    "!mongo open_food --quiet --eval 'db.products.insert({starfruit})'"
   ]
  },
  {
   "cell_type": "code",
   "execution_count": 10,
   "id": "martial-manufacturer",
   "metadata": {},
   "outputs": [
    {
     "name": "stdout",
     "output_type": "stream",
     "text": [
      "{\n",
      "\t\"_id\" : ObjectId(\"605d252bdd9da9529d294be4\"),\n",
      "\t\"product_name\" : \"Xingguo\",\n",
      "\t\"generic_name\" : \"honeyed starfruit\",\n",
      "\t\"brands\" : [\n",
      "\t\t\"Paldo\",\n",
      "\t\t\"Prim\"\n",
      "\t],\n",
      "\t\"creator\" : \"Jane Doe\",\n",
      "\t\"countries\" : [\n",
      "\t\t\"United States\",\n",
      "\t\t\"China\",\n",
      "\t\t\"India\"\n",
      "\t]\n",
      "}\n"
     ]
    }
   ],
   "source": [
    "# Check if document was inserted\n",
    "!mongo open_food --quiet -eval 'db.products.find({product_name: \"Xingguo\", generic_name: \"honeyed starfruit\"}).pretty()'"
   ]
  },
  {
   "cell_type": "code",
   "execution_count": 11,
   "id": "soviet-explorer",
   "metadata": {},
   "outputs": [
    {
     "name": "stdout",
     "output_type": "stream",
     "text": [
      "WriteResult({ \"nMatched\" : 1, \"nUpserted\" : 0, \"nModified\" : 1 })\n"
     ]
    }
   ],
   "source": [
    "# Update the newly inserted document\n",
    "!mongo open_food --quiet --eval 'db.products.update({_id: ObjectId(\"605d252bdd9da9529d294be4\")}, {$set: {creator: \"Hannah Doe\"}})'"
   ]
  },
  {
   "cell_type": "code",
   "execution_count": 12,
   "id": "technological-humidity",
   "metadata": {},
   "outputs": [
    {
     "name": "stdout",
     "output_type": "stream",
     "text": [
      "{\n",
      "\t\"_id\" : ObjectId(\"605d252bdd9da9529d294be4\"),\n",
      "\t\"product_name\" : \"Xingguo\",\n",
      "\t\"generic_name\" : \"honeyed starfruit\",\n",
      "\t\"brands\" : [\n",
      "\t\t\"Paldo\",\n",
      "\t\t\"Prim\"\n",
      "\t],\n",
      "\t\"creator\" : \"Hannah Doe\",\n",
      "\t\"countries\" : [\n",
      "\t\t\"United States\",\n",
      "\t\t\"China\",\n",
      "\t\t\"India\"\n",
      "\t]\n",
      "}\n"
     ]
    }
   ],
   "source": [
    "# Check if update was performed\n",
    "!mongo open_food --quiet --eval 'db.products.find({_id: ObjectId(\"605d252bdd9da9529d294be4\")}).pretty()'"
   ]
  },
  {
   "cell_type": "code",
   "execution_count": 13,
   "id": "neutral-identification",
   "metadata": {},
   "outputs": [
    {
     "name": "stdout",
     "output_type": "stream",
     "text": [
      "WriteResult({ \"nRemoved\" : 1 })\n"
     ]
    }
   ],
   "source": [
    "# Delete the document\n",
    "!mongo open_food --quiet --eval 'db.products.remove({_id: ObjectId(\"605d252bdd9da9529d294be4\")})'"
   ]
  },
  {
   "cell_type": "code",
   "execution_count": 14,
   "id": "healthy-queensland",
   "metadata": {},
   "outputs": [],
   "source": [
    "# Check if document was deleted\n",
    "!mongo open_food --quiet --eval 'db.products.find({product_name: \"Xingguo\", generic_name: \"honeyed starfruit\"}).pretty()'"
   ]
  },
  {
   "cell_type": "code",
   "execution_count": 15,
   "id": "after-shanghai",
   "metadata": {},
   "outputs": [],
   "source": [
    "# Check again if document was deleted but with ID\n",
    "!mongo open_food --quiet --eval 'db.products.find({_id: ObjectId(\"605d252bdd9da9529d294be4\")})'"
   ]
  },
  {
   "cell_type": "code",
   "execution_count": null,
   "id": "automotive-violation",
   "metadata": {},
   "outputs": [],
   "source": []
  }
 ],
 "metadata": {
  "environment": {
   "name": "common-cpu.mnightly-2021-01-20-debian-10-test",
   "type": "gcloud",
   "uri": "gcr.io/deeplearning-platform-release/base-cpu:mnightly-2021-01-20-debian-10-test"
  },
  "kernelspec": {
   "display_name": "Python 3",
   "language": "python",
   "name": "python3"
  },
  "language_info": {
   "codemirror_mode": {
    "name": "ipython",
    "version": 3
   },
   "file_extension": ".py",
   "mimetype": "text/x-python",
   "name": "python",
   "nbconvert_exporter": "python",
   "pygments_lexer": "ipython3",
   "version": "3.7.9"
  }
 },
 "nbformat": 4,
 "nbformat_minor": 5
}
