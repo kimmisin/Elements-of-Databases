{
 "cells": [
  {
   "cell_type": "markdown",
   "id": "varied-chart",
   "metadata": {},
   "source": [
    "### Terminal lines to get the dataset and restore the mongodb dump file "
   ]
  },
  {
   "cell_type": "code",
   "execution_count": null,
   "id": "concrete-tennessee",
   "metadata": {},
   "outputs": [],
   "source": [
    "gsutil cp gs://cs327e-open-access/open_foods.zip .\n",
    "unzip open_foods.zip\n",
    "mongorestore -d open_food -c products dump/open_food/products.bson"
   ]
  },
  {
   "cell_type": "markdown",
   "id": "cardiovascular-upset",
   "metadata": {},
   "source": [
    "### Q1"
   ]
  },
  {
   "cell_type": "code",
   "execution_count": 2,
   "id": "worse-butterfly",
   "metadata": {},
   "outputs": [
    {
     "name": "stdout",
     "output_type": "stream",
     "text": [
      "309370\n"
     ]
    }
   ],
   "source": [
    "!mongo open_food --quiet --eval 'db.products.count()'"
   ]
  },
  {
   "cell_type": "markdown",
   "id": "breeding-singapore",
   "metadata": {},
   "source": [
    "### Q2"
   ]
  },
  {
   "cell_type": "code",
   "execution_count": 1,
   "id": "tutorial-county",
   "metadata": {},
   "outputs": [
    {
     "name": "stdout",
     "output_type": "stream",
     "text": [
      "{ \"_id\" : \"0071720007105\", \"product_name\" : \"Tootsie Roll\" }\n"
     ]
    }
   ],
   "source": [
    "!mongo open_food --quiet --eval 'db.products.find({categories : \"Snacks, Sweet snacks, Confectioneries, Candies, Chews\"}, {product_name: 1}).pretty()'"
   ]
  },
  {
   "cell_type": "markdown",
   "id": "animated-henry",
   "metadata": {},
   "source": [
    "### Q3"
   ]
  },
  {
   "cell_type": "code",
   "execution_count": 15,
   "id": "instant-bidder",
   "metadata": {},
   "outputs": [],
   "source": [
    "!mongo open_food --quiet --eval 'db.products.find({code:1, product_name:1})'"
   ]
  },
  {
   "cell_type": "markdown",
   "id": "hidden-johnston",
   "metadata": {},
   "source": [
    "### Q4"
   ]
  },
  {
   "cell_type": "code",
   "execution_count": 2,
   "id": "protective-startup",
   "metadata": {},
   "outputs": [
    {
     "name": "stdout",
     "output_type": "stream",
     "text": [
      "115\n"
     ]
    }
   ],
   "source": [
    "!mongo open_food --quiet --eval 'db.products.count({packaging: \"Plastic\"})'"
   ]
  },
  {
   "cell_type": "markdown",
   "id": "twenty-pepper",
   "metadata": {},
   "source": [
    "### Q5"
   ]
  },
  {
   "cell_type": "code",
   "execution_count": 6,
   "id": "aware-brand",
   "metadata": {},
   "outputs": [
    {
     "name": "stdout",
     "output_type": "stream",
     "text": [
      "{ \"_id\" : \"0008005925045\", \"manufacturing_places\" : \"Austin, TX\" }\n",
      "{ \"_id\" : \"0008005959101\", \"manufacturing_places\" : \"Austin, TX\" }\n",
      "{ \"_id\" : \"0010878344434\", \"manufacturing_places\" : \"Austin, TX\" }\n",
      "{ \"_id\" : \"0008005958876\", \"manufacturing_places\" : \"Austin, TX\" }\n",
      "{ \"_id\" : \"0008004925008\", \"manufacturing_places\" : \"Austin, TX\" }\n",
      "{ \"_id\" : \"0008005930018\", \"manufacturing_places\" : \"Austin, TX\" }\n",
      "{ \"_id\" : \"0008005935006\", \"manufacturing_places\" : \"Austin, TX\" }\n",
      "{ \"_id\" : \"0008005958043\", \"manufacturing_places\" : \"Austin, TX\" }\n",
      "{ \"_id\" : \"0008005985179\", \"manufacturing_places\" : \"Austin, TX\" }\n",
      "{ \"_id\" : \"0010878010285\", \"manufacturing_places\" : \"Austin, TX\" }\n",
      "{ \"_id\" : \"0011826200017\", \"manufacturing_places\" : \"Austin, TX\" }\n",
      "{ \"_id\" : \"0011826400103\", \"manufacturing_places\" : \"Austin, TX\" }\n",
      "{ \"_id\" : \"0011826600022\", \"manufacturing_places\" : \"Austin, TX\" }\n",
      "{ \"_id\" : \"0013562001613\", \"manufacturing_places\" : \"Austin, TX\" }\n",
      "{ \"_id\" : \"0014113910842\", \"manufacturing_places\" : \"Austin, TX\" }\n",
      "{ \"_id\" : \"0013562001651\", \"manufacturing_places\" : \"Austin, TX\" }\n",
      "{ \"_id\" : \"0013562001729\", \"manufacturing_places\" : \"Austin, TX\" }\n",
      "{ \"_id\" : \"0013764028029\", \"manufacturing_places\" : \"Austin, TX\" }\n",
      "{ \"_id\" : \"0013964085259\", \"manufacturing_places\" : \"Austin, TX\" }\n",
      "{ \"_id\" : \"0013562001750\", \"manufacturing_places\" : \"Austin, TX\" }\n",
      "Type \"it\" for more\n"
     ]
    }
   ],
   "source": [
    "!mongo open_food --quiet --eval 'db.products.find({stores: \"Whole Foods\"}, {manufacturing_places: \"Austin, TX\"}, {code:1, creator:1, product_name:1, brands:1}).pretty()'"
   ]
  },
  {
   "cell_type": "markdown",
   "id": "sufficient-minority",
   "metadata": {},
   "source": [
    "### Q6"
   ]
  },
  {
   "cell_type": "code",
   "execution_count": 3,
   "id": "known-bryan",
   "metadata": {},
   "outputs": [
    {
     "name": "stdout",
     "output_type": "stream",
     "text": [
      "{\n",
      "\t\"_id\" : \"00547352\",\n",
      "\t\"product_name\" : \"Organic roasted vegetable pizza\",\n",
      "\t\"creator\" : \"djfkzz\",\n",
      "\t\"brands\" : \"Trader Joes\"\n",
      "}\n",
      "{\n",
      "\t\"_id\" : \"00556903\",\n",
      "\t\"brands\" : \"Trader Joes\",\n",
      "\t\"creator\" : \"djfkzz\",\n",
      "\t\"product_name\" : \"Thai Sweet Chili Veggie Burger\"\n",
      "}\n",
      "{\n",
      "\t\"_id\" : \"00508285\",\n",
      "\t\"product_name\" : \"Trader joes, sriracha sauce\",\n",
      "\t\"brands\" : \"Trader Joes\",\n",
      "\t\"creator\" : \"usda-ndb-import\"\n",
      "}\n"
     ]
    }
   ],
   "source": [
    "!mongo open_food --quiet --eval 'db.products.find({brands: \"Trader Joes\", product_name: {$ne: null}}, {creator: 1, product_name: 1, brands: 1}).sort({product_name: 1}).pretty()'"
   ]
  },
  {
   "cell_type": "markdown",
   "id": "informed-celebrity",
   "metadata": {},
   "source": [
    "### Q7"
   ]
  },
  {
   "cell_type": "code",
   "execution_count": 14,
   "id": "dynamic-defensive",
   "metadata": {},
   "outputs": [
    {
     "name": "stdout",
     "output_type": "stream",
     "text": [
      "{\n",
      "\t\"_id\" : \"0040000265252\",\n",
      "\t\"brands\" : \"Mars\",\n",
      "\t\"product_name\" : \"Almond & dark chocolate\"\n",
      "}\n",
      "{ \"_id\" : \"0040000422068\", \"brands\" : \"mars\", \"product_name\" : \"BAR\" }\n",
      "{\n",
      "\t\"_id\" : \"0044000029524\",\n",
      "\t\"product_name\" : \"Nabisco oreo cookies double stuf 1x4.1 oz\",\n",
      "\t\"brands\" : \"oreo\"\n",
      "}\n",
      "{\n",
      "\t\"_id\" : \"04005108\",\n",
      "\t\"product_name\" : \"Real fruit juice!\",\n",
      "\t\"brands\" : \"starburst\"\n",
      "}\n",
      "{ \"_id\" : \"04044086\", \"product_name\" : \"Twix\", \"brands\" : \"Mars\" }\n"
     ]
    }
   ],
   "source": [
    "!mongo open_food --quiet --eval 'db.products.find({brands: {$in:[\"m&m''s\", \"mars\", \"Mars\", \"oreo\", \"starburst\"]}}, {product_name:1, brands:1}).sort({product_name:1}).pretty()'"
   ]
  },
  {
   "cell_type": "markdown",
   "id": "subjective-filing",
   "metadata": {},
   "source": [
    "### Create, update, and delete a document"
   ]
  },
  {
   "cell_type": "code",
   "execution_count": 4,
   "id": "proof-longitude",
   "metadata": {},
   "outputs": [],
   "source": [
    "# Document creation (minimum 5 non-null attributes)\n",
    "starfruit = '{product_name: \"Xingguo\", generic_name: \"honeyed starfruit\", brands: [\"Paldo\", \"Prim\"], creator: \"Jane Doe\", countries: [\"United States\", \"China\", \"India\"]}'"
   ]
  },
  {
   "cell_type": "code",
   "execution_count": 5,
   "id": "recreational-adobe",
   "metadata": {},
   "outputs": [
    {
     "name": "stdout",
     "output_type": "stream",
     "text": [
      "WriteResult({ \"nInserted\" : 1 })\n"
     ]
    }
   ],
   "source": [
    "# Insert new document into the products collection\n",
    "!mongo open_food --quiet --eval 'db.products.insert({starfruit})'"
   ]
  },
  {
   "cell_type": "code",
   "execution_count": 6,
   "id": "stainless-african",
   "metadata": {},
   "outputs": [
    {
     "name": "stdout",
     "output_type": "stream",
     "text": [
      "{\n",
      "\t\"_id\" : ObjectId(\"605b7e01026e1786fc3ee33b\"),\n",
      "\t\"product_name\" : \"Xingguo\",\n",
      "\t\"generic_name\" : \"honeyed starfruit\",\n",
      "\t\"brands\" : [\n",
      "\t\t\"Paldo\",\n",
      "\t\t\"Prim\"\n",
      "\t],\n",
      "\t\"creator\" : \"Jane Doe\",\n",
      "\t\"countries\" : [\n",
      "\t\t\"United States\",\n",
      "\t\t\"China\",\n",
      "\t\t\"India\"\n",
      "\t]\n",
      "}\n"
     ]
    }
   ],
   "source": [
    "# Check if document was inserted\n",
    "!mongo open_food --quiet -eval 'db.products.find({product_name: \"Xingguo\", generic_name: \"honeyed starfruit\"}).pretty()'"
   ]
  },
  {
   "cell_type": "code",
   "execution_count": 7,
   "id": "alert-climb",
   "metadata": {},
   "outputs": [
    {
     "name": "stdout",
     "output_type": "stream",
     "text": [
      "WriteResult({ \"nMatched\" : 1, \"nUpserted\" : 0, \"nModified\" : 1 })\n"
     ]
    }
   ],
   "source": [
    "# Update the newly inserted document\n",
    "!mongo open_food --quiet --eval 'db.products.update({product_name: \"Xingguo\", generic_name: \"honeyed starfruit\"}, {$set: {creator: \"Hannah Doe\"}})'"
   ]
  },
  {
   "cell_type": "code",
   "execution_count": 8,
   "id": "floral-access",
   "metadata": {},
   "outputs": [
    {
     "name": "stdout",
     "output_type": "stream",
     "text": [
      "{\n",
      "\t\"_id\" : ObjectId(\"605b7e01026e1786fc3ee33b\"),\n",
      "\t\"product_name\" : \"Xingguo\",\n",
      "\t\"generic_name\" : \"honeyed starfruit\",\n",
      "\t\"brands\" : [\n",
      "\t\t\"Paldo\",\n",
      "\t\t\"Prim\"\n",
      "\t],\n",
      "\t\"creator\" : \"Hannah Doe\",\n",
      "\t\"countries\" : [\n",
      "\t\t\"United States\",\n",
      "\t\t\"China\",\n",
      "\t\t\"India\"\n",
      "\t]\n",
      "}\n"
     ]
    }
   ],
   "source": [
    "# Check if update was performed\n",
    "!mongo open_food --quiet --eval 'db.products.find({product_name: \"Xingguo\", generic_name: \"honeyed starfruit\"}).pretty()'"
   ]
  },
  {
   "cell_type": "code",
   "execution_count": 9,
   "id": "italic-musical",
   "metadata": {},
   "outputs": [
    {
     "name": "stdout",
     "output_type": "stream",
     "text": [
      "WriteResult({ \"nRemoved\" : 1 })\n"
     ]
    }
   ],
   "source": [
    "# Delete the document\n",
    "!mongo open_food --quiet --eval 'db.products.remove({product_name: \"Xingguo\", generic_name: \"honeyed starfruit\"})'"
   ]
  },
  {
   "cell_type": "code",
   "execution_count": 10,
   "id": "korean-franchise",
   "metadata": {},
   "outputs": [],
   "source": [
    "# Check if document was deleted\n",
    "!mongo open_food --quiet --eval 'db.products.find({product_name: \"Xingguo\", generic_name: \"honeyed starfruit\"}).pretty()'"
   ]
  },
  {
   "cell_type": "code",
   "execution_count": null,
   "id": "suspected-chuck",
   "metadata": {},
   "outputs": [],
   "source": []
  }
 ],
 "metadata": {
  "environment": {
   "name": "common-cpu.mnightly-2021-01-20-debian-10-test",
   "type": "gcloud",
   "uri": "gcr.io/deeplearning-platform-release/base-cpu:mnightly-2021-01-20-debian-10-test"
  },
  "kernelspec": {
   "display_name": "Python 3",
   "language": "python",
   "name": "python3"
  },
  "language_info": {
   "codemirror_mode": {
    "name": "ipython",
    "version": 3
   },
   "file_extension": ".py",
   "mimetype": "text/x-python",
   "name": "python",
   "nbconvert_exporter": "python",
   "pygments_lexer": "ipython3",
   "version": "3.7.9"
  }
 },
 "nbformat": 4,
 "nbformat_minor": 5
}
