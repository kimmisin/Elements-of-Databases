{
 "cells": [
  {
   "cell_type": "markdown",
   "id": "ranging-ridge",
   "metadata": {},
   "source": [
    "### Terminal lines to get the dataset and restore the mongodb dump file "
   ]
  },
  {
   "cell_type": "code",
   "execution_count": null,
   "id": "third-queue",
   "metadata": {},
   "outputs": [],
   "source": [
    "gsutil cp gs://cs327e-open-access/open_foods.zip .\n",
    "unzip open_foods.zip\n",
    "mongorestore -d open_food -c products dump/open_food/products.bson"
   ]
  },
  {
   "cell_type": "markdown",
   "id": "civilian-reality",
   "metadata": {},
   "source": [
    "### Q1"
   ]
  },
  {
   "cell_type": "code",
   "execution_count": 2,
   "id": "musical-allergy",
   "metadata": {},
   "outputs": [
    {
     "name": "stdout",
     "output_type": "stream",
     "text": [
      "309370\n"
     ]
    }
   ],
   "source": [
    "!mongo open_food --quiet --eval 'db.products.count()'"
   ]
  },
  {
   "cell_type": "markdown",
   "id": "legitimate-analyst",
   "metadata": {},
   "source": [
    "### Q2"
   ]
  },
  {
   "cell_type": "code",
   "execution_count": 4,
   "id": "expressed-proposal",
   "metadata": {},
   "outputs": [
    {
     "name": "stdout",
     "output_type": "stream",
     "text": [
      "{ \"_id\" : \"0071720007105\", \"product_name\" : \"Tootsie Roll\" }\n"
     ]
    }
   ],
   "source": [
    "!mongo open_food --quiet --eval 'db.products.find({categories : \"Snacks, Sweet snacks, Confectioneries, Candies, Chews\"}, {product_name: 1}).pretty()'"
   ]
  },
  {
   "cell_type": "markdown",
   "id": "falling-blowing",
   "metadata": {},
   "source": [
    "### Q3"
   ]
  },
  {
   "cell_type": "code",
   "execution_count": 6,
   "id": "victorian-wings",
   "metadata": {},
   "outputs": [
    {
     "name": "stdout",
     "output_type": "stream",
     "text": [
      "{ \"_id\" : \"0852909003299\", \"product_name\" : \"Almondmilk\", \"code\" : \"0852909003299\" }\n",
      "{ \"_id\" : \"0840423102055\", \"code\" : \"0840423102055\", \"product_name\" : \"Garlic wine pasta with chicken meatballs with whole wheat rotini, white beans, and greens, cooked in avocado oil, and topped with parmesan and mozzarella, garlic wine pasta with chicken meatballs\" }\n"
     ]
    }
   ],
   "source": [
    "!mongo open_food --quiet --eval 'db.products.find({last_modified_t: {$gte: 1601856000}}, {code:1, product_name:1})'"
   ]
  },
  {
   "cell_type": "markdown",
   "id": "falling-killer",
   "metadata": {},
   "source": [
    "### Q4"
   ]
  },
  {
   "cell_type": "code",
   "execution_count": 2,
   "id": "oriented-guitar",
   "metadata": {},
   "outputs": [
    {
     "name": "stdout",
     "output_type": "stream",
     "text": [
      "115\n"
     ]
    }
   ],
   "source": [
    "!mongo open_food --quiet --eval 'db.products.count({packaging: \"Plastic\"})'"
   ]
  },
  {
   "cell_type": "markdown",
   "id": "funny-croatia",
   "metadata": {},
   "source": [
    "### Q5"
   ]
  },
  {
   "cell_type": "code",
   "execution_count": 2,
   "id": "civilian-chest",
   "metadata": {},
   "outputs": [
    {
     "name": "stdout",
     "output_type": "stream",
     "text": [
      "{\n",
      "\t\"_id\" : \"0008005925045\",\n",
      "\t\"creator\" : \"bredowmax\",\n",
      "\t\"brands\" : \"Nuovo Pasta\",\n",
      "\t\"code\" : \"0008005925045\",\n",
      "\t\"product_name\" : \"Provolone Cheese & Prosciutto\",\n",
      "\t\"manufacturing_places\" : \"Austin, TX\"\n",
      "}\n",
      "{\n",
      "\t\"_id\" : \"0008005959101\",\n",
      "\t\"product_name\" : \"Ravioli Crab & lobster\",\n",
      "\t\"creator\" : \"openfoodfacts-contributors\",\n",
      "\t\"brands\" : \"Nuovo Pasta Production Ltd\",\n",
      "\t\"code\" : \"0008005959101\",\n",
      "\t\"manufacturing_places\" : \"Austin, TX\"\n",
      "}\n",
      "{\n",
      "\t\"_id\" : \"0010878344434\",\n",
      "\t\"product_name\" : \"Vegetable Mini Spring Rolls\",\n",
      "\t\"creator\" : \"usda-ndb-import\",\n",
      "\t\"brands\" : \"Ling Ling\",\n",
      "\t\"code\" : \"0010878344434\",\n",
      "\t\"manufacturing_places\" : \"Austin, TX\"\n",
      "}\n",
      "{\n",
      "\t\"_id\" : \"0008005958876\",\n",
      "\t\"code\" : \"0008005958876\",\n",
      "\t\"creator\" : \"bredowmax\",\n",
      "\t\"brands\" : \"Nuovo Pasta\",\n",
      "\t\"product_name\" : \"Three Cheese & Bacon\",\n",
      "\t\"manufacturing_places\" : \"Austin, TX\"\n",
      "}\n",
      "{\n",
      "\t\"_id\" : \"0008004925008\",\n",
      "\t\"product_name\" : \"Ricotta & Parmigiano\",\n",
      "\t\"brands\" : \"Nuovo Pasta\",\n",
      "\t\"creator\" : \"bredowmax\",\n",
      "\t\"code\" : \"0008004925008\",\n",
      "\t\"manufacturing_places\" : \"Austin, TX\"\n",
      "}\n",
      "{\n",
      "\t\"_id\" : \"0008005930018\",\n",
      "\t\"code\" : \"0008005930018\",\n",
      "\t\"brands\" : \"Nuovo Pasta\",\n",
      "\t\"creator\" : \"bredowmax\",\n",
      "\t\"product_name\" : \"Classic Potato\",\n",
      "\t\"manufacturing_places\" : \"Austin, TX\"\n",
      "}\n",
      "{\n",
      "\t\"_id\" : \"0008005935006\",\n",
      "\t\"code\" : \"0008005935006\",\n",
      "\t\"creator\" : \"bredowmax\",\n",
      "\t\"brands\" : \"Nuovo Pasta\",\n",
      "\t\"product_name\" : \"Four Cheese\",\n",
      "\t\"manufacturing_places\" : \"Austin, TX\"\n",
      "}\n",
      "{\n",
      "\t\"_id\" : \"0008005958043\",\n",
      "\t\"code\" : \"0008005958043\",\n",
      "\t\"brands\" : \"Nuovo Pasta\",\n",
      "\t\"creator\" : \"bredowmax\",\n",
      "\t\"product_name\" : \"Prosciutto, Peas & Provolone\",\n",
      "\t\"manufacturing_places\" : \"Austin, TX\"\n",
      "}\n",
      "{\n",
      "\t\"_id\" : \"0008005985179\",\n",
      "\t\"product_name\" : \"Gorgonzola & Sundried Tomato\",\n",
      "\t\"creator\" : \"bredowmax\",\n",
      "\t\"brands\" : \"Nuovo Pasta\",\n",
      "\t\"code\" : \"0008005985179\",\n",
      "\t\"manufacturing_places\" : \"Austin, TX\"\n",
      "}\n",
      "{\n",
      "\t\"_id\" : \"0010878010285\",\n",
      "\t\"code\" : \"0010878010285\",\n",
      "\t\"creator\" : \"bredowmax\",\n",
      "\t\"manufacturing_places\" : \"Austin, TX\"\n",
      "}\n",
      "{\n",
      "\t\"_id\" : \"0011826200017\",\n",
      "\t\"product_name\" : \"French-style cultured cream, french-style\",\n",
      "\t\"code\" : \"0011826200017\",\n",
      "\t\"creator\" : \"usda-ndb-import\",\n",
      "\t\"brands\" : \"Vermont Creamery\",\n",
      "\t\"manufacturing_places\" : \"Austin, TX\"\n",
      "}\n",
      "{\n",
      "\t\"_id\" : \"0011826400103\",\n",
      "\t\"brands\" : \"Vermont Creamery\",\n",
      "\t\"creator\" : \"usda-ndb-import\",\n",
      "\t\"code\" : \"0011826400103\",\n",
      "\t\"product_name\" : \"Mascarpone italian-style cream cheese\",\n",
      "\t\"manufacturing_places\" : \"Austin, TX\"\n",
      "}\n",
      "{\n",
      "\t\"_id\" : \"0011826600022\",\n",
      "\t\"creator\" : \"bredowmax\",\n",
      "\t\"code\" : \"0011826600022\",\n",
      "\t\"product_name\" : \"European-style quark fresh cheese, european-style\",\n",
      "\t\"manufacturing_places\" : \"Austin, TX\"\n",
      "}\n",
      "{\n",
      "\t\"_id\" : \"0013562001613\",\n",
      "\t\"product_name\" : \"Annie's Three Cheese Pizza Poppers\",\n",
      "\t\"creator\" : \"usda-ndb-import\",\n",
      "\t\"brands\" : \"Annie's\",\n",
      "\t\"code\" : \"0013562001613\",\n",
      "\t\"manufacturing_places\" : \"Austin, TX\"\n",
      "}\n",
      "{\n",
      "\t\"_id\" : \"0014113910842\",\n",
      "\t\"code\" : \"0014113910842\",\n",
      "\t\"brands\" : \"Wonderful Pistachios\",\n",
      "\t\"creator\" : \"bredowmax\",\n",
      "\t\"product_name\" : \"No shells\",\n",
      "\t\"manufacturing_places\" : \"Austin, TX\"\n",
      "}\n",
      "{\n",
      "\t\"_id\" : \"0013562001651\",\n",
      "\t\"creator\" : \"usda-ndb-import\",\n",
      "\t\"brands\" : \"Annie's\",\n",
      "\t\"code\" : \"0013562001651\",\n",
      "\t\"product_name\" : \"Annie's Uncured Pepperoni Pizza Poppers\",\n",
      "\t\"manufacturing_places\" : \"Austin, TX\"\n",
      "}\n",
      "{\n",
      "\t\"_id\" : \"0013562001729\",\n",
      "\t\"creator\" : \"usda-ndb-import\",\n",
      "\t\"brands\" : \"Annie's\",\n",
      "\t\"code\" : \"0013562001729\",\n",
      "\t\"product_name\" : \"Annie's Three Cheese Mini Pizza Bagels 9 Count\",\n",
      "\t\"manufacturing_places\" : \"Austin, TX\"\n",
      "}\n",
      "{\n",
      "\t\"_id\" : \"0013764028029\",\n",
      "\t\"product_name\" : \"Organic bagels\",\n",
      "\t\"creator\" : \"bredowmax\",\n",
      "\t\"code\" : \"0013764028029\",\n",
      "\t\"manufacturing_places\" : \"Austin, TX\"\n",
      "}\n",
      "{\n",
      "\t\"_id\" : \"0013964085259\",\n",
      "\t\"code\" : \"0013964085259\",\n",
      "\t\"creator\" : \"bredowmax\",\n",
      "\t\"manufacturing_places\" : \"Austin, TX\"\n",
      "}\n",
      "{\n",
      "\t\"_id\" : \"0013562001750\",\n",
      "\t\"product_name\" : \"Annie's Uncured Pepperoni Mini Pizza Bagels 9 Count\",\n",
      "\t\"code\" : \"0013562001750\",\n",
      "\t\"creator\" : \"foodvisor\",\n",
      "\t\"brands\" : \"Annie's Homegrown\",\n",
      "\t\"manufacturing_places\" : \"Austin, TX\"\n",
      "}\n",
      "Type \"it\" for more\n"
     ]
    }
   ],
   "source": [
    "!mongo open_food --quiet --eval 'db.products.find({stores: \"Whole Foods\"}, {manufacturing_places: \"Austin, TX\", code:1, creator:1, product_name:1, brands:1}).pretty()'"
   ]
  },
  {
   "cell_type": "markdown",
   "id": "planned-therapy",
   "metadata": {},
   "source": [
    "### Q6"
   ]
  },
  {
   "cell_type": "code",
   "execution_count": 3,
   "id": "national-distributor",
   "metadata": {},
   "outputs": [
    {
     "name": "stdout",
     "output_type": "stream",
     "text": [
      "{\n",
      "\t\"_id\" : \"00547352\",\n",
      "\t\"product_name\" : \"Organic roasted vegetable pizza\",\n",
      "\t\"creator\" : \"djfkzz\",\n",
      "\t\"brands\" : \"Trader Joes\"\n",
      "}\n",
      "{\n",
      "\t\"_id\" : \"00556903\",\n",
      "\t\"brands\" : \"Trader Joes\",\n",
      "\t\"creator\" : \"djfkzz\",\n",
      "\t\"product_name\" : \"Thai Sweet Chili Veggie Burger\"\n",
      "}\n",
      "{\n",
      "\t\"_id\" : \"00508285\",\n",
      "\t\"product_name\" : \"Trader joes, sriracha sauce\",\n",
      "\t\"brands\" : \"Trader Joes\",\n",
      "\t\"creator\" : \"usda-ndb-import\"\n",
      "}\n"
     ]
    }
   ],
   "source": [
    "!mongo open_food --quiet --eval 'db.products.find({brands: \"Trader Joes\", product_name: {$ne: null}}, {creator: 1, product_name: 1, brands: 1}).sort({product_name: 1}).pretty()'"
   ]
  },
  {
   "cell_type": "markdown",
   "id": "romance-lease",
   "metadata": {},
   "source": [
    "### Q7"
   ]
  },
  {
   "cell_type": "code",
   "execution_count": 3,
   "id": "charming-transport",
   "metadata": {},
   "outputs": [
    {
     "name": "stdout",
     "output_type": "stream",
     "text": [
      "{\n",
      "\t\"_id\" : \"0040000265252\",\n",
      "\t\"brands\" : \"Mars\",\n",
      "\t\"product_name\" : \"Almond & dark chocolate\"\n",
      "}\n",
      "{ \"_id\" : \"0040000422068\", \"brands\" : \"mars\", \"product_name\" : \"BAR\" }\n",
      "{\n",
      "\t\"_id\" : \"0047677386518\",\n",
      "\t\"brands\" : \"m&m's\",\n",
      "\t\"product_name\" : \"M&m's, light ice cream, chocolate\"\n",
      "}\n",
      "{\n",
      "\t\"_id\" : \"0044000029524\",\n",
      "\t\"product_name\" : \"Nabisco oreo cookies double stuf 1x4.1 oz\",\n",
      "\t\"brands\" : \"oreo\"\n",
      "}\n",
      "{\n",
      "\t\"_id\" : \"04005108\",\n",
      "\t\"product_name\" : \"Real fruit juice!\",\n",
      "\t\"brands\" : \"starburst\"\n",
      "}\n"
     ]
    }
   ],
   "source": [
    "!mongo open_food --quiet --eval 'db.products.find({brands: {$in:[\"m&m\\u0027s\", \"mars\", \"Mars\", \"oreo\", \"starburst\"]}}, {product_name:1, brands:1}).sort({product_name:1}).limit(5).pretty()'"
   ]
  },
  {
   "cell_type": "markdown",
   "id": "large-portuguese",
   "metadata": {},
   "source": [
    "### Create, update, and delete a document"
   ]
  },
  {
   "cell_type": "code",
   "execution_count": 4,
   "id": "consecutive-morris",
   "metadata": {},
   "outputs": [],
   "source": [
    "# Document creation (minimum 5 non-null attributes)\n",
    "starfruit = '{product_name: \"Xingguo\", generic_name: \"honeyed starfruit\", brands: [\"Paldo\", \"Prim\"], creator: \"Jane Doe\", countries: [\"United States\", \"China\", \"India\"]}'"
   ]
  },
  {
   "cell_type": "code",
   "execution_count": 5,
   "id": "productive-frost",
   "metadata": {},
   "outputs": [
    {
     "name": "stdout",
     "output_type": "stream",
     "text": [
      "WriteResult({ \"nInserted\" : 1 })\n"
     ]
    }
   ],
   "source": [
    "# Insert new document into the products collection\n",
    "!mongo open_food --quiet --eval 'db.products.insert({starfruit})'"
   ]
  },
  {
   "cell_type": "code",
   "execution_count": 6,
   "id": "grand-doctor",
   "metadata": {},
   "outputs": [
    {
     "name": "stdout",
     "output_type": "stream",
     "text": [
      "{\n",
      "\t\"_id\" : ObjectId(\"605b7e01026e1786fc3ee33b\"),\n",
      "\t\"product_name\" : \"Xingguo\",\n",
      "\t\"generic_name\" : \"honeyed starfruit\",\n",
      "\t\"brands\" : [\n",
      "\t\t\"Paldo\",\n",
      "\t\t\"Prim\"\n",
      "\t],\n",
      "\t\"creator\" : \"Jane Doe\",\n",
      "\t\"countries\" : [\n",
      "\t\t\"United States\",\n",
      "\t\t\"China\",\n",
      "\t\t\"India\"\n",
      "\t]\n",
      "}\n"
     ]
    }
   ],
   "source": [
    "# Check if document was inserted\n",
    "!mongo open_food --quiet -eval 'db.products.find({product_name: \"Xingguo\", generic_name: \"honeyed starfruit\"}).pretty()'"
   ]
  },
  {
   "cell_type": "code",
   "execution_count": 7,
   "id": "funny-receipt",
   "metadata": {},
   "outputs": [
    {
     "name": "stdout",
     "output_type": "stream",
     "text": [
      "WriteResult({ \"nMatched\" : 1, \"nUpserted\" : 0, \"nModified\" : 1 })\n"
     ]
    }
   ],
   "source": [
    "# Update the newly inserted document\n",
    "!mongo open_food --quiet --eval 'db.products.update({product_name: \"Xingguo\", generic_name: \"honeyed starfruit\"}, {$set: {creator: \"Hannah Doe\"}})'"
   ]
  },
  {
   "cell_type": "code",
   "execution_count": 8,
   "id": "stopped-pursuit",
   "metadata": {},
   "outputs": [
    {
     "name": "stdout",
     "output_type": "stream",
     "text": [
      "{\n",
      "\t\"_id\" : ObjectId(\"605b7e01026e1786fc3ee33b\"),\n",
      "\t\"product_name\" : \"Xingguo\",\n",
      "\t\"generic_name\" : \"honeyed starfruit\",\n",
      "\t\"brands\" : [\n",
      "\t\t\"Paldo\",\n",
      "\t\t\"Prim\"\n",
      "\t],\n",
      "\t\"creator\" : \"Hannah Doe\",\n",
      "\t\"countries\" : [\n",
      "\t\t\"United States\",\n",
      "\t\t\"China\",\n",
      "\t\t\"India\"\n",
      "\t]\n",
      "}\n"
     ]
    }
   ],
   "source": [
    "# Check if update was performed\n",
    "!mongo open_food --quiet --eval 'db.products.find({product_name: \"Xingguo\", generic_name: \"honeyed starfruit\"}).pretty()'"
   ]
  },
  {
   "cell_type": "code",
   "execution_count": 9,
   "id": "absolute-disability",
   "metadata": {},
   "outputs": [
    {
     "name": "stdout",
     "output_type": "stream",
     "text": [
      "WriteResult({ \"nRemoved\" : 1 })\n"
     ]
    }
   ],
   "source": [
    "# Delete the document\n",
    "!mongo open_food --quiet --eval 'db.products.remove({product_name: \"Xingguo\", generic_name: \"honeyed starfruit\"})'"
   ]
  },
  {
   "cell_type": "code",
   "execution_count": 10,
   "id": "grand-usage",
   "metadata": {},
   "outputs": [],
   "source": [
    "# Check if document was deleted\n",
    "!mongo open_food --quiet --eval 'db.products.find({product_name: \"Xingguo\", generic_name: \"honeyed starfruit\"}).pretty()'"
   ]
  },
  {
   "cell_type": "code",
   "execution_count": null,
   "id": "personalized-norwegian",
   "metadata": {},
   "outputs": [],
   "source": []
  }
 ],
 "metadata": {
  "environment": {
   "name": "common-cpu.mnightly-2021-01-20-debian-10-test",
   "type": "gcloud",
   "uri": "gcr.io/deeplearning-platform-release/base-cpu:mnightly-2021-01-20-debian-10-test"
  },
  "kernelspec": {
   "display_name": "Python 3",
   "language": "python",
   "name": "python3"
  },
  "language_info": {
   "codemirror_mode": {
    "name": "ipython",
    "version": 3
   },
   "file_extension": ".py",
   "mimetype": "text/x-python",
   "name": "python",
   "nbconvert_exporter": "python",
   "pygments_lexer": "ipython3",
   "version": "3.7.9"
  }
 },
 "nbformat": 4,
 "nbformat_minor": 5
}
