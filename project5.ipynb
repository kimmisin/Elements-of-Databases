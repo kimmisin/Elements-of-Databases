{
 "cells": [
  {
   "cell_type": "markdown",
   "id": "interpreted-artwork",
   "metadata": {},
   "source": [
    "### Terminal lines to get the dataset and restore the mongodb dump file "
   ]
  },
  {
   "cell_type": "code",
   "execution_count": null,
   "id": "finnish-dealing",
   "metadata": {},
   "outputs": [],
   "source": [
    "gsutil cp gs://cs327e-open-access/open_foods.zip .\n",
    "unzip open_foods.zip\n",
    "mongorestore -d open_food -c products dump/open_food/products.bson"
   ]
  },
  {
   "cell_type": "markdown",
   "id": "liquid-skiing",
   "metadata": {},
   "source": [
    "### Q1"
   ]
  },
  {
   "cell_type": "code",
   "execution_count": null,
   "id": "forbidden-kennedy",
   "metadata": {},
   "outputs": [],
   "source": []
  },
  {
   "cell_type": "markdown",
   "id": "pressing-athletics",
   "metadata": {},
   "source": [
    "### Q2"
   ]
  },
  {
   "cell_type": "code",
   "execution_count": 1,
   "id": "resident-tracy",
   "metadata": {},
   "outputs": [
    {
     "name": "stdout",
     "output_type": "stream",
     "text": [
      "{ \"_id\" : \"0071720007105\", \"product_name\" : \"Tootsie Roll\" }\n"
     ]
    }
   ],
   "source": [
    "!mongo open_food --quiet --eval 'db.products.find({categories : \"Snacks, Sweet snacks, Confectioneries, Candies, Chews\"}, {product_name: 1}).pretty()'"
   ]
  },
  {
   "cell_type": "markdown",
   "id": "vertical-fountain",
   "metadata": {},
   "source": [
    "### Q3"
   ]
  },
  {
   "cell_type": "code",
   "execution_count": null,
   "id": "accepting-weather",
   "metadata": {},
   "outputs": [],
   "source": []
  },
  {
   "cell_type": "markdown",
   "id": "desirable-foundation",
   "metadata": {},
   "source": [
    "### Q4"
   ]
  },
  {
   "cell_type": "code",
   "execution_count": 2,
   "id": "perfect-fruit",
   "metadata": {},
   "outputs": [
    {
     "name": "stdout",
     "output_type": "stream",
     "text": [
      "115\n"
     ]
    }
   ],
   "source": [
    "!mongo open_food --quiet --eval 'db.products.count({packaging: \"Plastic\"})'"
   ]
  },
  {
   "cell_type": "markdown",
   "id": "referenced-arlington",
   "metadata": {},
   "source": [
    "### Q5"
   ]
  },
  {
   "cell_type": "code",
   "execution_count": null,
   "id": "norwegian-mills",
   "metadata": {},
   "outputs": [],
   "source": []
  },
  {
   "cell_type": "markdown",
   "id": "dramatic-contrary",
   "metadata": {},
   "source": [
    "### Q6"
   ]
  },
  {
   "cell_type": "code",
   "execution_count": 3,
   "id": "oriented-representation",
   "metadata": {},
   "outputs": [
    {
     "name": "stdout",
     "output_type": "stream",
     "text": [
      "{\n",
      "\t\"_id\" : \"00547352\",\n",
      "\t\"product_name\" : \"Organic roasted vegetable pizza\",\n",
      "\t\"creator\" : \"djfkzz\",\n",
      "\t\"brands\" : \"Trader Joes\"\n",
      "}\n",
      "{\n",
      "\t\"_id\" : \"00556903\",\n",
      "\t\"brands\" : \"Trader Joes\",\n",
      "\t\"creator\" : \"djfkzz\",\n",
      "\t\"product_name\" : \"Thai Sweet Chili Veggie Burger\"\n",
      "}\n",
      "{\n",
      "\t\"_id\" : \"00508285\",\n",
      "\t\"product_name\" : \"Trader joes, sriracha sauce\",\n",
      "\t\"brands\" : \"Trader Joes\",\n",
      "\t\"creator\" : \"usda-ndb-import\"\n",
      "}\n"
     ]
    }
   ],
   "source": [
    "!mongo open_food --quiet --eval 'db.products.find({brands: \"Trader Joes\", product_name: {$ne: null}}, {creator: 1, product_name: 1, brands: 1}).sort({product_name: 1}).pretty()'"
   ]
  },
  {
   "cell_type": "markdown",
   "id": "anticipated-calgary",
   "metadata": {},
   "source": [
    "### Q7"
   ]
  },
  {
   "cell_type": "code",
   "execution_count": null,
   "id": "coated-granny",
   "metadata": {},
   "outputs": [],
   "source": []
  },
  {
   "cell_type": "markdown",
   "id": "affected-survivor",
   "metadata": {},
   "source": [
    "### Create, update, and delete a document"
   ]
  },
  {
   "cell_type": "code",
   "execution_count": 4,
   "id": "fluid-cache",
   "metadata": {},
   "outputs": [],
   "source": [
    "# Document creation (minimum 5 non-null attributes)\n",
    "starfruit = '{product_name: \"Xingguo\", generic_name: \"honeyed starfruit\", brands: [\"Paldo\", \"Prim\"], creator: \"Jane Doe\", countries: [\"United States\", \"China\", \"India\"]}'"
   ]
  },
  {
   "cell_type": "code",
   "execution_count": 5,
   "id": "surgical-value",
   "metadata": {},
   "outputs": [
    {
     "name": "stdout",
     "output_type": "stream",
     "text": [
      "WriteResult({ \"nInserted\" : 1 })\n"
     ]
    }
   ],
   "source": [
    "# Insert new document into the products collection\n",
    "!mongo open_food --quiet --eval 'db.products.insert({starfruit})'"
   ]
  },
  {
   "cell_type": "code",
   "execution_count": 6,
   "id": "vulnerable-allen",
   "metadata": {},
   "outputs": [
    {
     "name": "stdout",
     "output_type": "stream",
     "text": [
      "{\n",
      "\t\"_id\" : ObjectId(\"605b7e01026e1786fc3ee33b\"),\n",
      "\t\"product_name\" : \"Xingguo\",\n",
      "\t\"generic_name\" : \"honeyed starfruit\",\n",
      "\t\"brands\" : [\n",
      "\t\t\"Paldo\",\n",
      "\t\t\"Prim\"\n",
      "\t],\n",
      "\t\"creator\" : \"Jane Doe\",\n",
      "\t\"countries\" : [\n",
      "\t\t\"United States\",\n",
      "\t\t\"China\",\n",
      "\t\t\"India\"\n",
      "\t]\n",
      "}\n"
     ]
    }
   ],
   "source": [
    "# Check if document was inserted\n",
    "!mongo open_food --quiet -eval 'db.products.find({product_name: \"Xingguo\", generic_name: \"honeyed starfruit\"}).pretty()'"
   ]
  },
  {
   "cell_type": "code",
   "execution_count": 7,
   "id": "thermal-drain",
   "metadata": {},
   "outputs": [
    {
     "name": "stdout",
     "output_type": "stream",
     "text": [
      "WriteResult({ \"nMatched\" : 1, \"nUpserted\" : 0, \"nModified\" : 1 })\n"
     ]
    }
   ],
   "source": [
    "# Update the newly inserted document\n",
    "!mongo open_food --quiet --eval 'db.products.update({product_name: \"Xingguo\", generic_name: \"honeyed starfruit\"}, {$set: {creator: \"Hannah Doe\"}})'"
   ]
  },
  {
   "cell_type": "code",
   "execution_count": 8,
   "id": "particular-graphic",
   "metadata": {},
   "outputs": [
    {
     "name": "stdout",
     "output_type": "stream",
     "text": [
      "{\n",
      "\t\"_id\" : ObjectId(\"605b7e01026e1786fc3ee33b\"),\n",
      "\t\"product_name\" : \"Xingguo\",\n",
      "\t\"generic_name\" : \"honeyed starfruit\",\n",
      "\t\"brands\" : [\n",
      "\t\t\"Paldo\",\n",
      "\t\t\"Prim\"\n",
      "\t],\n",
      "\t\"creator\" : \"Hannah Doe\",\n",
      "\t\"countries\" : [\n",
      "\t\t\"United States\",\n",
      "\t\t\"China\",\n",
      "\t\t\"India\"\n",
      "\t]\n",
      "}\n"
     ]
    }
   ],
   "source": [
    "# Check if update was performed\n",
    "!mongo open_food --quiet --eval 'db.products.find({product_name: \"Xingguo\", generic_name: \"honeyed starfruit\"}).pretty()'"
   ]
  },
  {
   "cell_type": "code",
   "execution_count": 9,
   "id": "suspected-senegal",
   "metadata": {},
   "outputs": [
    {
     "name": "stdout",
     "output_type": "stream",
     "text": [
      "WriteResult({ \"nRemoved\" : 1 })\n"
     ]
    }
   ],
   "source": [
    "# Delete the document\n",
    "!mongo open_food --quiet --eval 'db.products.remove({product_name: \"Xingguo\", generic_name: \"honeyed starfruit\"})'"
   ]
  },
  {
   "cell_type": "code",
   "execution_count": 10,
   "id": "suburban-poetry",
   "metadata": {},
   "outputs": [],
   "source": [
    "# Check if document was deleted\n",
    "!mongo open_food --quiet --eval 'db.products.find({product_name: \"Xingguo\", generic_name: \"honeyed starfruit\"}).pretty()'"
   ]
  },
  {
   "cell_type": "code",
   "execution_count": null,
   "id": "weird-officer",
   "metadata": {},
   "outputs": [],
   "source": []
  }
 ],
 "metadata": {
  "environment": {
   "name": "common-cpu.mnightly-2021-01-20-debian-10-test",
   "type": "gcloud",
   "uri": "gcr.io/deeplearning-platform-release/base-cpu:mnightly-2021-01-20-debian-10-test"
  },
  "kernelspec": {
   "display_name": "Python 3",
   "language": "python",
   "name": "python3"
  },
  "language_info": {
   "codemirror_mode": {
    "name": "ipython",
    "version": 3
   },
   "file_extension": ".py",
   "mimetype": "text/x-python",
   "name": "python",
   "nbconvert_exporter": "python",
   "pygments_lexer": "ipython3",
   "version": "3.7.9"
  }
 },
 "nbformat": 4,
 "nbformat_minor": 5
}
